{
 "cells": [
  {
   "cell_type": "code",
   "execution_count": 15,
   "id": "initial_id",
   "metadata": {
    "collapsed": true,
    "ExecuteTime": {
     "end_time": "2024-03-28T14:54:59.468271200Z",
     "start_time": "2024-03-28T14:54:59.452385500Z"
    }
   },
   "outputs": [],
   "source": [
    "import pandas as pd"
   ]
  },
  {
   "cell_type": "code",
   "execution_count": 21,
   "outputs": [
    {
     "ename": "SyntaxError",
     "evalue": "(unicode error) 'unicodeescape' codec can't decode bytes in position 2-3: truncated \\UXXXXXXXX escape (1696604765.py, line 2)",
     "output_type": "error",
     "traceback": [
      "\u001B[1;36m  Input \u001B[1;32mIn [21]\u001B[1;36m\u001B[0m\n\u001B[1;33m    map = pd.read_csv(\"C:\\Users\\User\\DT\\Mycoplosma\\16 Mycoplosma\\map.csv\")\u001B[0m\n\u001B[1;37m                                                                         ^\u001B[0m\n\u001B[1;31mSyntaxError\u001B[0m\u001B[1;31m:\u001B[0m (unicode error) 'unicodeescape' codec can't decode bytes in position 2-3: truncated \\UXXXXXXXX escape\n"
     ]
    }
   ],
   "source": [
    "#ma = pd.read_csv(\"C:\\Users\\User\\DT\\Mycoplosma\\16 Mycoplosma\\ma.csv\")\n",
    "map = pd.read_csv(\"C:\\Users\\User\\DT\\Mycoplosma\\16 Mycoplosma\\map.csv\")\n",
    "marth = pd.read_csv(\"C:\\Users\\User\\DT\\Mycoplosma\\16 Mycoplosma\\marth.csv\")\n",
    "mcap = pd.read_csv(\"C:\\Users\\User\\DT\\Mycoplosma\\16 Mycoplosma\\mcap.csv\")\n",
    "mcon = pd.read_csv(\"C:\\Users\\User\\DT\\Mycoplosma\\16 Mycoplosma\\mcon.csv\")\n",
    "mcro = pd.read_csv(\"C:\\Users\\User\\DT\\Mycoplosma\\16 Mycoplosma\\mcro.csv\")\n",
    "mgal = pd.read_csv(\"C:\\Users\\User\\DT\\Mycoplosma\\16 Mycoplosma\\mgal.csv\")\n",
    "mhom = pd.read_csv(\"C:\\Users\\User\\DT\\Mycoplosma\\16 Mycoplosma\\mhom.csv\")\n",
    "mhyoJ = pd.read_csv(\"C:\\Users\\User\\DT\\Mycoplosma\\16 Mycoplosma\\mhyoJ.csv\")\n",
    "mhyo232 = pd.read_csv(\"C:\\Users\\User\\DT\\Mycoplosma\\16 Mycoplosma\\mhyo232.csv\")\n",
    "mhyo7448 = pd.read_csv(\"C:\\Users\\User\\DT\\Mycoplosma\\16 Mycoplosma\\mhyo7448.csv\")\n",
    "mm163K = pd.read_csv(\"C:\\Users\\User\\DT\\Mycoplosma\\16 Mycoplosma\\mm163K.csv\")\n",
    "mms = pd.read_csv(\"C:\\Users\\User\\DT\\Mycoplosma\\16 Mycoplosma\\mms.csv\")\n",
    "mpHF = pd.read_csv(\"C:\\Users\\User\\DT\\Mycoplosma\\16 Mycoplosma\\mpHF.csv\")\n",
    "mpM = pd.read_csv(\"C:\\Users\\User\\DT\\Mycoplosma\\16 Mycoplosma\\mpM.csv\")\n",
    "ms53 = pd.read_csv(\"C:\\Users\\User\\DT\\Mycoplosma\\16 Mycoplosma\\ms53.csv\")"
   ],
   "metadata": {
    "collapsed": false,
    "ExecuteTime": {
     "end_time": "2024-03-28T14:59:07.179678Z",
     "start_time": "2024-03-28T14:59:07.147383100Z"
    }
   },
   "id": "e83694d84dc5e03b"
  },
  {
   "cell_type": "code",
   "execution_count": null,
   "outputs": [],
   "source": [],
   "metadata": {
    "collapsed": false
   },
   "id": "df2937bababb76fd"
  }
 ],
 "metadata": {
  "kernelspec": {
   "display_name": "Python 3",
   "language": "python",
   "name": "python3"
  },
  "language_info": {
   "codemirror_mode": {
    "name": "ipython",
    "version": 2
   },
   "file_extension": ".py",
   "mimetype": "text/x-python",
   "name": "python",
   "nbconvert_exporter": "python",
   "pygments_lexer": "ipython2",
   "version": "2.7.6"
  }
 },
 "nbformat": 4,
 "nbformat_minor": 5
}
