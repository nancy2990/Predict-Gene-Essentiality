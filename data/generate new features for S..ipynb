{
 "cells": [
  {
   "cell_type": "code",
   "execution_count": 1,
   "id": "35aeef70",
   "metadata": {
    "ExecuteTime": {
     "end_time": "2024-01-28T15:36:51.146234300Z",
     "start_time": "2024-01-28T15:36:49.501699500Z"
    }
   },
   "outputs": [
    {
     "name": "stderr",
     "output_type": "stream",
     "text": [
      "D:\\anaconda3\\lib\\site-packages\\scipy\\__init__.py:146: UserWarning: A NumPy version >=1.16.5 and <1.23.0 is required for this version of SciPy (detected version 1.26.3\n",
      "  warnings.warn(f\"A NumPy version >={np_minversion} and <{np_maxversion}\"\n"
     ]
    }
   ],
   "source": [
    "from CAI import CAI\n",
    "import pandas as pd"
   ]
  },
  {
   "cell_type": "code",
   "execution_count": 9,
   "outputs": [
    {
     "name": "stdout",
     "output_type": "stream",
     "text": [
      "     locus tag essential                                                DNA  \\\n",
      "0       SA0001         1  ATGTCGGAAAAAGAAATTTGGGAAAAAGTGCTTGAAATTGCTCAAG...   \n",
      "1       SA0002         0  ATGATGGAATTCACTATTAAAAGAGATTATTTTATTACACAATTAA...   \n",
      "2       SA0003         0  GTGATTATTTTGGTTCAAGAAGTTGTAGTAGAAGGAGACATTAATT...   \n",
      "3       SA0004         1  ATGAAGTTAAATACACTCCAATTAGAAAATTATCGTAACTATGATG...   \n",
      "4       SA0005         1  ATGGTGACTGCATTGTCAGATGTAAACAACACGGATAATTATGGTG...   \n",
      "...        ...       ...                                                ...   \n",
      "2661    SA2498         0  ATGAAAAAACCTTTTTCAAAATTATTTGGTTTGAAAAACAAAGATG...   \n",
      "2662    SA2499         1  ATGACTGTAGAATGGTTAGCAGAACAATTAAAAGAACATAATATTG...   \n",
      "2663    SA2500         1  GTGGTTCAAGAATATGATGTAATCGTTATAGGTGCGGGACATGCAG...   \n",
      "2665    SA2502         1  TTGGAAAAAGCTTACCGAATTAAAAAGAATGCAGATTTTCAGAGAA...   \n",
      "2666    SAS093         1  ATGGTAAAACGTACTTATCAACCAAATAAACGTAAACATAGTAAAG...   \n",
      "\n",
      "                                       protein sequence  \n",
      "0     MSEKEIWEKVLEIAQEKLSAVSYSTFLKDTELYTIKDGEAIVLSSI...  \n",
      "1     MMEFTIKRDYFITQLNDTLKAISPRTTLPILTGIKIDAKEHEVILT...  \n",
      "2     MIILVQEVVVEGDINLGQFLKTEGIIESGGQAKWFLQDVEVLINGV...  \n",
      "3     MKLNTLQLENYRNYDEVTLKCHPDVNILIGENAQGKTNLLESIYTL...  \n",
      "4     MVTALSDVNNTDNYGAGQIQVLEGLEAVRKRPGMYIGSTSERGLHH...  \n",
      "...                                                 ...  \n",
      "2661  MKKPFSKLFGLKNKDDIIGHIEEDRNSNVESIQIERIVPNRYQPRQ...  \n",
      "2662  MTVEWLAEQLKEHNIELTETQKQQFQTYYRLLVEWNEKMNLTSITD...  \n",
      "2663  MVQEYDVIVIGAGHAGVEAGLASARRGAKTLMLTINLDNIAFMPCN...  \n",
      "2665  MEKAYRIKKNADFQRIYKKGHSVANRQFVVYTCNNKEIDHFRLGIS...  \n",
      "2666      MVKRTYQPNKRKHSKVHGFRKRMSTKNGRKVLARRRRKGRKVLSA  \n",
      "\n",
      "[2580 rows x 4 columns]\n"
     ]
    }
   ],
   "source": [
    "N315_data = pd.read_csv(\"../dataset/N315.csv\")\n",
    "# 替换值\n",
    "N315_data['essential'] = N315_data['essential'].replace({'yes': 1, 'no': 0})\n",
    "\n",
    "N315_data = N315_data[(N315_data['essential'] == 0) | (N315_data['essential'] == 1)]\n",
    "\n",
    "print(N315_data)"
   ],
   "metadata": {
    "collapsed": false,
    "ExecuteTime": {
     "end_time": "2024-01-28T17:18:20.926626Z",
     "start_time": "2024-01-28T17:18:20.859276900Z"
    }
   },
   "id": "baeb5b25e44bb87e"
  },
  {
   "cell_type": "code",
   "execution_count": 27,
   "id": "6fd8f19e",
   "metadata": {
    "ExecuteTime": {
     "end_time": "2024-01-28T17:34:07.713218400Z",
     "start_time": "2024-01-28T17:34:06.600565600Z"
    }
   },
   "outputs": [],
   "source": [
    "# high RNA expression value SAtmRNA01\n",
    "reference1=\"GGGGACGTTCATGGATTCGACAGGGGTCCCCCGAGCTCATTAAGCGTGTCGGAGGGTTGGCTTCGTCATCAACACACACAGTTTATAATAACTGGCAAATCAAACAATAATTTCGCAGTAGCTGCCTAATCGCACTCTGCATCGCCTAACAGCATTTCCTATGTGCTGTTAACGCGATTCAACCTTAATAGGATATGCTAAACACTGCCGTTTGAAGTCTGTTTAGAAGAAACTTAATCAAGCTAGCATCATGTTGGTTGTTTATCACTTTTCATGATGCGAAACCTTTCGATAAACTACACACGTAGAAAGATGTGTATCAGGACCTCTGGACGCGGGTTCAAATCCCGCCGTCTCCAA\"\n",
    "# SAtRNA60\n",
    "\n",
    "reference2=\"GGAGAATTAGCTCAGCTGGGAGAGCATCTGCCTTACAAGCAGAGGGTCGGCGGTTCGAACCCGTCATTCTCCACC\"\n",
    "cai_list=[]\n",
    "\n",
    "for dna_sequence in N315_data['DNA']:\n",
    "    try:\n",
    "        cai=CAI(dna_sequence,reference=[reference1,reference2])\n",
    "    except:\n",
    "        cai=0.999\n",
    "    cai_list.append(cai)\n",
    "N315_data['CAI']=cai_list\n",
    "N315_data = N315_data[N315_data['CAI'] != 0.999]"
   ]
  },
  {
   "cell_type": "code",
   "execution_count": 29,
   "id": "eedaeb5d",
   "metadata": {
    "ExecuteTime": {
     "end_time": "2024-01-28T17:37:53.317220200Z",
     "start_time": "2024-01-28T17:37:52.930813400Z"
    }
   },
   "outputs": [
    {
     "name": "stdout",
     "output_type": "stream",
     "text": [
      "     locus tag essential                                                DNA  \\\n",
      "0       SA0001         1  ATGTCGGAAAAAGAAATTTGGGAAAAAGTGCTTGAAATTGCTCAAG...   \n",
      "1       SA0002         0  ATGATGGAATTCACTATTAAAAGAGATTATTTTATTACACAATTAA...   \n",
      "2       SA0003         0  GTGATTATTTTGGTTCAAGAAGTTGTAGTAGAAGGAGACATTAATT...   \n",
      "3       SA0004         1  ATGAAGTTAAATACACTCCAATTAGAAAATTATCGTAACTATGATG...   \n",
      "4       SA0005         1  ATGGTGACTGCATTGTCAGATGTAAACAACACGGATAATTATGGTG...   \n",
      "...        ...       ...                                                ...   \n",
      "2661    SA2498         0  ATGAAAAAACCTTTTTCAAAATTATTTGGTTTGAAAAACAAAGATG...   \n",
      "2662    SA2499         1  ATGACTGTAGAATGGTTAGCAGAACAATTAAAAGAACATAATATTG...   \n",
      "2663    SA2500         1  GTGGTTCAAGAATATGATGTAATCGTTATAGGTGCGGGACATGCAG...   \n",
      "2665    SA2502         1  TTGGAAAAAGCTTACCGAATTAAAAAGAATGCAGATTTTCAGAGAA...   \n",
      "2666    SAS093         1  ATGGTAAAACGTACTTATCAACCAAATAAACGTAAACATAGTAAAG...   \n",
      "\n",
      "                                       protein sequence       CAI  GC_Content  \n",
      "0     MSEKEIWEKVLEIAQEKLSAVSYSTFLKDTELYTIKDGEAIVLSSI...  0.601193    0.326725  \n",
      "1     MMEFTIKRDYFITQLNDTLKAISPRTTLPILTGIKIDAKEHEVILT...  0.620382    0.328042  \n",
      "2     MIILVQEVVVEGDINLGQFLKTEGIIESGGQAKWFLQDVEVLINGV...  0.627939    0.353659  \n",
      "3     MKLNTLQLENYRNYDEVTLKCHPDVNILIGENAQGKTNLLESIYTL...  0.562197    0.336927  \n",
      "4     MVTALSDVNNTDNYGAGQIQVLEGLEAVRKRPGMYIGSTSERGLHH...  0.623400    0.369509  \n",
      "...                                                 ...       ...         ...  \n",
      "2661  MKKPFSKLFGLKNKDDIIGHIEEDRNSNVESIQIERIVPNRYQPRQ...  0.539925    0.353571  \n",
      "2662  MTVEWLAEQLKEHNIELTETQKQQFQTYYRLLVEWNEKMNLTSITD...  0.604000    0.336111  \n",
      "2663  MVQEYDVIVIGAGHAGVEAGLASARRGAKTLMLTINLDNIAFMPCN...  0.598513    0.354100  \n",
      "2665  MEKAYRIKKNADFQRIYKKGHSVANRQFVVYTCNNKEIDHFRLGIS...  0.601937    0.293103  \n",
      "2666      MVKRTYQPNKRKHSKVHGFRKRMSTKNGRKVLARRRRKGRKVLSA  0.683285    0.376812  \n",
      "\n",
      "[2580 rows x 6 columns]\n"
     ]
    }
   ],
   "source": [
    "def calculate_gc_content(sequence):\n",
    "    gc_count = sum(base.upper() in ['G', 'C'] for base in sequence)\n",
    "    total_bases = len(sequence)\n",
    "    gc_content = (gc_count / total_bases)\n",
    "    return gc_content\n",
    "\n",
    "N315_data['GC_Content'] = N315_data['DNA'].apply(calculate_gc_content)\n",
    "\n",
    "print(N315_data)"
   ]
  },
  {
   "cell_type": "code",
   "execution_count": 30,
   "outputs": [],
   "source": [
    "AminoAcidDict = {\n",
    "    'A': 0, 'R': 0, 'N': 0, 'D': 0,\n",
    "    'C': 0, 'Q': 0, 'E': 0, 'G': 0,\n",
    "    'H': 0, 'I': 0, 'L': 0, 'K': 0,\n",
    "    'M': 0, 'F': 0, 'P': 0, 'S': 0,\n",
    "    'T': 0, 'W': 0, 'Y': 0, 'V': 0\n",
    "}\n",
    "\n",
    "def getAAFreq(protein_sequence):\n",
    "    \n",
    "    AminoAcids = AminoAcidDict.copy()\n",
    "\n",
    "    for i in range(0, len(protein_sequence)):\n",
    "        if protein_sequence[i] in AminoAcids:\n",
    "            AminoAcids[protein_sequence[i]] += 1           \n",
    "\n",
    "    FreqList = [AminoAcids[key]/len(protein_sequence) for key in AminoAcids]\n",
    " \n",
    "    return FreqList"
   ],
   "metadata": {
    "collapsed": false,
    "ExecuteTime": {
     "end_time": "2024-01-28T17:55:33.932008200Z",
     "start_time": "2024-01-28T17:55:33.919709Z"
    }
   },
   "id": "d5e9a22e26c3f11b"
  },
  {
   "cell_type": "code",
   "execution_count": 35,
   "outputs": [
    {
     "name": "stdout",
     "output_type": "stream",
     "text": [
      "     locus tag essential                                                DNA  \\\n",
      "0       SA0001         1  ATGTCGGAAAAAGAAATTTGGGAAAAAGTGCTTGAAATTGCTCAAG...   \n",
      "1       SA0002         0  ATGATGGAATTCACTATTAAAAGAGATTATTTTATTACACAATTAA...   \n",
      "2       SA0003         0  GTGATTATTTTGGTTCAAGAAGTTGTAGTAGAAGGAGACATTAATT...   \n",
      "3       SA0004         1  ATGAAGTTAAATACACTCCAATTAGAAAATTATCGTAACTATGATG...   \n",
      "4       SA0005         1  ATGGTGACTGCATTGTCAGATGTAAACAACACGGATAATTATGGTG...   \n",
      "...        ...       ...                                                ...   \n",
      "2109       NaN       NaN                                                NaN   \n",
      "2110       NaN       NaN                                                NaN   \n",
      "2111       NaN       NaN                                                NaN   \n",
      "2112       NaN       NaN                                                NaN   \n",
      "2113       NaN       NaN                                                NaN   \n",
      "\n",
      "                                       protein sequence       CAI  GC_Content  \\\n",
      "0     MSEKEIWEKVLEIAQEKLSAVSYSTFLKDTELYTIKDGEAIVLSSI...  0.601193    0.326725   \n",
      "1     MMEFTIKRDYFITQLNDTLKAISPRTTLPILTGIKIDAKEHEVILT...  0.620382    0.328042   \n",
      "2     MIILVQEVVVEGDINLGQFLKTEGIIESGGQAKWFLQDVEVLINGV...  0.627939    0.353659   \n",
      "3     MKLNTLQLENYRNYDEVTLKCHPDVNILIGENAQGKTNLLESIYTL...  0.562197    0.336927   \n",
      "4     MVTALSDVNNTDNYGAGQIQVLEGLEAVRKRPGMYIGSTSERGLHH...  0.623400    0.369509   \n",
      "...                                                 ...       ...         ...   \n",
      "2109                                                NaN       NaN         NaN   \n",
      "2110                                                NaN       NaN         NaN   \n",
      "2111                                                NaN       NaN         NaN   \n",
      "2112                                                NaN       NaN         NaN   \n",
      "2113                                                NaN       NaN         NaN   \n",
      "\n",
      "             A         R         N         D  ...         L         K  \\\n",
      "0     0.070640  0.041943  0.057395  0.050773  ...  0.079470  0.075055   \n",
      "1     0.042440  0.031830  0.058355  0.076923  ...  0.098143  0.066313   \n",
      "2     0.024691  0.049383  0.024691  0.061728  ...  0.098765  0.049383   \n",
      "3     0.056757  0.045946  0.064865  0.059459  ...  0.127027  0.070270   \n",
      "4     0.068323  0.060559  0.049689  0.062112  ...  0.082298  0.066770   \n",
      "...        ...       ...       ...       ...  ...       ...       ...   \n",
      "2109  0.064982  0.086643  0.054152  0.032491  ...  0.064982  0.111913   \n",
      "2110  0.065934  0.076923  0.065934  0.054945  ...  0.032967  0.142857   \n",
      "2111  0.096618  0.062802  0.062802  0.033816  ...  0.086957  0.082126   \n",
      "2112  0.072727  0.045455  0.050000  0.050000  ...  0.027273  0.122727   \n",
      "2113  0.068627  0.078431  0.019608  0.068627  ...  0.068627  0.107843   \n",
      "\n",
      "             M         F         P         S         T         W         Y  \\\n",
      "0     0.008830  0.046358  0.044150  0.050773  0.066225  0.006623  0.037528   \n",
      "1     0.015915  0.045093  0.042440  0.076923  0.071618  0.002653  0.018568   \n",
      "2     0.012346  0.037037  0.024691  0.024691  0.024691  0.012346  0.000000   \n",
      "3     0.029730  0.027027  0.021622  0.054054  0.056757  0.000000  0.040541   \n",
      "4     0.020186  0.029503  0.026398  0.046584  0.059006  0.006211  0.045031   \n",
      "...        ...       ...       ...       ...       ...       ...       ...   \n",
      "2109  0.018051  0.007220  0.061372  0.054152  0.043321  0.007220  0.021661   \n",
      "2110  0.054945  0.032967  0.021978  0.043956  0.065934  0.000000  0.043956   \n",
      "2111  0.014493  0.033816  0.043478  0.062802  0.062802  0.009662  0.014493   \n",
      "2112  0.027273  0.036364  0.036364  0.045455  0.045455  0.000000  0.018182   \n",
      "2113  0.019608  0.009804  0.058824  0.058824  0.058824  0.000000  0.029412   \n",
      "\n",
      "             V  \n",
      "0     0.046358  \n",
      "1     0.076923  \n",
      "2     0.086420  \n",
      "3     0.043243  \n",
      "4     0.071429  \n",
      "...        ...  \n",
      "2109  0.072202  \n",
      "2110  0.098901  \n",
      "2111  0.096618  \n",
      "2112  0.131818  \n",
      "2113  0.078431  \n",
      "\n",
      "[2666 rows x 26 columns]\n"
     ]
    }
   ],
   "source": [
    "protein_sequence = []\n",
    "for amino_acid in N315_data['protein sequence']:\n",
    "    Freq=getAAFreq(amino_acid)\n",
    "    protein_sequence.append(Freq)\n",
    "amino_acids = ['A', 'R', 'N', 'D', 'C', 'Q', 'E', 'G', 'H', 'I', 'L', 'K', 'M', 'F', 'P', 'S', 'T', 'W', 'Y', 'V']\n",
    "columns = {acid: [] for acid in amino_acids}\n",
    "\n",
    "for sequence in protein_sequence:\n",
    "    index = 0\n",
    "    for acid in amino_acids:\n",
    "        columns[acid].append(sequence[index])\n",
    "        index+=1\n",
    "\n",
    "result_df = pd.DataFrame(columns)\n",
    "\n",
    "all_df_new = pd.concat([N315_data, result_df], axis=1)\n",
    "print(all_df_new)\n",
    "all_df_new.to_csv(\"../dataset/N315GC+CAI+Acimo.csv\", index = False)"
   ],
   "metadata": {
    "collapsed": false,
    "ExecuteTime": {
     "end_time": "2024-01-28T18:03:54.294798600Z",
     "start_time": "2024-01-28T18:03:53.906186900Z"
    }
   },
   "id": "c63ce9c50e912321"
  },
  {
   "cell_type": "code",
   "execution_count": 36,
   "id": "64cc6f50",
   "metadata": {
    "ExecuteTime": {
     "end_time": "2024-01-28T19:51:34.009742600Z",
     "start_time": "2024-01-28T19:51:33.887009900Z"
    }
   },
   "outputs": [
    {
     "name": "stdout",
     "output_type": "stream",
     "text": [
      "          locus tag essential  \\\n",
      "1     SAOUHSC_00001         1   \n",
      "3     SAOUHSC_00002         1   \n",
      "4     SAOUHSC_00003         1   \n",
      "5     SAOUHSC_00004         0   \n",
      "6     SAOUHSC_00005         1   \n",
      "...             ...       ...   \n",
      "4108  SAOUHSC_03051         0   \n",
      "4109  SAOUHSC_03052         1   \n",
      "4110  SAOUHSC_03053         1   \n",
      "4112  SAOUHSC_03054         1   \n",
      "4114  SAOUHSC_03055         1   \n",
      "\n",
      "                                                    DNA  \\\n",
      "1     ATGTCGGAAAAAGAAATTTGGGAAAAAGTGCTTGAAATTGCTCAAG...   \n",
      "3     ATGATGGAATTCACTATTAAAAGAGATTATTTTATTACACAATTAA...   \n",
      "4     GTGATTATTTTGGTTCAAGAAGTTGTAGTAGAAGGAGACATTAATT...   \n",
      "5     ATGAAGTTAAATACACTCCAATTAGAAAATTATCGTAACTATGATG...   \n",
      "6     ATGGTGACTGCATTGTCAGATGTAAACAACACGGATAATTATGGTG...   \n",
      "...                                                 ...   \n",
      "4108  ATGACTGTAGAATGGTTAGCAGAACAATTAAAAGAACATAATATTC...   \n",
      "4109  GTGGTTCAAGAATATGATGTAATCGTTATAGGTGCGGGACATGCAG...   \n",
      "4110  ATGGATTTAGATACAATTACGAGTATTTCAACACCAATGGGTGAAG...   \n",
      "4112  ATGTTATTGGAAAAAGCTTACCGAATTAAAAAGAATGCAGATTTTC...   \n",
      "4114  ATGGTAAAACGTACTTATCAACCAAATAAACGTAAACATAGTAAAG...   \n",
      "\n",
      "                                       protein sequence  \n",
      "1     MSEKEIWEKVLEIAQEKLSAVSYSTFLKDTELYTIKDGEAIVLSSI...  \n",
      "3     MMEFTIKRDYFITQLNDTLKAISPRTTLPILTGIKIDAKEHEVILT...  \n",
      "4     MIILVQEVVVEGDINLGQFLKTEGIIESGGQAKWFLQDVEVLINGV...  \n",
      "5     MKLNTLQLENYRNYDEVTLKCHPDVNILIGENAQGKTNLLESIYTL...  \n",
      "6     MVTALSDVNNTDNYGAGQIQVLEGLEAVRKRPGMYIGSTSERGLHH...  \n",
      "...                                                 ...  \n",
      "4108  MTVEWLAEQLKEHNIQLTETQKQQFQTYYRLLVEWNEKMNLTSITD...  \n",
      "4109  MVQEYDVIVIGAGHAGVEAGLASARRGAKTLMLTINLDNIAFMPCN...  \n",
      "4110  MDLDTITSISTPMGEGAIGIVRLSGPQAVEIADKLYKGKHLLNDVP...  \n",
      "4112  MLLEKAYRIKKNADFQRIYKKGHSVANRQFVVYTCNNKEIDHFRLG...  \n",
      "4114      MVKRTYQPNKRKHSKVHGFRKRMSTKNGRKVLARRRRKGRKVLSA  \n",
      "\n",
      "[2859 rows x 4 columns]\n"
     ]
    }
   ],
   "source": [
    "NCTC_data= pd.read_csv(\"../dataset/NCTC8325.csv\")\n",
    "# 替换值\n",
    "NCTC_data['essential'] = NCTC_data['essential'].replace({'yes': 1, 'no': 0})\n",
    "\n",
    "NCTC_data = NCTC_data[(NCTC_data['essential'] == 0) | (NCTC_data['essential'] == 1)]\n",
    "\n",
    "print(NCTC_data)"
   ]
  },
  {
   "cell_type": "code",
   "execution_count": 37,
   "outputs": [],
   "source": [
    "# high RNA expression value SAOUHSC_01403\n",
    "reference1=\"ATGAAACAAGGTACAGTTAAATGGTTTAACGCTGAAAAAGGATTCGGCTTTATCGAAGTTGAAGGAGAAAATGACGTATTCGTACATTTTTCAGCAATTAACCAAGATGGTTACAAATCATTAGAAGAAGGTCAAGCTGTTGAGTTTGAAGTAGTTGAAGGCGACCGCGGTCCACAAGCTGCAAACGTTGTTAAACTATAA\"\n",
    "\n",
    "# SAOUHSC_01191\n",
    "reference2=\"ATGGGTAAACAATGTTTCGTAACAGGTCGTAAAGCTTCGACTGGTAACAGACGTTCACACGCTTTAAACTCTACTAAACGTAGATGGAACGCTAACCTTCAAAAAGTTAGAATCCTAGTTGACGGTAAACCTAAAAAAGTTTGGGTTTCTGCACGTGCTTTAAAATCTGGTAAAGTAACTAGAGTTTAA\"\n",
    "cai_list=[]\n",
    "\n",
    "for dna_sequence in NCTC_data['DNA']:\n",
    "    try:\n",
    "        cai=CAI(dna_sequence,reference=[reference1,reference2])\n",
    "    except:\n",
    "        cai=0.999\n",
    "    cai_list.append(cai)\n",
    "NCTC_data['CAI']=cai_list\n",
    "NCTC_data = NCTC_data[NCTC_data['CAI'] != 0.999]"
   ],
   "metadata": {
    "collapsed": false,
    "ExecuteTime": {
     "end_time": "2024-01-28T20:51:35.438743800Z",
     "start_time": "2024-01-28T20:51:34.396858100Z"
    }
   },
   "id": "85f1fca28d2cb06c"
  },
  {
   "cell_type": "code",
   "execution_count": 39,
   "outputs": [],
   "source": [
    "NCTC_data['GC_Content'] = NCTC_data['DNA'].apply(calculate_gc_content)"
   ],
   "metadata": {
    "collapsed": false,
    "ExecuteTime": {
     "end_time": "2024-01-28T20:52:29.864844100Z",
     "start_time": "2024-01-28T20:52:29.505502400Z"
    }
   },
   "id": "ab0bf9cb4031907f"
  },
  {
   "cell_type": "code",
   "execution_count": 41,
   "outputs": [
    {
     "name": "stdout",
     "output_type": "stream",
     "text": [
      "          locus tag essential  \\\n",
      "1     SAOUHSC_00001         1   \n",
      "3     SAOUHSC_00002         1   \n",
      "4     SAOUHSC_00003         1   \n",
      "5     SAOUHSC_00004         0   \n",
      "6     SAOUHSC_00005         1   \n",
      "...             ...       ...   \n",
      "4108  SAOUHSC_03051         0   \n",
      "4109  SAOUHSC_03052         1   \n",
      "4110  SAOUHSC_03053         1   \n",
      "4112  SAOUHSC_03054         1   \n",
      "4114  SAOUHSC_03055         1   \n",
      "\n",
      "                                                    DNA  \\\n",
      "1     ATGTCGGAAAAAGAAATTTGGGAAAAAGTGCTTGAAATTGCTCAAG...   \n",
      "3     ATGATGGAATTCACTATTAAAAGAGATTATTTTATTACACAATTAA...   \n",
      "4     GTGATTATTTTGGTTCAAGAAGTTGTAGTAGAAGGAGACATTAATT...   \n",
      "5     ATGAAGTTAAATACACTCCAATTAGAAAATTATCGTAACTATGATG...   \n",
      "6     ATGGTGACTGCATTGTCAGATGTAAACAACACGGATAATTATGGTG...   \n",
      "...                                                 ...   \n",
      "4108  ATGACTGTAGAATGGTTAGCAGAACAATTAAAAGAACATAATATTC...   \n",
      "4109  GTGGTTCAAGAATATGATGTAATCGTTATAGGTGCGGGACATGCAG...   \n",
      "4110  ATGGATTTAGATACAATTACGAGTATTTCAACACCAATGGGTGAAG...   \n",
      "4112  ATGTTATTGGAAAAAGCTTACCGAATTAAAAAGAATGCAGATTTTC...   \n",
      "4114  ATGGTAAAACGTACTTATCAACCAAATAAACGTAAACATAGTAAAG...   \n",
      "\n",
      "                                       protein sequence       CAI  GC_Content  \n",
      "1     MSEKEIWEKVLEIAQEKLSAVSYSTFLKDTELYTIKDGEAIVLSSI...  0.551308    0.328928  \n",
      "3     MMEFTIKRDYFITQLNDTLKAISPRTTLPILTGIKIDAKEHEVILT...  0.594222    0.328042  \n",
      "4     MIILVQEVVVEGDINLGQFLKTEGIIESGGQAKWFLQDVEVLINGV...  0.615597    0.353659  \n",
      "5     MKLNTLQLENYRNYDEVTLKCHPDVNILIGENAQGKTNLLESIYTL...  0.452895    0.337826  \n",
      "6     MVTALSDVNNTDNYGAGQIQVLEGLEAVRKRPGMYIGSTSERGLHH...  0.538077    0.370026  \n",
      "...                                                 ...       ...         ...  \n",
      "4108  MTVEWLAEQLKEHNIQLTETQKQQFQTYYRLLVEWNEKMNLTSITD...  0.499814    0.334722  \n",
      "4109  MVQEYDVIVIGAGHAGVEAGLASARRGAKTLMLTINLDNIAFMPCN...  0.544379    0.353035  \n",
      "4110  MDLDTITSISTPMGEGAIGIVRLSGPQAVEIADKLYKGKHLLNDVP...  0.524298    0.340580  \n",
      "4112  MLLEKAYRIKKNADFQRIYKKGHSVANRQFVVYTCNNKEIDHFRLG...  0.450391    0.290960  \n",
      "4114      MVKRTYQPNKRKHSKVHGFRKRMSTKNGRKVLARRRRKGRKVLSA  0.644079    0.376812  \n",
      "\n",
      "[2851 rows x 6 columns]\n"
     ]
    }
   ],
   "source": [
    "print(NCTC_data)"
   ],
   "metadata": {
    "collapsed": false,
    "ExecuteTime": {
     "end_time": "2024-01-28T20:54:12.294773700Z",
     "start_time": "2024-01-28T20:54:12.244369700Z"
    }
   },
   "id": "693b5a5d9779918f"
  },
  {
   "cell_type": "code",
   "execution_count": 46,
   "outputs": [
    {
     "name": "stdout",
     "output_type": "stream",
     "text": [
      "          locus tag essential  \\\n",
      "1     SAOUHSC_00001         1   \n",
      "3     SAOUHSC_00002         1   \n",
      "4     SAOUHSC_00003         1   \n",
      "5     SAOUHSC_00004         0   \n",
      "6     SAOUHSC_00005         1   \n",
      "...             ...       ...   \n",
      "2823            NaN       NaN   \n",
      "2827            NaN       NaN   \n",
      "2831            NaN       NaN   \n",
      "2836            NaN       NaN   \n",
      "2838            NaN       NaN   \n",
      "\n",
      "                                                    DNA  \\\n",
      "1     ATGTCGGAAAAAGAAATTTGGGAAAAAGTGCTTGAAATTGCTCAAG...   \n",
      "3     ATGATGGAATTCACTATTAAAAGAGATTATTTTATTACACAATTAA...   \n",
      "4     GTGATTATTTTGGTTCAAGAAGTTGTAGTAGAAGGAGACATTAATT...   \n",
      "5     ATGAAGTTAAATACACTCCAATTAGAAAATTATCGTAACTATGATG...   \n",
      "6     ATGGTGACTGCATTGTCAGATGTAAACAACACGGATAATTATGGTG...   \n",
      "...                                                 ...   \n",
      "2823                                                NaN   \n",
      "2827                                                NaN   \n",
      "2831                                                NaN   \n",
      "2836                                                NaN   \n",
      "2838                                                NaN   \n",
      "\n",
      "                                       protein sequence       CAI  GC_Content  \\\n",
      "1     MSEKEIWEKVLEIAQEKLSAVSYSTFLKDTELYTIKDGEAIVLSSI...  0.551308    0.328928   \n",
      "3     MMEFTIKRDYFITQLNDTLKAISPRTTLPILTGIKIDAKEHEVILT...  0.594222    0.328042   \n",
      "4     MIILVQEVVVEGDINLGQFLKTEGIIESGGQAKWFLQDVEVLINGV...  0.615597    0.353659   \n",
      "5     MKLNTLQLENYRNYDEVTLKCHPDVNILIGENAQGKTNLLESIYTL...  0.452895    0.337826   \n",
      "6     MVTALSDVNNTDNYGAGQIQVLEGLEAVRKRPGMYIGSTSERGLHH...  0.538077    0.370026   \n",
      "...                                                 ...       ...         ...   \n",
      "2823                                                NaN       NaN         NaN   \n",
      "2827                                                NaN       NaN         NaN   \n",
      "2831                                                NaN       NaN         NaN   \n",
      "2836                                                NaN       NaN         NaN   \n",
      "2838                                                NaN       NaN         NaN   \n",
      "\n",
      "             A         R         N         D  ...         L         K  \\\n",
      "1     0.042440  0.031830  0.058355  0.076923  ...  0.098143  0.066313   \n",
      "3     0.056757  0.045946  0.064865  0.059459  ...  0.127027  0.070270   \n",
      "4     0.068323  0.060559  0.049689  0.062112  ...  0.082298  0.065217   \n",
      "5     0.062007  0.084555  0.051860  0.076663  ...  0.087937  0.043968   \n",
      "6     0.072961  0.034335  0.042918  0.051502  ...  0.090129  0.055794   \n",
      "...        ...       ...       ...       ...  ...       ...       ...   \n",
      "2823  0.064706  0.011765  0.047059  0.011765  ...  0.129412  0.029412   \n",
      "2827  0.024242  0.030303  0.090909  0.060606  ...  0.060606  0.090909   \n",
      "2831  0.068702  0.015267  0.007634  0.007634  ...  0.091603  0.068702   \n",
      "2836  0.054466  0.050109  0.047930  0.076253  ...  0.093682  0.052288   \n",
      "2838  0.044444  0.222222  0.044444  0.000000  ...  0.044444  0.200000   \n",
      "\n",
      "             M         F         P         S         T         W         Y  \\\n",
      "1     0.015915  0.045093  0.042440  0.076923  0.071618  0.002653  0.018568   \n",
      "3     0.029730  0.027027  0.021622  0.054054  0.056757  0.000000  0.040541   \n",
      "4     0.020186  0.029503  0.026398  0.046584  0.059006  0.006211  0.045031   \n",
      "5     0.023675  0.023675  0.028185  0.058625  0.059752  0.000000  0.023675   \n",
      "6     0.047210  0.047210  0.051502  0.055794  0.081545  0.004292  0.017167   \n",
      "...        ...       ...       ...       ...       ...       ...       ...   \n",
      "2823  0.041176  0.123529  0.011765  0.070588  0.023529  0.023529  0.023529   \n",
      "2827  0.006061  0.066667  0.030303  0.060606  0.048485  0.006061  0.066667   \n",
      "2831  0.068702  0.099237  0.015267  0.076336  0.053435  0.038168  0.015267   \n",
      "2836  0.032680  0.021786  0.023965  0.052288  0.063181  0.002179  0.019608   \n",
      "2838  0.044444  0.022222  0.022222  0.066667  0.044444  0.000000  0.022222   \n",
      "\n",
      "             V  \n",
      "1     0.076923  \n",
      "3     0.043243  \n",
      "4     0.071429  \n",
      "5     0.078918  \n",
      "6     0.055794  \n",
      "...        ...  \n",
      "2823  0.111765  \n",
      "2827  0.048485  \n",
      "2831  0.129771  \n",
      "2836  0.080610  \n",
      "2838  0.088889  \n",
      "\n",
      "[3728 rows x 26 columns]\n"
     ]
    }
   ],
   "source": [
    "protein_sequence = []\n",
    "i=0\n",
    "NCTC_data = NCTC_data.dropna(subset=['protein sequence'])\n",
    "for amino_acid in NCTC_data['protein sequence']:\n",
    "    Freq=getAAFreq(amino_acid)\n",
    "    protein_sequence.append(Freq)\n",
    "\n",
    "columns = {acid: [] for acid in amino_acids}\n",
    "\n",
    "for sequence in protein_sequence:\n",
    "    index = 0\n",
    "    for acid in amino_acids:\n",
    "        columns[acid].append(sequence[index])\n",
    "        index+=1\n",
    "\n",
    "result_df = pd.DataFrame(columns)\n",
    "\n",
    "all_df_new = pd.concat([NCTC_data, result_df], axis=1)\n",
    "print(all_df_new)\n",
    "all_df_new.to_csv(\"../dataset/NCTCGC+CAI+Acimo.csv\", index = False)"
   ],
   "metadata": {
    "collapsed": false,
    "ExecuteTime": {
     "end_time": "2024-01-28T21:11:47.156331400Z",
     "start_time": "2024-01-28T21:11:46.720422200Z"
    }
   },
   "id": "c292ae6fecebd325"
  },
  {
   "cell_type": "code",
   "execution_count": null,
   "outputs": [],
   "source": [],
   "metadata": {
    "collapsed": false
   },
   "id": "31738b5518e6a6d5"
  }
 ],
 "metadata": {
  "kernelspec": {
   "display_name": "Python 3 (ipykernel)",
   "language": "python",
   "name": "python3"
  },
  "language_info": {
   "codemirror_mode": {
    "name": "ipython",
    "version": 3
   },
   "file_extension": ".py",
   "mimetype": "text/x-python",
   "name": "python",
   "nbconvert_exporter": "python",
   "pygments_lexer": "ipython3",
   "version": "3.9.12"
  }
 },
 "nbformat": 4,
 "nbformat_minor": 5
}
