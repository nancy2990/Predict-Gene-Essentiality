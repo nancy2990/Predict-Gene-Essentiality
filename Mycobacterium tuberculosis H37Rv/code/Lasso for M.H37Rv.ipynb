{
 "cells": [
  {
   "cell_type": "code",
   "execution_count": 1,
   "id": "initial_id",
   "metadata": {
    "collapsed": true,
    "ExecuteTime": {
     "end_time": "2024-02-08T00:11:11.551109100Z",
     "start_time": "2024-02-08T00:11:10.582288600Z"
    }
   },
   "outputs": [
    {
     "name": "stderr",
     "output_type": "stream",
     "text": [
      "D:\\anaconda3\\lib\\site-packages\\scipy\\__init__.py:146: UserWarning: A NumPy version >=1.16.5 and <1.23.0 is required for this version of SciPy (detected version 1.26.3\n",
      "  warnings.warn(f\"A NumPy version >={np_minversion} and <{np_maxversion}\"\n"
     ]
    }
   ],
   "source": [
    "import pandas as pd\n",
    "from sklearn.model_selection import cross_val_score\n",
    "\n",
    "from sklearn.metrics import make_scorer, balanced_accuracy_score\n",
    "\n",
    "\n",
    "from sklearn.linear_model import LassoCV\n",
    "from joblib import load"
   ]
  },
  {
   "cell_type": "code",
   "execution_count": 2,
   "outputs": [],
   "source": [
    "all_df = pd.read_csv(\"../dataset/H37RvGC+CAI+Acimo.csv\")\n",
    "selected_columns=[\"locus tag\",\"essential\",\"DNA\",\"protein sequence\"]\n",
    "Xs= all_df.drop(columns=selected_columns)\n",
    "y=all_df[\"essential\"]\n",
    "scorer = make_scorer(balanced_accuracy_score)"
   ],
   "metadata": {
    "collapsed": false,
    "ExecuteTime": {
     "end_time": "2024-02-08T00:11:14.062388900Z",
     "start_time": "2024-02-08T00:11:13.954676400Z"
    }
   },
   "id": "3b49649c3f378b07"
  },
  {
   "cell_type": "code",
   "execution_count": 3,
   "outputs": [],
   "source": [
    "model_rf = load('../../model/random_forest_model_lasso.joblib')"
   ],
   "metadata": {
    "collapsed": false,
    "ExecuteTime": {
     "end_time": "2024-02-07T17:43:39.457819300Z",
     "start_time": "2024-02-07T17:43:39.212692800Z"
    }
   },
   "id": "c7be6493e56b708d"
  },
  {
   "cell_type": "code",
   "execution_count": 4,
   "outputs": [
    {
     "name": "stderr",
     "output_type": "stream",
     "text": [
      "D:\\anaconda3\\lib\\site-packages\\sklearn\\linear_model\\_coordinate_descent.py:628: ConvergenceWarning: Objective did not converge. You might want to increase the number of iterations, check the scale of the features or consider increasing regularisation. Duality gap: 2.480e-01, tolerance: 5.063e-02\n",
      "  model = cd_fast.enet_coordinate_descent(\n"
     ]
    },
    {
     "data": {
      "text/plain": "LassoCV(cv=10, random_state=10)",
      "text/html": "<style>#sk-container-id-1 {color: black;}#sk-container-id-1 pre{padding: 0;}#sk-container-id-1 div.sk-toggleable {background-color: white;}#sk-container-id-1 label.sk-toggleable__label {cursor: pointer;display: block;width: 100%;margin-bottom: 0;padding: 0.3em;box-sizing: border-box;text-align: center;}#sk-container-id-1 label.sk-toggleable__label-arrow:before {content: \"▸\";float: left;margin-right: 0.25em;color: #696969;}#sk-container-id-1 label.sk-toggleable__label-arrow:hover:before {color: black;}#sk-container-id-1 div.sk-estimator:hover label.sk-toggleable__label-arrow:before {color: black;}#sk-container-id-1 div.sk-toggleable__content {max-height: 0;max-width: 0;overflow: hidden;text-align: left;background-color: #f0f8ff;}#sk-container-id-1 div.sk-toggleable__content pre {margin: 0.2em;color: black;border-radius: 0.25em;background-color: #f0f8ff;}#sk-container-id-1 input.sk-toggleable__control:checked~div.sk-toggleable__content {max-height: 200px;max-width: 100%;overflow: auto;}#sk-container-id-1 input.sk-toggleable__control:checked~label.sk-toggleable__label-arrow:before {content: \"▾\";}#sk-container-id-1 div.sk-estimator input.sk-toggleable__control:checked~label.sk-toggleable__label {background-color: #d4ebff;}#sk-container-id-1 div.sk-label input.sk-toggleable__control:checked~label.sk-toggleable__label {background-color: #d4ebff;}#sk-container-id-1 input.sk-hidden--visually {border: 0;clip: rect(1px 1px 1px 1px);clip: rect(1px, 1px, 1px, 1px);height: 1px;margin: -1px;overflow: hidden;padding: 0;position: absolute;width: 1px;}#sk-container-id-1 div.sk-estimator {font-family: monospace;background-color: #f0f8ff;border: 1px dotted black;border-radius: 0.25em;box-sizing: border-box;margin-bottom: 0.5em;}#sk-container-id-1 div.sk-estimator:hover {background-color: #d4ebff;}#sk-container-id-1 div.sk-parallel-item::after {content: \"\";width: 100%;border-bottom: 1px solid gray;flex-grow: 1;}#sk-container-id-1 div.sk-label:hover label.sk-toggleable__label {background-color: #d4ebff;}#sk-container-id-1 div.sk-serial::before {content: \"\";position: absolute;border-left: 1px solid gray;box-sizing: border-box;top: 0;bottom: 0;left: 50%;z-index: 0;}#sk-container-id-1 div.sk-serial {display: flex;flex-direction: column;align-items: center;background-color: white;padding-right: 0.2em;padding-left: 0.2em;position: relative;}#sk-container-id-1 div.sk-item {position: relative;z-index: 1;}#sk-container-id-1 div.sk-parallel {display: flex;align-items: stretch;justify-content: center;background-color: white;position: relative;}#sk-container-id-1 div.sk-item::before, #sk-container-id-1 div.sk-parallel-item::before {content: \"\";position: absolute;border-left: 1px solid gray;box-sizing: border-box;top: 0;bottom: 0;left: 50%;z-index: -1;}#sk-container-id-1 div.sk-parallel-item {display: flex;flex-direction: column;z-index: 1;position: relative;background-color: white;}#sk-container-id-1 div.sk-parallel-item:first-child::after {align-self: flex-end;width: 50%;}#sk-container-id-1 div.sk-parallel-item:last-child::after {align-self: flex-start;width: 50%;}#sk-container-id-1 div.sk-parallel-item:only-child::after {width: 0;}#sk-container-id-1 div.sk-dashed-wrapped {border: 1px dashed gray;margin: 0 0.4em 0.5em 0.4em;box-sizing: border-box;padding-bottom: 0.4em;background-color: white;}#sk-container-id-1 div.sk-label label {font-family: monospace;font-weight: bold;display: inline-block;line-height: 1.2em;}#sk-container-id-1 div.sk-label-container {text-align: center;}#sk-container-id-1 div.sk-container {/* jupyter's `normalize.less` sets `[hidden] { display: none; }` but bootstrap.min.css set `[hidden] { display: none !important; }` so we also need the `!important` here to be able to override the default hidden behavior on the sphinx rendered scikit-learn.org. See: https://github.com/scikit-learn/scikit-learn/issues/21755 */display: inline-block !important;position: relative;}#sk-container-id-1 div.sk-text-repr-fallback {display: none;}</style><div id=\"sk-container-id-1\" class=\"sk-top-container\"><div class=\"sk-text-repr-fallback\"><pre>LassoCV(cv=10, random_state=10)</pre><b>In a Jupyter environment, please rerun this cell to show the HTML representation or trust the notebook. <br />On GitHub, the HTML representation is unable to render, please try loading this page with nbviewer.org.</b></div><div class=\"sk-container\" hidden><div class=\"sk-item\"><div class=\"sk-estimator sk-toggleable\"><input class=\"sk-toggleable__control sk-hidden--visually\" id=\"sk-estimator-id-1\" type=\"checkbox\" checked><label for=\"sk-estimator-id-1\" class=\"sk-toggleable__label sk-toggleable__label-arrow\">LassoCV</label><div class=\"sk-toggleable__content\"><pre>LassoCV(cv=10, random_state=10)</pre></div></div></div></div></div>"
     },
     "execution_count": 4,
     "metadata": {},
     "output_type": "execute_result"
    }
   ],
   "source": [
    "lassoCV = LassoCV(cv=10,random_state=10)\n",
    "lassoCV.fit(Xs,y)"
   ],
   "metadata": {
    "collapsed": false,
    "ExecuteTime": {
     "end_time": "2024-02-07T17:43:41.185877200Z",
     "start_time": "2024-02-07T17:43:40.764131200Z"
    }
   },
   "id": "a2e1edced6fba7b7"
  },
  {
   "cell_type": "code",
   "execution_count": 5,
   "outputs": [
    {
     "name": "stdout",
     "output_type": "stream",
     "text": [
      "Best alpha:  2.2551471627010748e-06\n",
      "Lasso coefficient:  [0.54207371 0.24804407 1.84417965 2.03427176 2.09474188 3.10176451\n",
      " 0.67887584 3.06574086 2.64492157 2.49410496 2.64289428 3.33754563\n",
      " 3.06040777 5.03505842 1.73755017 2.17352518 1.77571746 1.66924953\n",
      " 2.58867354 0.39160692 1.64897086 3.07428589]\n",
      "['GC_Content', 'CAI', 'A', 'R', 'N', 'D', 'C', 'Q', 'E', 'G', 'H', 'I', 'L', 'K', 'M', 'F', 'P', 'S', 'T', 'W', 'Y', 'V']\n"
     ]
    }
   ],
   "source": [
    "all_feature_names = [\"GC_Content\",\"CAI\",\"A\",\"R\",\"N\",\"D\",\"C\",\"Q\",\"E\",\"G\",\"H\",\"I\",\"L\",\"K\",\"M\",\"F\",\"P\",\"S\",\"T\",\"W\",\"Y\",\"V\"]\n",
    "print(\"Best alpha: \", lassoCV.alpha_)\n",
    "print(\"Lasso coefficient: \", lassoCV.coef_)\n",
    "selected_features = [feature for feature, coef in zip(all_feature_names, lassoCV.coef_) if coef !=0]\n",
    "print(selected_features)"
   ],
   "metadata": {
    "collapsed": false,
    "ExecuteTime": {
     "end_time": "2024-02-07T17:43:43.946352400Z",
     "start_time": "2024-02-07T17:43:43.906285Z"
    }
   },
   "id": "f7c9d85d30de6aea"
  },
  {
   "cell_type": "code",
   "execution_count": 6,
   "outputs": [
    {
     "name": "stdout",
     "output_type": "stream",
     "text": [
      "0.5061324901134906\n"
     ]
    }
   ],
   "source": [
    "selected_features = ['GC_Content', 'CAI', 'A', 'R', 'N', 'D', 'C', 'Q', 'E', 'G', 'I', 'L', 'K', 'M', 'F', 'P', 'S', 'T', 'W', 'Y', 'V']\n",
    "score = cross_val_score(model_rf,Xs[selected_features],y,cv=5,scoring=scorer).mean()\n",
    "print(score)"
   ],
   "metadata": {
    "collapsed": false,
    "ExecuteTime": {
     "end_time": "2024-02-07T17:44:42.864610300Z",
     "start_time": "2024-02-07T17:43:48.504708300Z"
    }
   },
   "id": "6919975d31ef8c26"
  },
  {
   "cell_type": "code",
   "execution_count": 7,
   "outputs": [
    {
     "name": "stderr",
     "output_type": "stream",
     "text": [
      "D:\\anaconda3\\lib\\site-packages\\sklearn\\base.py:465: UserWarning: X does not have valid feature names, but RandomForestClassifier was fitted with feature names\n",
      "  warnings.warn(\n"
     ]
    },
    {
     "data": {
      "text/plain": "<Figure size 432x288 with 2 Axes>",
      "image/png": "[encoded data removed]"
     },
     "metadata": {
      "needs_background": "light"
     },
     "output_type": "display_data"
    }
   ],
   "source": [
    "from matplotlib import pyplot as plt\n",
    "import numpy as np\n",
    "from sklearn.metrics import ConfusionMatrixDisplay\n",
    "X_evl_test_rf = np.array(Xs[selected_features])\n",
    "y_evl_test = np.array(y)\n",
    "disp = ConfusionMatrixDisplay.from_estimator(model_rf,X_evl_test_rf,y_evl_test,cmap=plt.cm.Blues)"
   ],
   "metadata": {
    "collapsed": false,
    "ExecuteTime": {
     "end_time": "2024-02-07T17:45:06.962288100Z",
     "start_time": "2024-02-07T17:45:05.818127800Z"
    }
   },
   "id": "423a4707dfa1d0d2"
  },
  {
   "cell_type": "code",
   "execution_count": 9,
   "outputs": [],
   "source": [
    "model_xgb = load(\"../../model/XGBoost_model_lasso.joblib\")"
   ],
   "metadata": {
    "collapsed": false,
    "ExecuteTime": {
     "end_time": "2024-02-07T17:45:16.803775300Z",
     "start_time": "2024-02-07T17:45:15.967342800Z"
    }
   },
   "id": "3e3edbccbc6f2da6"
  },
  {
   "cell_type": "code",
   "execution_count": 10,
   "outputs": [
    {
     "name": "stdout",
     "output_type": "stream",
     "text": [
      "0.5295314729295317\n"
     ]
    }
   ],
   "source": [
    "score = cross_val_score(model_xgb,Xs[selected_features],y,cv=5,scoring=scorer).mean()\n",
    "print(score)"
   ],
   "metadata": {
    "collapsed": false,
    "ExecuteTime": {
     "end_time": "2024-02-07T17:45:20.381117Z",
     "start_time": "2024-02-07T17:45:18.432418300Z"
    }
   },
   "id": "1230ca440b69a7c9"
  },
  {
   "cell_type": "code",
   "execution_count": 11,
   "outputs": [
    {
     "data": {
      "text/plain": "<Figure size 432x288 with 2 Axes>",
      "image/png": "[encoded data removed]"
     },
     "metadata": {
      "needs_background": "light"
     },
     "output_type": "display_data"
    }
   ],
   "source": [
    "X_evl_test_xgb = np.array(Xs[selected_features])\n",
    "\n",
    "disp_xgb = ConfusionMatrixDisplay.from_estimator(model_xgb,X_evl_test_xgb,y_evl_test,cmap=plt.cm.Blues)"
   ],
   "metadata": {
    "collapsed": false,
    "ExecuteTime": {
     "end_time": "2024-02-07T17:45:22.287608800Z",
     "start_time": "2024-02-07T17:45:22.149465700Z"
    }
   },
   "id": "8c2979e5388b64b5"
  },
  {
   "cell_type": "code",
   "execution_count": 12,
   "outputs": [],
   "source": [
    "model_mlp = load(\"../../model/MLP_model_lasso.joblib\")"
   ],
   "metadata": {
    "collapsed": false,
    "ExecuteTime": {
     "end_time": "2024-02-07T17:45:28.383828Z",
     "start_time": "2024-02-07T17:45:28.352301600Z"
    }
   },
   "id": "86537feb08c09568"
  },
  {
   "cell_type": "code",
   "execution_count": 13,
   "outputs": [
    {
     "name": "stdout",
     "output_type": "stream",
     "text": [
      "0.5\n"
     ]
    }
   ],
   "source": [
    "score = cross_val_score(model_mlp,Xs[selected_features],y,cv=5,scoring=scorer).mean()\n",
    "print(score)"
   ],
   "metadata": {
    "collapsed": false,
    "ExecuteTime": {
     "end_time": "2024-02-07T17:45:38.415715900Z",
     "start_time": "2024-02-07T17:45:30.222941300Z"
    }
   },
   "id": "51ada5e265ac64ae"
  },
  {
   "cell_type": "code",
   "execution_count": 14,
   "outputs": [
    {
     "name": "stderr",
     "output_type": "stream",
     "text": [
      "D:\\anaconda3\\lib\\site-packages\\sklearn\\base.py:465: UserWarning: X does not have valid feature names, but MLPClassifier was fitted with feature names\n",
      "  warnings.warn(\n"
     ]
    },
    {
     "data": {
      "text/plain": "<Figure size 432x288 with 2 Axes>",
      "image/png": "[encoded data removed]"
     },
     "metadata": {
      "needs_background": "light"
     },
     "output_type": "display_data"
    }
   ],
   "source": [
    "X_evl_test_xgb = np.array(Xs[selected_features])\n",
    "\n",
    "disp_xgb = ConfusionMatrixDisplay.from_estimator(model_mlp,X_evl_test_xgb,y_evl_test,cmap=plt.cm.Blues)"
   ],
   "metadata": {
    "collapsed": false,
    "ExecuteTime": {
     "end_time": "2024-02-07T17:45:40.564546100Z",
     "start_time": "2024-02-07T17:45:40.420952600Z"
    }
   },
   "id": "7658e1bee006b633"
  },
  {
   "cell_type": "code",
   "execution_count": 15,
   "outputs": [
    {
     "name": "stdout",
     "output_type": "stream",
     "text": [
      "Reject the null hypothesis: The distributions of xgboost and random forest are different.\n",
      "Reject the null hypothesis: The distributions of MLP and random forest are different.\n",
      "Reject the null hypothesis: The distributions of xgboost and MLP are different.\n"
     ]
    }
   ],
   "source": [
    "from scipy.stats import ks_2samp\n",
    "\n",
    "model_rf_prediction = model_rf.predict(Xs[selected_features])\n",
    "model_xgb_prediction = model_xgb.predict(Xs[selected_features])\n",
    "model_mlp_prediction = model_mlp.predict(Xs[selected_features])\n",
    "\n",
    "statistic_xgb_rf, p_value_xgb_rf = ks_2samp(model_xgb_prediction, model_rf_prediction)\n",
    "statistic_mlp_rf, p_value_mlp_rf = ks_2samp(model_mlp_prediction, model_rf_prediction)\n",
    "statistic_xgb_mlp, p_value_xgb_mlp, = ks_2samp(model_xgb_prediction, model_mlp_prediction)\n",
    "\n",
    "if p_value_xgb_rf < 0.05:\n",
    "    print(\"Reject the null hypothesis: The distributions of xgboost and random forest are different.\")\n",
    "else:\n",
    "    print(\"Fail to reject the null hypothesis: The distributions of xgboost and random forest are the same.\")\n",
    "\n",
    "if p_value_mlp_rf < 0.05:\n",
    "    print(\"Reject the null hypothesis: The distributions of MLP and random forest are different.\")\n",
    "else:\n",
    "    print(\"Fail to reject the null hypothesis: The distributions of MLP and random forest are the same.\")\n",
    "    \n",
    "if p_value_xgb_mlp < 0.05:\n",
    "    print(\"Reject the null hypothesis: The distributions of xgboost and MLP are different.\")\n",
    "else:\n",
    "    print(\"Fail to reject the null hypothesis: The distributions of xgboost and MLP are the same.\")"
   ],
   "metadata": {
    "collapsed": false,
    "ExecuteTime": {
     "end_time": "2024-02-07T17:45:43.305087100Z",
     "start_time": "2024-02-07T17:45:43.127286200Z"
    }
   },
   "id": "c862aa18c80a4867"
  },
  {
   "cell_type": "code",
   "execution_count": null,
   "outputs": [],
   "source": [],
   "metadata": {
    "collapsed": false
   },
   "id": "9413d102b01198a4"
  }
 ],
 "metadata": {
  "kernelspec": {
   "display_name": "Python 3",
   "language": "python",
   "name": "python3"
  },
  "language_info": {
   "codemirror_mode": {
    "name": "ipython",
    "version": 2
   },
   "file_extension": ".py",
   "mimetype": "text/x-python",
   "name": "python",
   "nbconvert_exporter": "python",
   "pygments_lexer": "ipython2",
   "version": "2.7.6"
  }
 },
 "nbformat": 4,
 "nbformat_minor": 5
}
