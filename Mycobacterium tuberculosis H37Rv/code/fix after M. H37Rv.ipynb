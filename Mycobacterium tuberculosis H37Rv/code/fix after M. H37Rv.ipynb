{
 "cells": [
  {
   "cell_type": "code",
   "execution_count": 1,
   "id": "initial_id",
   "metadata": {
    "collapsed": true,
    "ExecuteTime": {
     "end_time": "2024-02-08T00:06:42.307339300Z",
     "start_time": "2024-02-08T00:06:40.243147400Z"
    }
   },
   "outputs": [
    {
     "name": "stderr",
     "output_type": "stream",
     "text": [
      "D:\\anaconda3\\lib\\site-packages\\scipy\\__init__.py:146: UserWarning: A NumPy version >=1.16.5 and <1.23.0 is required for this version of SciPy (detected version 1.26.3\n",
      "  warnings.warn(f\"A NumPy version >={np_minversion} and <{np_maxversion}\"\n"
     ]
    }
   ],
   "source": [
    "import joblib\n",
    "import numpy as np\n",
    "import pandas as pd\n",
    "from sklearn.model_selection import cross_val_score\n",
    "\n",
    "from sklearn.feature_selection import SelectKBest\n",
    "from sklearn.feature_selection import mutual_info_classif\n",
    "import matplotlib.pyplot as plt\n",
    "from xgboost import XGBClassifier\n",
    "from sklearn.metrics import make_scorer, balanced_accuracy_score\n",
    "from sklearn.feature_selection import RFECV\n",
    "from sklearn.feature_selection import RFE\n",
    "from sklearn.metrics import accuracy_score\n",
    "from sklearn.metrics import ConfusionMatrixDisplay\n",
    "from joblib import load"
   ]
  },
  {
   "cell_type": "code",
   "execution_count": 2,
   "outputs": [],
   "source": [
    "from sklearn.model_selection import train_test_split\n",
    "\n",
    "all_df = pd.read_csv(\"../dataset/H37RvGC+CAI+Acimo.csv\")\n",
    "selected_columns=[\"locus tag\",\"essential\",\"DNA\",\"protein sequence\"]\n",
    "Xs= all_df.drop(columns=selected_columns)\n",
    "y=all_df[\"essential\"]\n",
    "scorer = make_scorer(balanced_accuracy_score)"
   ],
   "metadata": {
    "collapsed": false,
    "ExecuteTime": {
     "end_time": "2024-02-08T00:07:11.081418300Z",
     "start_time": "2024-02-08T00:07:10.995368100Z"
    }
   },
   "id": "3b49649c3f378b07"
  },
  {
   "cell_type": "code",
   "execution_count": 3,
   "outputs": [],
   "source": [
    "model_rf_v2 = load('../../model/random_forest_model_v2.joblib')"
   ],
   "metadata": {
    "collapsed": false,
    "ExecuteTime": {
     "end_time": "2024-02-07T15:49:36.704478700Z",
     "start_time": "2024-02-07T15:49:36.505848700Z"
    }
   },
   "id": "ffd3eeec8813c404"
  },
  {
   "cell_type": "code",
   "execution_count": 4,
   "outputs": [
    {
     "data": {
      "text/plain": "<Figure size 432x288 with 1 Axes>",
      "image/png": "[encoded data removed]"
     },
     "metadata": {
      "needs_background": "light"
     },
     "output_type": "display_data"
    }
   ],
   "source": [
    "score = []\n",
    "for i in range(22,5,-1):\n",
    "\tX_mutual = SelectKBest(score_func=mutual_info_classif, k=i).fit_transform(Xs, y)\n",
    "\tonce = cross_val_score(model_rf_v2, X_mutual, y, cv=5,scoring=scorer)\n",
    "\tscore.append(once.mean())\n",
    "plt.plot(range(22,5,-1), score)\n",
    "plt.show()  "
   ],
   "metadata": {
    "collapsed": false,
    "ExecuteTime": {
     "end_time": "2024-02-07T16:01:16.208002300Z",
     "start_time": "2024-02-07T15:49:41.760245400Z"
    }
   },
   "id": "6c78ed84f2acd93f"
  },
  {
   "cell_type": "code",
   "execution_count": 12,
   "outputs": [],
   "source": [
    "X_mutual = SelectKBest(score_func=mutual_info_classif, k=17).fit_transform(Xs, y)\n",
    "rfe = RFE(model_rf_v2, n_features_to_select=10)\n",
    "rfe.fit(X_mutual, y)\n",
    "X_RFE = rfe.transform(X_mutual)"
   ],
   "metadata": {
    "collapsed": false,
    "ExecuteTime": {
     "end_time": "2024-02-07T16:56:31.587647400Z",
     "start_time": "2024-02-07T16:55:09.308194800Z"
    }
   },
   "id": "b5d85e0ff95bb3d3"
  },
  {
   "cell_type": "code",
   "execution_count": 13,
   "outputs": [
    {
     "name": "stdout",
     "output_type": "stream",
     "text": [
      "['A', 'R', 'N', 'Q', 'K', 'F', 'P', 'S', 'W', 'V']\n"
     ]
    }
   ],
   "source": [
    "all_feature_names = [\"GC_Content\",\"CAI\",\"A\",\"R\",\"N\",\"D\",\"C\",\"Q\",\"E\",\"G\",\"H\",\"I\",\"L\",\"K\",\"M\",\"F\",\"P\",\"S\",\"T\",\"W\",\"Y\",\"V\"]\n",
    "selector = SelectKBest(mutual_info_classif, k=10)\n",
    "selector.fit(Xs,y)\n",
    "# Get columns to keep and create new dataframe with those only\n",
    "cols_idxs = selector.get_support(indices=True)\n",
    "selected_features = [all_feature_names[i] for i in cols_idxs]\n",
    "print(selected_features)"
   ],
   "metadata": {
    "collapsed": false,
    "ExecuteTime": {
     "end_time": "2024-02-07T16:56:41.084641400Z",
     "start_time": "2024-02-07T16:56:40.560128Z"
    }
   },
   "id": "6018efb3007dd29e"
  },
  {
   "cell_type": "code",
   "execution_count": 14,
   "outputs": [
    {
     "name": "stdout",
     "output_type": "stream",
     "text": [
      "0.5021807666269813\n"
     ]
    }
   ],
   "source": [
    "selected_columns_rf = ['A', 'R', 'N', 'Q', 'K', 'F', 'P', 'S', 'W', 'V']\n",
    "ba_score=cross_val_score(model_rf_v2, Xs[selected_columns_rf], y ,cv=5,scoring=scorer).mean()\n",
    "print(ba_score)"
   ],
   "metadata": {
    "collapsed": false,
    "ExecuteTime": {
     "end_time": "2024-02-07T16:57:29.912845100Z",
     "start_time": "2024-02-07T16:56:52.372701300Z"
    }
   },
   "id": "5bf1a712aee21704"
  },
  {
   "cell_type": "code",
   "execution_count": 15,
   "outputs": [
    {
     "data": {
      "text/plain": "<Figure size 432x288 with 2 Axes>",
      "image/png": "[encoded data removed]"
     },
     "metadata": {
      "needs_background": "light"
     },
     "output_type": "display_data"
    }
   ],
   "source": [
    "from sklearn.metrics import ConfusionMatrixDisplay\n",
    "X_evl_test_rf = np.array(Xs[selected_columns_rf])\n",
    "y_evl_test = np.array(y)\n",
    "disp = ConfusionMatrixDisplay.from_estimator(model_rf_v2,X_evl_test_rf,y_evl_test,cmap=plt.cm.Blues)"
   ],
   "metadata": {
    "collapsed": false,
    "ExecuteTime": {
     "end_time": "2024-02-07T16:59:42.474434Z",
     "start_time": "2024-02-07T16:59:42.196735300Z"
    }
   },
   "id": "61647072c8bb9a44"
  },
  {
   "cell_type": "code",
   "execution_count": 12,
   "outputs": [],
   "source": [
    "model_rf = load('../../model/random_forest_model.joblib')"
   ],
   "metadata": {
    "collapsed": false,
    "ExecuteTime": {
     "end_time": "2024-02-08T00:11:50.879891200Z",
     "start_time": "2024-02-08T00:11:50.699040100Z"
    }
   },
   "id": "d39b1432cefb2fab"
  },
  {
   "cell_type": "code",
   "execution_count": 18,
   "outputs": [
    {
     "data": {
      "text/plain": "<Figure size 432x288 with 1 Axes>",
      "image/png": "[encoded data removed]"
     },
     "metadata": {
      "needs_background": "light"
     },
     "output_type": "display_data"
    }
   ],
   "source": [
    "#remove high correlated features\n",
    "score = []\n",
    "for i in range(22,5,-1):\n",
    "\tX_mutual = SelectKBest(score_func=mutual_info_classif, k=i).fit_transform(Xs, y)\n",
    "\tonce = cross_val_score(model_rf, X_mutual, y, cv=5,scoring=scorer)\n",
    "\tscore.append(once.mean())\n",
    "plt.plot(range(22,5,-1), score)\n",
    "plt.show()              \n"
   ],
   "metadata": {
    "collapsed": false,
    "ExecuteTime": {
     "end_time": "2024-02-07T17:09:48.125248Z",
     "start_time": "2024-02-07T17:00:21.213558400Z"
    }
   },
   "id": "ee6d29189d3c9f32"
  },
  {
   "cell_type": "code",
   "execution_count": 13,
   "outputs": [],
   "source": [
    "# 10 features\n",
    "X_mutual = SelectKBest(score_func=mutual_info_classif, k=12).fit_transform(Xs, y)\n",
    "rfe = RFE(model_rf, n_features_to_select=8)\n",
    "rfe.fit(X_mutual, y)\n",
    "X_RFE = rfe.transform(X_mutual)"
   ],
   "metadata": {
    "collapsed": false,
    "ExecuteTime": {
     "end_time": "2024-02-08T00:12:31.677812900Z",
     "start_time": "2024-02-08T00:11:54.586545700Z"
    }
   },
   "id": "933e933f763b34ee"
  },
  {
   "cell_type": "code",
   "execution_count": 15,
   "outputs": [
    {
     "name": "stdout",
     "output_type": "stream",
     "text": [
      "Selected Features:\n",
      "['A', 'C', 'Q', 'E', 'F', 'S', 'W', 'V']\n"
     ]
    }
   ],
   "source": [
    "all_feature_names = [\"GC_Content\",\"CAI\",\"A\",\"R\",\"N\",\"D\",\"C\",\"Q\",\"E\",\"G\",\"H\",\"I\",\"L\",\"K\",\"M\",\"F\",\"P\",\"S\",\"T\",\"W\",\"Y\",\"V\"]\n",
    "selector = SelectKBest(mutual_info_classif, k=12)\n",
    "selector.fit(Xs,y)\n",
    "# Get columns to keep and create new dataframe with those only\n",
    "cols_idxs = selector.get_support(indices=True)\n",
    "selected_feature_indices = rfe.support_\n",
    "selected_feature_names = cols_idxs[selected_feature_indices]\n",
    "selected_features = [all_feature_names[i] for i in selected_feature_names]\n",
    "print(\"Selected Features:\")\n",
    "print(selected_features)"
   ],
   "metadata": {
    "collapsed": false,
    "ExecuteTime": {
     "end_time": "2024-02-08T00:14:12.300560900Z",
     "start_time": "2024-02-08T00:14:11.842755600Z"
    }
   },
   "id": "8e8f98afc3c9e009"
  },
  {
   "cell_type": "code",
   "execution_count": 14,
   "outputs": [
    {
     "name": "stdout",
     "output_type": "stream",
     "text": [
      "0.5007499358031609\n"
     ]
    }
   ],
   "source": [
    "ba_score=cross_val_score(model_rf, Xs, y ,cv=5,scoring=scorer).mean()\n",
    "print(ba_score)"
   ],
   "metadata": {
    "collapsed": false,
    "ExecuteTime": {
     "end_time": "2024-02-08T00:13:51.901420800Z",
     "start_time": "2024-02-08T00:13:10.138345200Z"
    }
   },
   "id": "4d6342a59b7689e0"
  },
  {
   "cell_type": "code",
   "execution_count": 16,
   "outputs": [
    {
     "name": "stdout",
     "output_type": "stream",
     "text": [
      "0.8440086688338753\n"
     ]
    }
   ],
   "source": [
    "selected_columns_rf=['A', 'C', 'Q', 'E', 'F', 'S', 'W', 'V']\n",
    "ba_score=cross_val_score(model_rf, Xs[selected_columns_rf], y ,cv=5,scoring='accuracy').mean()\n",
    "print(ba_score)"
   ],
   "metadata": {
    "collapsed": false,
    "ExecuteTime": {
     "end_time": "2024-02-08T00:14:44.075059Z",
     "start_time": "2024-02-08T00:14:21.714676200Z"
    }
   },
   "id": "d47df20f547f1146"
  },
  {
   "cell_type": "code",
   "execution_count": 20,
   "outputs": [
    {
     "data": {
      "text/plain": "<Figure size 432x288 with 2 Axes>",
      "image/png": "[encoded data removed]"
     },
     "metadata": {
      "needs_background": "light"
     },
     "output_type": "display_data"
    }
   ],
   "source": [
    "from sklearn.metrics import ConfusionMatrixDisplay\n",
    "X_evl_test_rf = np.array(Xs[selected_columns_rf])\n",
    "y_evl_test = np.array(y)\n",
    "disp = ConfusionMatrixDisplay.from_estimator(model_rf,X_evl_test_rf,y_evl_test,cmap=plt.cm.Blues)"
   ],
   "metadata": {
    "collapsed": false,
    "ExecuteTime": {
     "end_time": "2024-02-08T00:16:12.088268700Z",
     "start_time": "2024-02-08T00:16:11.853528Z"
    }
   },
   "id": "249419870ba05fa5"
  },
  {
   "cell_type": "code",
   "execution_count": 18,
   "outputs": [
    {
     "name": "stdout",
     "output_type": "stream",
     "text": [
      "0.5421721184446886\n"
     ]
    }
   ],
   "source": [
    "model_xgb=joblib.load('../../model/XGBoost_model.joblib')\n",
    "ba_score=cross_val_score(model_xgb, Xs, y ,cv=5,scoring=scorer).mean()\n",
    "print(ba_score)"
   ],
   "metadata": {
    "collapsed": false,
    "ExecuteTime": {
     "end_time": "2024-02-08T00:15:04.946332600Z",
     "start_time": "2024-02-08T00:15:03.449645100Z"
    }
   },
   "id": "802a683271da46da"
  },
  {
   "cell_type": "code",
   "execution_count": 26,
   "outputs": [
    {
     "data": {
      "text/plain": "<Figure size 432x288 with 1 Axes>",
      "image/png": "[encoded data removed]"
     },
     "metadata": {
      "needs_background": "light"
     },
     "output_type": "display_data"
    }
   ],
   "source": [
    "score = []\n",
    "for i in range(22,5,-1):\n",
    "\tX_mutual = SelectKBest(score_func=mutual_info_classif, k=i).fit_transform(Xs, y)\n",
    "\tonce = cross_val_score(model_xgb, X_mutual, y, cv=5,scoring=scorer)\n",
    "\tscore.append(once.mean())\n",
    "plt.plot(range(22,5,-1), score)\n",
    "plt.show()              "
   ],
   "metadata": {
    "collapsed": false,
    "ExecuteTime": {
     "end_time": "2024-02-07T17:19:33.893207500Z",
     "start_time": "2024-02-07T17:19:19.742939800Z"
    }
   },
   "id": "3c0e7daeede105bb"
  },
  {
   "cell_type": "code",
   "execution_count": 19,
   "outputs": [],
   "source": [
    "X_mutual = SelectKBest(score_func=mutual_info_classif, k=20).fit_transform(Xs, y)\n",
    "rfe = RFE(model_rf, n_features_to_select=19)\n",
    "rfe.fit(X_mutual, y)\n",
    "X_RFE = rfe.transform(X_mutual)"
   ],
   "metadata": {
    "collapsed": false,
    "ExecuteTime": {
     "end_time": "2024-02-08T00:15:58.216867200Z",
     "start_time": "2024-02-08T00:15:36.302452800Z"
    }
   },
   "id": "a983650e1b3a1325"
  },
  {
   "cell_type": "code",
   "execution_count": 21,
   "outputs": [
    {
     "name": "stdout",
     "output_type": "stream",
     "text": [
      "Selected Features:\n",
      "['GC_Content', 'CAI', 'A', 'R', 'Q', 'E', 'G', 'H', 'I', 'L', 'K', 'M', 'F', 'P', 'S', 'T', 'W', 'Y', 'V']\n"
     ]
    }
   ],
   "source": [
    "selector = SelectKBest(mutual_info_classif, k=20)\n",
    "selector.fit(Xs,y)\n",
    "# Get columns to keep and create new dataframe with those only\n",
    "cols_idxs = selector.get_support(indices=True)\n",
    "selected_feature_indices = rfe.support_\n",
    "selected_feature_names = cols_idxs[selected_feature_indices]\n",
    "selected_features = [all_feature_names[i] for i in selected_feature_names]\n",
    "print(\"Selected Features:\")\n",
    "print(selected_features)"
   ],
   "metadata": {
    "collapsed": false,
    "ExecuteTime": {
     "end_time": "2024-02-04T18:19:43.172875100Z",
     "start_time": "2024-02-04T18:19:42.907830400Z"
    }
   },
   "id": "76f77c0e8b646691"
  },
  {
   "cell_type": "code",
   "execution_count": 21,
   "outputs": [
    {
     "name": "stdout",
     "output_type": "stream",
     "text": [
      "0.5373227534588315\n"
     ]
    }
   ],
   "source": [
    "selected_columns_xgb=['GC_Content', 'CAI', 'A', 'R', 'Q', 'E', 'G', 'H', 'I', 'L', 'K', 'M', 'F', 'P', 'S', 'T', 'W', 'Y', 'V']\n",
    "ba_score=cross_val_score(model_xgb, X_RFE, y ,cv=5,scoring=scorer).mean()\n",
    "print(ba_score)"
   ],
   "metadata": {
    "collapsed": false,
    "ExecuteTime": {
     "end_time": "2024-02-08T00:16:29.477671800Z",
     "start_time": "2024-02-08T00:16:28.574768500Z"
    }
   },
   "id": "60c8f0f17f9413c4"
  },
  {
   "cell_type": "code",
   "execution_count": 22,
   "outputs": [
    {
     "name": "stdout",
     "output_type": "stream",
     "text": [
      "0.8233445027923647\n"
     ]
    }
   ],
   "source": [
    "Wrapper_score = cross_val_score(model_xgb,Xs[selected_columns_xgb],y,cv=5,scoring='accuracy').mean()\n",
    "print(Wrapper_score)"
   ],
   "metadata": {
    "collapsed": false,
    "ExecuteTime": {
     "end_time": "2024-02-08T00:16:32.618056900Z",
     "start_time": "2024-02-08T00:16:31.815385Z"
    }
   },
   "id": "6d9fd9725854e66c"
  },
  {
   "cell_type": "code",
   "execution_count": 23,
   "outputs": [
    {
     "data": {
      "text/plain": "<Figure size 432x288 with 2 Axes>",
      "image/png": "[encoded data removed]"
     },
     "metadata": {
      "needs_background": "light"
     },
     "output_type": "display_data"
    }
   ],
   "source": [
    "X_evl_test_xgb = np.array(Xs[selected_columns_xgb])\n",
    "\n",
    "disp_xgb = ConfusionMatrixDisplay.from_estimator(model_xgb,X_evl_test_xgb,y_evl_test,cmap=plt.cm.Blues)"
   ],
   "metadata": {
    "collapsed": false,
    "ExecuteTime": {
     "end_time": "2024-02-08T00:17:05.455587400Z",
     "start_time": "2024-02-08T00:17:05.290404Z"
    }
   },
   "id": "34117e243662327f"
  },
  {
   "cell_type": "code",
   "execution_count": 24,
   "outputs": [],
   "source": [
    "from sklearn.neural_network import MLPClassifier\n",
    "model_mlp = joblib.load('../../model/MLP_model.joblib')"
   ],
   "metadata": {
    "collapsed": false,
    "ExecuteTime": {
     "end_time": "2024-02-08T00:17:30.999724400Z",
     "start_time": "2024-02-08T00:17:30.971476500Z"
    }
   },
   "id": "6b9faa5d272e08a6"
  },
  {
   "cell_type": "code",
   "execution_count": 4,
   "outputs": [
    {
     "name": "stdout",
     "output_type": "stream",
     "text": [
      "0.4998473282442748\n"
     ]
    }
   ],
   "source": [
    "ba_score = cross_val_score(model_mlp, Xs, y, cv=5,scoring=scorer)\n",
    "print(ba_score.mean())"
   ],
   "metadata": {
    "collapsed": false,
    "ExecuteTime": {
     "end_time": "2024-02-08T00:02:42.444517700Z",
     "start_time": "2024-02-08T00:02:34.451608200Z"
    }
   },
   "id": "fb19906623de33bb"
  },
  {
   "cell_type": "code",
   "execution_count": 25,
   "outputs": [
    {
     "name": "stdout",
     "output_type": "stream",
     "text": [
      "['GC_Content', 'CAI', 'A', 'R', 'N', 'D', 'C', 'Q', 'E', 'G', 'I', 'L', 'K', 'M', 'F', 'P', 'S', 'T', 'W', 'Y', 'V']\n"
     ]
    }
   ],
   "source": [
    "selector = SelectKBest(score_func=mutual_info_classif, k=21)\n",
    "all_feature_names = [\"GC_Content\",\"CAI\",\"A\",\"R\",\"N\",\"D\",\"C\",\"Q\",\"E\",\"G\",\"H\",\"I\",\"L\",\"K\",\"M\",\"F\",\"P\",\"S\",\"T\",\"W\",\"Y\",\"V\"]\n",
    "X_mutual=selector.fit_transform(Xs, y)\n",
    "cols_idxs = selector.get_support(indices=True)\n",
    "selected_features = [all_feature_names[i] for i in cols_idxs]\n",
    "print(selected_features)"
   ],
   "metadata": {
    "collapsed": false,
    "ExecuteTime": {
     "end_time": "2024-02-08T00:17:37.542557200Z",
     "start_time": "2024-02-08T00:17:37.060976500Z"
    }
   },
   "id": "89ba39267773cafe"
  },
  {
   "cell_type": "code",
   "execution_count": 26,
   "outputs": [
    {
     "name": "stdout",
     "output_type": "stream",
     "text": [
      "0.5036316720819569\n"
     ]
    }
   ],
   "source": [
    "selected_columns_mlp = ['GC_Content', 'CAI', 'A', 'R', 'N', 'D', 'C', 'Q', 'E', 'G', 'I', 'L', 'K', 'M', 'F', 'P', 'S', 'T', 'W', 'Y', 'V']\n",
    "Wrapper_score = cross_val_score(model_mlp,Xs[selected_columns_mlp],y,cv=5,scoring=scorer).mean()\n",
    "print(Wrapper_score)"
   ],
   "metadata": {
    "collapsed": false,
    "ExecuteTime": {
     "end_time": "2024-02-08T00:18:07.698736300Z",
     "start_time": "2024-02-08T00:17:46.234027200Z"
    }
   },
   "id": "ef04bc2e0175d711"
  },
  {
   "cell_type": "code",
   "execution_count": 27,
   "outputs": [
    {
     "name": "stdout",
     "output_type": "stream",
     "text": [
      "0.842198883054097\n"
     ]
    }
   ],
   "source": [
    "Wrapper_score = cross_val_score(model_mlp,Xs[selected_columns_mlp],y,cv=5,scoring='accuracy').mean()\n",
    "print(Wrapper_score)"
   ],
   "metadata": {
    "collapsed": false,
    "ExecuteTime": {
     "end_time": "2024-02-08T00:18:36.866134900Z",
     "start_time": "2024-02-08T00:18:16.681941Z"
    }
   },
   "id": "d96e7490a4512540"
  },
  {
   "cell_type": "code",
   "execution_count": 28,
   "outputs": [
    {
     "data": {
      "text/plain": "<Figure size 432x288 with 2 Axes>",
      "image/png": "[encoded data removed]"
     },
     "metadata": {
      "needs_background": "light"
     },
     "output_type": "display_data"
    }
   ],
   "source": [
    "from sklearn.metrics import ConfusionMatrixDisplay\n",
    "X_evl_test_mlp = np.array(Xs[selected_columns_mlp])\n",
    "y_evl_test = np.array(y)\n",
    "disp_mlp = ConfusionMatrixDisplay.from_estimator(model_mlp,X_evl_test_mlp,y_evl_test,cmap=plt.cm.Blues)"
   ],
   "metadata": {
    "collapsed": false,
    "ExecuteTime": {
     "end_time": "2024-02-08T00:18:42.641385800Z",
     "start_time": "2024-02-08T00:18:42.485116300Z"
    }
   },
   "id": "b20df66e68ec8a28"
  },
  {
   "cell_type": "code",
   "execution_count": 29,
   "outputs": [
    {
     "name": "stdout",
     "output_type": "stream",
     "text": [
      "Reject the null hypothesis: The distributions of xgboost and random forest are different.\n",
      "Reject the null hypothesis: The distributions of MLP and random forest are different.\n",
      "Reject the null hypothesis: The distributions of xgboost and MLP are different.\n"
     ]
    },
    {
     "name": "stderr",
     "output_type": "stream",
     "text": [
      "D:\\anaconda3\\lib\\site-packages\\sklearn\\base.py:458: UserWarning: X has feature names, but RandomForestClassifier was fitted without feature names\n",
      "  warnings.warn(\n",
      "D:\\anaconda3\\lib\\site-packages\\sklearn\\base.py:458: UserWarning: X has feature names, but MLPClassifier was fitted without feature names\n",
      "  warnings.warn(\n"
     ]
    }
   ],
   "source": [
    "from scipy.stats import ks_2samp\n",
    "\n",
    "selected_columns_mlp = ['GC_Content', 'CAI', 'A', 'R', 'D', 'C', 'Q', 'E', 'G', 'H', 'I', 'L', 'K', 'M', 'F', 'P', 'S', 'T', 'W', 'Y', 'V']\n",
    "model_rf_prediction = model_rf.predict(Xs[selected_columns_rf])\n",
    "model_xgb_prediction = model_xgb.predict(Xs[selected_columns_xgb])\n",
    "model_mlp_prediction = model_mlp.predict(Xs[selected_columns_mlp])\n",
    "\n",
    "statistic_xgb_rf, p_value_xgb_rf = ks_2samp(model_xgb_prediction, model_rf_prediction)\n",
    "statistic_mlp_rf, p_value_mlp_rf = ks_2samp(model_mlp_prediction, model_rf_prediction)\n",
    "statistic_xgb_mlp, p_value_xgb_mlp, = ks_2samp(model_xgb_prediction, model_mlp_prediction)\n",
    "\n",
    "if p_value_xgb_rf < 0.05:\n",
    "    print(\"Reject the null hypothesis: The distributions of xgboost and random forest are different.\")\n",
    "else:\n",
    "    print(\"Fail to reject the null hypothesis: The distributions of xgboost and random forest are the same.\")\n",
    "\n",
    "if p_value_mlp_rf < 0.05:\n",
    "    print(\"Reject the null hypothesis: The distributions of MLP and random forest are different.\")\n",
    "else:\n",
    "    print(\"Fail to reject the null hypothesis: The distributions of MLP and random forest are the same.\")\n",
    "    \n",
    "if p_value_xgb_mlp < 0.05:\n",
    "    print(\"Reject the null hypothesis: The distributions of xgboost and MLP are different.\")\n",
    "else:\n",
    "    print(\"Fail to reject the null hypothesis: The distributions of xgboost and MLP are the same.\")"
   ],
   "metadata": {
    "collapsed": false,
    "ExecuteTime": {
     "end_time": "2024-02-08T00:18:46.942676Z",
     "start_time": "2024-02-08T00:18:46.778569800Z"
    }
   },
   "id": "d401ddb5db01a53c"
  },
  {
   "cell_type": "code",
   "execution_count": 39,
   "outputs": [
    {
     "name": "stdout",
     "output_type": "stream",
     "text": [
      "4.653639073033953e-20 2.78936112692352e-91 5.860640213862523e-198\n"
     ]
    }
   ],
   "source": [
    "print(p_value_xgb_mlp,p_value_xgb_rf,p_value_mlp_rf)"
   ],
   "metadata": {
    "collapsed": false,
    "ExecuteTime": {
     "end_time": "2024-02-07T17:30:57.940044900Z",
     "start_time": "2024-02-07T17:30:57.904957300Z"
    }
   },
   "id": "9ba7d3f93f8718e1"
  },
  {
   "cell_type": "code",
   "execution_count": 40,
   "outputs": [
    {
     "data": {
      "text/plain": "<Figure size 432x288 with 2 Axes>",
      "image/png": "[encoded data removed]"
     },
     "metadata": {
      "needs_background": "light"
     },
     "output_type": "display_data"
    }
   ],
   "source": [
    "from sklearn.metrics import ConfusionMatrixDisplay\n",
    "X_evl_test_rf = np.array(Xs[selected_columns_rf])\n",
    "y_evl_test = np.array(y)\n",
    "disp = ConfusionMatrixDisplay.from_estimator(model_rf,X_evl_test_rf,y_evl_test,cmap=plt.cm.Blues)"
   ],
   "metadata": {
    "collapsed": false,
    "ExecuteTime": {
     "end_time": "2024-02-07T17:31:00.680495800Z",
     "start_time": "2024-02-07T17:31:00.437598100Z"
    }
   },
   "id": "91263d9b4ed28c9f"
  },
  {
   "cell_type": "code",
   "execution_count": 41,
   "outputs": [
    {
     "data": {
      "text/plain": "<Figure size 432x288 with 2 Axes>",
      "image/png": "[encoded data removed]"
     },
     "metadata": {
      "needs_background": "light"
     },
     "output_type": "display_data"
    }
   ],
   "source": [
    "X_evl_test_xgb = np.array(Xs[selected_columns_xgb])\n",
    "\n",
    "disp_xgb = ConfusionMatrixDisplay.from_estimator(model_xgb,X_evl_test_xgb,y_evl_test,cmap=plt.cm.Blues)"
   ],
   "metadata": {
    "collapsed": false,
    "ExecuteTime": {
     "end_time": "2024-02-07T17:31:03.342696300Z",
     "start_time": "2024-02-07T17:31:03.188897600Z"
    }
   },
   "id": "4e90667d678e10f1"
  },
  {
   "cell_type": "code",
   "execution_count": 42,
   "outputs": [
    {
     "data": {
      "text/plain": "<Figure size 432x288 with 2 Axes>",
      "image/png": "[encoded data removed]"
     },
     "metadata": {
      "needs_background": "light"
     },
     "output_type": "display_data"
    }
   ],
   "source": [
    "X_evl_test_mlp = np.array(Xs[selected_columns_mlp])\n",
    "\n",
    "disp_mlp = ConfusionMatrixDisplay.from_estimator(model_mlp,X_evl_test_mlp,y_evl_test,cmap=plt.cm.Blues)"
   ],
   "metadata": {
    "collapsed": false,
    "ExecuteTime": {
     "end_time": "2024-02-07T17:31:06.804429900Z",
     "start_time": "2024-02-07T17:31:06.670439500Z"
    }
   },
   "id": "2b5239f5e5fe8f8a"
  },
  {
   "cell_type": "code",
   "execution_count": 49,
   "outputs": [
    {
     "data": {
      "text/plain": "<Figure size 576x432 with 1 Axes>",
      "image/png": "[encoded data removed]"
     },
     "metadata": {
      "needs_background": "light"
     },
     "output_type": "display_data"
    }
   ],
   "source": [
    "from sklearn.metrics import roc_curve, roc_auc_score\n",
    "\n",
    "y_pred_xgb = model_xgb.predict_proba(X_evl_test_xgb)[:, 1]  \n",
    "y_pred_rf = model_rf.predict_proba(X_evl_test_rf)[:, 1]\n",
    "y_pred_mlp = model_mlp.predict(X_evl_test_mlp)\n",
    "\n",
    "# 计算 ROC 曲线的参数\n",
    "fpr_xgb, tpr_xgb, thresholds_xgb = roc_curve(y_evl_test, y_pred_xgb)\n",
    "fpr_rf, tpr_rf, thresholds_rf = roc_curve(y_evl_test, y_pred_rf)\n",
    "fpr_mlp, tpr_mlp, thresholds_mlp = roc_curve(y_evl_test, y_pred_mlp)\n",
    "\n",
    "# 计算 AUC 值\n",
    "auc_xgb = roc_auc_score(y_evl_test, y_pred_xgb)\n",
    "auc_rf = roc_auc_score(y_evl_test, y_pred_rf)\n",
    "auc_mlp = roc_auc_score(y_evl_test, y_pred_mlp)\n",
    "\n",
    "# 绘制 ROC 曲线\n",
    "plt.figure(figsize=(8, 6))\n",
    "plt.plot(fpr_xgb, tpr_xgb, label='XGBoost (AUC = %0.2f)' % auc_xgb)\n",
    "plt.plot(fpr_rf, tpr_rf, label='Random Forest (AUC = %0.2f)' % auc_rf)\n",
    "plt.plot(fpr_mlp, tpr_mlp, label='MLP (AUC = %0.2f)' % auc_mlp)\n",
    "plt.plot([0, 1], [0, 1], 'k--')\n",
    "plt.xlabel('False Positive Rate')\n",
    "plt.ylabel('True Positive Rate')\n",
    "plt.title('ROC Curve')\n",
    "plt.legend(loc='lower right')\n",
    "plt.grid()\n",
    "plt.show()"
   ],
   "metadata": {
    "collapsed": false,
    "ExecuteTime": {
     "end_time": "2024-02-04T18:59:29.983442100Z",
     "start_time": "2024-02-04T18:59:29.729805700Z"
    }
   },
   "id": "367feb2490fa22a7"
  },
  {
   "cell_type": "code",
   "execution_count": null,
   "outputs": [],
   "source": [],
   "metadata": {
    "collapsed": false,
    "ExecuteTime": {
     "start_time": "2024-01-30T16:22:06.612024200Z"
    }
   },
   "id": "e632599026527fd9"
  }
 ],
 "metadata": {
  "kernelspec": {
   "display_name": "Python 3",
   "language": "python",
   "name": "python3"
  },
  "language_info": {
   "codemirror_mode": {
    "name": "ipython",
    "version": 2
   },
   "file_extension": ".py",
   "mimetype": "text/x-python",
   "name": "python",
   "nbconvert_exporter": "python",
   "pygments_lexer": "ipython2",
   "version": "2.7.6"
  }
 },
 "nbformat": 4,
 "nbformat_minor": 5
}
