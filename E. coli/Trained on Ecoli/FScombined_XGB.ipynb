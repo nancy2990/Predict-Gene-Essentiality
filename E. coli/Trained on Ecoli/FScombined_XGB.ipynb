{
 "cells": [
  {
   "cell_type": "code",
   "execution_count": 1,
   "id": "initial_id",
   "metadata": {
    "collapsed": true,
    "ExecuteTime": {
     "end_time": "2024-03-25T14:19:06.163286300Z",
     "start_time": "2024-03-25T14:19:04.928475400Z"
    }
   },
   "outputs": [],
   "source": [
    "import pandas as pd\n",
    "from sklearn.metrics import make_scorer, balanced_accuracy_score\n",
    "from sklearn.model_selection import cross_val_score\n",
    "from sklearn.ensemble import RandomForestClassifier\n",
    "from hyperopt import hp\n",
    "import numpy as np\n",
    "from hyperopt import Trials, tpe, fmin\n",
    "import warnings\n",
    "from imblearn.under_sampling import RandomUnderSampler\n",
    "from sklearn.svm import SVC\n",
    "from sklearn.feature_selection import RFECV\n",
    "from sklearn.feature_selection import SelectKBest, mutual_info_classif\n",
    "from nbimporter import NotebookLoader\n",
    "\n",
    "warnings.filterwarnings(\"ignore\")"
   ]
  },
  {
   "cell_type": "code",
   "execution_count": 2,
   "outputs": [],
   "source": [
    "df = pd.read_csv(\"../code/output.csv\",index_col=False)"
   ],
   "metadata": {
    "collapsed": false,
    "ExecuteTime": {
     "end_time": "2024-03-25T14:19:09.500521600Z",
     "start_time": "2024-03-25T14:19:09.376689500Z"
    }
   },
   "id": "51f1b65c4c7d0e2d"
  },
  {
   "cell_type": "code",
   "execution_count": 3,
   "outputs": [],
   "source": [
    "rus = RandomUnderSampler(sampling_strategy='auto', random_state=42)"
   ],
   "metadata": {
    "collapsed": false,
    "ExecuteTime": {
     "end_time": "2024-03-25T14:19:10.374636400Z",
     "start_time": "2024-03-25T14:19:10.349706400Z"
    }
   },
   "id": "1b6ba68f7118a51"
  },
  {
   "cell_type": "code",
   "execution_count": 4,
   "outputs": [],
   "source": [
    "selected_columns=[\"locus tag\",\"essential\",\"DNA\",\"protein sequence\"]\n",
    "Xs= df.drop(columns=selected_columns)\n",
    "y=df[\"essential\"]"
   ],
   "metadata": {
    "collapsed": false,
    "ExecuteTime": {
     "end_time": "2024-03-25T14:19:11.148391200Z",
     "start_time": "2024-03-25T14:19:11.126444300Z"
    }
   },
   "id": "e332a0a2bf7a739f"
  },
  {
   "cell_type": "code",
   "execution_count": 5,
   "outputs": [],
   "source": [
    "from sklearn.linear_model import LassoCV\n",
    "\n",
    "lassoCV = LassoCV(cv=20,random_state=10)\n",
    "all_feature_names = [\"GC_Content\",\"CAI\",\"A\",\"R\",\"N\",\"D\",\"C\",\"Q\",\"E\",\"G\",\"H\",\"I\",\"L\",\"K\",\"M\",\"F\",\"P\",\"S\",\"T\",\"W\",\"Y\",\"V\",\"nSE2\",\"nSE3\",\"nGE2\",\"nGE3\"]"
   ],
   "metadata": {
    "collapsed": false,
    "ExecuteTime": {
     "end_time": "2024-03-25T14:19:12.443631700Z",
     "start_time": "2024-03-25T14:19:12.431543500Z"
    }
   },
   "id": "d9658a1443eba766"
  },
  {
   "cell_type": "code",
   "execution_count": 7,
   "outputs": [],
   "source": [
    "space = {\n",
    "    'n_estimators': hp.quniform('n_estimators', 100, 1000, 100),  # 树的数量\n",
    "    'max_depth': hp.quniform('max_depth', 3, 10, 1),  # 每棵树的最大深度\n",
    "    'learning_rate': hp.loguniform('learning_rate', -3, 0),  # 学习率\n",
    "    'subsample': hp.uniform('subsample', 0.5, 1.0),  # 每棵树的样本采样比例\n",
    "    'colsample_bytree': hp.uniform('colsample_bytree', 0.5, 1.0),  # 每棵树的特征采样比例\n",
    "    'gamma': hp.loguniform('gamma', -3, 2),  # 节点分裂时损失函数减小值的最小值要求\n",
    "    'reg_alpha': hp.loguniform('reg_alpha', -3, 2),  # L1 正则化项系数\n",
    "    'reg_lambda': hp.loguniform('reg_lambda', -3, 2),  # L2 正则化项系数\n",
    "}"
   ],
   "metadata": {
    "collapsed": false,
    "ExecuteTime": {
     "end_time": "2024-03-13T12:02:36.619207400Z",
     "start_time": "2024-03-13T12:02:36.599087Z"
    }
   },
   "id": "22d663b303007756"
  },
  {
   "cell_type": "code",
   "execution_count": 8,
   "outputs": [],
   "source": [
    "from xgboost import XGBClassifier\n",
    "from sklearn.metrics import accuracy_score\n",
    "\n",
    "\n",
    "def xgb_ac_cv(params):\n",
    "    scorer = make_scorer(accuracy_score)\n",
    "    model = XGBClassifier(\n",
    "        n_estimators=int(params['n_estimators']),\n",
    "        max_depth=int(params['max_depth']),\n",
    "        learning_rate=params['learning_rate'],\n",
    "        subsample=params['subsample'],\n",
    "        colsample_bytree=params['colsample_bytree'],\n",
    "        gamma=params['gamma'],\n",
    "        reg_alpha=params['reg_alpha'],\n",
    "        reg_lambda=params['reg_lambda'],\n",
    "        objective='binary:logistic'  # 二分类问题\n",
    "    )\n",
    "    scorer = make_scorer(accuracy_score)\n",
    "    score = -cross_val_score(model, X_resampled, y_resampled, cv=5,scoring=scorer).mean()\n",
    "    return score"
   ],
   "metadata": {
    "collapsed": false,
    "ExecuteTime": {
     "end_time": "2024-03-13T12:02:43.770287Z",
     "start_time": "2024-03-13T12:02:43.691655200Z"
    }
   },
   "id": "c7ff8a5d6e235794"
  },
  {
   "cell_type": "code",
   "execution_count": 9,
   "outputs": [
    {
     "name": "stdout",
     "output_type": "stream",
     "text": [
      "['CAI', 'D', 'E', 'H', 'I', 'F', 'P', 'T', 'W', 'V', 'nSE3']\n",
      "100%|██████████| 50/50 [00:50<00:00,  1.01s/trial, best loss: -0.6577717879604672]\n",
      "0.6304347826086957\n",
      "['GC_Content', 'CAI', 'E', 'S']\n",
      "100%|██████████| 50/50 [01:18<00:00,  1.58s/trial, best loss: -0.6209664209664209]\n",
      "0.6521739130434783\n",
      "['GC_Content', 'CAI', 'E', 'L', 'nSE3']\n",
      "100%|██████████| 50/50 [01:12<00:00,  1.45s/trial, best loss: -0.6150943396226415]\n",
      "0.6521739130434783\n",
      "['CAI']\n",
      "100%|██████████| 50/50 [01:13<00:00,  1.47s/trial, best loss: -0.6140341419586703]\n",
      "0.6473429951690821\n",
      "['CAI', 'F', 'nGE2']\n",
      "100%|██████████| 50/50 [01:00<00:00,  1.22s/trial, best loss: -0.658688127379716] \n",
      "0.6256038647342995\n",
      "['GC_Content', 'CAI', 'D', 'C', 'Q', 'H', 'L', 'F', 'V', 'nSE2']\n",
      "100%|██████████| 50/50 [01:11<00:00,  1.42s/trial, best loss: -0.6226371826371826]\n",
      "0.6763285024154589\n",
      "['CAI', 'nSE3']\n",
      "100%|██████████| 50/50 [01:19<00:00,  1.58s/trial, best loss: -0.6428304705003735]\n",
      "0.6473429951690821\n",
      "['GC_Content', 'A', 'R', 'D', 'E', 'G', 'H', 'I', 'F', 'P', 'T', 'nSE3']\n",
      "100%|██████████| 50/50 [01:07<00:00,  1.34s/trial, best loss: -0.6478706199460916]\n",
      "0.6038647342995169\n",
      "[]\n",
      "100%|██████████| 50/50 [01:44<00:00,  2.09s/trial, best loss: -0.6457322551662175]\n",
      "0.6545893719806763\n",
      "['CAI', 'E', 'H', 'I', 'K', 'F', 'P', 'T', 'V', 'nSE2', 'nSE3']\n",
      "100%|██████████| 50/50 [01:33<00:00,  1.88s/trial, best loss: -0.627026055705301] \n",
      "0.5932203389830508\n"
     ]
    }
   ],
   "source": [
    "from sklearn.model_selection import KFold\n",
    "from joblib import load\n",
    "from sklearn.feature_selection import RFE\n",
    "\n",
    "scores = []\n",
    "score = 0\n",
    "models = []\n",
    "model_xgb = load(\"../../model/XGB_model.joblib\")\n",
    "kf = KFold(n_splits=10, shuffle=True, random_state=42)\n",
    "features_xgb = []\n",
    "for train_index, test_index in kf.split(Xs):\n",
    "    X_train_fold, Xs_test = Xs.iloc[train_index], Xs.iloc[test_index]\n",
    "    y_train_fold, y_test = y.iloc[train_index], y.iloc[test_index]\n",
    "    X_resampled, y_resampled = rus.fit_resample(X_train_fold, y_train_fold)\n",
    "    rfe = RFE(model_xgb, n_features_to_select=20)\n",
    "    rfe.fit(X_resampled, y_resampled)\n",
    "    X_resampled = rfe.transform(X_resampled)  # For training data\n",
    "    Xs_test = rfe.transform(Xs_test)  # For testing data\n",
    "    lassoCV.fit(X_resampled,y_resampled)\n",
    "    lassoCV.fit(Xs_test,y_test)\n",
    "    selected_features_rfe = [all_feature_names[i] for i in range(len(all_feature_names)) if rfe.support_[i]]\n",
    "    features= [selected_features_rfe[i] for i, coef in enumerate(lassoCV.coef_) if coef != 0]\n",
    "    print(features)\n",
    "    trials = Trials()\n",
    "    best=fmin(fn=xgb_ac_cv, # function to optimize\n",
    "              space=space, \n",
    "              algo=tpe.suggest, # optimization algorithm, hyperotp will select its parameters automatically\n",
    "              max_evals=50, # maximum number of iterations\n",
    "              trials=trials, # logging\n",
    "              rstate=np.random.default_rng(42) # fixing random state for the reproducibility\n",
    "    )\n",
    "    \n",
    "    model = XGBClassifier(\n",
    "        n_estimators=int(best['n_estimators']),\n",
    "        max_depth=int(best['max_depth']),\n",
    "        learning_rate=best['learning_rate'],\n",
    "        subsample=best['subsample'],\n",
    "        colsample_bytree=best['colsample_bytree'],\n",
    "        gamma=best['gamma'],\n",
    "        reg_alpha=best['reg_alpha'],\n",
    "        reg_lambda=best['reg_lambda'],\n",
    "        objective='binary:logistic'  # 二分类问题\n",
    "    )\n",
    "    models.append(model)\n",
    "    model.fit(X_resampled,y_resampled)\n",
    "    tpe_test_score=accuracy_score(y_test, model.predict(Xs_test))\n",
    "    scores.append(tpe_test_score)\n",
    "    print(tpe_test_score)\n",
    "    if score < tpe_test_score:\n",
    "        score = tpe_test_score\n",
    "        best_model = model\n",
    "        features_xgb = features"
   ],
   "metadata": {
    "collapsed": false,
    "ExecuteTime": {
     "end_time": "2024-03-13T12:25:09.089886100Z",
     "start_time": "2024-03-13T12:12:09.000506400Z"
    }
   },
   "id": "a4984ad66d0e4611"
  },
  {
   "cell_type": "code",
   "execution_count": 10,
   "outputs": [
    {
     "name": "stdout",
     "output_type": "stream",
     "text": [
      "0.6763285024154589\n"
     ]
    }
   ],
   "source": [
    "print(score)"
   ],
   "metadata": {
    "collapsed": false,
    "ExecuteTime": {
     "end_time": "2024-03-13T12:25:22.078514Z",
     "start_time": "2024-03-13T12:25:22.057545900Z"
    }
   },
   "id": "e43a528bd5c9a2de"
  },
  {
   "cell_type": "code",
   "execution_count": 12,
   "outputs": [],
   "source": [
    "from sklearn.metrics import roc_auc_score, f1_score, precision_score, recall_score\n",
    "\n",
    "scores_xgb_ac = []\n",
    "scores_xgb_mcc = []\n",
    "scores_xgb_auc = []\n",
    "scores_xgb_f1 = []\n",
    "scores_xgb_precision = []\n",
    "scores_xgb_recall = []\n",
    "for train_index, test_index in kf.split(Xs):\n",
    "    X_train_fold, Xs_test = Xs.iloc[train_index], Xs.iloc[test_index]\n",
    "    y_train_fold, y_test = y.iloc[train_index], y.iloc[test_index]\n",
    "    X_resampled, y_resampled = rus.fit_resample(X_train_fold, y_train_fold)\n",
    "    best_model.fit(X_resampled[features_xgb],y_resampled)\n",
    "    y_predict = best_model.predict(Xs_test[features_xgb])\n",
    "    acc=accuracy_score(y_test, y_predict)\n",
    "    scores_xgb_ac.append(acc)\n",
    "    auc = roc_auc_score(y_test,y_predict)\n",
    "    scores_xgb_auc.append(auc)\n",
    "    f1 = f1_score(y_test,y_predict)\n",
    "    scores_xgb_f1.append(f1)\n",
    "    precision = precision_score(y_test,y_predict)\n",
    "    scores_xgb_precision.append(precision)\n",
    "    recall = recall_score(y_test,y_predict)\n",
    "    scores_xgb_recall.append(recall)"
   ],
   "metadata": {
    "collapsed": false,
    "ExecuteTime": {
     "end_time": "2024-03-13T12:36:43.140545400Z",
     "start_time": "2024-03-13T12:36:41.274966900Z"
    }
   },
   "id": "cbb97a35f680cd9f"
  },
  {
   "cell_type": "code",
   "execution_count": 14,
   "outputs": [],
   "source": [
    "def generateString(scores):\n",
    "    mean_score = round(np.mean(scores),4)\n",
    "    var_score = round(np.var(scores),4)\n",
    "    return f'{mean_score}±{var_score}'\n"
   ],
   "metadata": {
    "collapsed": false,
    "ExecuteTime": {
     "end_time": "2024-03-13T12:38:07.994234500Z",
     "start_time": "2024-03-13T12:38:07.959330200Z"
    }
   },
   "id": "f12db0311b232921"
  },
  {
   "cell_type": "code",
   "execution_count": 15,
   "outputs": [
    {
     "data": {
      "text/plain": "['../../model/XGB_model_Ecoli.joblib']"
     },
     "execution_count": 15,
     "metadata": {},
     "output_type": "execute_result"
    }
   ],
   "source": [
    "from joblib import dump\n",
    "\n",
    "dump(best_model, '../../model/XGB_model_Ecoli.joblib')"
   ],
   "metadata": {
    "collapsed": false,
    "ExecuteTime": {
     "end_time": "2024-03-13T12:38:26.058497200Z",
     "start_time": "2024-03-13T12:38:26.017186100Z"
    }
   },
   "id": "51884e5d0d475ce0"
  },
  {
   "cell_type": "code",
   "execution_count": 16,
   "outputs": [
    {
     "name": "stdout",
     "output_type": "stream",
     "text": [
      "100%|██████████| 50/50 [01:42<00:00,  2.05s/trial, best loss: -0.64062893081761]  \n",
      "0.6014492753623188\n",
      "100%|██████████| 50/50 [01:25<00:00,  1.70s/trial, best loss: -0.6172645372645371]\n",
      "0.6231884057971014\n",
      "100%|██████████| 50/50 [01:42<00:00,  2.06s/trial, best loss: -0.5792452830188679]\n",
      "0.6763285024154589\n",
      "100%|██████████| 50/50 [01:37<00:00,  1.94s/trial, best loss: -0.6196406109613657]\n",
      "0.5966183574879227\n",
      "100%|██████████| 50/50 [01:31<00:00,  1.82s/trial, best loss: -0.6623399100034615]\n",
      "0.6135265700483091\n",
      "100%|██████████| 50/50 [01:38<00:00,  1.97s/trial, best loss: -0.6172972972972973]\n",
      "0.6980676328502415\n",
      "100%|██████████| 50/50 [01:23<00:00,  1.68s/trial, best loss: -0.6335698282300224]\n",
      "0.6135265700483091\n",
      "100%|██████████| 50/50 [02:41<00:00,  3.23s/trial, best loss: -0.6346271338724169]\n",
      "0.5990338164251208\n",
      "100%|██████████| 50/50 [02:19<00:00,  2.78s/trial, best loss: -0.6382210242587602]\n",
      "0.6642512077294686\n",
      "100%|██████████| 50/50 [01:36<00:00,  1.93s/trial, best loss: -0.6193171608265947]\n",
      "0.5980629539951574\n"
     ]
    }
   ],
   "source": [
    "scores2 = []\n",
    "score = 0\n",
    "models = []\n",
    "kf = KFold(n_splits=10, shuffle=True, random_state=42)\n",
    "for train_index, test_index in kf.split(Xs):\n",
    "    X_train_fold, Xs_test = Xs.iloc[train_index], Xs.iloc[test_index]\n",
    "    y_train_fold, y_test = y.iloc[train_index], y.iloc[test_index]\n",
    "    X_resampled, y_resampled = rus.fit_resample(X_train_fold, y_train_fold)\n",
    "    trials = Trials()\n",
    "    best=fmin(fn=xgb_ac_cv, # function to optimize\n",
    "              space=space, \n",
    "              algo=tpe.suggest, # optimization algorithm, hyperotp will select its parameters automatically\n",
    "              max_evals=50, # maximum number of iterations\n",
    "              trials=trials, # logging\n",
    "              rstate=np.random.default_rng(42) # fixing random state for the reproducibility\n",
    "    )\n",
    "    \n",
    "    model = XGBClassifier(\n",
    "        n_estimators=int(best['n_estimators']),\n",
    "        max_depth=int(best['max_depth']),\n",
    "        learning_rate=best['learning_rate'],\n",
    "        subsample=best['subsample'],\n",
    "        colsample_bytree=best['colsample_bytree'],\n",
    "        gamma=best['gamma'],\n",
    "        reg_alpha=best['reg_alpha'],\n",
    "        reg_lambda=best['reg_lambda'],\n",
    "        objective='binary:logistic'\n",
    "    )\n",
    "    models.append(model)\n",
    "    model.fit(X_resampled,y_resampled)\n",
    "    tpe_test_score=accuracy_score(y_test, model.predict(Xs_test))\n",
    "    scores2.append(tpe_test_score)\n",
    "    print(tpe_test_score)\n",
    "    if score < tpe_test_score:\n",
    "        score = tpe_test_score\n",
    "        best_model2 = model"
   ],
   "metadata": {
    "collapsed": false,
    "ExecuteTime": {
     "end_time": "2024-03-13T13:14:04.122957600Z",
     "start_time": "2024-03-13T12:56:21.142740Z"
    }
   },
   "id": "4a82d07e82c412db"
  },
  {
   "cell_type": "code",
   "execution_count": 20,
   "outputs": [],
   "source": [
    "scores_xgb_ac2 = []\n",
    "scores_xgb_auc2 = []\n",
    "scores_xgb_f12 = []\n",
    "scores_xgb_precision2 = []\n",
    "scores_xgb_recall2 = []\n",
    "for train_index, test_index in kf.split(Xs):\n",
    "    X_train_fold, Xs_test = Xs.iloc[train_index], Xs.iloc[test_index]\n",
    "    y_train_fold, y_test = y.iloc[train_index], y.iloc[test_index]\n",
    "    X_resampled, y_resampled = rus.fit_resample(X_train_fold, y_train_fold)\n",
    "    best_model2.fit(X_resampled,y_resampled)\n",
    "    y_predict = best_model2.predict(Xs_test)\n",
    "    acc=accuracy_score(y_test, y_predict)\n",
    "    scores_xgb_ac2.append(acc)\n",
    "    auc = roc_auc_score(y_test,y_predict)\n",
    "    scores_xgb_auc2.append(auc)\n",
    "    f1 = f1_score(y_test,y_predict)\n",
    "    scores_xgb_f12.append(f1)\n",
    "    precision = precision_score(y_test,y_predict)\n",
    "    scores_xgb_precision2.append(precision)\n",
    "    recall = recall_score(y_test,y_predict)\n",
    "    scores_xgb_recall2.append(recall)"
   ],
   "metadata": {
    "collapsed": false,
    "ExecuteTime": {
     "end_time": "2024-03-13T13:17:44.979652200Z",
     "start_time": "2024-03-13T13:17:41.268265300Z"
    }
   },
   "id": "dc42bdc67795ae99"
  },
  {
   "cell_type": "code",
   "execution_count": 21,
   "outputs": [],
   "source": [
    "import csv\n",
    "with open('XGB.csv', 'w', newline='') as file:\n",
    "    writer = csv.writer(file)\n",
    "    writer.writerow(['Type','ACC','AUC','F1','Precision', 'Recall'])\n",
    "    writer.writerow(['XGB',generateString(scores_xgb_ac),generateString(scores_xgb_auc),generateString(scores_xgb_f1),generateString(scores_xgb_precision),generateString(scores_xgb_recall)])\n",
    "    writer.writerow(['XGB',generateString(scores_xgb_ac2),generateString(scores_xgb_auc2),generateString(scores_xgb_f12),generateString(scores_xgb_precision2),generateString(scores_xgb_recall2)])"
   ],
   "metadata": {
    "collapsed": false,
    "ExecuteTime": {
     "end_time": "2024-03-13T13:17:47.831505800Z",
     "start_time": "2024-03-13T13:17:47.805262200Z"
    }
   },
   "id": "c7a17df8046f1827"
  },
  {
   "cell_type": "code",
   "execution_count": 22,
   "outputs": [
    {
     "name": "stdout",
     "output_type": "stream",
     "text": [
      "['GC_Content', 'CAI', 'D', 'C', 'Q', 'H', 'L', 'F', 'V', 'nSE2']\n"
     ]
    }
   ],
   "source": [
    "print(features_xgb)"
   ],
   "metadata": {
    "collapsed": false,
    "ExecuteTime": {
     "end_time": "2024-03-13T13:18:16.127836200Z",
     "start_time": "2024-03-13T13:18:16.054977400Z"
    }
   },
   "id": "f96a099c7a6d6ba2"
  },
  {
   "cell_type": "code",
   "execution_count": 23,
   "outputs": [
    {
     "name": "stdout",
     "output_type": "stream",
     "text": [
      "0.6621545224907361\n"
     ]
    }
   ],
   "source": [
    "from scipy.stats import ks_2samp\n",
    "p_values = []\n",
    "for train_index, test_index in kf.split(Xs):\n",
    "    X_train_fold, Xs_test = Xs.iloc[train_index], Xs.iloc[test_index]\n",
    "    y_train_fold, y_test = y.iloc[train_index], y.iloc[test_index]\n",
    "    X_resampled, y_resampled = rus.fit_resample(X_train_fold, y_train_fold)\n",
    "    best_model.fit(X_resampled[features_xgb],y_resampled)\n",
    "    y_predict_fs = best_model.predict(Xs_test[features_xgb])\n",
    "    best_model2.fit(X_resampled,y_resampled)\n",
    "    y_predict = best_model2.predict(Xs_test)\n",
    "    ks_statistic, p_value = ks_2samp(y_predict_fs,y_predict)\n",
    "    p_values.append(p_value)\n",
    "print(np.mean(p_values))"
   ],
   "metadata": {
    "collapsed": false,
    "ExecuteTime": {
     "end_time": "2024-03-13T13:19:04.162303400Z",
     "start_time": "2024-03-13T13:18:58.047467800Z"
    }
   },
   "id": "b4b1bf695f0e4f63"
  },
  {
   "cell_type": "code",
   "execution_count": null,
   "outputs": [],
   "source": [],
   "metadata": {
    "collapsed": false
   },
   "id": "24df81923859d57"
  }
 ],
 "metadata": {
  "kernelspec": {
   "display_name": "Python 3",
   "language": "python",
   "name": "python3"
  },
  "language_info": {
   "codemirror_mode": {
    "name": "ipython",
    "version": 2
   },
   "file_extension": ".py",
   "mimetype": "text/x-python",
   "name": "python",
   "nbconvert_exporter": "python",
   "pygments_lexer": "ipython2",
   "version": "2.7.6"
  }
 },
 "nbformat": 4,
 "nbformat_minor": 5
}
