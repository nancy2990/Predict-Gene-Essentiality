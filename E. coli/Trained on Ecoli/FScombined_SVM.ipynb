{
 "cells": [
  {
   "cell_type": "code",
   "execution_count": 1,
   "id": "initial_id",
   "metadata": {
    "collapsed": true,
    "ExecuteTime": {
     "end_time": "2024-03-13T12:40:14.279396Z",
     "start_time": "2024-03-13T12:40:11.893753100Z"
    }
   },
   "outputs": [],
   "source": [
    "import pandas as pd\n",
    "from sklearn.metrics import make_scorer, balanced_accuracy_score\n",
    "from sklearn.model_selection import cross_val_score\n",
    "from sklearn.ensemble import RandomForestClassifier\n",
    "from hyperopt import hp\n",
    "import numpy as np\n",
    "from hyperopt import Trials, tpe, fmin\n",
    "import warnings\n",
    "from imblearn.under_sampling import RandomUnderSampler\n",
    "from sklearn.svm import SVC\n",
    "from sklearn.feature_selection import RFECV\n",
    "from sklearn.feature_selection import SelectKBest, mutual_info_classif\n",
    "from nbimporter import NotebookLoader\n",
    "\n",
    "warnings.filterwarnings(\"ignore\")"
   ]
  },
  {
   "cell_type": "code",
   "execution_count": 2,
   "outputs": [],
   "source": [
    "df = pd.read_csv(\"../code/output.csv\",index_col=False)"
   ],
   "metadata": {
    "collapsed": false,
    "ExecuteTime": {
     "end_time": "2024-03-13T12:40:21.931016Z",
     "start_time": "2024-03-13T12:40:21.839563600Z"
    }
   },
   "id": "51f1b65c4c7d0e2d"
  },
  {
   "cell_type": "code",
   "execution_count": 3,
   "outputs": [],
   "source": [
    "rus = RandomUnderSampler(sampling_strategy='auto', random_state=42)"
   ],
   "metadata": {
    "collapsed": false,
    "ExecuteTime": {
     "end_time": "2024-03-13T12:40:22.322682100Z",
     "start_time": "2024-03-13T12:40:22.306007400Z"
    }
   },
   "id": "1b6ba68f7118a51"
  },
  {
   "cell_type": "code",
   "execution_count": 4,
   "outputs": [],
   "source": [
    "selected_columns=[\"locus tag\",\"essential\",\"DNA\",\"protein sequence\"]\n",
    "Xs= df.drop(columns=selected_columns)\n",
    "y=df[\"essential\"]"
   ],
   "metadata": {
    "collapsed": false,
    "ExecuteTime": {
     "end_time": "2024-03-13T12:40:23.116616700Z",
     "start_time": "2024-03-13T12:40:23.093212Z"
    }
   },
   "id": "e332a0a2bf7a739f"
  },
  {
   "cell_type": "code",
   "execution_count": 5,
   "outputs": [],
   "source": [
    "from sklearn.linear_model import LassoCV\n",
    "\n",
    "lassoCV = LassoCV(cv=20,random_state=10)\n",
    "all_feature_names = [\"GC_Content\",\"CAI\",\"A\",\"R\",\"N\",\"D\",\"C\",\"Q\",\"E\",\"G\",\"H\",\"I\",\"L\",\"K\",\"M\",\"F\",\"P\",\"S\",\"T\",\"W\",\"Y\",\"V\",\"nSE2\",\"nSE3\",\"nGE2\",\"nGE3\"]"
   ],
   "metadata": {
    "collapsed": false,
    "ExecuteTime": {
     "end_time": "2024-03-13T12:40:24.843213700Z",
     "start_time": "2024-03-13T12:40:24.817249500Z"
    }
   },
   "id": "d9658a1443eba766"
  },
  {
   "cell_type": "code",
   "execution_count": 6,
   "outputs": [],
   "source": [
    "space = {\n",
    "    'C': hp.loguniform('C', -5, 2), \n",
    "    'degree': hp.quniform('degree', 2, 5, 1),\n",
    "    'gamma': hp.choice('gamma', ['auto', 'scale', hp.loguniform('gamma_val', -5, 2)])  \n",
    "}"
   ],
   "metadata": {
    "collapsed": false,
    "ExecuteTime": {
     "end_time": "2024-03-13T12:41:07.955359300Z",
     "start_time": "2024-03-13T12:41:07.931424300Z"
    }
   },
   "id": "22d663b303007756"
  },
  {
   "cell_type": "code",
   "execution_count": 7,
   "outputs": [],
   "source": [
    "from sklearn.metrics import accuracy_score\n",
    "\n",
    "def svm_ac_cv(params):\n",
    "    model = SVC(C = params[\"C\"],kernel =\"linear\", degree = int(params[\"degree\"]), gamma = params[\"gamma\"])\n",
    "    scorer = make_scorer(accuracy_score)\n",
    "    score = -cross_val_score(model, X_resampled, y_resampled, cv=5,scoring=scorer ).mean()\n",
    "    return score"
   ],
   "metadata": {
    "collapsed": false,
    "ExecuteTime": {
     "end_time": "2024-03-13T12:41:19.070513600Z",
     "start_time": "2024-03-13T12:41:19.051423600Z"
    }
   },
   "id": "c7ff8a5d6e235794"
  },
  {
   "cell_type": "code",
   "execution_count": 19,
   "outputs": [
    {
     "name": "stdout",
     "output_type": "stream",
     "text": [
      "['GC_Content', 'CAI', 'A', 'R', 'D', 'E', 'H', 'I', 'F', 'P', 'T', 'W', 'V', 'nSE3']\n",
      "100%|██████████| 50/50 [00:06<00:00,  8.09trial/s, best loss: -0.5779155435759209]\n",
      "0.6183574879227053\n",
      "['GC_Content', 'CAI']\n",
      "100%|██████████| 50/50 [00:06<00:00,  7.42trial/s, best loss: -0.5793447993447993]\n",
      "0.7294685990338164\n",
      "['CAI', 'A', 'E', 'G', 'I', 'L']\n",
      "100%|██████████| 50/50 [00:06<00:00,  7.70trial/s, best loss: -0.590566037735849] \n",
      "0.644927536231884\n",
      "['GC_Content', 'CAI', 'A', 'D', 'G', 'I', 'L', 'F', 'P', 'S', 'T', 'V']\n",
      "100%|██████████| 50/50 [00:06<00:00,  7.80trial/s, best loss: -0.5800359389038634]\n",
      "0.572463768115942\n",
      "['CAI', 'F', 'nSE2', 'nGE2']\n",
      "100%|██████████| 50/50 [00:06<00:00,  7.59trial/s, best loss: -0.5580996884735203]\n",
      "0.5483091787439613\n",
      "['CAI', 'D', 'C', 'Q', 'G', 'H', 'L', 'F', 'V', 'nSE2']\n",
      "100%|██████████| 50/50 [00:06<00:00,  7.63trial/s, best loss: -0.5704176904176904]\n",
      "0.34541062801932365\n",
      "['CAI', 'nSE3', 'nGE3']\n",
      "100%|██████████| 50/50 [00:06<00:00,  8.28trial/s, best loss: -0.6025578790141898]\n",
      "0.5893719806763285\n",
      "['GC_Content', 'A', 'R', 'D', 'Q', 'E', 'G', 'H', 'I', 'L', 'F', 'P', 'T', 'W', 'V', 'nGE3']\n",
      "100%|██████████| 50/50 [00:06<00:00,  8.28trial/s, best loss: -0.6004851752021562]\n",
      "0.5265700483091788\n",
      "[]\n",
      "100%|██████████| 50/50 [00:06<00:00,  7.89trial/s, best loss: -0.5853728661275831]\n",
      "0.5966183574879227\n",
      "['CAI', 'H', 'L', 'P', 'nSE2', 'nGE2']\n",
      "100%|██████████| 50/50 [00:06<00:00,  7.56trial/s, best loss: -0.5776999101527404]\n",
      "0.5956416464891041\n"
     ]
    }
   ],
   "source": [
    "from sklearn.model_selection import KFold\n",
    "from joblib import load\n",
    "from sklearn.feature_selection import RFE\n",
    "\n",
    "scores = []\n",
    "score = 0\n",
    "models = []\n",
    "model_svm =load(\"../../model/SVM_model.joblib\")\n",
    "kf = KFold(n_splits=10, shuffle=True, random_state=42)\n",
    "feature_svm = []\n",
    "for train_index, test_index in kf.split(Xs):\n",
    "    X_train_fold, Xs_test = Xs.iloc[train_index], Xs.iloc[test_index]\n",
    "    y_train_fold, y_test = y.iloc[train_index], y.iloc[test_index]\n",
    "    X_resampled, y_resampled = rus.fit_resample(X_train_fold, y_train_fold)\n",
    "    rfe = RFE(model_svm, n_features_to_select=20)\n",
    "    rfe.fit(X_resampled, y_resampled)\n",
    "    X_resampled = rfe.transform(X_resampled)  # For training data\n",
    "    Xs_test = rfe.transform(Xs_test)  # For testing data\n",
    "    lassoCV.fit(X_resampled,y_resampled)\n",
    "    lassoCV.fit(Xs_test,y_test)\n",
    "    selected_features_rfe = [all_feature_names[i] for i in range(len(all_feature_names)) if rfe.support_[i]]\n",
    "    features= [selected_features_rfe[i] for i, coef in enumerate(lassoCV.coef_) if coef != 0]\n",
    "    print(features)\n",
    "    trials = Trials()\n",
    "    params=fmin(fn=svm_ac_cv, # function to optimize\n",
    "              space=space, \n",
    "              algo=tpe.suggest, # optimization algorithm, hyperotp will select its parameters automatically\n",
    "              max_evals=50, # maximum number of iterations\n",
    "              trials=trials, # logging\n",
    "              rstate=np.random.default_rng(42) # fixing random state for the reproducibility\n",
    "    )\n",
    "    model = SVC(C = params[\"C\"],kernel =\"linear\", degree = int(params[\"degree\"]), gamma = params[\"gamma\"])\n",
    "    models.append(model)\n",
    "    model.fit(X_resampled,y_resampled)\n",
    "    tpe_test_score=accuracy_score(y_test, model.predict(Xs_test))\n",
    "    scores.append(tpe_test_score)\n",
    "    print(tpe_test_score)\n",
    "    if score < tpe_test_score:\n",
    "        score = tpe_test_score\n",
    "        best_model2 = model\n",
    "        feature_svm = features"
   ],
   "metadata": {
    "collapsed": false,
    "ExecuteTime": {
     "end_time": "2024-03-13T13:10:30.333268800Z",
     "start_time": "2024-03-13T13:09:09.668249800Z"
    }
   },
   "id": "a4984ad66d0e4611"
  },
  {
   "cell_type": "code",
   "execution_count": 12,
   "outputs": [
    {
     "name": "stdout",
     "output_type": "stream",
     "text": [
      "0.7294685990338164\n"
     ]
    }
   ],
   "source": [
    "print(score)"
   ],
   "metadata": {
    "collapsed": false,
    "ExecuteTime": {
     "end_time": "2024-03-13T12:44:04.586067600Z",
     "start_time": "2024-03-13T12:44:04.556047400Z"
    }
   },
   "id": "e43a528bd5c9a2de"
  },
  {
   "cell_type": "code",
   "execution_count": 13,
   "outputs": [
    {
     "name": "stdout",
     "output_type": "stream",
     "text": [
      "['GC_Content', 'CAI']\n"
     ]
    }
   ],
   "source": [
    "print(feature_svm)"
   ],
   "metadata": {
    "collapsed": false,
    "ExecuteTime": {
     "end_time": "2024-03-13T12:44:14.817630200Z",
     "start_time": "2024-03-13T12:44:14.798683300Z"
    }
   },
   "id": "4b48e81ca2b79011"
  },
  {
   "cell_type": "code",
   "execution_count": 15,
   "outputs": [],
   "source": [
    "from sklearn.metrics import roc_auc_score, f1_score, precision_score, recall_score\n",
    "\n",
    "scores_svm_ac = []\n",
    "scores_svm_mcc = []\n",
    "scores_svm_auc = []\n",
    "scores_svm_f1 = []\n",
    "scores_svm_precision = []\n",
    "scores_svm_recall = []\n",
    "for train_index, test_index in kf.split(Xs):\n",
    "    X_train_fold, Xs_test = Xs.iloc[train_index], Xs.iloc[test_index]\n",
    "    y_train_fold, y_test = y.iloc[train_index], y.iloc[test_index]\n",
    "    X_resampled, y_resampled = rus.fit_resample(X_train_fold, y_train_fold)\n",
    "    best_model.fit(X_resampled[feature_svm],y_resampled)\n",
    "    y_predict = best_model.predict(Xs_test[feature_svm])\n",
    "    acc=accuracy_score(y_test, y_predict)\n",
    "    scores_svm_ac.append(acc)\n",
    "    auc = roc_auc_score(y_test,y_predict)\n",
    "    scores_svm_auc.append(auc)\n",
    "    f1 = f1_score(y_test,y_predict)\n",
    "    scores_svm_f1.append(f1)\n",
    "    precision = precision_score(y_test,y_predict)\n",
    "    scores_svm_precision.append(precision)\n",
    "    recall = recall_score(y_test,y_predict)\n",
    "    scores_svm_recall.append(recall)"
   ],
   "metadata": {
    "collapsed": false,
    "ExecuteTime": {
     "end_time": "2024-03-13T12:46:16.386414Z",
     "start_time": "2024-03-13T12:46:16.078085100Z"
    }
   },
   "id": "5ec61b3c999b2bd3"
  },
  {
   "cell_type": "code",
   "execution_count": 13,
   "outputs": [
    {
     "data": {
      "text/plain": "['../../model/RF_model_Ecoli.joblib']"
     },
     "execution_count": 13,
     "metadata": {},
     "output_type": "execute_result"
    }
   ],
   "source": [
    "from joblib import dump\n",
    "\n",
    "dump(best_model, '../../model/SVM_model_Ecoli.joblib')"
   ],
   "metadata": {
    "collapsed": false,
    "ExecuteTime": {
     "end_time": "2024-03-13T12:38:35.254936500Z",
     "start_time": "2024-03-13T12:38:35.018412700Z"
    }
   },
   "id": "51884e5d0d475ce0"
  },
  {
   "cell_type": "code",
   "execution_count": 17,
   "outputs": [],
   "source": [
    "def generateString(scores):\n",
    "    mean_score = round(np.mean(scores),4)\n",
    "    var_score = round(np.var(scores),4)\n",
    "    return f'{mean_score}±{var_score}'\n"
   ],
   "metadata": {
    "collapsed": false,
    "ExecuteTime": {
     "end_time": "2024-03-13T12:46:26.590493500Z",
     "start_time": "2024-03-13T12:46:26.568854900Z"
    }
   },
   "id": "4a82d07e82c412db"
  },
  {
   "cell_type": "code",
   "execution_count": 18,
   "outputs": [
    {
     "name": "stdout",
     "output_type": "stream",
     "text": [
      "100%|██████████| 50/50 [00:03<00:00, 16.60trial/s, best loss: -0.5685175202156334]\n",
      "0.5700483091787439\n",
      "100%|██████████| 50/50 [00:03<00:00, 15.67trial/s, best loss: -0.5775102375102376]\n",
      "0.7342995169082126\n",
      "100%|██████████| 50/50 [00:02<00:00, 16.79trial/s, best loss: -0.5773584905660377]\n",
      "0.6473429951690821\n",
      "100%|██████████| 50/50 [00:02<00:00, 16.70trial/s, best loss: -0.585696316262354] \n",
      "0.572463768115942\n",
      "100%|██████████| 50/50 [00:03<00:00, 16.62trial/s, best loss: -0.548753894080997] \n",
      "0.5483091787439613\n",
      "100%|██████████| 50/50 [00:03<00:00, 15.78trial/s, best loss: -0.5613923013923013]\n",
      "0.642512077294686\n",
      "100%|██████████| 50/50 [00:02<00:00, 16.91trial/s, best loss: -0.5890589992531741]\n",
      "0.5531400966183575\n",
      "100%|██████████| 50/50 [00:03<00:00, 16.59trial/s, best loss: -0.6004672057502246]\n",
      "0.5217391304347826\n",
      "100%|██████████| 50/50 [00:02<00:00, 16.85trial/s, best loss: -0.5852470799640611]\n",
      "0.6400966183574879\n",
      "100%|██████████| 50/50 [00:03<00:00, 16.49trial/s, best loss: -0.5663432165318958]\n",
      "0.5883777239709443\n"
     ]
    }
   ],
   "source": [
    "scores = []\n",
    "score = 0\n",
    "models = []\n",
    "model_svm =load(\"../../model/SVM_model.joblib\")\n",
    "kf = KFold(n_splits=10, shuffle=True, random_state=42)\n",
    "feature_svm = []\n",
    "for train_index, test_index in kf.split(Xs):\n",
    "    X_train_fold, Xs_test = Xs.iloc[train_index], Xs.iloc[test_index]\n",
    "    y_train_fold, y_test = y.iloc[train_index], y.iloc[test_index]\n",
    "    X_resampled, y_resampled = rus.fit_resample(X_train_fold, y_train_fold)\n",
    "    trials = Trials()\n",
    "    params=fmin(fn=svm_ac_cv, # function to optimize\n",
    "              space=space, \n",
    "              algo=tpe.suggest, # optimization algorithm, hyperotp will select its parameters automatically\n",
    "              max_evals=50, # maximum number of iterations\n",
    "              trials=trials, # logging\n",
    "              rstate=np.random.default_rng(42) # fixing random state for the reproducibility\n",
    "    )\n",
    "    model = SVC(C = params[\"C\"],kernel =\"linear\", degree = int(params[\"degree\"]), gamma = params[\"gamma\"])\n",
    "    models.append(model)\n",
    "    model.fit(X_resampled,y_resampled)\n",
    "    tpe_test_score=accuracy_score(y_test, model.predict(Xs_test))\n",
    "    scores.append(tpe_test_score)\n",
    "    print(tpe_test_score)\n",
    "    if score < tpe_test_score:\n",
    "        score = tpe_test_score\n",
    "        best_model = model"
   ],
   "metadata": {
    "collapsed": false,
    "ExecuteTime": {
     "end_time": "2024-03-13T12:52:43.008395700Z",
     "start_time": "2024-03-13T12:52:12.422435300Z"
    }
   },
   "id": "574ac5c3d847b4cc"
  },
  {
   "cell_type": "code",
   "execution_count": 20,
   "outputs": [],
   "source": [
    "scores_svm_ac2 = []\n",
    "scores_svm_mcc2 = []\n",
    "scores_svm_auc2 = []\n",
    "scores_svm_f12 = []\n",
    "scores_svm_precision2 = []\n",
    "scores_svm_recall2 = []\n",
    "for train_index, test_index in kf.split(Xs):\n",
    "    X_train_fold, Xs_test = Xs.iloc[train_index], Xs.iloc[test_index]\n",
    "    y_train_fold, y_test = y.iloc[train_index], y.iloc[test_index]\n",
    "    X_resampled, y_resampled = rus.fit_resample(X_train_fold, y_train_fold)\n",
    "    best_model.fit(X_resampled[feature_svm],y_resampled)\n",
    "    y_predict = best_model.predict(Xs_test[feature_svm])\n",
    "    acc=accuracy_score(y_test, y_predict)\n",
    "    scores_svm_ac2.append(acc)\n",
    "    auc = roc_auc_score(y_test,y_predict)\n",
    "    scores_svm_auc2.append(auc)\n",
    "    f1 = f1_score(y_test,y_predict)\n",
    "    scores_svm_f12.append(f1)\n",
    "    precision = precision_score(y_test,y_predict)\n",
    "    scores_svm_precision2.append(precision)\n",
    "    recall = recall_score(y_test,y_predict)\n",
    "    scores_svm_recall2.append(recall)"
   ],
   "metadata": {
    "collapsed": false,
    "ExecuteTime": {
     "end_time": "2024-03-13T13:11:35.860751100Z",
     "start_time": "2024-03-13T13:11:34.965710800Z"
    }
   },
   "id": "f7d7e7a49f826c7"
  },
  {
   "cell_type": "code",
   "execution_count": 21,
   "outputs": [],
   "source": [
    "import csv\n",
    "with open('SVM.csv', 'w', newline='') as file:\n",
    "    writer = csv.writer(file)\n",
    "    writer.writerow(['Type','ACC','AUC','F1','Precision', 'Recall'])\n",
    "    writer.writerow(['SVM',generateString(scores_svm_ac),generateString(scores_svm_auc),generateString(scores_svm_f1),generateString(scores_svm_precision),generateString(scores_svm_recall)])\n",
    "    writer.writerow(['SVM',generateString(scores_svm_ac2),generateString(scores_svm_auc2),generateString(scores_svm_f12),generateString(scores_svm_precision2),generateString(scores_svm_recall2)])"
   ],
   "metadata": {
    "collapsed": false,
    "ExecuteTime": {
     "end_time": "2024-03-13T13:11:55.636231Z",
     "start_time": "2024-03-13T13:11:55.537717200Z"
    }
   },
   "id": "5c5b318e59827156"
  },
  {
   "cell_type": "code",
   "execution_count": 23,
   "outputs": [
    {
     "name": "stdout",
     "output_type": "stream",
     "text": [
      "0.09843263891125446\n"
     ]
    }
   ],
   "source": [
    "from scipy.stats import ks_2samp\n",
    "p_values = []\n",
    "features_svm = ['GC_Content', 'CAI']\n",
    "best_model2 = load('../../model/SVM_model_Ecoli.joblib')\n",
    "for train_index, test_index in kf.split(Xs):\n",
    "    X_train_fold, Xs_test = Xs.iloc[train_index], Xs.iloc[test_index]\n",
    "    y_train_fold, y_test = y.iloc[train_index], y.iloc[test_index]\n",
    "    X_resampled, y_resampled = rus.fit_resample(X_train_fold, y_train_fold)\n",
    "    best_model2.fit(X_resampled[features_svm],y_resampled)\n",
    "    y_predict_fs = best_model2.predict(Xs_test[features_svm])\n",
    "    best_model.fit(X_resampled,y_resampled)\n",
    "    y_predict = best_model.predict(Xs_test)\n",
    "    ks_statistic, p_value = ks_2samp(y_predict_fs,y_predict)\n",
    "    p_values.append(p_value)\n",
    "print(np.mean(p_values))"
   ],
   "metadata": {
    "collapsed": false,
    "ExecuteTime": {
     "end_time": "2024-03-13T13:17:20.277454500Z",
     "start_time": "2024-03-13T13:17:12.607639700Z"
    }
   },
   "id": "3baac15c773e8941"
  },
  {
   "cell_type": "code",
   "execution_count": null,
   "outputs": [],
   "source": [],
   "metadata": {
    "collapsed": false
   },
   "id": "b853917b7d282c13"
  }
 ],
 "metadata": {
  "kernelspec": {
   "display_name": "Python 3",
   "language": "python",
   "name": "python3"
  },
  "language_info": {
   "codemirror_mode": {
    "name": "ipython",
    "version": 2
   },
   "file_extension": ".py",
   "mimetype": "text/x-python",
   "name": "python",
   "nbconvert_exporter": "python",
   "pygments_lexer": "ipython2",
   "version": "2.7.6"
  }
 },
 "nbformat": 4,
 "nbformat_minor": 5
}
