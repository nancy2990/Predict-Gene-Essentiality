{
 "cells": [
  {
   "cell_type": "code",
   "execution_count": 1,
   "id": "initial_id",
   "metadata": {
    "collapsed": true,
    "ExecuteTime": {
     "end_time": "2024-03-13T12:14:42.295184500Z",
     "start_time": "2024-03-13T12:14:39.296056Z"
    }
   },
   "outputs": [],
   "source": [
    "import pandas as pd\n",
    "from sklearn.metrics import make_scorer, balanced_accuracy_score\n",
    "from sklearn.model_selection import cross_val_score\n",
    "from sklearn.ensemble import RandomForestClassifier\n",
    "from hyperopt import hp\n",
    "import numpy as np\n",
    "from hyperopt import Trials, tpe, fmin\n",
    "import warnings\n",
    "from imblearn.under_sampling import RandomUnderSampler\n",
    "from sklearn.svm import SVC\n",
    "from sklearn.feature_selection import RFECV\n",
    "from sklearn.feature_selection import SelectKBest, mutual_info_classif\n",
    "from nbimporter import NotebookLoader\n",
    "\n",
    "warnings.filterwarnings(\"ignore\")"
   ]
  },
  {
   "cell_type": "code",
   "execution_count": 2,
   "outputs": [],
   "source": [
    "df = pd.read_csv(\"../code/output.csv\",index_col=False)"
   ],
   "metadata": {
    "collapsed": false,
    "ExecuteTime": {
     "end_time": "2024-03-13T12:14:59.598111500Z",
     "start_time": "2024-03-13T12:14:59.412795200Z"
    }
   },
   "id": "51f1b65c4c7d0e2d"
  },
  {
   "cell_type": "code",
   "execution_count": 3,
   "outputs": [],
   "source": [
    "rus = RandomUnderSampler(sampling_strategy='auto', random_state=42)"
   ],
   "metadata": {
    "collapsed": false,
    "ExecuteTime": {
     "end_time": "2024-03-13T12:15:00.258897600Z",
     "start_time": "2024-03-13T12:15:00.226782900Z"
    }
   },
   "id": "1b6ba68f7118a51"
  },
  {
   "cell_type": "code",
   "execution_count": 4,
   "outputs": [],
   "source": [
    "selected_columns=[\"locus tag\",\"essential\",\"DNA\",\"protein sequence\"]\n",
    "Xs= df.drop(columns=selected_columns)\n",
    "y=df[\"essential\"]"
   ],
   "metadata": {
    "collapsed": false,
    "ExecuteTime": {
     "end_time": "2024-03-13T12:15:00.843098200Z",
     "start_time": "2024-03-13T12:15:00.823152100Z"
    }
   },
   "id": "e332a0a2bf7a739f"
  },
  {
   "cell_type": "code",
   "execution_count": 5,
   "outputs": [],
   "source": [
    "from sklearn.linear_model import LassoCV\n",
    "\n",
    "lassoCV = LassoCV(cv=20,random_state=10)\n",
    "all_feature_names = [\"GC_Content\",\"CAI\",\"A\",\"R\",\"N\",\"D\",\"C\",\"Q\",\"E\",\"G\",\"H\",\"I\",\"L\",\"K\",\"M\",\"F\",\"P\",\"S\",\"T\",\"W\",\"Y\",\"V\",\"nSE2\",\"nSE3\",\"nGE2\",\"nGE3\"]"
   ],
   "metadata": {
    "collapsed": false,
    "ExecuteTime": {
     "end_time": "2024-03-13T12:15:01.763030700Z",
     "start_time": "2024-03-13T12:15:01.736801Z"
    }
   },
   "id": "d9658a1443eba766"
  },
  {
   "cell_type": "code",
   "execution_count": 6,
   "outputs": [],
   "source": [
    "space = {\n",
    "    'n_estimators': hp.quniform('n_estimators', 50, 700, 1),\n",
    "    'max_depth': hp.quniform('max_depth', 3, 20, 1),\n",
    "    'min_samples_split': hp.uniform('min_samples_split', 0.1, 1),\n",
    "    'min_samples_leaf': hp.uniform('min_samples_leaf', 0.1, 0.5),\n",
    "}"
   ],
   "metadata": {
    "collapsed": false,
    "ExecuteTime": {
     "end_time": "2024-03-13T12:15:02.960596200Z",
     "start_time": "2024-03-13T12:15:02.941646400Z"
    }
   },
   "id": "22d663b303007756"
  },
  {
   "cell_type": "code",
   "execution_count": 7,
   "outputs": [],
   "source": [
    "from sklearn.metrics import accuracy_score\n",
    "\n",
    "def rf_ac_cv(params):\n",
    "    params = {\n",
    "    'n_estimators': int(params['n_estimators']), \n",
    "    'max_depth': int(params['max_depth']), \n",
    "    'min_samples_split': params['min_samples_split'],\n",
    "    'min_samples_leaf': params['min_samples_leaf']\n",
    "}\n",
    "    scorer = make_scorer(accuracy_score)\n",
    "    model = RandomForestClassifier(random_state=42, **params)\n",
    "    score = -cross_val_score(model, X_resampled, y_resampled, cv=5,scoring=scorer, ).mean()\n",
    "    return score"
   ],
   "metadata": {
    "collapsed": false,
    "ExecuteTime": {
     "end_time": "2024-03-13T12:15:18.003843100Z",
     "start_time": "2024-03-13T12:15:17.982291400Z"
    }
   },
   "id": "c7ff8a5d6e235794"
  },
  {
   "cell_type": "code",
   "execution_count": 9,
   "outputs": [
    {
     "name": "stdout",
     "output_type": "stream",
     "text": [
      "['GC_Content', 'CAI', 'N', 'D', 'C', 'E', 'G', 'H', 'I', 'K', 'F', 'P', 'S', 'T', 'W', 'Y', 'V', 'nGE3']\n",
      "100%|██████████| 20/20 [01:39<00:00,  4.99s/trial, best loss: -0.5614348832316433]\n",
      "0.6570048309178744\n",
      "['GC_Content', 'CAI']\n",
      "100%|██████████| 20/20 [01:30<00:00,  4.53s/trial, best loss: -0.5472650771388499]\n",
      "0.6111111111111112\n",
      "['CAI', 'D', 'C', 'G', 'H', 'I', 'F', 'T', 'nSE2']\n",
      "100%|██████████| 20/20 [00:55<00:00,  2.75s/trial, best loss: -0.57610101010101]  \n",
      "0.6256038647342995\n",
      "['GC_Content', 'CAI', 'R', 'D', 'E', 'G', 'H', 'I', 'L', 'F', 'P', 'T', 'V']\n",
      "100%|██████████| 20/20 [00:47<00:00,  2.38s/trial, best loss: -0.5197069597069597]\n",
      "0.5676328502415459\n",
      "['GC_Content', 'CAI', 'E', 'H', 'I', 'K', 'F', 'P', 'T', 'V', 'nSE2', 'nGE3']\n",
      "100%|██████████| 20/20 [00:43<00:00,  2.17s/trial, best loss: -0.5497896213183731]\n",
      "0.5804111245465539\n"
     ]
    }
   ],
   "source": [
    "from sklearn.model_selection import KFold\n",
    "from joblib import load\n",
    "from sklearn.feature_selection import RFE\n",
    "\n",
    "scores = []\n",
    "score = 0\n",
    "models = []\n",
    "model_rf = load(\"../../model/RF_model.joblib\")\n",
    "kf = KFold(n_splits=5, shuffle=True, random_state=42)\n",
    "features_rf = []\n",
    "for train_index, test_index in kf.split(Xs):\n",
    "    X_train_fold, Xs_test = Xs.iloc[train_index], Xs.iloc[test_index]\n",
    "    y_train_fold, y_test = y.iloc[train_index], y.iloc[test_index]\n",
    "    X_resampled, y_resampled = rus.fit_resample(X_train_fold, y_train_fold)\n",
    "    rfe = RFE(model_rf, n_features_to_select=20)\n",
    "    rfe.fit(X_resampled, y_resampled)\n",
    "    X_resampled = rfe.transform(X_resampled)  # For training data\n",
    "    Xs_test = rfe.transform(Xs_test)  # For testing data\n",
    "    lassoCV.fit(X_resampled,y_resampled)\n",
    "    lassoCV.fit(Xs_test,y_test)\n",
    "    selected_features_rfe = [all_feature_names[i] for i in range(len(all_feature_names)) if rfe.support_[i]]\n",
    "    features= [selected_features_rfe[i] for i, coef in enumerate(lassoCV.coef_) if coef != 0]\n",
    "    print(features)\n",
    "    trials = Trials()\n",
    "    best=fmin(fn=rf_ac_cv, # function to optimize\n",
    "              space=space, \n",
    "              algo=tpe.suggest, # optimization algorithm, hyperotp will select its parameters automatically\n",
    "              max_evals=20, # maximum number of iterations\n",
    "              trials=trials, # logging\n",
    "              rstate=np.random.default_rng(42) # fixing random state for the reproducibility\n",
    "    )\n",
    "    model = RandomForestClassifier(random_state=42, n_estimators=int(best['n_estimators']),max_depth=int(best['max_depth']),min_samples_split=best['min_samples_split'],min_samples_leaf=best['min_samples_leaf'])\n",
    "    models.append(model)\n",
    "    model.fit(X_resampled,y_resampled)\n",
    "    tpe_test_score=accuracy_score(y_test, model.predict(Xs_test))\n",
    "    scores.append(tpe_test_score)\n",
    "    print(tpe_test_score)\n",
    "    if score < tpe_test_score:\n",
    "        score = tpe_test_score\n",
    "        best_model = model\n",
    "        features_rf = features"
   ],
   "metadata": {
    "collapsed": false,
    "ExecuteTime": {
     "end_time": "2024-03-13T12:28:35.396160900Z",
     "start_time": "2024-03-13T12:21:34.403570Z"
    }
   },
   "id": "a4984ad66d0e4611"
  },
  {
   "cell_type": "code",
   "execution_count": 10,
   "outputs": [
    {
     "name": "stdout",
     "output_type": "stream",
     "text": [
      "0.6570048309178744\n"
     ]
    }
   ],
   "source": [
    "print(score)"
   ],
   "metadata": {
    "collapsed": false,
    "ExecuteTime": {
     "end_time": "2024-03-13T12:33:58.706031700Z",
     "start_time": "2024-03-13T12:33:58.684091700Z"
    }
   },
   "id": "e43a528bd5c9a2de"
  },
  {
   "cell_type": "code",
   "execution_count": 12,
   "outputs": [],
   "source": [
    "from sklearn.metrics import roc_auc_score, f1_score, precision_score, recall_score\n",
    "\n",
    "scores_rf_ac = []\n",
    "scores_rf_mcc= []\n",
    "scores_rf_f1 = []\n",
    "scores_rf_auc = []\n",
    "scores_rf_precision = []\n",
    "scores_rf_recall = []\n",
    "for train_index, test_index in kf.split(Xs):\n",
    "    X_train_fold, Xs_test = Xs.iloc[train_index], Xs.iloc[test_index]\n",
    "    y_train_fold, y_test = y.iloc[train_index], y.iloc[test_index]\n",
    "    X_resampled, y_resampled = rus.fit_resample(X_train_fold, y_train_fold)\n",
    "    best_model.fit(X_resampled[features_rf],y_resampled)\n",
    "    y_predict = best_model.predict(Xs_test[features_rf])\n",
    "    acc=accuracy_score(y_test, y_predict)\n",
    "    scores_rf_ac.append(acc)\n",
    "    auc = roc_auc_score(y_test,y_predict)\n",
    "    scores_rf_auc.append(auc)\n",
    "    f1 = f1_score(y_test,y_predict)\n",
    "    scores_rf_f1.append(f1)\n",
    "    precision = precision_score(y_test,y_predict)\n",
    "    scores_rf_precision.append(precision)\n",
    "    recall = recall_score(y_test,y_predict)\n",
    "    scores_rf_recall.append(recall)"
   ],
   "metadata": {
    "collapsed": false,
    "ExecuteTime": {
     "end_time": "2024-03-13T12:35:57.241979Z",
     "start_time": "2024-03-13T12:35:53.494769100Z"
    }
   },
   "id": "5ec61b3c999b2bd3"
  },
  {
   "cell_type": "code",
   "execution_count": 22,
   "outputs": [
    {
     "data": {
      "text/plain": "['../../model/RF_model_Ecoli.joblib']"
     },
     "execution_count": 22,
     "metadata": {},
     "output_type": "execute_result"
    }
   ],
   "source": [
    "from joblib import dump\n",
    "\n",
    "dump(best_model, '../../model/RF_model_Ecoli.joblib')"
   ],
   "metadata": {
    "collapsed": false,
    "ExecuteTime": {
     "end_time": "2024-03-13T13:30:18.023621400Z",
     "start_time": "2024-03-13T13:30:16.953356600Z"
    }
   },
   "id": "51884e5d0d475ce0"
  },
  {
   "cell_type": "code",
   "execution_count": 14,
   "outputs": [],
   "source": [
    "def generateString(scores):\n",
    "    mean_score = round(np.mean(scores),4)\n",
    "    var_score = round(np.var(scores),4)\n",
    "    return f'{mean_score}±{var_score}'\n"
   ],
   "metadata": {
    "collapsed": false,
    "ExecuteTime": {
     "end_time": "2024-03-13T12:39:07.792692200Z",
     "start_time": "2024-03-13T12:39:07.760451200Z"
    }
   },
   "id": "4a82d07e82c412db"
  },
  {
   "cell_type": "code",
   "execution_count": 15,
   "outputs": [
    {
     "name": "stdout",
     "output_type": "stream",
     "text": [
      "100%|██████████| 20/20 [00:42<00:00,  2.13s/trial, best loss: -0.547065011571639]\n",
      "0.607487922705314\n",
      "100%|██████████| 20/20 [00:44<00:00,  2.23s/trial, best loss: -0.553763440860215]\n",
      "0.6316425120772947\n",
      "100%|██████████| 20/20 [01:16<00:00,  3.83s/trial, best loss: -0.564141414141414]\n",
      "0.6002415458937198\n",
      "100%|██████████| 20/20 [01:17<00:00,  3.85s/trial, best loss: -0.5]              \n",
      "0.08333333333333333\n",
      "100%|██████████| 20/20 [01:20<00:00,  4.03s/trial, best loss: -0.5520102851799906]\n",
      "0.5731559854897219\n"
     ]
    }
   ],
   "source": [
    "scores = []\n",
    "score = 0\n",
    "models = []\n",
    "model_rf = load(\"../../model/RF_model.joblib\")\n",
    "kf = KFold(n_splits=5, shuffle=True, random_state=42)\n",
    "for train_index, test_index in kf.split(Xs):\n",
    "    X_train_fold, Xs_test = Xs.iloc[train_index], Xs.iloc[test_index]\n",
    "    y_train_fold, y_test = y.iloc[train_index], y.iloc[test_index]\n",
    "    X_resampled, y_resampled = rus.fit_resample(X_train_fold, y_train_fold)\n",
    "    trials = Trials()\n",
    "    best=fmin(fn=rf_ac_cv, # function to optimize\n",
    "              space=space, \n",
    "              algo=tpe.suggest, # optimization algorithm, hyperotp will select its parameters automatically\n",
    "              max_evals=20, # maximum number of iterations\n",
    "              trials=trials, # logging\n",
    "              rstate=np.random.default_rng(42) # fixing random state for the reproducibility\n",
    "    )\n",
    "    model = RandomForestClassifier(random_state=42, n_estimators=int(best['n_estimators']),max_depth=int(best['max_depth']),min_samples_split=best['min_samples_split'],min_samples_leaf=best['min_samples_leaf'])\n",
    "    models.append(model)\n",
    "    model.fit(X_resampled,y_resampled)\n",
    "    tpe_test_score=accuracy_score(y_test, model.predict(Xs_test))\n",
    "    scores.append(tpe_test_score)\n",
    "    print(tpe_test_score)\n",
    "    if score < tpe_test_score:\n",
    "        score = tpe_test_score\n",
    "        best_model2 = model"
   ],
   "metadata": {
    "collapsed": false,
    "ExecuteTime": {
     "end_time": "2024-03-13T13:00:15.433403600Z",
     "start_time": "2024-03-13T12:54:50.635807100Z"
    }
   },
   "id": "574ac5c3d847b4cc"
  },
  {
   "cell_type": "code",
   "execution_count": 18,
   "outputs": [],
   "source": [
    "scores_rf_ac2 = []\n",
    "scores_rf_f12 = []\n",
    "scores_rf_auc2 = []\n",
    "scores_rf_precision2 = []\n",
    "scores_rf_recall2 = []\n",
    "for train_index, test_index in kf.split(Xs):\n",
    "    X_train_fold, Xs_test = Xs.iloc[train_index], Xs.iloc[test_index]\n",
    "    y_train_fold, y_test = y.iloc[train_index], y.iloc[test_index]\n",
    "    X_resampled, y_resampled = rus.fit_resample(X_train_fold, y_train_fold)\n",
    "    best_model.fit(X_resampled,y_resampled)\n",
    "    y_predict = best_model.predict(Xs_test)\n",
    "    acc=accuracy_score(y_test, y_predict)\n",
    "    scores_rf_ac2.append(acc)\n",
    "    auc = roc_auc_score(y_test,y_predict)\n",
    "    scores_rf_auc2.append(auc)\n",
    "    f1 = f1_score(y_test,y_predict)\n",
    "    scores_rf_f12.append(f1)\n",
    "    precision = precision_score(y_test,y_predict)\n",
    "    scores_rf_precision2.append(precision)\n",
    "    recall = recall_score(y_test,y_predict)\n",
    "    scores_rf_recall2.append(recall)"
   ],
   "metadata": {
    "collapsed": false,
    "ExecuteTime": {
     "end_time": "2024-03-13T13:03:48.627287300Z",
     "start_time": "2024-03-13T13:03:40.576342800Z"
    }
   },
   "id": "885dc4faa6683bf5"
  },
  {
   "cell_type": "code",
   "execution_count": 19,
   "outputs": [],
   "source": [
    "import csv\n",
    "with open('RF.csv', 'w', newline='') as file:\n",
    "    writer = csv.writer(file)\n",
    "    writer.writerow(['Type','ACC','AUC','F1','Precision', 'Recall'])\n",
    "    writer.writerow(['FS',generateString(scores_rf_ac),generateString(scores_rf_auc),generateString(scores_rf_f1),generateString(scores_rf_precision),generateString(scores_rf_recall)])\n",
    "    writer.writerow(['RF',generateString(scores_rf_ac2),generateString(scores_rf_auc2),generateString(scores_rf_f12),generateString(scores_rf_precision2),generateString(scores_rf_recall2)])"
   ],
   "metadata": {
    "collapsed": false,
    "ExecuteTime": {
     "end_time": "2024-03-13T13:04:16.588317Z",
     "start_time": "2024-03-13T13:04:16.539911200Z"
    }
   },
   "id": "5f4d2af8eebee45b"
  },
  {
   "cell_type": "code",
   "execution_count": 21,
   "outputs": [
    {
     "name": "stdout",
     "output_type": "stream",
     "text": [
      "0.43123640308815697\n"
     ]
    }
   ],
   "source": [
    "from scipy.stats import ks_2samp\n",
    "p_values = []\n",
    "features_rf = ['GC_Content', 'CAI', 'N', 'D', 'C', 'E', 'G', 'H', 'I', 'K', 'F', 'P', 'S', 'T', 'W', 'Y', 'V', 'nGE3']\n",
    "for train_index, test_index in kf.split(Xs):\n",
    "    X_train_fold, Xs_test = Xs.iloc[train_index], Xs.iloc[test_index]\n",
    "    y_train_fold, y_test = y.iloc[train_index], y.iloc[test_index]\n",
    "    X_resampled, y_resampled = rus.fit_resample(X_train_fold, y_train_fold)\n",
    "    best_model.fit(X_resampled[features_rf],y_resampled)\n",
    "    y_predict_fs = best_model.predict(Xs_test[features_rf])\n",
    "    best_model2.fit(X_resampled,y_resampled)\n",
    "    y_predict = best_model2.predict(Xs_test)\n",
    "    ks_statistic, p_value = ks_2samp(y_predict_fs,y_predict)\n",
    "    p_values.append(p_value)\n",
    "print(np.mean(p_values))"
   ],
   "metadata": {
    "collapsed": false,
    "ExecuteTime": {
     "end_time": "2024-03-13T13:08:29.324675900Z",
     "start_time": "2024-03-13T13:08:12.861193100Z"
    }
   },
   "id": "25c978d765ca7089"
  },
  {
   "cell_type": "code",
   "execution_count": null,
   "outputs": [],
   "source": [],
   "metadata": {
    "collapsed": false
   },
   "id": "38053357382d3cf5"
  }
 ],
 "metadata": {
  "kernelspec": {
   "display_name": "Python 3",
   "language": "python",
   "name": "python3"
  },
  "language_info": {
   "codemirror_mode": {
    "name": "ipython",
    "version": 2
   },
   "file_extension": ".py",
   "mimetype": "text/x-python",
   "name": "python",
   "nbconvert_exporter": "python",
   "pygments_lexer": "ipython2",
   "version": "2.7.6"
  }
 },
 "nbformat": 4,
 "nbformat_minor": 5
}
