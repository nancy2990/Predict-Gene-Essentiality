{
 "cells": [
  {
   "cell_type": "code",
   "execution_count": 1,
   "id": "initial_id",
   "metadata": {
    "collapsed": true,
    "ExecuteTime": {
     "end_time": "2024-03-11T18:27:21.988883700Z",
     "start_time": "2024-03-11T18:27:19.812911300Z"
    }
   },
   "outputs": [],
   "source": [
    "import pandas as pd\n",
    "from sklearn.metrics import make_scorer, balanced_accuracy_score\n",
    "from sklearn.model_selection import cross_val_score\n",
    "from sklearn.ensemble import RandomForestClassifier\n",
    "from hyperopt import hp\n",
    "import numpy as np\n",
    "from hyperopt import Trials, tpe, fmin\n",
    "import warnings\n",
    "from imblearn.under_sampling import RandomUnderSampler\n",
    "from joblib import load\n",
    "import statistics\n",
    "from sklearn.metrics import accuracy_score, f1_score, roc_auc_score, matthews_corrcoef, precision_score, recall_score\n",
    "warnings.filterwarnings(\"ignore\")"
   ]
  },
  {
   "cell_type": "code",
   "execution_count": 2,
   "outputs": [],
   "source": [
    "df = pd.read_csv(\"output.csv\",index_col=False)"
   ],
   "metadata": {
    "collapsed": false,
    "ExecuteTime": {
     "end_time": "2024-03-11T18:29:02.969023300Z",
     "start_time": "2024-03-11T18:29:02.855447500Z"
    }
   },
   "id": "1b6ba68f7118a51"
  },
  {
   "cell_type": "code",
   "execution_count": 3,
   "outputs": [],
   "source": [
    "rus = RandomUnderSampler(sampling_strategy='auto', random_state=42)"
   ],
   "metadata": {
    "collapsed": false,
    "ExecuteTime": {
     "end_time": "2024-03-11T18:29:03.326903Z",
     "start_time": "2024-03-11T18:29:03.310935800Z"
    }
   },
   "id": "92f2bd53c65db613"
  },
  {
   "cell_type": "code",
   "execution_count": 4,
   "outputs": [],
   "source": [
    "selected_columns=[\"locus tag\",\"essential\",\"DNA\",\"protein sequence\"]\n",
    "Xs= df.drop(columns=selected_columns)\n",
    "y=df[\"essential\"]"
   ],
   "metadata": {
    "collapsed": false,
    "ExecuteTime": {
     "end_time": "2024-03-11T18:29:03.795600800Z",
     "start_time": "2024-03-11T18:29:03.784346400Z"
    }
   },
   "id": "4e75f9424709b179"
  },
  {
   "cell_type": "code",
   "execution_count": 5,
   "outputs": [],
   "source": [
    "from sklearn.model_selection import KFold\n",
    "\n",
    "model_rf_lassoRFE = load('../../model/RF_model_FSS.joblib')\n",
    "scores_fss_ac = []\n",
    "scores_fss_mcc= []\n",
    "scores_fss_f1 = []\n",
    "scores_fss_auc = []\n",
    "scores_fss_precision = []\n",
    "scores_fss_recall = []\n",
    "feature_rf = ['GC_Content', 'CAI', 'A', 'R', 'N', 'D', 'G', 'K', 'F', 'S', 'T', 'Y', 'V', 'nSE2', 'nSE3', 'nGE2', 'nGE3']\n",
    "kf = KFold(n_splits=10, shuffle=True, random_state=42)\n",
    "\n",
    "for train_index, test_index in kf.split(Xs):\n",
    "    X_train_fold, X_test_fold = Xs.iloc[train_index], Xs.iloc[test_index]\n",
    "    y_train_fold, y_test = y.iloc[train_index], y.iloc[test_index]\n",
    "    X_train_undersampled, y_train_undersampled = rus.fit_resample(X_train_fold, y_train_fold)\n",
    "    model_rf_lassoRFE.fit(X_train_undersampled[feature_rf], y_train_undersampled)\n",
    "    y_predict = model_rf_lassoRFE.predict(X_test_fold[feature_rf])\n",
    "    acc=accuracy_score(y_test, y_predict)\n",
    "    scores_fss_ac.append(acc)\n",
    "    mcc = matthews_corrcoef(y_test,y_predict)\n",
    "    scores_fss_mcc.append(mcc)\n",
    "    auc = roc_auc_score(y_test,y_predict)\n",
    "    scores_fss_auc.append(auc)\n",
    "    f1 = f1_score(y_test,y_predict)\n",
    "    scores_fss_f1.append(f1)\n",
    "    precision = precision_score(y_test,y_predict)\n",
    "    scores_fss_precision.append(precision)\n",
    "    recall = recall_score(y_test,y_predict)\n",
    "    scores_fss_recall.append(recall)"
   ],
   "metadata": {
    "collapsed": false,
    "ExecuteTime": {
     "end_time": "2024-03-11T18:29:10.690206Z",
     "start_time": "2024-03-11T18:29:04.242356900Z"
    }
   },
   "id": "3dddd9824af86e1c"
  },
  {
   "cell_type": "code",
   "execution_count": 6,
   "outputs": [
    {
     "name": "stdout",
     "output_type": "stream",
     "text": [
      "[0.5531400966183575, 0.6135265700483091, 0.6328502415458938, 0.5990338164251208, 0.5700483091787439, 0.5893719806763285, 0.5579710144927537, 0.48792270531400966, 0.5869565217391305, 0.5665859564164649]\n",
      "0.5757407212455112 0.001577578809343551\n"
     ]
    }
   ],
   "source": [
    "print(scores_fss_ac)\n",
    "print(statistics.mean(scores_fss_ac),statistics.variance(scores_fss_ac))"
   ],
   "metadata": {
    "collapsed": false,
    "ExecuteTime": {
     "end_time": "2024-03-11T18:29:14.164646900Z",
     "start_time": "2024-03-11T18:29:14.148365Z"
    }
   },
   "id": "74bce6cc10e475f3"
  },
  {
   "cell_type": "code",
   "execution_count": 7,
   "outputs": [],
   "source": [
    "model_xgb_nfs = load('../../model/XGB_model.joblib')\n",
    "scores_nfs_ac = []\n",
    "scores_nfs_mcc = []\n",
    "scores_nfs_auc = []\n",
    "scores_nfs_f1 = []\n",
    "scores_nfs_precision = []\n",
    "scores_nfs_recall = []\n",
    "for train_index, test_index in kf.split(Xs):\n",
    "    X_train_fold, X_test_fold = Xs.iloc[train_index], Xs.iloc[test_index]\n",
    "    y_train_fold, y_test = y.iloc[train_index], y.iloc[test_index]\n",
    "    X_train_undersampled, y_train_undersampled = rus.fit_resample(X_train_fold, y_train_fold)\n",
    "    model_xgb_nfs.fit(X_train_undersampled, y_train_undersampled)\n",
    "    y_predict = model_xgb_nfs.predict(X_test_fold)\n",
    "    acc=accuracy_score(y_test, y_predict)\n",
    "    scores_nfs_ac.append(acc)\n",
    "    mcc = matthews_corrcoef(y_test,y_predict)\n",
    "    scores_nfs_mcc.append(mcc)\n",
    "    auc = roc_auc_score(y_test,y_predict)\n",
    "    scores_nfs_auc.append(auc)\n",
    "    f1 = f1_score(y_test,y_predict)\n",
    "    scores_nfs_f1.append(f1)\n",
    "    precision = precision_score(y_test,y_predict)\n",
    "    scores_nfs_precision.append(precision)\n",
    "    recall = recall_score(y_test,y_predict)\n",
    "    scores_nfs_recall.append(recall)"
   ],
   "metadata": {
    "collapsed": false,
    "ExecuteTime": {
     "end_time": "2024-03-11T18:29:17.087905800Z",
     "start_time": "2024-03-11T18:29:14.570211200Z"
    }
   },
   "id": "2f48527b3c9c8ded"
  },
  {
   "cell_type": "code",
   "execution_count": 8,
   "outputs": [
    {
     "name": "stdout",
     "output_type": "stream",
     "text": [
      "[0.6545893719806763, 0.6714975845410628, 0.6618357487922706, 0.6183574879227053, 0.6183574879227053, 0.6884057971014492, 0.6280193236714976, 0.5869565217391305, 0.644927536231884, 0.6101694915254238]\n",
      "0.6383116351428806 0.0009782718516277624\n"
     ]
    }
   ],
   "source": [
    "print(scores_nfs_ac)\n",
    "print(statistics.mean(scores_nfs_ac),statistics.variance(scores_nfs_ac))"
   ],
   "metadata": {
    "collapsed": false,
    "ExecuteTime": {
     "end_time": "2024-03-11T18:29:17.883881100Z",
     "start_time": "2024-03-11T18:29:17.839961900Z"
    }
   },
   "id": "f1e2dacd62f78e1e"
  },
  {
   "cell_type": "code",
   "execution_count": 9,
   "outputs": [],
   "source": [
    "model_mlp_lasso = load('../../model/MLP_model_lasso.joblib')\n",
    "scores_lasso_ac = []\n",
    "scores_lasso_mcc = []\n",
    "scores_lasso_auc = []\n",
    "scores_lasso_f1 = []\n",
    "scores_lasso_precision = []\n",
    "scores_lasso_recall = []\n",
    "feature_lasso = ['GC_Content', 'CAI', 'A', 'N', 'H', 'nSE3', 'nGE3']\n",
    "for train_index, test_index in kf.split(Xs):\n",
    "    X_train_fold, X_test_fold = Xs.iloc[train_index], Xs.iloc[test_index]\n",
    "    y_train_fold, y_test = y.iloc[train_index], y.iloc[test_index]\n",
    "    X_train_undersampled, y_train_undersampled = rus.fit_resample(X_train_fold, y_train_fold)\n",
    "    model_mlp_lasso.fit(X_train_undersampled[feature_lasso], y_train_undersampled)\n",
    "    y_predict = model_mlp_lasso.predict(X_test_fold[feature_lasso])\n",
    "    acc=accuracy_score(y_test, y_predict)\n",
    "    scores_lasso_ac.append(acc)\n",
    "    mcc = matthews_corrcoef(y_test,y_predict)\n",
    "    scores_lasso_mcc.append(mcc)\n",
    "    auc = roc_auc_score(y_test,y_predict)\n",
    "    scores_lasso_auc.append(auc)\n",
    "    f1 = f1_score(y_test,y_predict)\n",
    "    scores_lasso_f1.append(f1)\n",
    "    precision = precision_score(y_test,y_predict)\n",
    "    scores_lasso_precision.append(precision)\n",
    "    recall = recall_score(y_test,y_predict)\n",
    "    scores_lasso_recall.append(recall)"
   ],
   "metadata": {
    "collapsed": false,
    "ExecuteTime": {
     "end_time": "2024-03-11T18:29:20.613150700Z",
     "start_time": "2024-03-11T18:29:18.205102500Z"
    }
   },
   "id": "732def30be9a9800"
  },
  {
   "cell_type": "code",
   "execution_count": 10,
   "outputs": [
    {
     "name": "stdout",
     "output_type": "stream",
     "text": [
      "[0.7101449275362319, 0.9178743961352657, 0.4057971014492754, 0.5289855072463768, 0.8719806763285024, 0.5144927536231884, 0.6256038647342995, 0.5096618357487923, 0.2463768115942029, 0.7481840193704601]\n",
      "0.6079101893766595 0.03924175320708645\n"
     ]
    }
   ],
   "source": [
    "print(scores_lasso_ac)\n",
    "print(np.mean(scores_lasso_ac),np.var(scores_lasso_ac))"
   ],
   "metadata": {
    "collapsed": false,
    "ExecuteTime": {
     "end_time": "2024-03-11T18:29:47.773067800Z",
     "start_time": "2024-03-11T18:29:47.728927Z"
    }
   },
   "id": "16914cddb07a87de"
  },
  {
   "cell_type": "code",
   "execution_count": 11,
   "outputs": [],
   "source": [
    "model_svm_rfe = load('../../model/SVM_model.joblib')\n",
    "scores_rfe_ac = []\n",
    "scores_rfe_mcc = []\n",
    "scores_rfe_auc = []\n",
    "scores_rfe_f1 = []\n",
    "scores_rfe_precision = []\n",
    "scores_rfe_recall = []\n",
    "feature_rfe = ['CAI', 'R', 'N', 'D', 'C', 'Q', 'G', 'H', 'F', 'P', 'T', 'Y', 'nSE2', 'nGE2']\n",
    "for train_index, test_index in kf.split(Xs):\n",
    "    X_train_fold, X_test_fold = Xs.iloc[train_index], Xs.iloc[test_index]\n",
    "    y_train_fold, y_test = y.iloc[train_index], y.iloc[test_index]\n",
    "    X_train_undersampled, y_train_undersampled = rus.fit_resample(X_train_fold, y_train_fold)\n",
    "    model_svm_rfe.fit(X_train_undersampled[feature_rfe], y_train_undersampled)\n",
    "    y_predict = model_svm_rfe.predict(X_test_fold[feature_rfe])\n",
    "    acc=accuracy_score(y_test, y_predict)\n",
    "    scores_rfe_ac.append(acc)\n",
    "    mcc = matthews_corrcoef(y_test,y_predict)\n",
    "    scores_rfe_mcc.append(mcc)\n",
    "    auc = roc_auc_score(y_test,y_predict)\n",
    "    scores_rfe_auc.append(auc)\n",
    "    f1 = f1_score(y_test,y_predict)\n",
    "    scores_rfe_f1.append(f1)\n",
    "    precision = precision_score(y_test,y_predict)\n",
    "    scores_rfe_precision.append(precision)\n",
    "    recall = recall_score(y_test,y_predict)\n",
    "    scores_rfe_recall.append(recall)"
   ],
   "metadata": {
    "collapsed": false,
    "ExecuteTime": {
     "end_time": "2024-03-11T18:29:48.591056600Z",
     "start_time": "2024-03-11T18:29:48.222743200Z"
    }
   },
   "id": "4182835c1fb06693"
  },
  {
   "cell_type": "code",
   "execution_count": 12,
   "outputs": [
    {
     "name": "stdout",
     "output_type": "stream",
     "text": [
      "[0.6207729468599034, 0.7028985507246377, 0.5507246376811594, 0.5458937198067633, 0.533816425120773, 0.5652173913043478, 0.5241545893719807, 0.4855072463768116, 0.5845410628019324, 0.6053268765133172]\n",
      "0.5718853446561626 0.0033189406249153667\n"
     ]
    }
   ],
   "source": [
    "print(scores_rfe_ac)\n",
    "print(np.mean(scores_rfe_ac),np.var(scores_rfe_ac))"
   ],
   "metadata": {
    "collapsed": false,
    "ExecuteTime": {
     "end_time": "2024-03-11T18:29:49.187626600Z",
     "start_time": "2024-03-11T18:29:49.157814300Z"
    }
   },
   "id": "269a33174feda568"
  },
  {
   "cell_type": "code",
   "execution_count": 13,
   "outputs": [],
   "source": [
    "import csv\n",
    "def generateString(scores):\n",
    "    mean_score = round(np.mean(scores),4)\n",
    "    var_score = round(np.var(scores),4)\n",
    "    return f'{mean_score}±{var_score}'\n",
    "with open('resultEcoli.csv', 'w', newline='') as file:\n",
    "    writer = csv.writer(file)\n",
    "    writer.writerow(['Type','ACC','MCC','AUC','F1','Precision', 'Recall'])\n",
    "    writer.writerow(['nFS',generateString(scores_nfs_ac),generateString(scores_nfs_mcc),generateString(scores_nfs_auc),generateString(scores_nfs_f1),generateString(scores_nfs_precision),generateString(scores_nfs_recall)])\n",
    "    writer.writerow(['Lasso',generateString(scores_lasso_ac),generateString(scores_lasso_mcc),generateString(scores_lasso_auc),generateString(scores_lasso_f1),generateString(scores_lasso_precision),generateString(scores_lasso_recall)])\n",
    "    writer.writerow(['RFE',generateString(scores_rfe_ac),generateString(scores_rfe_mcc),generateString(scores_rfe_auc),generateString(scores_rfe_f1),generateString(scores_rfe_precision),generateString(scores_rfe_recall)])\n",
    "    writer.writerow(['FSS',generateString(scores_fss_ac),generateString(scores_fss_mcc),generateString(scores_fss_auc),generateString(scores_fss_f1),generateString(scores_fss_precision),generateString(scores_fss_recall)])"
   ],
   "metadata": {
    "collapsed": false,
    "ExecuteTime": {
     "end_time": "2024-03-11T18:31:14.396981100Z",
     "start_time": "2024-03-11T18:31:14.354086700Z"
    }
   },
   "id": "b2de3d77d8600939"
  },
  {
   "cell_type": "code",
   "execution_count": null,
   "outputs": [],
   "source": [],
   "metadata": {
    "collapsed": false
   },
   "id": "6c78387cc3a4b998"
  }
 ],
 "metadata": {
  "kernelspec": {
   "display_name": "Python 3",
   "language": "python",
   "name": "python3"
  },
  "language_info": {
   "codemirror_mode": {
    "name": "ipython",
    "version": 2
   },
   "file_extension": ".py",
   "mimetype": "text/x-python",
   "name": "python",
   "nbconvert_exporter": "python",
   "pygments_lexer": "ipython2",
   "version": "2.7.6"
  }
 },
 "nbformat": 4,
 "nbformat_minor": 5
}
