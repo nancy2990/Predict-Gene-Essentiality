{
 "cells": [
  {
   "cell_type": "code",
   "execution_count": 3,
   "id": "initial_id",
   "metadata": {
    "collapsed": true,
    "ExecuteTime": {
     "end_time": "2024-03-03T20:39:40.330111Z",
     "start_time": "2024-03-03T20:39:40.312157300Z"
    }
   },
   "outputs": [],
   "source": [
    "import pandas as pd\n",
    "\n",
    "from hyperopt import hp\n",
    "import numpy as np\n",
    "from hyperopt import Trials, tpe, fmin\n",
    "from imblearn.under_sampling import RandomUnderSampler\n",
    "from matplotlib import pyplot as plt\n",
    "from sklearn.feature_selection import RFE\n",
    "from sklearn.model_selection import KFold\n",
    "\n",
    "from joblib import load\n",
    "from sklearn.metrics import accuracy_score"
   ]
  },
  {
   "cell_type": "code",
   "execution_count": 11,
   "outputs": [],
   "source": [
    "df = pd.read_csv(\"output.csv\",index_col=False)"
   ],
   "metadata": {
    "collapsed": false,
    "ExecuteTime": {
     "end_time": "2024-03-03T23:25:41.574577800Z",
     "start_time": "2024-03-03T23:25:41.489804900Z"
    }
   },
   "id": "8f4bed1a6bb7dfae"
  },
  {
   "cell_type": "code",
   "execution_count": 4,
   "outputs": [],
   "source": [
    "rus = RandomUnderSampler(sampling_strategy='auto', random_state=42)"
   ],
   "metadata": {
    "collapsed": false,
    "ExecuteTime": {
     "end_time": "2024-03-03T20:39:43.515209100Z",
     "start_time": "2024-03-03T20:39:43.500208800Z"
    }
   },
   "id": "25aeb6d58714abb1"
  },
  {
   "cell_type": "code",
   "execution_count": 12,
   "outputs": [],
   "source": [
    "selected_columns=[\"locus tag\",\"essential\",\"DNA\",\"protein sequence\"]\n",
    "Xs= df.drop(columns=selected_columns)\n",
    "y=df[\"essential\"]"
   ],
   "metadata": {
    "collapsed": false,
    "ExecuteTime": {
     "end_time": "2024-03-03T23:25:43.672152800Z",
     "start_time": "2024-03-03T23:25:43.658007700Z"
    }
   },
   "id": "7a5e2531f7b6097"
  },
  {
   "cell_type": "code",
   "execution_count": 8,
   "outputs": [],
   "source": [
    "model = load(\"../../model/RF_model.joblib\")"
   ],
   "metadata": {
    "collapsed": false,
    "ExecuteTime": {
     "end_time": "2024-03-03T23:24:19.517129900Z",
     "start_time": "2024-03-03T23:24:19.292966400Z"
    }
   },
   "id": "a31c930ca03bba3a"
  },
  {
   "cell_type": "code",
   "execution_count": 31,
   "outputs": [
    {
     "name": "stdout",
     "output_type": "stream",
     "text": [
      "0.6333333333333333\n",
      "0.5666666666666667\n",
      "0.6101694915254238\n",
      "0.6779661016949152\n",
      "0.6101694915254238\n",
      "0.6101694915254238\n",
      "0.6949152542372882\n",
      "0.6271186440677966\n",
      "0.6101694915254238\n",
      "0.5423728813559322\n"
     ]
    }
   ],
   "source": [
    "kf = KFold(n_splits=10, shuffle=True, random_state=42)\n",
    "accuracy_rf = []\n",
    "\n",
    "# 对每个折叠进行迭代\n",
    "for train_index, test_index in kf.split(Xs):\n",
    "    X_train_fold, X_test_fold = Xs.iloc[train_index], Xs.iloc[test_index]\n",
    "    y_train_fold, y_test_fold = y.iloc[train_index], y.iloc[test_index]\n",
    "    \n",
    "    # 对训练集进行下采样\n",
    "    X_train_undersampled, y_train_undersampled = rus.fit_resample(X_train_fold, y_train_fold)\n",
    "    \n",
    "    # 在下采样后的训练集上训练模型\n",
    "    model.fit(X_train_undersampled, y_train_undersampled)\n",
    "    \n",
    "    # 在测试集上进行预测\n",
    "    y_pred_fold = model.predict(X_test_fold)\n",
    "    \n",
    "    accuracy_fold = accuracy_score(y_test_fold, y_pred_fold)\n",
    "    print(accuracy_fold)\n",
    "    \n",
    "    # 存储当前折叠的准确率\n",
    "    accuracy_rf.append(accuracy_fold)"
   ],
   "metadata": {
    "collapsed": false,
    "ExecuteTime": {
     "end_time": "2024-03-03T23:50:06.008891300Z",
     "start_time": "2024-03-03T23:49:51.165361700Z"
    }
   },
   "id": "2809155894c0d944"
  },
  {
   "cell_type": "code",
   "execution_count": 18,
   "outputs": [],
   "source": [
    "model_rf_fs = load(\"../../model/RF_FS_model.joblib\")"
   ],
   "metadata": {
    "collapsed": false,
    "ExecuteTime": {
     "end_time": "2024-03-03T23:36:20.146645100Z",
     "start_time": "2024-03-03T23:36:20.002986100Z"
    }
   },
   "id": "f6b735fae782259"
  },
  {
   "cell_type": "code",
   "execution_count": 32,
   "outputs": [
    {
     "name": "stdout",
     "output_type": "stream",
     "text": [
      "0.43333333333333335\n",
      "0.5666666666666667\n",
      "0.5254237288135594\n",
      "0.6271186440677966\n",
      "0.559322033898305\n",
      "0.5254237288135594\n",
      "0.3728813559322034\n",
      "0.5084745762711864\n",
      "0.5254237288135594\n",
      "0.4915254237288136\n"
     ]
    }
   ],
   "source": [
    "from sklearn.feature_selection import RFE\n",
    "accuracy_rf_fs = []\n",
    "for train_index, test_index in kf.split(Xs):\n",
    "    X_train_fold, X_test_fold = Xs.iloc[train_index], Xs.iloc[test_index]\n",
    "    y_train_fold, y_test_fold = y.iloc[train_index], y.iloc[test_index]\n",
    "    \n",
    "    X_train_undersampled, y_train_undersampled = rus.fit_resample(X_train_fold, y_train_fold)\n",
    "    rfe = RFE(model_rf_fs, n_features_to_select=9)\n",
    "    X_selected = rfe.fit_transform(X_train_undersampled, y_train_undersampled)\n",
    "    model_rf_fs.fit(X_selected,y_train_undersampled)\n",
    "    X_test = rfe.fit_transform(X_test_fold,y_test_fold)\n",
    "    y_pred_fold = model_rf_fs.predict(X_test)\n",
    "    \n",
    "    accuracy_fold = accuracy_score(y_test_fold, y_pred_fold)\n",
    "    print(accuracy_fold)\n",
    "    \n",
    "    # 存储当前折叠的准确率\n",
    "    accuracy_rf_fs.append(accuracy_fold)"
   ],
   "metadata": {
    "collapsed": false,
    "ExecuteTime": {
     "end_time": "2024-03-03T23:54:22.599429700Z",
     "start_time": "2024-03-03T23:50:20.895227600Z"
    }
   },
   "id": "a51990b18b7c6556"
  },
  {
   "cell_type": "code",
   "execution_count": 33,
   "outputs": [
    {
     "name": "stdout",
     "output_type": "stream",
     "text": [
      "0.6\n",
      "0.6166666666666667\n",
      "0.559322033898305\n",
      "0.6101694915254238\n",
      "0.6271186440677966\n",
      "0.6440677966101694\n",
      "0.6610169491525424\n",
      "0.6610169491525424\n",
      "0.559322033898305\n",
      "0.5932203389830508\n"
     ]
    }
   ],
   "source": [
    "model_xgb = load(\"../../model/XGB_model.joblib\")\n",
    "accuracy_xgb = []\n",
    "for train_index, test_index in kf.split(Xs):\n",
    "    X_train_fold, X_test_fold = Xs.iloc[train_index], Xs.iloc[test_index]\n",
    "    y_train_fold, y_test_fold = y.iloc[train_index], y.iloc[test_index]\n",
    "    \n",
    "    X_train_undersampled, y_train_undersampled = rus.fit_resample(X_train_fold, y_train_fold)\n",
    "    \n",
    "    model_xgb.fit(X_train_undersampled, y_train_undersampled)\n",
    "    \n",
    "    # 在测试集上进行预测\n",
    "    y_pred_fold = model_xgb.predict(X_test_fold)\n",
    "    \n",
    "    accuracy_fold = accuracy_score(y_test_fold, y_pred_fold)\n",
    "    print(accuracy_fold)\n",
    "    \n",
    "    # 存储当前折叠的准确率\n",
    "    accuracy_xgb.append(accuracy_fold)"
   ],
   "metadata": {
    "collapsed": false,
    "ExecuteTime": {
     "end_time": "2024-03-03T23:54:29.329428700Z",
     "start_time": "2024-03-03T23:54:26.461102800Z"
    }
   },
   "id": "d66ed93d0661144d"
  },
  {
   "cell_type": "code",
   "execution_count": 34,
   "outputs": [
    {
     "name": "stdout",
     "output_type": "stream",
     "text": [
      "0.4666666666666667\n",
      "0.5666666666666667\n",
      "0.5254237288135594\n",
      "0.4576271186440678\n",
      "0.5423728813559322\n",
      "0.4406779661016949\n",
      "0.559322033898305\n",
      "0.559322033898305\n",
      "0.576271186440678\n",
      "0.4745762711864407\n"
     ]
    }
   ],
   "source": [
    "model_xgb_fs = load(\"../../model/XGB_FS_model.joblib\")\n",
    "accuracy_xgb_fs = []\n",
    "for train_index, test_index in kf.split(Xs):\n",
    "    X_train_fold, X_test_fold = Xs.iloc[train_index], Xs.iloc[test_index]\n",
    "    y_train_fold, y_test_fold = y.iloc[train_index], y.iloc[test_index]\n",
    "    \n",
    "    X_train_undersampled, y_train_undersampled = rus.fit_resample(X_train_fold, y_train_fold)\n",
    "    rfe = RFE(model_xgb_fs, n_features_to_select=6)\n",
    "    X_selected = rfe.fit_transform(X_train_undersampled, y_train_undersampled)\n",
    "    model_xgb_fs.fit(X_selected,y_train_undersampled)\n",
    "    X_test = rfe.fit_transform(X_test_fold,y_test_fold)\n",
    "    y_pred_fold = model_xgb_fs.predict(X_test)\n",
    "    \n",
    "    accuracy_fold = accuracy_score(y_test_fold, y_pred_fold)\n",
    "    print(accuracy_fold)\n",
    "    \n",
    "    # 存储当前折叠的准确率\n",
    "    accuracy_xgb_fs.append(accuracy_fold)"
   ],
   "metadata": {
    "collapsed": false,
    "ExecuteTime": {
     "end_time": "2024-03-03T23:55:44.202049800Z",
     "start_time": "2024-03-03T23:54:42.131026900Z"
    }
   },
   "id": "a31e431b517a51a9"
  },
  {
   "cell_type": "code",
   "execution_count": 35,
   "outputs": [
    {
     "name": "stdout",
     "output_type": "stream",
     "text": [
      "0.6166666666666667\n",
      "0.45\n",
      "0.576271186440678\n",
      "0.576271186440678\n",
      "0.6271186440677966\n",
      "0.6440677966101694\n",
      "0.6610169491525424\n",
      "0.6779661016949152\n",
      "0.6101694915254238\n",
      "0.4915254237288136\n"
     ]
    }
   ],
   "source": [
    "model_mlp = load(\"../../model/MLP_model.joblib\")\n",
    "accuracy_mlp = []\n",
    "for train_index, test_index in kf.split(Xs):\n",
    "    X_train_fold, X_test_fold = Xs.iloc[train_index], Xs.iloc[test_index]\n",
    "    y_train_fold, y_test_fold = y.iloc[train_index], y.iloc[test_index]\n",
    "    \n",
    "    X_train_undersampled, y_train_undersampled = rus.fit_resample(X_train_fold, y_train_fold)\n",
    "    \n",
    "    model_mlp.fit(X_train_undersampled, y_train_undersampled)\n",
    "    \n",
    "    # 在测试集上进行预测\n",
    "    y_pred_fold = model_mlp.predict(X_test_fold)\n",
    "    \n",
    "    accuracy_fold = accuracy_score(y_test_fold, y_pred_fold)\n",
    "    print(accuracy_fold)\n",
    "    \n",
    "    # 存储当前折叠的准确率\n",
    "    accuracy_mlp.append(accuracy_fold)"
   ],
   "metadata": {
    "collapsed": false,
    "ExecuteTime": {
     "end_time": "2024-03-03T23:56:02.189417700Z",
     "start_time": "2024-03-03T23:55:53.283419700Z"
    }
   },
   "id": "7b6664eb4f52c3c2"
  },
  {
   "cell_type": "code",
   "execution_count": 36,
   "outputs": [
    {
     "name": "stdout",
     "output_type": "stream",
     "text": [
      "0.6\n",
      "0.5166666666666667\n",
      "0.559322033898305\n",
      "0.5932203389830508\n",
      "0.6440677966101694\n",
      "0.6271186440677966\n",
      "0.6949152542372882\n",
      "0.6271186440677966\n",
      "0.576271186440678\n",
      "0.5254237288135594\n"
     ]
    }
   ],
   "source": [
    "model_svm = load(\"../../model/SVM_model.joblib\")\n",
    "accuracy_svm = []\n",
    "for train_index, test_index in kf.split(Xs):\n",
    "    X_train_fold, X_test_fold = Xs.iloc[train_index], Xs.iloc[test_index]\n",
    "    y_train_fold, y_test_fold = y.iloc[train_index], y.iloc[test_index]\n",
    "    \n",
    "    X_train_undersampled, y_train_undersampled = rus.fit_resample(X_train_fold, y_train_fold)\n",
    "    \n",
    "    model_svm.fit(X_train_undersampled, y_train_undersampled)\n",
    "    \n",
    "    # 在测试集上进行预测\n",
    "    y_pred_fold = model_svm.predict(X_test_fold)\n",
    "    \n",
    "    accuracy_fold = accuracy_score(y_test_fold, y_pred_fold)\n",
    "    print(accuracy_fold)\n",
    "    \n",
    "    # 存储当前折叠的准确率\n",
    "    accuracy_svm.append(accuracy_fold)"
   ],
   "metadata": {
    "collapsed": false,
    "ExecuteTime": {
     "end_time": "2024-03-03T23:56:04.710207700Z",
     "start_time": "2024-03-03T23:56:04.513407400Z"
    }
   },
   "id": "b6dbc7e6e206a7f5"
  },
  {
   "cell_type": "code",
   "execution_count": 37,
   "outputs": [
    {
     "name": "stdout",
     "output_type": "stream",
     "text": [
      "0.5166666666666667\n",
      "0.55\n",
      "0.5423728813559322\n",
      "0.559322033898305\n",
      "0.576271186440678\n",
      "0.6271186440677966\n",
      "0.559322033898305\n",
      "0.559322033898305\n",
      "0.6271186440677966\n",
      "0.6271186440677966\n"
     ]
    }
   ],
   "source": [
    "model_nb = load(\"../../model/NB_model.joblib\")\n",
    "accuracy_nb = []\n",
    "for train_index, test_index in kf.split(Xs):\n",
    "    X_train_fold, X_test_fold = Xs.iloc[train_index], Xs.iloc[test_index]\n",
    "    y_train_fold, y_test_fold = y.iloc[train_index], y.iloc[test_index]\n",
    "    \n",
    "    X_train_undersampled, y_train_undersampled = rus.fit_resample(X_train_fold, y_train_fold)\n",
    "    \n",
    "    model_nb.fit(X_train_undersampled, y_train_undersampled)\n",
    "    \n",
    "    # 在测试集上进行预测\n",
    "    y_pred_fold = model_nb.predict(X_test_fold)\n",
    "    \n",
    "    accuracy_fold = accuracy_score(y_test_fold, y_pred_fold)\n",
    "    print(accuracy_fold)\n",
    "    \n",
    "    # 存储当前折叠的准确率\n",
    "    accuracy_nb.append(accuracy_fold)"
   ],
   "metadata": {
    "collapsed": false,
    "ExecuteTime": {
     "end_time": "2024-03-03T23:56:07.458128300Z",
     "start_time": "2024-03-03T23:56:07.346140900Z"
    }
   },
   "id": "8c52f367d8b6cc85"
  },
  {
   "cell_type": "code",
   "execution_count": 39,
   "outputs": [],
   "source": [
    "models = ['Random Forest', 'XGBoost', 'Naive Bayes', 'MLP', 'SVM']\n",
    "\n",
    "# 创建一个包含均值和方差的字典\n",
    "data = {\n",
    "    'Model': models,\n",
    "    'Mean Accuracy': [pd.Series(accuracy_rf).mean(), pd.Series(accuracy_xgb).mean(), pd.Series(accuracy_nb).mean(), pd.Series(accuracy_mlp).mean(), pd.Series(accuracy_svm).mean()],\n",
    "    'Variance': [pd.Series(accuracy_rf).var(), pd.Series(accuracy_xgb).var(), pd.Series(accuracy_nb).var(), pd.Series(accuracy_mlp).var(), pd.Series(accuracy_svm).var()]\n",
    "}\n",
    "\n",
    "# 创建DataFrame\n",
    "df = pd.DataFrame(data)\n",
    "\n",
    "# 将DataFrame写入CSV文件\n",
    "df.to_csv('model_accuracy.csv', index=False)"
   ],
   "metadata": {
    "collapsed": false,
    "ExecuteTime": {
     "end_time": "2024-03-03T23:56:45.569018800Z",
     "start_time": "2024-03-03T23:56:45.537104900Z"
    }
   },
   "id": "bcad0dfffd12e16d"
  },
  {
   "cell_type": "code",
   "execution_count": 43,
   "outputs": [],
   "source": [
    "models = ['Random Forest', 'XGBoost']\n",
    "\n",
    "# 创建一个包含均值和方差的字典\n",
    "data = {\n",
    "    'Model': models,\n",
    "    'Mean Accuracy': [pd.Series(accuracy_rf_fs).mean(), pd.Series(accuracy_xgb_fs).mean()],\n",
    "    'Variance': [pd.Series(accuracy_rf_fs).var(), pd.Series(accuracy_xgb_fs).var()]\n",
    "}\n",
    "\n",
    "# 创建DataFrame\n",
    "df = pd.DataFrame(data)\n",
    "\n",
    "# 将DataFrame写入CSV文件\n",
    "df.to_csv('model_fs_accuracy.csv', index=False)"
   ],
   "metadata": {
    "collapsed": false,
    "ExecuteTime": {
     "end_time": "2024-03-03T23:58:10.159828700Z",
     "start_time": "2024-03-03T23:58:10.134897200Z"
    }
   },
   "id": "b31e3a28aec21e76"
  },
  {
   "cell_type": "code",
   "execution_count": 41,
   "outputs": [
    {
     "data": {
      "text/plain": "<Figure size 432x288 with 1 Axes>",
      "image/png": "[encoded data removed]"
     },
     "metadata": {
      "needs_background": "light"
     },
     "output_type": "display_data"
    }
   ],
   "source": [
    "x = [f\"fold{i}\" for i in range(1, 11)]\n",
    "plt.plot(x, accuracy_xgb, label='XGBoost')\n",
    "plt.plot(x, accuracy_svm, label='SVM')\n",
    "plt.plot(x, accuracy_mlp, label='MLP')\n",
    "plt.plot(x, accuracy_nb, label='GaussianNB')\n",
    "plt.plot(x, accuracy_rf, label='Random Forest')\n",
    "\n",
    "# 添加图例\n",
    "plt.legend()\n",
    "\n",
    "# 添加标题和轴标签\n",
    "plt.title('Accuracy for E. coli')\n",
    "plt.xlabel('Test Dataset')\n",
    "plt.ylabel('Accuracy')\n",
    "plt.xticks(rotation=25)\n",
    "# 显示图形\n",
    "plt.grid(True)\n",
    "plt.savefig('E coli.jpg')\n",
    "plt.show()"
   ],
   "metadata": {
    "collapsed": false,
    "ExecuteTime": {
     "end_time": "2024-03-03T23:57:25.170879100Z",
     "start_time": "2024-03-03T23:57:24.884083300Z"
    }
   },
   "id": "344e0f2e1a9e0c28"
  },
  {
   "cell_type": "code",
   "execution_count": 42,
   "outputs": [
    {
     "data": {
      "text/plain": "<Figure size 432x288 with 1 Axes>",
      "image/png": "[encoded data removed]"
     },
     "metadata": {
      "needs_background": "light"
     },
     "output_type": "display_data"
    }
   ],
   "source": [
    "x = [f\"fold{i}\" for i in range(1, 11)]\n",
    "plt.plot(x, accuracy_xgb_fs, label='XGBoost')\n",
    "plt.plot(x, accuracy_rf_fs, label='Random Forest')\n",
    "\n",
    "# 添加图例\n",
    "plt.legend()\n",
    "\n",
    "# 添加标题和轴标签\n",
    "plt.title('Accuracy for E. coli after feature selection')\n",
    "plt.xlabel('Test Dataset')\n",
    "plt.ylabel('Accuracy')\n",
    "plt.xticks(rotation=25)\n",
    "# 显示图形\n",
    "plt.grid(True)\n",
    "plt.savefig('E coli_fs.jpg')\n",
    "plt.show()"
   ],
   "metadata": {
    "collapsed": false,
    "ExecuteTime": {
     "end_time": "2024-03-03T23:57:27.759855700Z",
     "start_time": "2024-03-03T23:57:27.569000500Z"
    }
   },
   "id": "c757cd28aad2a50a"
  },
  {
   "cell_type": "code",
   "execution_count": null,
   "outputs": [],
   "source": [],
   "metadata": {
    "collapsed": false
   },
   "id": "66ff4538a223215f"
  }
 ],
 "metadata": {
  "kernelspec": {
   "display_name": "Python 3",
   "language": "python",
   "name": "python3"
  },
  "language_info": {
   "codemirror_mode": {
    "name": "ipython",
    "version": 2
   },
   "file_extension": ".py",
   "mimetype": "text/x-python",
   "name": "python",
   "nbconvert_exporter": "python",
   "pygments_lexer": "ipython2",
   "version": "2.7.6"
  }
 },
 "nbformat": 4,
 "nbformat_minor": 5
}
