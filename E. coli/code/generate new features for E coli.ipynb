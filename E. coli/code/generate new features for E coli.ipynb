{
 "cells": [
  {
   "cell_type": "code",
   "execution_count": 3,
   "id": "initial_id",
   "metadata": {
    "collapsed": true,
    "ExecuteTime": {
     "end_time": "2024-03-03T16:34:14.397675900Z",
     "start_time": "2024-03-03T16:34:14.375737100Z"
    }
   },
   "outputs": [],
   "source": [
    "import pandas as pd\n",
    "from collections import Counter\n",
    "import math\n"
   ]
  },
  {
   "cell_type": "code",
   "execution_count": 17,
   "outputs": [],
   "source": [
    "df = pd.read_csv(\"../dataset/MG1655GC+CAI+Acimo.csv\")"
   ],
   "metadata": {
    "collapsed": false,
    "ExecuteTime": {
     "end_time": "2024-03-03T19:25:02.225422800Z",
     "start_time": "2024-03-03T19:25:02.145634300Z"
    }
   },
   "id": "3ef4f382bfc53dcd"
  },
  {
   "cell_type": "code",
   "execution_count": 4,
   "outputs": [],
   "source": [
    "def calculate_shannon_entropy(block, k):\n",
    "    # 将区段分割成长度为k的子序列\n",
    "    kmers = [block[i:i+k] for i in range(len(block) - k + 1)]\n",
    "    \n",
    "    # 统计每个子序列的出现次数\n",
    "    kmer_counts = Counter(kmers)\n",
    "    total_kmers = len(kmers)\n",
    "    \n",
    "    # 计算每个子序列的概率\n",
    "    probabilities = {kmer: count / total_kmers for kmer, count in kmer_counts.items()}\n",
    "    \n",
    "    # 计算Shannon熵\n",
    "    entropy = -sum(prob * math.log2(prob) for prob in probabilities.values())\n",
    "    \n",
    "    return entropy"
   ],
   "metadata": {
    "collapsed": false,
    "ExecuteTime": {
     "end_time": "2024-03-03T16:34:23.626416800Z",
     "start_time": "2024-03-03T16:34:23.598493400Z"
    }
   },
   "id": "97a9b31c5afb46d5"
  },
  {
   "cell_type": "code",
   "execution_count": 5,
   "outputs": [],
   "source": [
    "def calculate_gibbs_entropy(sequence, k):\n",
    "    kmer_counts = Counter(sequence[i:i+k] for i in range(len(sequence) - k + 1))\n",
    "    total_kmers = sum(kmer_counts.values())\n",
    "    probabilities = {kmer: count / total_kmers for kmer, count in kmer_counts.items()}\n",
    "    gibbs_entropy = -sum(prob * math.log2(prob) for prob in probabilities.values())\n",
    "    return gibbs_entropy"
   ],
   "metadata": {
    "collapsed": false,
    "ExecuteTime": {
     "end_time": "2024-03-03T16:34:51.702816800Z",
     "start_time": "2024-03-03T16:34:51.684866900Z"
    }
   },
   "id": "651984cf12fc09fd"
  },
  {
   "cell_type": "code",
   "execution_count": 18,
   "outputs": [],
   "source": [
    "df['nSE2'] = df['DNA'].apply(lambda x: calculate_shannon_entropy(x, 2))\n",
    "df['nSE3'] = df['DNA'].apply(lambda x: calculate_shannon_entropy(x, 3))\n",
    "df['nGE2'] = df['DNA'].apply(lambda x: calculate_gibbs_entropy(x,2))\n",
    "df['nGE3'] = df['DNA'].apply(lambda x: calculate_gibbs_entropy(x,3))"
   ],
   "metadata": {
    "collapsed": false,
    "ExecuteTime": {
     "end_time": "2024-03-03T19:25:10.484863200Z",
     "start_time": "2024-03-03T19:25:06.854580300Z"
    }
   },
   "id": "2807718c7b7a3a87"
  },
  {
   "cell_type": "code",
   "execution_count": 16,
   "outputs": [],
   "source": [
    "def min_max_normalize(column):\n",
    "    min_val = column.min()\n",
    "    max_val = column.max()\n",
    "    normalized_column = (column - min_val) / (max_val - min_val)\n",
    "    return normalized_column"
   ],
   "metadata": {
    "collapsed": false,
    "ExecuteTime": {
     "end_time": "2024-03-03T19:23:48.674472800Z",
     "start_time": "2024-03-03T19:23:48.652533600Z"
    }
   },
   "id": "764ab3dd31c7b02c"
  },
  {
   "cell_type": "code",
   "execution_count": 19,
   "outputs": [],
   "source": [
    "df['nSE2'] = min_max_normalize(df['nSE2'])\n",
    "df['nSE3'] = min_max_normalize(df['nSE3'])\n",
    "df['nGE2'] = min_max_normalize(df['nGE2'])\n",
    "df['nGE3'] = min_max_normalize(df['nGE3'])"
   ],
   "metadata": {
    "collapsed": false,
    "ExecuteTime": {
     "end_time": "2024-03-03T19:26:23.512705700Z",
     "start_time": "2024-03-03T19:26:23.479797600Z"
    }
   },
   "id": "48fac27aa84035ca"
  },
  {
   "cell_type": "code",
   "execution_count": 20,
   "outputs": [
    {
     "data": {
      "text/plain": "       locus tag  essential  \\\n0    190..255\\t0          0   \n1   337..2799\\t0          0   \n2  2801..3733\\t0          0   \n3  3734..5020\\t0          0   \n4  5234..5530\\t0          0   \n\n                                                 DNA  \\\n0  ATGAAACGCATTAGCACCACCATTACCACCACCATCACCATTACCA...   \n1  ATGCGAGTGTTGAAGTTCGGCGGTACATCAGTGGCAAATGCAGAAC...   \n2  ATGGTTAAAGTTTATGCCCCGGCTTCCAGTGCCAATATGAGCGTCG...   \n3  ATGAAACTCTACAATCTGAAAGATCACAACGAGCAGGTCAGCTTTG...   \n4  GTGAAAAAGATGCAATCTATCGTACTCGCACTTTCCCTGGTTCTGG...   \n\n                                    protein sequence  GC_Content       CAI  \\\n0                             MKRISTTITTTITITTGNGAG*    0.515152  0.693366   \n1  MRVLKFGGTSVANAERFLRVADILESNARQGQVATVLSAPAKITNH...    0.530654  0.572235   \n2  MVKVYAPASSANMSVGFDVLGAAVTPVDGALLGDVVTVEAAETFSL...    0.562701  0.583953   \n3  MKLYNLKDHNEQVSFAQAVTQGLGKNQGLFFPHDLPEFSLTEIDEM...    0.528361  0.606598   \n4  VKKMQSIVLALSLVLVAPMAAQAAEITLVPSVKLQIGDRDNRGYYW...    0.538721  0.524738   \n\n          A         R         N         D  ...         P         S         T  \\\n0  0.045455  0.045455  0.045455  0.000000  ...  0.000000  0.045455  0.363636   \n1  0.110840  0.056029  0.046285  0.053593  ...  0.035323  0.062119  0.041413   \n2  0.118971  0.054662  0.038585  0.041801  ...  0.051447  0.054662  0.028939   \n3  0.109557  0.039627  0.044289  0.055944  ...  0.053613  0.044289  0.053613   \n4  0.070707  0.070707  0.020202  0.050505  ...  0.090909  0.030303  0.010101   \n\n          W         Y         V      nSE2      nSE3      nGE2      nGE3  \n0  0.000000  0.000000  0.000000  0.708253  0.271873  0.708253  0.271873  \n1  0.004872  0.024361  0.084044  0.970596  0.969793  0.970596  0.969793  \n2  0.012862  0.025723  0.073955  0.956975  0.954594  0.956975  0.954594  \n3  0.006993  0.020979  0.062937  0.960312  0.955490  0.960312  0.955490  \n4  0.060606  0.030303  0.060606  0.959403  0.901987  0.959403  0.901987  \n\n[5 rows x 30 columns]",
      "text/html": "<div>\n<style scoped>\n    .dataframe tbody tr th:only-of-type {\n        vertical-align: middle;\n    }\n\n    .dataframe tbody tr th {\n        vertical-align: top;\n    }\n\n    .dataframe thead th {\n        text-align: right;\n    }\n</style>\n<table border=\"1\" class=\"dataframe\">\n  <thead>\n    <tr style=\"text-align: right;\">\n      <th></th>\n      <th>locus tag</th>\n      <th>essential</th>\n      <th>DNA</th>\n      <th>protein sequence</th>\n      <th>GC_Content</th>\n      <th>CAI</th>\n      <th>A</th>\n      <th>R</th>\n      <th>N</th>\n      <th>D</th>\n      <th>...</th>\n      <th>P</th>\n      <th>S</th>\n      <th>T</th>\n      <th>W</th>\n      <th>Y</th>\n      <th>V</th>\n      <th>nSE2</th>\n      <th>nSE3</th>\n      <th>nGE2</th>\n      <th>nGE3</th>\n    </tr>\n  </thead>\n  <tbody>\n    <tr>\n      <th>0</th>\n      <td>190..255\\t0</td>\n      <td>0</td>\n      <td>ATGAAACGCATTAGCACCACCATTACCACCACCATCACCATTACCA...</td>\n      <td>MKRISTTITTTITITTGNGAG*</td>\n      <td>0.515152</td>\n      <td>0.693366</td>\n      <td>0.045455</td>\n      <td>0.045455</td>\n      <td>0.045455</td>\n      <td>0.000000</td>\n      <td>...</td>\n      <td>0.000000</td>\n      <td>0.045455</td>\n      <td>0.363636</td>\n      <td>0.000000</td>\n      <td>0.000000</td>\n      <td>0.000000</td>\n      <td>0.708253</td>\n      <td>0.271873</td>\n      <td>0.708253</td>\n      <td>0.271873</td>\n    </tr>\n    <tr>\n      <th>1</th>\n      <td>337..2799\\t0</td>\n      <td>0</td>\n      <td>ATGCGAGTGTTGAAGTTCGGCGGTACATCAGTGGCAAATGCAGAAC...</td>\n      <td>MRVLKFGGTSVANAERFLRVADILESNARQGQVATVLSAPAKITNH...</td>\n      <td>0.530654</td>\n      <td>0.572235</td>\n      <td>0.110840</td>\n      <td>0.056029</td>\n      <td>0.046285</td>\n      <td>0.053593</td>\n      <td>...</td>\n      <td>0.035323</td>\n      <td>0.062119</td>\n      <td>0.041413</td>\n      <td>0.004872</td>\n      <td>0.024361</td>\n      <td>0.084044</td>\n      <td>0.970596</td>\n      <td>0.969793</td>\n      <td>0.970596</td>\n      <td>0.969793</td>\n    </tr>\n    <tr>\n      <th>2</th>\n      <td>2801..3733\\t0</td>\n      <td>0</td>\n      <td>ATGGTTAAAGTTTATGCCCCGGCTTCCAGTGCCAATATGAGCGTCG...</td>\n      <td>MVKVYAPASSANMSVGFDVLGAAVTPVDGALLGDVVTVEAAETFSL...</td>\n      <td>0.562701</td>\n      <td>0.583953</td>\n      <td>0.118971</td>\n      <td>0.054662</td>\n      <td>0.038585</td>\n      <td>0.041801</td>\n      <td>...</td>\n      <td>0.051447</td>\n      <td>0.054662</td>\n      <td>0.028939</td>\n      <td>0.012862</td>\n      <td>0.025723</td>\n      <td>0.073955</td>\n      <td>0.956975</td>\n      <td>0.954594</td>\n      <td>0.956975</td>\n      <td>0.954594</td>\n    </tr>\n    <tr>\n      <th>3</th>\n      <td>3734..5020\\t0</td>\n      <td>0</td>\n      <td>ATGAAACTCTACAATCTGAAAGATCACAACGAGCAGGTCAGCTTTG...</td>\n      <td>MKLYNLKDHNEQVSFAQAVTQGLGKNQGLFFPHDLPEFSLTEIDEM...</td>\n      <td>0.528361</td>\n      <td>0.606598</td>\n      <td>0.109557</td>\n      <td>0.039627</td>\n      <td>0.044289</td>\n      <td>0.055944</td>\n      <td>...</td>\n      <td>0.053613</td>\n      <td>0.044289</td>\n      <td>0.053613</td>\n      <td>0.006993</td>\n      <td>0.020979</td>\n      <td>0.062937</td>\n      <td>0.960312</td>\n      <td>0.955490</td>\n      <td>0.960312</td>\n      <td>0.955490</td>\n    </tr>\n    <tr>\n      <th>4</th>\n      <td>5234..5530\\t0</td>\n      <td>0</td>\n      <td>GTGAAAAAGATGCAATCTATCGTACTCGCACTTTCCCTGGTTCTGG...</td>\n      <td>VKKMQSIVLALSLVLVAPMAAQAAEITLVPSVKLQIGDRDNRGYYW...</td>\n      <td>0.538721</td>\n      <td>0.524738</td>\n      <td>0.070707</td>\n      <td>0.070707</td>\n      <td>0.020202</td>\n      <td>0.050505</td>\n      <td>...</td>\n      <td>0.090909</td>\n      <td>0.030303</td>\n      <td>0.010101</td>\n      <td>0.060606</td>\n      <td>0.030303</td>\n      <td>0.060606</td>\n      <td>0.959403</td>\n      <td>0.901987</td>\n      <td>0.959403</td>\n      <td>0.901987</td>\n    </tr>\n  </tbody>\n</table>\n<p>5 rows × 30 columns</p>\n</div>"
     },
     "execution_count": 20,
     "metadata": {},
     "output_type": "execute_result"
    }
   ],
   "source": [
    "df.head()"
   ],
   "metadata": {
    "collapsed": false,
    "ExecuteTime": {
     "end_time": "2024-03-03T19:26:31.163021500Z",
     "start_time": "2024-03-03T19:26:31.125095300Z"
    }
   },
   "id": "34f3373fd275c383"
  },
  {
   "cell_type": "code",
   "execution_count": 21,
   "outputs": [],
   "source": [
    "df.to_csv(\"output.csv\",index = False)"
   ],
   "metadata": {
    "collapsed": false,
    "ExecuteTime": {
     "end_time": "2024-03-03T19:28:29.796236600Z",
     "start_time": "2024-03-03T19:28:29.526027500Z"
    }
   },
   "id": "da82c774c048f285"
  },
  {
   "cell_type": "code",
   "execution_count": null,
   "outputs": [],
   "source": [],
   "metadata": {
    "collapsed": false
   },
   "id": "1c2fb30d919eee10"
  }
 ],
 "metadata": {
  "kernelspec": {
   "display_name": "Python 3",
   "language": "python",
   "name": "python3"
  },
  "language_info": {
   "codemirror_mode": {
    "name": "ipython",
    "version": 2
   },
   "file_extension": ".py",
   "mimetype": "text/x-python",
   "name": "python",
   "nbconvert_exporter": "python",
   "pygments_lexer": "ipython2",
   "version": "2.7.6"
  }
 },
 "nbformat": 4,
 "nbformat_minor": 5
}
