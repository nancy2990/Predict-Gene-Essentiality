{
 "cells": [
  {
   "cell_type": "code",
   "execution_count": 1,
   "id": "initial_id",
   "metadata": {
    "collapsed": true,
    "ExecuteTime": {
     "end_time": "2024-01-30T16:32:42.923859Z",
     "start_time": "2024-01-30T16:32:41.085300Z"
    }
   },
   "outputs": [
    {
     "name": "stderr",
     "output_type": "stream",
     "text": [
      "D:\\anaconda3\\lib\\site-packages\\scipy\\__init__.py:146: UserWarning: A NumPy version >=1.16.5 and <1.23.0 is required for this version of SciPy (detected version 1.26.3\n",
      "  warnings.warn(f\"A NumPy version >={np_minversion} and <{np_maxversion}\"\n"
     ]
    }
   ],
   "source": [
    "import numpy as np\n",
    "import pandas as pd\n",
    "from sklearn.model_selection import cross_val_score\n",
    "\n",
    "from sklearn.feature_selection import SelectKBest\n",
    "from sklearn.feature_selection import mutual_info_classif\n",
    "from sklearn.ensemble import RandomForestClassifier\n",
    "import matplotlib.pyplot as plt\n",
    "from xgboost import XGBClassifier\n",
    "from sklearn.metrics import make_scorer, balanced_accuracy_score\n",
    "from sklearn.feature_selection import RFECV\n"
   ]
  },
  {
   "cell_type": "code",
   "execution_count": 2,
   "outputs": [],
   "source": [
    "from sklearn.model_selection import train_test_split\n",
    "\n",
    "all_df = pd.read_csv(\"../dataset/NCTCGC+CAI+Acimo.csv\")\n",
    "selected_columns=[\"locus tag\",\"essential\",\"DNA\",\"protein sequence\"]\n",
    "Xs= all_df.drop(columns=selected_columns)\n",
    "y=all_df[\"essential\"]\n",
    "Xs,Xs_test,y,y_test=train_test_split(Xs, y, test_size=0.2, random_state=42)\n",
    "scorer = make_scorer(balanced_accuracy_score)"
   ],
   "metadata": {
    "collapsed": false,
    "ExecuteTime": {
     "end_time": "2024-01-30T16:32:42.989884Z",
     "start_time": "2024-01-30T16:32:42.926502Z"
    }
   },
   "id": "3b49649c3f378b07"
  },
  {
   "cell_type": "code",
   "execution_count": 3,
   "outputs": [
    {
     "name": "stdout",
     "output_type": "stream",
     "text": [
      "0.5610863191017664\n"
     ]
    }
   ],
   "source": [
    "model_rf=RandomForestClassifier(n_estimators=176, max_depth=10,min_samples_split=10 )\n",
    "ba_score=cross_val_score(model_rf, Xs, y ,cv=5,scoring=scorer).mean()\n",
    "print(ba_score)"
   ],
   "metadata": {
    "collapsed": false,
    "ExecuteTime": {
     "end_time": "2024-01-30T16:32:53.904492700Z",
     "start_time": "2024-01-30T16:32:42.994406600Z"
    }
   },
   "id": "22733d3cd7c645f2"
  },
  {
   "cell_type": "code",
   "execution_count": 4,
   "outputs": [
    {
     "data": {
      "text/plain": "<Figure size 432x288 with 1 Axes>",
      "image/png": "[encoded data removed]"
     },
     "metadata": {
      "needs_background": "light"
     },
     "output_type": "display_data"
    }
   ],
   "source": [
    "#remove high correlated features\n",
    "score = []\n",
    "for i in range(22,5,-1):\n",
    "\tX_mutual = SelectKBest(score_func=mutual_info_classif, k=i).fit_transform(Xs, y)\n",
    "\tonce = cross_val_score(model_rf, X_mutual, y, cv=5,scoring=scorer)\n",
    "\tscore.append(once.mean())\n",
    "plt.plot(range(22,5,-1), score)\n",
    "plt.show()              \n"
   ],
   "metadata": {
    "collapsed": false,
    "ExecuteTime": {
     "end_time": "2024-01-30T16:35:32.514433300Z",
     "start_time": "2024-01-30T16:32:58.018224600Z"
    }
   },
   "id": "ee6d29189d3c9f32"
  },
  {
   "cell_type": "code",
   "execution_count": 5,
   "outputs": [
    {
     "name": "stdout",
     "output_type": "stream",
     "text": [
      "Fitting estimator with 12 features.\n",
      "Fitting estimator with 11 features.\n",
      "Fitting estimator with 10 features.\n",
      "Fitting estimator with 9 features.\n",
      "Fitting estimator with 8 features.\n",
      "Fitting estimator with 7 features.\n",
      "Fitting estimator with 6 features.\n",
      "Fitting estimator with 12 features.\n",
      "Fitting estimator with 11 features.\n",
      "Fitting estimator with 10 features.\n",
      "Fitting estimator with 9 features.\n",
      "Fitting estimator with 8 features.\n",
      "Fitting estimator with 7 features.\n",
      "Fitting estimator with 6 features.\n",
      "Fitting estimator with 12 features.\n",
      "Fitting estimator with 11 features.\n",
      "Fitting estimator with 10 features.\n",
      "Fitting estimator with 9 features.\n",
      "Fitting estimator with 8 features.\n",
      "Fitting estimator with 7 features.\n",
      "Fitting estimator with 6 features.\n",
      "Fitting estimator with 12 features.\n",
      "Fitting estimator with 11 features.\n",
      "RFECVresult——————————————————————————————————————————————————\n",
      "valid : 10\n",
      "ranking : [1, 1, 1, 1, 3, 1, 1, 1, 1, 1, 2, 1]\n"
     ]
    }
   ],
   "source": [
    "# 9 features\n",
    "X_mutual = SelectKBest(score_func=mutual_info_classif, k=12).fit_transform(Xs, y)\n",
    "rfecv = RFECV(estimator=model_rf,  \n",
    "            min_features_to_select=5, \n",
    "            step=1, \n",
    "            verbose = 1,\n",
    "            n_jobs = 1,\n",
    "            cv=3\n",
    "              ).fit(X_mutual,y)\n",
    "X_RFECV = rfecv.transform(X_mutual)\n",
    "print(\"RFECVresult——————————————————————————————————————————————————\")\n",
    "print(\"valid : %d\" % rfecv.n_features_)\n",
    "print(\"ranking : %s\" % list(rfecv.ranking_))"
   ],
   "metadata": {
    "collapsed": false,
    "ExecuteTime": {
     "end_time": "2024-01-30T16:38:35.926850300Z",
     "start_time": "2024-01-30T16:37:57.566904900Z"
    }
   },
   "id": "933e933f763b34ee"
  },
  {
   "cell_type": "code",
   "execution_count": 6,
   "outputs": [
    {
     "name": "stdout",
     "output_type": "stream",
     "text": [
      "Selected Features:\n",
      "['GC_Content', 'CAI', 'A', 'R', 'E', 'G', 'K', 'M', 'S', 'Y']\n"
     ]
    }
   ],
   "source": [
    "all_feature_names = [\"GC_Content\",\"CAI\",\"A\",\"R\",\"N\",\"D\",\"C\",\"Q\",\"E\",\"G\",\"H\",\"I\",\"L\",\"K\",\"M\",\"F\",\"P\",\"S\",\"T\",\"W\",\"Y\",\"V\"]\n",
    "selector = SelectKBest(mutual_info_classif, k=12)\n",
    "selector.fit(Xs,y)\n",
    "# Get columns to keep and create new dataframe with those only\n",
    "cols_idxs = selector.get_support(indices=True)\n",
    "selected_feature_indices = rfecv.support_\n",
    "selected_feature_names = cols_idxs[selected_feature_indices]\n",
    "selected_features = [all_feature_names[i] for i in selected_feature_names]\n",
    "print(\"Selected Features:\")\n",
    "print(selected_features)"
   ],
   "metadata": {
    "collapsed": false,
    "ExecuteTime": {
     "end_time": "2024-01-30T16:38:53.900716100Z",
     "start_time": "2024-01-30T16:38:53.643753500Z"
    }
   },
   "id": "8e8f98afc3c9e009"
  },
  {
   "cell_type": "code",
   "execution_count": 7,
   "outputs": [
    {
     "name": "stdout",
     "output_type": "stream",
     "text": [
      "0.5771704927411857\n"
     ]
    }
   ],
   "source": [
    "selected_columns_rf=['GC_Content', 'CAI', 'A', 'R', 'E', 'G', 'K', 'M', 'S', 'Y']\n",
    "model_rf.fit(Xs[selected_columns_rf],y)\n",
    "Wrapper_score = cross_val_score(model_rf,Xs[selected_columns_rf],y,cv=5,scoring=scorer).mean()\n",
    "print(Wrapper_score)"
   ],
   "metadata": {
    "collapsed": false,
    "ExecuteTime": {
     "end_time": "2024-01-30T16:39:20.019307700Z",
     "start_time": "2024-01-30T16:39:07.439148Z"
    }
   },
   "id": "9a3bc2e7f638cccc"
  },
  {
   "cell_type": "code",
   "execution_count": 8,
   "outputs": [
    {
     "name": "stdout",
     "output_type": "stream",
     "text": [
      "0.8797889335334268\n"
     ]
    }
   ],
   "source": [
    "Wrapper_score = cross_val_score(model_rf,Xs[selected_columns_rf],y,cv=5,scoring='accuracy').mean()\n",
    "print(Wrapper_score)"
   ],
   "metadata": {
    "collapsed": false,
    "ExecuteTime": {
     "end_time": "2024-01-30T16:39:37.011748900Z",
     "start_time": "2024-01-30T16:39:26.429822900Z"
    }
   },
   "id": "2d2dbc075bf508c3"
  },
  {
   "cell_type": "code",
   "execution_count": 9,
   "outputs": [
    {
     "name": "stdout",
     "output_type": "stream",
     "text": [
      "0.5834509761853679\n"
     ]
    }
   ],
   "source": [
    "model_xgb=XGBClassifier(use_label_encoder=False, objective='binary:logistic', eval_metric='auc',booster='gbtree', reg_lambda=0.0890707957626654, alpha=1.1331878102865505, max_depth=7,colsample_bytree=0.7872892162641159, \n",
    " subsample=0.5359027114940844)\n",
    "ba_score=cross_val_score(model_xgb, Xs, y ,cv=5,scoring=scorer).mean()\n",
    "print(ba_score)"
   ],
   "metadata": {
    "collapsed": false,
    "ExecuteTime": {
     "end_time": "2024-01-30T16:40:11.228977800Z",
     "start_time": "2024-01-30T16:40:10.338157500Z"
    }
   },
   "id": "802a683271da46da"
  },
  {
   "cell_type": "code",
   "execution_count": 10,
   "outputs": [
    {
     "data": {
      "text/plain": "<Figure size 432x288 with 1 Axes>",
      "image/png": "[encoded data removed]"
     },
     "metadata": {
      "needs_background": "light"
     },
     "output_type": "display_data"
    }
   ],
   "source": [
    "score = []\n",
    "for i in range(22,5,-1):\n",
    "\tX_mutual = SelectKBest(score_func=mutual_info_classif, k=i).fit_transform(Xs, y)\n",
    "\tonce = cross_val_score(model_xgb, X_mutual, y, cv=5,scoring=scorer)\n",
    "\tscore.append(once.mean())\n",
    "plt.plot(range(22,5,-1), score)\n",
    "plt.show()              "
   ],
   "metadata": {
    "collapsed": false,
    "ExecuteTime": {
     "end_time": "2024-01-30T16:40:28.430772600Z",
     "start_time": "2024-01-30T16:40:14.053871900Z"
    }
   },
   "id": "3c0e7daeede105bb"
  },
  {
   "cell_type": "code",
   "execution_count": 11,
   "outputs": [
    {
     "name": "stdout",
     "output_type": "stream",
     "text": [
      "Fitting estimator with 17 features.\n",
      "Fitting estimator with 16 features.\n",
      "Fitting estimator with 15 features.\n",
      "Fitting estimator with 14 features.\n",
      "Fitting estimator with 13 features.\n",
      "Fitting estimator with 12 features.\n",
      "Fitting estimator with 11 features.\n",
      "Fitting estimator with 10 features.\n",
      "Fitting estimator with 9 features.\n",
      "Fitting estimator with 8 features.\n",
      "Fitting estimator with 7 features.\n",
      "Fitting estimator with 6 features.\n",
      "Fitting estimator with 17 features.\n",
      "Fitting estimator with 16 features.\n",
      "Fitting estimator with 15 features.\n",
      "Fitting estimator with 14 features.\n",
      "Fitting estimator with 13 features.\n",
      "Fitting estimator with 12 features.\n",
      "Fitting estimator with 11 features.\n",
      "Fitting estimator with 10 features.\n",
      "Fitting estimator with 9 features.\n",
      "Fitting estimator with 8 features.\n",
      "Fitting estimator with 7 features.\n",
      "Fitting estimator with 6 features.\n",
      "Fitting estimator with 17 features.\n",
      "Fitting estimator with 16 features.\n",
      "Fitting estimator with 15 features.\n",
      "Fitting estimator with 14 features.\n",
      "Fitting estimator with 13 features.\n",
      "Fitting estimator with 12 features.\n",
      "Fitting estimator with 11 features.\n",
      "Fitting estimator with 10 features.\n",
      "Fitting estimator with 9 features.\n",
      "Fitting estimator with 8 features.\n",
      "Fitting estimator with 7 features.\n",
      "Fitting estimator with 6 features.\n",
      "Fitting estimator with 17 features.\n",
      "Fitting estimator with 16 features.\n",
      "Fitting estimator with 15 features.\n",
      "Fitting estimator with 14 features.\n",
      "Fitting estimator with 13 features.\n",
      "Fitting estimator with 12 features.\n",
      "RFECVresult——————————————————————————————————————————————————\n",
      "valid : 11\n",
      "ranking : [1, 1, 4, 3, 1, 6, 1, 1, 1, 7, 1, 1, 1, 1, 2, 1, 5]\n"
     ]
    }
   ],
   "source": [
    "# 16 features\n",
    "X_mutual = SelectKBest(score_func=mutual_info_classif, k=17).fit_transform(Xs, y)\n",
    "rfecv = RFECV(estimator=model_xgb,  \n",
    "            min_features_to_select=5, \n",
    "            step=1, \n",
    "            verbose = 1,\n",
    "            n_jobs = 1,\n",
    "            cv=3\n",
    "              ).fit(X_mutual,y)\n",
    "X_RFECV = rfecv.transform(X_mutual)\n",
    "print(\"RFECVresult——————————————————————————————————————————————————\")\n",
    "print(\"valid : %d\" % rfecv.n_features_)\n",
    "print(\"ranking : %s\" % list(rfecv.ranking_))"
   ],
   "metadata": {
    "collapsed": false,
    "ExecuteTime": {
     "end_time": "2024-01-30T16:40:41.369805100Z",
     "start_time": "2024-01-30T16:40:36.138491200Z"
    }
   },
   "id": "a983650e1b3a1325"
  },
  {
   "cell_type": "code",
   "execution_count": 12,
   "outputs": [
    {
     "name": "stdout",
     "output_type": "stream",
     "text": [
      "Selected Features:\n",
      "['GC_Content', 'CAI', 'Q', 'G', 'L', 'K', 'F', 'P', 'S', 'T', 'Y']\n"
     ]
    }
   ],
   "source": [
    "all_feature_names = [\"GC_Content\",\"CAI\",\"A\",\"R\",\"N\",\"D\",\"C\",\"Q\",\"E\",\"G\",\"H\",\"I\",\"L\",\"K\",\"M\",\"F\",\"P\",\"S\",\"T\",\"W\",\"Y\",\"V\"]\n",
    "selector = SelectKBest(mutual_info_classif, k=17)\n",
    "selector.fit(Xs,y)\n",
    "# Get columns to keep and create new dataframe with those only\n",
    "cols_idxs = selector.get_support(indices=True)\n",
    "selected_feature_indices = rfecv.support_\n",
    "selected_feature_names = cols_idxs[selected_feature_indices]\n",
    "selected_features = [all_feature_names[i] for i in selected_feature_names]\n",
    "print(\"Selected Features:\")\n",
    "print(selected_features)"
   ],
   "metadata": {
    "collapsed": false,
    "ExecuteTime": {
     "end_time": "2024-01-30T16:40:44.272126400Z",
     "start_time": "2024-01-30T16:40:44.011925Z"
    }
   },
   "id": "1b16a0ee9ed091e4"
  },
  {
   "cell_type": "code",
   "execution_count": 13,
   "outputs": [
    {
     "name": "stdout",
     "output_type": "stream",
     "text": [
      "0.580096903382679\n"
     ]
    }
   ],
   "source": [
    "selected_columns_xgb=['GC_Content', 'CAI', 'Q', 'G', 'L', 'K', 'F', 'P', 'S', 'T', 'Y']\n",
    "model_xgb.fit(Xs[selected_columns_xgb],y)\n",
    "Wrapper_score = cross_val_score(model_xgb,Xs[selected_columns_xgb],y,cv=5,scoring=scorer).mean()\n",
    "print(Wrapper_score)"
   ],
   "metadata": {
    "collapsed": false,
    "ExecuteTime": {
     "end_time": "2024-01-30T16:40:59.627286800Z",
     "start_time": "2024-01-30T16:40:58.538017400Z"
    }
   },
   "id": "60c8f0f17f9413c4"
  },
  {
   "cell_type": "code",
   "execution_count": 14,
   "outputs": [
    {
     "name": "stdout",
     "output_type": "stream",
     "text": [
      "0.8665808200609962\n"
     ]
    }
   ],
   "source": [
    "Wrapper_score = cross_val_score(model_xgb,Xs[selected_columns_xgb],y,cv=5,scoring='accuracy').mean()\n",
    "print(Wrapper_score)"
   ],
   "metadata": {
    "collapsed": false,
    "ExecuteTime": {
     "end_time": "2024-01-30T16:41:18.393182600Z",
     "start_time": "2024-01-30T16:41:17.474395100Z"
    }
   },
   "id": "1ac7c5da006f535a"
  },
  {
   "cell_type": "code",
   "execution_count": 15,
   "outputs": [
    {
     "name": "stdout",
     "output_type": "stream",
     "text": [
      "0.5618458127726524\n"
     ]
    }
   ],
   "source": [
    "from sklearn.neural_network import MLPClassifier\n",
    "model_mlp = MLPClassifier(random_state=1, max_iter=500, hidden_layer_sizes= (100, 50, 25), alpha=0.18, activation= 'tanh')\n",
    "ba_score = cross_val_score(model_mlp, Xs, y, cv=5,scoring=scorer)\n",
    "print(ba_score.mean())"
   ],
   "metadata": {
    "collapsed": false,
    "ExecuteTime": {
     "end_time": "2024-01-30T16:41:51.456834900Z",
     "start_time": "2024-01-30T16:41:38.925019400Z"
    }
   },
   "id": "f100abe1656c66"
  },
  {
   "cell_type": "code",
   "execution_count": 16,
   "outputs": [
    {
     "data": {
      "text/plain": "<Figure size 432x288 with 1 Axes>",
      "image/png": "[encoded data removed]"
     },
     "metadata": {
      "needs_background": "light"
     },
     "output_type": "display_data"
    }
   ],
   "source": [
    "score = []\n",
    "for i in range(22,5,-1):\n",
    "\tX_mutual = SelectKBest(score_func=mutual_info_classif, k=i).fit_transform(Xs, y)\n",
    "\tonce = cross_val_score(model_mlp, X_mutual, y, cv=5,scoring=scorer)\n",
    "\tscore.append(once.mean())\n",
    "plt.plot(range(22,5,-1), score)\n",
    "plt.show()"
   ],
   "metadata": {
    "collapsed": false,
    "ExecuteTime": {
     "end_time": "2024-01-30T16:45:38.204843300Z",
     "start_time": "2024-01-30T16:42:32.123967200Z"
    }
   },
   "id": "1e5edae1a51915bb"
  },
  {
   "cell_type": "code",
   "execution_count": 17,
   "outputs": [
    {
     "name": "stdout",
     "output_type": "stream",
     "text": [
      "['GC_Content', 'CAI', 'A', 'R', 'C', 'Q', 'E', 'G', 'H', 'I', 'L', 'K', 'M', 'F', 'P', 'S', 'T', 'W', 'Y', 'V']\n"
     ]
    }
   ],
   "source": [
    "selector = SelectKBest(score_func=mutual_info_classif, k=20)\n",
    "all_feature_names = [\"GC_Content\",\"CAI\",\"A\",\"R\",\"N\",\"D\",\"C\",\"Q\",\"E\",\"G\",\"H\",\"I\",\"L\",\"K\",\"M\",\"F\",\"P\",\"S\",\"T\",\"W\",\"Y\",\"V\"]\n",
    "X_mutual=selector.fit_transform(Xs, y)\n",
    "cols_idxs = selector.get_support(indices=True)\n",
    "selected_features = [all_feature_names[i] for i in cols_idxs]\n",
    "print(selected_features)"
   ],
   "metadata": {
    "collapsed": false,
    "ExecuteTime": {
     "end_time": "2024-01-30T16:58:09.037311100Z",
     "start_time": "2024-01-30T16:58:08.624203500Z"
    }
   },
   "id": "c35b681da7ae8a69"
  },
  {
   "cell_type": "code",
   "execution_count": 18,
   "outputs": [
    {
     "name": "stdout",
     "output_type": "stream",
     "text": [
      "0.5627812343560038\n"
     ]
    }
   ],
   "source": [
    "selected_columns_mlp=['GC_Content', 'CAI', 'A', 'R', 'C', 'Q', 'E', 'G', 'H', 'I', 'L', 'K', 'M', 'F', 'P', 'S', 'T', 'W', 'Y', 'V']\n",
    "model_mlp.fit(Xs[selected_columns_mlp],y)\n",
    "Wrapper_score = cross_val_score(model_mlp,Xs[selected_columns_mlp],y,cv=5,scoring=scorer).mean()\n",
    "print(Wrapper_score)"
   ],
   "metadata": {
    "collapsed": false,
    "ExecuteTime": {
     "end_time": "2024-01-30T16:58:41.603843200Z",
     "start_time": "2024-01-30T16:58:23.158762100Z"
    }
   },
   "id": "32da4999ebe1561f"
  },
  {
   "cell_type": "code",
   "execution_count": 19,
   "outputs": [
    {
     "name": "stdout",
     "output_type": "stream",
     "text": [
      "0.8815481434864696\n"
     ]
    }
   ],
   "source": [
    "Wrapper_score = cross_val_score(model_mlp,Xs[selected_columns_mlp],y,cv=5,scoring='accuracy').mean()\n",
    "print(Wrapper_score)"
   ],
   "metadata": {
    "collapsed": false,
    "ExecuteTime": {
     "end_time": "2024-01-30T16:59:08.041754300Z",
     "start_time": "2024-01-30T16:58:49.966523600Z"
    }
   },
   "id": "c1db8e61e278e8e8"
  },
  {
   "cell_type": "code",
   "execution_count": 20,
   "outputs": [
    {
     "name": "stdout",
     "output_type": "stream",
     "text": [
      "Reject the null hypothesis: The distributions of xgboost and random forest are different.\n",
      "Fail to reject the null hypothesis: The distributions of MLP and random forest are the same.\n",
      "Reject the null hypothesis: The distributions of xgboost and MLP are different.\n"
     ]
    }
   ],
   "source": [
    "from scipy.stats import ks_2samp\n",
    "\n",
    "model_rf_prediction = model_rf.predict(Xs[selected_columns_rf])\n",
    "model_xgb_prediction = model_xgb.predict(Xs[selected_columns_xgb])\n",
    "model_mlp_prediction = model_mlp.predict(Xs[selected_columns_mlp])\n",
    "\n",
    "statistic_xgb_rf, p_value_xgb_rf = ks_2samp(model_xgb_prediction, model_rf_prediction)\n",
    "statistic_mlp_rf, p_value_mlp_rf = ks_2samp(model_mlp_prediction, model_rf_prediction)\n",
    "statistic_xgb_mlp, p_value_xgb_mlp, = ks_2samp(model_xgb_prediction, model_mlp_prediction)\n",
    "\n",
    "if p_value_xgb_rf < 0.05:\n",
    "    print(\"Reject the null hypothesis: The distributions of xgboost and random forest are different.\")\n",
    "else:\n",
    "    print(\"Fail to reject the null hypothesis: The distributions of xgboost and random forest are the same.\")\n",
    "\n",
    "if p_value_mlp_rf < 0.05:\n",
    "    print(\"Reject the null hypothesis: The distributions of MLP and random forest are different.\")\n",
    "else:\n",
    "    print(\"Fail to reject the null hypothesis: The distributions of MLP and random forest are the same.\")\n",
    "    \n",
    "if p_value_xgb_mlp < 0.05:\n",
    "    print(\"Reject the null hypothesis: The distributions of xgboost and MLP are different.\")\n",
    "else:\n",
    "    print(\"Fail to reject the null hypothesis: The distributions of xgboost and MLP are the same.\")"
   ],
   "metadata": {
    "collapsed": false,
    "ExecuteTime": {
     "end_time": "2024-01-30T16:59:21.601699100Z",
     "start_time": "2024-01-30T16:59:21.468818Z"
    }
   },
   "id": "d401ddb5db01a53c"
  },
  {
   "cell_type": "code",
   "execution_count": 21,
   "outputs": [
    {
     "name": "stdout",
     "output_type": "stream",
     "text": [
      "5.246725969608387e-08 0.999141887062862 4.921870328539082e-10\n"
     ]
    }
   ],
   "source": [
    "print(p_value_xgb_rf,p_value_mlp_rf,p_value_xgb_mlp)"
   ],
   "metadata": {
    "collapsed": false,
    "ExecuteTime": {
     "end_time": "2024-01-30T16:59:24.204696400Z",
     "start_time": "2024-01-30T16:59:24.178111200Z"
    }
   },
   "id": "91263d9b4ed28c9f"
  },
  {
   "cell_type": "code",
   "execution_count": 22,
   "outputs": [
    {
     "name": "stderr",
     "output_type": "stream",
     "text": [
      "D:\\anaconda3\\lib\\site-packages\\sklearn\\base.py:465: UserWarning: X does not have valid feature names, but RandomForestClassifier was fitted with feature names\n",
      "  warnings.warn(\n"
     ]
    },
    {
     "data": {
      "text/plain": "<Figure size 432x288 with 2 Axes>",
      "image/png": "[encoded data removed]"
     },
     "metadata": {
      "needs_background": "light"
     },
     "output_type": "display_data"
    }
   ],
   "source": [
    "from sklearn.metrics import ConfusionMatrixDisplay\n",
    "X_evl_test_rf = np.array(Xs_test[selected_columns_rf])\n",
    "y_evl_test = np.array(y_test)\n",
    "disp = ConfusionMatrixDisplay.from_estimator(model_rf,X_evl_test_rf,y_evl_test,cmap=plt.cm.Blues)"
   ],
   "metadata": {
    "collapsed": false,
    "ExecuteTime": {
     "end_time": "2024-01-30T16:59:34.600894400Z",
     "start_time": "2024-01-30T16:59:34.274680Z"
    }
   },
   "id": "9e33a8b259fe3335"
  },
  {
   "cell_type": "code",
   "execution_count": 24,
   "outputs": [
    {
     "data": {
      "text/plain": "<Figure size 432x288 with 2 Axes>",
      "image/png": "[encoded data removed]"
     },
     "metadata": {
      "needs_background": "light"
     },
     "output_type": "display_data"
    }
   ],
   "source": [
    "X_evl_test_xgb = np.array(Xs_test[selected_columns_xgb])\n",
    "\n",
    "disp_xgb = ConfusionMatrixDisplay.from_estimator(model_xgb,X_evl_test_xgb,y_evl_test,cmap=plt.cm.Blues)"
   ],
   "metadata": {
    "collapsed": false,
    "ExecuteTime": {
     "end_time": "2024-01-30T16:59:49.233411200Z",
     "start_time": "2024-01-30T16:59:48.977664700Z"
    }
   },
   "id": "7c6b3fd4d00a1049"
  },
  {
   "cell_type": "code",
   "execution_count": 23,
   "outputs": [
    {
     "name": "stderr",
     "output_type": "stream",
     "text": [
      "D:\\anaconda3\\lib\\site-packages\\sklearn\\base.py:465: UserWarning: X does not have valid feature names, but MLPClassifier was fitted with feature names\n",
      "  warnings.warn(\n"
     ]
    },
    {
     "data": {
      "text/plain": "<Figure size 432x288 with 2 Axes>",
      "image/png": "[encoded data removed]"
     },
     "metadata": {
      "needs_background": "light"
     },
     "output_type": "display_data"
    }
   ],
   "source": [
    "X_evl_test_mlp = np.array(Xs_test[selected_columns_mlp])\n",
    "\n",
    "disp_mlp = ConfusionMatrixDisplay.from_estimator(model_mlp,X_evl_test_mlp,y_evl_test,cmap=plt.cm.Blues)"
   ],
   "metadata": {
    "collapsed": false,
    "ExecuteTime": {
     "end_time": "2024-01-30T16:59:39.619951900Z",
     "start_time": "2024-01-30T16:59:39.282163500Z"
    }
   },
   "id": "56af6b96e739d481"
  },
  {
   "cell_type": "code",
   "execution_count": 25,
   "outputs": [
    {
     "name": "stderr",
     "output_type": "stream",
     "text": [
      "D:\\anaconda3\\lib\\site-packages\\sklearn\\base.py:465: UserWarning: X does not have valid feature names, but RandomForestClassifier was fitted with feature names\n",
      "  warnings.warn(\n",
      "D:\\anaconda3\\lib\\site-packages\\sklearn\\base.py:465: UserWarning: X does not have valid feature names, but MLPClassifier was fitted with feature names\n",
      "  warnings.warn(\n"
     ]
    },
    {
     "data": {
      "text/plain": "<Figure size 576x432 with 1 Axes>",
      "image/png": "[encoded data removed]"
     },
     "metadata": {
      "needs_background": "light"
     },
     "output_type": "display_data"
    }
   ],
   "source": [
    "from sklearn.metrics import roc_curve, roc_auc_score\n",
    "\n",
    "y_pred_xgb = model_xgb.predict_proba(X_evl_test_xgb)[:, 1]  \n",
    "y_pred_rf = model_rf.predict_proba(X_evl_test_rf)[:, 1]\n",
    "y_pred_mlp = model_mlp.predict(X_evl_test_mlp)\n",
    "\n",
    "# 计算 ROC 曲线的参数\n",
    "fpr_xgb, tpr_xgb, thresholds_xgb = roc_curve(y_evl_test, y_pred_xgb)\n",
    "fpr_rf, tpr_rf, thresholds_rf = roc_curve(y_evl_test, y_pred_rf)\n",
    "fpr_mlp, tpr_mlp, thresholds_mlp = roc_curve(y_evl_test, y_pred_mlp)\n",
    "\n",
    "# 计算 AUC 值\n",
    "auc_xgb = roc_auc_score(y_evl_test, y_pred_xgb)\n",
    "auc_rf = roc_auc_score(y_evl_test, y_pred_rf)\n",
    "auc_mlp = roc_auc_score(y_evl_test, y_pred_mlp)\n",
    "\n",
    "# 绘制 ROC 曲线\n",
    "plt.figure(figsize=(8, 6))\n",
    "plt.plot(fpr_xgb, tpr_xgb, label='XGBoost (AUC = %0.2f)' % auc_xgb)\n",
    "plt.plot(fpr_rf, tpr_rf, label='Random Forest (AUC = %0.2f)' % auc_rf)\n",
    "plt.plot(fpr_mlp, tpr_mlp, label='MLP (AUC = %0.2f)' % auc_mlp)\n",
    "plt.plot([0, 1], [0, 1], 'k--')\n",
    "plt.xlabel('False Positive Rate')\n",
    "plt.ylabel('True Positive Rate')\n",
    "plt.title('ROC Curve')\n",
    "plt.legend(loc='lower right')\n",
    "plt.grid()\n",
    "plt.show()"
   ],
   "metadata": {
    "collapsed": false,
    "ExecuteTime": {
     "end_time": "2024-01-30T16:59:53.097471400Z",
     "start_time": "2024-01-30T16:59:52.690471100Z"
    }
   },
   "id": "c81dbd0e5f431f21"
  },
  {
   "cell_type": "code",
   "execution_count": null,
   "outputs": [],
   "source": [],
   "metadata": {
    "collapsed": false
   },
   "id": "a37819784ecc8b57"
  }
 ],
 "metadata": {
  "kernelspec": {
   "display_name": "Python 3",
   "language": "python",
   "name": "python3"
  },
  "language_info": {
   "codemirror_mode": {
    "name": "ipython",
    "version": 2
   },
   "file_extension": ".py",
   "mimetype": "text/x-python",
   "name": "python",
   "nbconvert_exporter": "python",
   "pygments_lexer": "ipython2",
   "version": "2.7.6"
  }
 },
 "nbformat": 4,
 "nbformat_minor": 5
}
