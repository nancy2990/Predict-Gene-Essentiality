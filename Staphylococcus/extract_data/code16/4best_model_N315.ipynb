{
 "cells": [
  {
   "cell_type": "code",
   "execution_count": 1,
   "id": "initial_id",
   "metadata": {
    "collapsed": true,
    "ExecuteTime": {
     "end_time": "2024-03-11T18:20:06.425499Z",
     "start_time": "2024-03-11T18:20:03.493089500Z"
    }
   },
   "outputs": [],
   "source": [
    "import pandas as pd\n",
    "from sklearn.metrics import make_scorer, balanced_accuracy_score\n",
    "from sklearn.model_selection import cross_val_score\n",
    "from sklearn.ensemble import RandomForestClassifier\n",
    "from hyperopt import hp\n",
    "import numpy as np\n",
    "from hyperopt import Trials, tpe, fmin\n",
    "import warnings\n",
    "from imblearn.under_sampling import RandomUnderSampler\n",
    "from joblib import load\n",
    "import statistics\n",
    "from sklearn.metrics import accuracy_score, f1_score, roc_auc_score, matthews_corrcoef, precision_score, recall_score\n",
    "warnings.filterwarnings(\"ignore\")"
   ]
  },
  {
   "cell_type": "code",
   "execution_count": 2,
   "outputs": [],
   "source": [
    "df = pd.read_csv(\"N315output.csv\",index_col=False)"
   ],
   "metadata": {
    "collapsed": false,
    "ExecuteTime": {
     "end_time": "2024-03-11T18:20:08.970623200Z",
     "start_time": "2024-03-11T18:20:08.891116500Z"
    }
   },
   "id": "1b6ba68f7118a51"
  },
  {
   "cell_type": "code",
   "execution_count": 3,
   "outputs": [],
   "source": [
    "rus = RandomUnderSampler(sampling_strategy='auto', random_state=42)"
   ],
   "metadata": {
    "collapsed": false,
    "ExecuteTime": {
     "end_time": "2024-03-11T18:20:09.793514300Z",
     "start_time": "2024-03-11T18:20:09.771714600Z"
    }
   },
   "id": "92f2bd53c65db613"
  },
  {
   "cell_type": "code",
   "execution_count": 4,
   "outputs": [],
   "source": [
    "selected_columns=[\"locus tag\",\"essential\",\"DNA\",\"protein sequence\"]\n",
    "Xs= df.drop(columns=selected_columns)\n",
    "y=df[\"essential\"]"
   ],
   "metadata": {
    "collapsed": false,
    "ExecuteTime": {
     "end_time": "2024-03-11T18:20:10.662414500Z",
     "start_time": "2024-03-11T18:20:10.645333600Z"
    }
   },
   "id": "4e75f9424709b179"
  },
  {
   "cell_type": "code",
   "execution_count": 5,
   "outputs": [],
   "source": [
    "from sklearn.model_selection import KFold\n",
    "\n",
    "model_rf_lassoRFE = load('../../../model/RF_model_FSS.joblib')\n",
    "scores_fss_ac = []\n",
    "scores_fss_mcc= []\n",
    "scores_fss_f1 = []\n",
    "scores_fss_auc = []\n",
    "scores_fss_precision = []\n",
    "scores_fss_recall = []\n",
    "feature_rf = ['GC_Content', 'CAI', 'A', 'R', 'N', 'D', 'G', 'K', 'F', 'S', 'T', 'Y', 'V', 'nSE2', 'nSE3', 'nGE2', 'nGE3']\n",
    "kf = KFold(n_splits=10, shuffle=True, random_state=42)\n",
    "\n",
    "for train_index, test_index in kf.split(Xs):\n",
    "    X_train_fold, X_test_fold = Xs.iloc[train_index], Xs.iloc[test_index]\n",
    "    y_train_fold, y_test = y.iloc[train_index], y.iloc[test_index]\n",
    "    X_train_undersampled, y_train_undersampled = rus.fit_resample(X_train_fold, y_train_fold)\n",
    "    model_rf_lassoRFE.fit(X_train_undersampled[feature_rf], y_train_undersampled)\n",
    "    y_predict = model_rf_lassoRFE.predict(X_test_fold[feature_rf])\n",
    "    acc=accuracy_score(y_test, y_predict)\n",
    "    scores_fss_ac.append(acc)\n",
    "    mcc = matthews_corrcoef(y_test,y_predict)\n",
    "    scores_fss_mcc.append(mcc)\n",
    "    auc = roc_auc_score(y_test,y_predict)\n",
    "    scores_fss_auc.append(auc)\n",
    "    f1 = f1_score(y_test,y_predict)\n",
    "    scores_fss_f1.append(f1)\n",
    "    precision = precision_score(y_test,y_predict)\n",
    "    scores_fss_precision.append(precision)\n",
    "    recall = recall_score(y_test,y_predict)\n",
    "    scores_fss_recall.append(recall)"
   ],
   "metadata": {
    "collapsed": false,
    "ExecuteTime": {
     "end_time": "2024-03-11T18:20:17.332223300Z",
     "start_time": "2024-03-11T18:20:11.488137300Z"
    }
   },
   "id": "3dddd9824af86e1c"
  },
  {
   "cell_type": "code",
   "execution_count": 6,
   "outputs": [
    {
     "name": "stdout",
     "output_type": "stream",
     "text": [
      "[0.5813953488372093, 0.5697674418604651, 0.5503875968992248, 0.6201550387596899, 0.5736434108527132, 0.5581395348837209, 0.5271317829457365, 0.6201550387596899, 0.6550387596899225, 0.624031007751938]\n",
      "0.587984496124031 0.0016059731987260381\n"
     ]
    }
   ],
   "source": [
    "print(scores_fss_ac)\n",
    "print(statistics.mean(scores_fss_ac),statistics.variance(scores_fss_ac))"
   ],
   "metadata": {
    "collapsed": false,
    "ExecuteTime": {
     "end_time": "2024-03-11T18:20:19.693608300Z",
     "start_time": "2024-03-11T18:20:19.674093700Z"
    }
   },
   "id": "74bce6cc10e475f3"
  },
  {
   "cell_type": "code",
   "execution_count": 7,
   "outputs": [],
   "source": [
    "model_xgb_nfs = load('../../../model/XGB_model.joblib')\n",
    "scores_nfs_ac = []\n",
    "scores_nfs_mcc = []\n",
    "scores_nfs_auc = []\n",
    "scores_nfs_f1 = []\n",
    "scores_nfs_precision = []\n",
    "scores_nfs_recall = []\n",
    "for train_index, test_index in kf.split(Xs):\n",
    "    X_train_fold, X_test_fold = Xs.iloc[train_index], Xs.iloc[test_index]\n",
    "    y_train_fold, y_test = y.iloc[train_index], y.iloc[test_index]\n",
    "    X_train_undersampled, y_train_undersampled = rus.fit_resample(X_train_fold, y_train_fold)\n",
    "    model_xgb_nfs.fit(X_train_undersampled, y_train_undersampled)\n",
    "    y_predict = model_xgb_nfs.predict(X_test_fold)\n",
    "    acc=accuracy_score(y_test, y_predict)\n",
    "    scores_nfs_ac.append(acc)\n",
    "    mcc = matthews_corrcoef(y_test,y_predict)\n",
    "    scores_nfs_mcc.append(mcc)\n",
    "    auc = roc_auc_score(y_test,y_predict)\n",
    "    scores_nfs_auc.append(auc)\n",
    "    f1 = f1_score(y_test,y_predict)\n",
    "    scores_nfs_f1.append(f1)\n",
    "    precision = precision_score(y_test,y_predict)\n",
    "    scores_nfs_precision.append(precision)\n",
    "    recall = recall_score(y_test,y_predict)\n",
    "    scores_nfs_recall.append(recall)"
   ],
   "metadata": {
    "collapsed": false,
    "ExecuteTime": {
     "end_time": "2024-03-11T18:20:25.145087100Z",
     "start_time": "2024-03-11T18:20:20.363341800Z"
    }
   },
   "id": "2f48527b3c9c8ded"
  },
  {
   "cell_type": "code",
   "execution_count": 8,
   "outputs": [
    {
     "name": "stdout",
     "output_type": "stream",
     "text": [
      "[0.6434108527131783, 0.7093023255813954, 0.6705426356589147, 0.7054263565891473, 0.6744186046511628, 0.6589147286821705, 0.686046511627907, 0.6937984496124031, 0.7170542635658915, 0.6976744186046512]\n",
      "0.6856589147286822 0.0005556890945389243\n"
     ]
    }
   ],
   "source": [
    "print(scores_nfs_ac)\n",
    "print(statistics.mean(scores_nfs_ac),statistics.variance(scores_nfs_ac))"
   ],
   "metadata": {
    "collapsed": false,
    "ExecuteTime": {
     "end_time": "2024-03-11T18:20:33.824249500Z",
     "start_time": "2024-03-11T18:20:33.803283400Z"
    }
   },
   "id": "f1e2dacd62f78e1e"
  },
  {
   "cell_type": "code",
   "execution_count": 9,
   "outputs": [],
   "source": [
    "model_mlp_lasso = load('../../../model/MLP_model_lasso.joblib')\n",
    "scores_lasso_ac = []\n",
    "scores_lasso_mcc = []\n",
    "scores_lasso_auc = []\n",
    "scores_lasso_f1 = []\n",
    "scores_lasso_precision = []\n",
    "scores_lasso_recall = []\n",
    "feature_lasso = ['GC_Content', 'CAI', 'A', 'N', 'H', 'nSE3', 'nGE3']\n",
    "for train_index, test_index in kf.split(Xs):\n",
    "    X_train_fold, X_test_fold = Xs.iloc[train_index], Xs.iloc[test_index]\n",
    "    y_train_fold, y_test = y.iloc[train_index], y.iloc[test_index]\n",
    "    X_train_undersampled, y_train_undersampled = rus.fit_resample(X_train_fold, y_train_fold)\n",
    "    model_mlp_lasso.fit(X_train_undersampled[feature_lasso], y_train_undersampled)\n",
    "    y_predict = model_mlp_lasso.predict(X_test_fold[feature_lasso])\n",
    "    acc=accuracy_score(y_test, y_predict)\n",
    "    scores_lasso_ac.append(acc)\n",
    "    mcc = matthews_corrcoef(y_test,y_predict)\n",
    "    scores_lasso_mcc.append(mcc)\n",
    "    auc = roc_auc_score(y_test,y_predict)\n",
    "    scores_lasso_auc.append(auc)\n",
    "    f1 = f1_score(y_test,y_predict)\n",
    "    scores_lasso_f1.append(f1)\n",
    "    precision = precision_score(y_test,y_predict)\n",
    "    scores_lasso_precision.append(precision)\n",
    "    recall = recall_score(y_test,y_predict)\n",
    "    scores_lasso_recall.append(recall)"
   ],
   "metadata": {
    "collapsed": false,
    "ExecuteTime": {
     "end_time": "2024-03-11T18:20:36.790753900Z",
     "start_time": "2024-03-11T18:20:34.335926800Z"
    }
   },
   "id": "732def30be9a9800"
  },
  {
   "cell_type": "code",
   "execution_count": 10,
   "outputs": [
    {
     "name": "stdout",
     "output_type": "stream",
     "text": [
      "[0.4844961240310077, 0.6085271317829457, 0.686046511627907, 0.5891472868217055, 0.437984496124031, 0.4108527131782946, 0.375968992248062, 0.5232558139534884, 0.8062015503875969, 0.7403100775193798]\n",
      "0.5662790697674419 0.018987590889970554\n"
     ]
    }
   ],
   "source": [
    "print(scores_lasso_ac)\n",
    "print(np.mean(scores_lasso_ac),np.var(scores_lasso_ac))"
   ],
   "metadata": {
    "collapsed": false,
    "ExecuteTime": {
     "end_time": "2024-03-11T18:20:38.342931700Z",
     "start_time": "2024-03-11T18:20:38.330165500Z"
    }
   },
   "id": "16914cddb07a87de"
  },
  {
   "cell_type": "code",
   "execution_count": 11,
   "outputs": [],
   "source": [
    "model_svm_rfe = load('../../../model/SVM_model.joblib')\n",
    "scores_rfe_ac = []\n",
    "scores_rfe_mcc = []\n",
    "scores_rfe_auc = []\n",
    "scores_rfe_f1 = []\n",
    "scores_rfe_precision = []\n",
    "scores_rfe_recall = []\n",
    "feature_rfe = ['CAI', 'R', 'N', 'D', 'C', 'Q', 'G', 'H', 'F', 'P', 'T', 'Y', 'nSE2', 'nGE2']\n",
    "for train_index, test_index in kf.split(Xs):\n",
    "    X_train_fold, X_test_fold = Xs.iloc[train_index], Xs.iloc[test_index]\n",
    "    y_train_fold, y_test = y.iloc[train_index], y.iloc[test_index]\n",
    "    X_train_undersampled, y_train_undersampled = rus.fit_resample(X_train_fold, y_train_fold)\n",
    "    model_svm_rfe.fit(X_train_undersampled[feature_rfe], y_train_undersampled)\n",
    "    y_predict = model_svm_rfe.predict(X_test_fold[feature_rfe])\n",
    "    acc=accuracy_score(y_test, y_predict)\n",
    "    scores_rfe_ac.append(acc)\n",
    "    mcc = matthews_corrcoef(y_test,y_predict)\n",
    "    scores_rfe_mcc.append(mcc)\n",
    "    auc = roc_auc_score(y_test,y_predict)\n",
    "    scores_rfe_auc.append(auc)\n",
    "    f1 = f1_score(y_test,y_predict)\n",
    "    scores_rfe_f1.append(f1)\n",
    "    precision = precision_score(y_test,y_predict)\n",
    "    scores_rfe_precision.append(precision)\n",
    "    recall = recall_score(y_test,y_predict)\n",
    "    scores_rfe_recall.append(recall)"
   ],
   "metadata": {
    "collapsed": false,
    "ExecuteTime": {
     "end_time": "2024-03-11T18:20:39.423981500Z",
     "start_time": "2024-03-11T18:20:38.888330200Z"
    }
   },
   "id": "269a33174feda568"
  },
  {
   "cell_type": "code",
   "execution_count": 12,
   "outputs": [
    {
     "name": "stdout",
     "output_type": "stream",
     "text": [
      "[0.6007751937984496, 0.627906976744186, 0.6046511627906976, 0.686046511627907, 0.6550387596899225, 0.627906976744186, 0.627906976744186, 0.6356589147286822, 0.6821705426356589, 0.6705426356589147]\n",
      "0.6418604651162791 0.0008268733850129203\n"
     ]
    }
   ],
   "source": [
    "print(scores_rfe_ac)\n",
    "print(np.mean(scores_rfe_ac),np.var(scores_rfe_ac))"
   ],
   "metadata": {
    "collapsed": false,
    "ExecuteTime": {
     "end_time": "2024-03-11T18:21:11.210325900Z",
     "start_time": "2024-03-11T18:21:11.194451600Z"
    }
   },
   "id": "c17e6efed7350cc8"
  },
  {
   "cell_type": "code",
   "execution_count": 18,
   "outputs": [],
   "source": [
    "def generateString(scores):\n",
    "    mean_score = round(np.mean(scores),4)\n",
    "    var_score = round(np.var(scores),4)\n",
    "    return f'{mean_score}±{var_score}'"
   ],
   "metadata": {
    "collapsed": false,
    "ExecuteTime": {
     "end_time": "2024-03-11T18:31:03.530549600Z",
     "start_time": "2024-03-11T18:31:03.507400800Z"
    }
   },
   "id": "5e5de710c8425c5f"
  },
  {
   "cell_type": "code",
   "execution_count": 19,
   "outputs": [],
   "source": [
    "import csv\n",
    "\n",
    "with open('resultsN315.csv', 'w', newline='') as file:\n",
    "    writer = csv.writer(file)\n",
    "    writer.writerow(['Type','ACC','MCC','AUC','F1','Precision', 'Recall'])\n",
    "    writer.writerow(['nFS',generateString(scores_nfs_ac),generateString(scores_nfs_mcc),generateString(scores_nfs_auc),generateString(scores_nfs_f1),generateString(scores_nfs_precision),generateString(scores_nfs_recall)])\n",
    "    writer.writerow(['Lasso',generateString(scores_lasso_ac),generateString(scores_lasso_mcc),generateString(scores_lasso_auc),generateString(scores_lasso_f1),generateString(scores_lasso_precision),generateString(scores_lasso_recall)])\n",
    "    writer.writerow(['RFE',generateString(scores_rfe_ac),generateString(scores_rfe_mcc),generateString(scores_rfe_auc),generateString(scores_rfe_f1),generateString(scores_rfe_precision),generateString(scores_rfe_recall)])\n",
    "    writer.writerow(['FSS',generateString(scores_fss_ac),generateString(scores_fss_mcc),generateString(scores_fss_auc),generateString(scores_fss_f1),generateString(scores_fss_precision),generateString(scores_fss_recall)])"
   ],
   "metadata": {
    "collapsed": false,
    "ExecuteTime": {
     "end_time": "2024-03-11T18:31:04.057641700Z",
     "start_time": "2024-03-11T18:31:04.018481900Z"
    }
   },
   "id": "b2de3d77d8600939"
  },
  {
   "cell_type": "code",
   "execution_count": null,
   "outputs": [],
   "source": [],
   "metadata": {
    "collapsed": false
   },
   "id": "6c78387cc3a4b998"
  }
 ],
 "metadata": {
  "kernelspec": {
   "display_name": "Python 3",
   "language": "python",
   "name": "python3"
  },
  "language_info": {
   "codemirror_mode": {
    "name": "ipython",
    "version": 2
   },
   "file_extension": ".py",
   "mimetype": "text/x-python",
   "name": "python",
   "nbconvert_exporter": "python",
   "pygments_lexer": "ipython2",
   "version": "2.7.6"
  }
 },
 "nbformat": 4,
 "nbformat_minor": 5
}
