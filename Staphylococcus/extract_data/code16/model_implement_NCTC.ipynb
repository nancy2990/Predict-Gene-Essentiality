{
 "cells": [
  {
   "cell_type": "code",
   "execution_count": 1,
   "id": "initial_id",
   "metadata": {
    "collapsed": true,
    "ExecuteTime": {
     "end_time": "2024-03-05T16:02:17.952319Z",
     "start_time": "2024-03-05T16:02:11.980467100Z"
    }
   },
   "outputs": [],
   "source": [
    "import pandas as pd\n",
    "\n",
    "from imblearn.under_sampling import RandomUnderSampler\n",
    "from matplotlib import pyplot as plt\n",
    "from sklearn.model_selection import KFold\n",
    "\n",
    "from joblib import load\n",
    "from sklearn.metrics import accuracy_score\n",
    "from sklearn.feature_selection import RFE"
   ]
  },
  {
   "cell_type": "code",
   "execution_count": 2,
   "outputs": [],
   "source": [
    "df = pd.read_csv(\"NCTCoutput.csv\",index_col=False)"
   ],
   "metadata": {
    "collapsed": false,
    "ExecuteTime": {
     "end_time": "2024-03-05T16:02:21.191982900Z",
     "start_time": "2024-03-05T16:02:21.021201600Z"
    }
   },
   "id": "8f4bed1a6bb7dfae"
  },
  {
   "cell_type": "code",
   "execution_count": 3,
   "outputs": [],
   "source": [
    "rus = RandomUnderSampler(sampling_strategy='auto', random_state=42)"
   ],
   "metadata": {
    "collapsed": false,
    "ExecuteTime": {
     "end_time": "2024-03-05T16:02:23.683043200Z",
     "start_time": "2024-03-05T16:02:23.633582700Z"
    }
   },
   "id": "25aeb6d58714abb1"
  },
  {
   "cell_type": "code",
   "execution_count": 4,
   "outputs": [],
   "source": [
    "selected_columns=[\"locus tag\",\"essential\",\"DNA\",\"protein sequence\"]\n",
    "Xs= df.drop(columns=selected_columns)\n",
    "y=df[\"essential\"]"
   ],
   "metadata": {
    "collapsed": false,
    "ExecuteTime": {
     "end_time": "2024-03-05T16:02:24.618016100Z",
     "start_time": "2024-03-05T16:02:24.597386Z"
    }
   },
   "id": "7a5e2531f7b6097"
  },
  {
   "cell_type": "code",
   "execution_count": 5,
   "outputs": [],
   "source": [
    "model = load(\"../../../model/RF_model.joblib\")"
   ],
   "metadata": {
    "collapsed": false,
    "ExecuteTime": {
     "end_time": "2024-03-05T16:02:26.427403700Z",
     "start_time": "2024-03-05T16:02:25.931118600Z"
    }
   },
   "id": "a31c930ca03bba3a"
  },
  {
   "cell_type": "code",
   "execution_count": 6,
   "outputs": [
    {
     "name": "stdout",
     "output_type": "stream",
     "text": [
      "0.6056338028169014\n",
      "0.6232394366197183\n",
      "0.5985915492957746\n",
      "0.6267605633802817\n",
      "0.5704225352112676\n",
      "0.5950704225352113\n",
      "0.6373239436619719\n",
      "0.6161971830985915\n",
      "0.5985915492957746\n",
      "0.7031802120141343\n"
     ]
    }
   ],
   "source": [
    "kf = KFold(n_splits=10, shuffle=True, random_state=42)\n",
    "accuracy_rf = []\n",
    "\n",
    "# 对每个折叠进行迭代\n",
    "for train_index, test_index in kf.split(Xs):\n",
    "    X_train_fold, X_test_fold = Xs.iloc[train_index], Xs.iloc[test_index]\n",
    "    y_train_fold, y_test_fold = y.iloc[train_index], y.iloc[test_index]\n",
    "    \n",
    "    # 对训练集进行下采样\n",
    "    X_train_undersampled, y_train_undersampled = rus.fit_resample(X_train_fold, y_train_fold)\n",
    "    \n",
    "    # 在下采样后的训练集上训练模型\n",
    "    model.fit(X_train_undersampled, y_train_undersampled)\n",
    "    \n",
    "    # 在测试集上进行预测\n",
    "    y_pred_fold = model.predict(X_test_fold)\n",
    "    \n",
    "    accuracy_fold = accuracy_score(y_test_fold, y_pred_fold)\n",
    "    print(accuracy_fold)\n",
    "    \n",
    "    # 存储当前折叠的准确率\n",
    "    accuracy_rf.append(accuracy_fold)"
   ],
   "metadata": {
    "collapsed": false,
    "ExecuteTime": {
     "end_time": "2024-03-05T16:02:51.612575200Z",
     "start_time": "2024-03-05T16:02:27.771277Z"
    }
   },
   "id": "2809155894c0d944"
  },
  {
   "cell_type": "code",
   "execution_count": 7,
   "outputs": [],
   "source": [
    "model_rf_fs = load(\"../../../model/RF_FS_model.joblib\")"
   ],
   "metadata": {
    "collapsed": false,
    "ExecuteTime": {
     "end_time": "2024-03-05T16:02:56.811057300Z",
     "start_time": "2024-03-05T16:02:56.538487700Z"
    }
   },
   "id": "f6b735fae782259"
  },
  {
   "cell_type": "code",
   "execution_count": 8,
   "outputs": [
    {
     "name": "stdout",
     "output_type": "stream",
     "text": [
      "0.7077464788732394\n",
      "0.8591549295774648\n",
      "0.7077464788732394\n",
      "0.8732394366197183\n",
      "0.8274647887323944\n",
      "0.8133802816901409\n",
      "0.8133802816901409\n",
      "0.7922535211267606\n",
      "0.7147887323943662\n",
      "0.7031802120141343\n"
     ]
    }
   ],
   "source": [
    "accuracy_rf_fs = []\n",
    "for train_index, test_index in kf.split(Xs):\n",
    "    X_train_fold, X_test_fold = Xs.iloc[train_index], Xs.iloc[test_index]\n",
    "    y_train_fold, y_test_fold = y.iloc[train_index], y.iloc[test_index]\n",
    "    \n",
    "    X_train_undersampled, y_train_undersampled = rus.fit_resample(X_train_fold, y_train_fold)\n",
    "    rfe = RFE(model_rf_fs, n_features_to_select=9)\n",
    "    X_selected = rfe.fit_transform(X_train_undersampled, y_train_undersampled)\n",
    "    model_rf_fs.fit(X_selected,y_train_undersampled)\n",
    "    X_test = rfe.fit_transform(X_test_fold,y_test_fold)\n",
    "    y_pred_fold = model_rf_fs.predict(X_test)\n",
    "    \n",
    "    accuracy_fold = accuracy_score(y_test_fold, y_pred_fold)\n",
    "    print(accuracy_fold)\n",
    "    \n",
    "    # 存储当前折叠的准确率\n",
    "    accuracy_rf_fs.append(accuracy_fold)"
   ],
   "metadata": {
    "collapsed": false,
    "ExecuteTime": {
     "end_time": "2024-03-05T16:09:25.656483800Z",
     "start_time": "2024-03-05T16:02:59.168933300Z"
    }
   },
   "id": "a51990b18b7c6556"
  },
  {
   "cell_type": "code",
   "execution_count": 9,
   "outputs": [
    {
     "name": "stdout",
     "output_type": "stream",
     "text": [
      "0.6936619718309859\n",
      "0.704225352112676\n",
      "0.7288732394366197\n",
      "0.721830985915493\n",
      "0.7147887323943662\n",
      "0.6901408450704225\n",
      "0.7394366197183099\n",
      "0.7288732394366197\n",
      "0.7112676056338029\n",
      "0.7173144876325088\n"
     ]
    }
   ],
   "source": [
    "model_xgb = load(\"../../../model/XGB_model.joblib\")\n",
    "accuracy_xgb = []\n",
    "for train_index, test_index in kf.split(Xs):\n",
    "    X_train_fold, X_test_fold = Xs.iloc[train_index], Xs.iloc[test_index]\n",
    "    y_train_fold, y_test_fold = y.iloc[train_index], y.iloc[test_index]\n",
    "    \n",
    "    X_train_undersampled, y_train_undersampled = rus.fit_resample(X_train_fold, y_train_fold)\n",
    "    \n",
    "    model_xgb.fit(X_train_undersampled, y_train_undersampled)\n",
    "    \n",
    "    # 在测试集上进行预测\n",
    "    y_pred_fold = model_xgb.predict(X_test_fold)\n",
    "    \n",
    "    accuracy_fold = accuracy_score(y_test_fold, y_pred_fold)\n",
    "    print(accuracy_fold)\n",
    "    \n",
    "    # 存储当前折叠的准确率\n",
    "    accuracy_xgb.append(accuracy_fold)"
   ],
   "metadata": {
    "collapsed": false,
    "ExecuteTime": {
     "end_time": "2024-03-05T16:09:48.237285400Z",
     "start_time": "2024-03-05T16:09:44.522610300Z"
    }
   },
   "id": "d66ed93d0661144d"
  },
  {
   "cell_type": "code",
   "execution_count": 10,
   "outputs": [
    {
     "name": "stdout",
     "output_type": "stream",
     "text": [
      "0.8098591549295775\n",
      "0.9084507042253521\n",
      "0.647887323943662\n",
      "0.8943661971830986\n",
      "0.852112676056338\n",
      "0.8802816901408451\n",
      "0.852112676056338\n",
      "0.8591549295774648\n",
      "0.778169014084507\n",
      "0.8056537102473498\n"
     ]
    }
   ],
   "source": [
    "model_xgb_fs = load(\"../../../model/XGB_FS_model.joblib\")\n",
    "accuracy_xgb_fs = []\n",
    "for train_index, test_index in kf.split(Xs):\n",
    "    X_train_fold, X_test_fold = Xs.iloc[train_index], Xs.iloc[test_index]\n",
    "    y_train_fold, y_test_fold = y.iloc[train_index], y.iloc[test_index]\n",
    "    \n",
    "    X_train_undersampled, y_train_undersampled = rus.fit_resample(X_train_fold, y_train_fold)\n",
    "    rfe = RFE(model_xgb_fs, n_features_to_select=6)\n",
    "    X_selected = rfe.fit_transform(X_train_undersampled, y_train_undersampled)\n",
    "    model_xgb_fs.fit(X_selected,y_train_undersampled)\n",
    "    X_test = rfe.fit_transform(X_test_fold,y_test_fold)\n",
    "    y_pred_fold = model_xgb_fs.predict(X_test)\n",
    "    \n",
    "    accuracy_fold = accuracy_score(y_test_fold, y_pred_fold)\n",
    "    print(accuracy_fold)\n",
    "    \n",
    "    # 存储当前折叠的准确率\n",
    "    accuracy_xgb_fs.append(accuracy_fold)"
   ],
   "metadata": {
    "collapsed": false,
    "ExecuteTime": {
     "end_time": "2024-03-05T16:11:38.648974400Z",
     "start_time": "2024-03-05T16:10:25.972117300Z"
    }
   },
   "id": "a31e431b517a51a9"
  },
  {
   "cell_type": "code",
   "execution_count": 11,
   "outputs": [
    {
     "name": "stdout",
     "output_type": "stream",
     "text": [
      "0.7640845070422535\n",
      "0.6619718309859155\n",
      "0.721830985915493\n",
      "0.647887323943662\n",
      "0.7359154929577465\n",
      "0.7007042253521126\n",
      "0.6795774647887324\n",
      "0.5633802816901409\n",
      "0.7570422535211268\n",
      "0.6855123674911661\n"
     ]
    }
   ],
   "source": [
    "model_mlp = load(\"../../../model/MLP_model.joblib\")\n",
    "accuracy_mlp = []\n",
    "for train_index, test_index in kf.split(Xs):\n",
    "    X_train_fold, X_test_fold = Xs.iloc[train_index], Xs.iloc[test_index]\n",
    "    y_train_fold, y_test_fold = y.iloc[train_index], y.iloc[test_index]\n",
    "    \n",
    "    X_train_undersampled, y_train_undersampled = rus.fit_resample(X_train_fold, y_train_fold)\n",
    "    \n",
    "    model_mlp.fit(X_train_undersampled, y_train_undersampled)\n",
    "    \n",
    "    # 在测试集上进行预测\n",
    "    y_pred_fold = model_mlp.predict(X_test_fold)\n",
    "    \n",
    "    accuracy_fold = accuracy_score(y_test_fold, y_pred_fold)\n",
    "    print(accuracy_fold)\n",
    "    \n",
    "    # 存储当前折叠的准确率\n",
    "    accuracy_mlp.append(accuracy_fold)"
   ],
   "metadata": {
    "collapsed": false,
    "ExecuteTime": {
     "end_time": "2024-03-05T16:12:28.931372700Z",
     "start_time": "2024-03-05T16:12:15.654926900Z"
    }
   },
   "id": "7b6664eb4f52c3c2"
  },
  {
   "cell_type": "code",
   "execution_count": 12,
   "outputs": [
    {
     "name": "stdout",
     "output_type": "stream",
     "text": [
      "0.7711267605633803\n",
      "0.7640845070422535\n",
      "0.7640845070422535\n",
      "0.7852112676056338\n",
      "0.7147887323943662\n",
      "0.7077464788732394\n",
      "0.7711267605633803\n",
      "0.7746478873239436\n",
      "0.7077464788732394\n",
      "0.784452296819788\n"
     ]
    }
   ],
   "source": [
    "model_svm = load(\"../../../model/SVM_model.joblib\")\n",
    "accuracy_svm = []\n",
    "for train_index, test_index in kf.split(Xs):\n",
    "    X_train_fold, X_test_fold = Xs.iloc[train_index], Xs.iloc[test_index]\n",
    "    y_train_fold, y_test_fold = y.iloc[train_index], y.iloc[test_index]\n",
    "    \n",
    "    X_train_undersampled, y_train_undersampled = rus.fit_resample(X_train_fold, y_train_fold)\n",
    "    \n",
    "    model_svm.fit(X_train_undersampled, y_train_undersampled)\n",
    "    \n",
    "    # 在测试集上进行预测\n",
    "    y_pred_fold = model_svm.predict(X_test_fold)\n",
    "    \n",
    "    accuracy_fold = accuracy_score(y_test_fold, y_pred_fold)\n",
    "    print(accuracy_fold)\n",
    "    \n",
    "    # 存储当前折叠的准确率\n",
    "    accuracy_svm.append(accuracy_fold)"
   ],
   "metadata": {
    "collapsed": false,
    "ExecuteTime": {
     "end_time": "2024-03-05T16:13:27.151954200Z",
     "start_time": "2024-03-05T16:13:26.434041500Z"
    }
   },
   "id": "b6dbc7e6e206a7f5"
  },
  {
   "cell_type": "code",
   "execution_count": 13,
   "outputs": [
    {
     "name": "stdout",
     "output_type": "stream",
     "text": [
      "0.4119718309859155\n",
      "0.40492957746478875\n",
      "0.4647887323943662\n",
      "0.41901408450704225\n",
      "0.4507042253521127\n",
      "0.4295774647887324\n",
      "0.41901408450704225\n",
      "0.40492957746478875\n",
      "0.4119718309859155\n",
      "0.38162544169611307\n"
     ]
    }
   ],
   "source": [
    "model_nb = load(\"../../../model/NB_model.joblib\")\n",
    "accuracy_nb = []\n",
    "for train_index, test_index in kf.split(Xs):\n",
    "    X_train_fold, X_test_fold = Xs.iloc[train_index], Xs.iloc[test_index]\n",
    "    y_train_fold, y_test_fold = y.iloc[train_index], y.iloc[test_index]\n",
    "    \n",
    "    X_train_undersampled, y_train_undersampled = rus.fit_resample(X_train_fold, y_train_fold)\n",
    "    \n",
    "    model_nb.fit(X_train_undersampled, y_train_undersampled)\n",
    "    \n",
    "    # 在测试集上进行预测\n",
    "    y_pred_fold = model_nb.predict(X_test_fold)\n",
    "    \n",
    "    accuracy_fold = accuracy_score(y_test_fold, y_pred_fold)\n",
    "    print(accuracy_fold)\n",
    "    \n",
    "    # 存储当前折叠的准确率\n",
    "    accuracy_nb.append(accuracy_fold)"
   ],
   "metadata": {
    "collapsed": false,
    "ExecuteTime": {
     "end_time": "2024-03-05T16:13:29.990836400Z",
     "start_time": "2024-03-05T16:13:29.703199Z"
    }
   },
   "id": "8c52f367d8b6cc85"
  },
  {
   "cell_type": "code",
   "execution_count": 14,
   "outputs": [],
   "source": [
    "models = ['Random Forest', 'XGBoost', 'Naive Bayes', 'MLP', 'SVM']\n",
    "\n",
    "# 创建一个包含均值和方差的字典\n",
    "data = {\n",
    "    'Model': models,\n",
    "    'Mean Accuracy': [pd.Series(accuracy_rf).mean(), pd.Series(accuracy_xgb).mean(), pd.Series(accuracy_nb).mean(), pd.Series(accuracy_mlp).mean(), pd.Series(accuracy_svm).mean()],\n",
    "    'Variance': [pd.Series(accuracy_rf).var(), pd.Series(accuracy_xgb).var(), pd.Series(accuracy_nb).var(), pd.Series(accuracy_mlp).var(), pd.Series(accuracy_svm).var()]\n",
    "}\n",
    "\n",
    "# 创建DataFrame\n",
    "df = pd.DataFrame(data)\n",
    "\n",
    "# 将DataFrame写入CSV文件\n",
    "df.to_csv('model_NCTCaccuracy.csv', index=False)"
   ],
   "metadata": {
    "collapsed": false,
    "ExecuteTime": {
     "end_time": "2024-03-05T16:13:33.707086800Z",
     "start_time": "2024-03-05T16:13:33.647625Z"
    }
   },
   "id": "bcad0dfffd12e16d"
  },
  {
   "cell_type": "code",
   "execution_count": 15,
   "outputs": [],
   "source": [
    "models = ['Random Forest', 'XGBoost']\n",
    "\n",
    "# 创建一个包含均值和方差的字典\n",
    "data = {\n",
    "    'Model': models,\n",
    "    'Mean Accuracy': [pd.Series(accuracy_rf_fs).mean(), pd.Series(accuracy_xgb_fs).mean()],\n",
    "    'Variance': [pd.Series(accuracy_rf_fs).var(), pd.Series(accuracy_xgb_fs).var()]\n",
    "}\n",
    "\n",
    "# 创建DataFrame\n",
    "df = pd.DataFrame(data)\n",
    "\n",
    "# 将DataFrame写入CSV文件\n",
    "df.to_csv('model_NCTCfs_accuracy.csv', index=False)"
   ],
   "metadata": {
    "collapsed": false,
    "ExecuteTime": {
     "end_time": "2024-03-05T16:13:36.090394500Z",
     "start_time": "2024-03-05T16:13:36.031550900Z"
    }
   },
   "id": "b31e3a28aec21e76"
  },
  {
   "cell_type": "code",
   "execution_count": 19,
   "outputs": [
    {
     "data": {
      "text/plain": "<Figure size 432x288 with 1 Axes>",
      "image/png": "[encoded data removed]"
     },
     "metadata": {
      "needs_background": "light"
     },
     "output_type": "display_data"
    }
   ],
   "source": [
    "x = [f\"fold{i}\" for i in range(1, 11)]\n",
    "plt.plot(x, accuracy_xgb, label='XGBoost')\n",
    "plt.plot(x, accuracy_svm, label='SVM')\n",
    "plt.plot(x, accuracy_mlp, label='MLP')\n",
    "plt.plot(x, accuracy_nb, label='GaussianNB')\n",
    "plt.plot(x, accuracy_rf, label='Random Forest')\n",
    "\n",
    "# 添加图例\n",
    "plt.legend()\n",
    "\n",
    "# 添加标题和轴标签\n",
    "plt.title('Accuracy for E. coli')\n",
    "plt.xlabel('Test Dataset')\n",
    "plt.ylabel('Accuracy')\n",
    "plt.xticks(rotation=25)\n",
    "# 显示图形\n",
    "plt.grid(True)\n",
    "plt.savefig('NCTC.jpg')\n",
    "plt.show()"
   ],
   "metadata": {
    "collapsed": false,
    "ExecuteTime": {
     "end_time": "2024-03-05T16:14:29.009979300Z",
     "start_time": "2024-03-05T16:14:28.027129700Z"
    }
   },
   "id": "344e0f2e1a9e0c28"
  },
  {
   "cell_type": "code",
   "execution_count": 18,
   "outputs": [
    {
     "data": {
      "text/plain": "<Figure size 432x288 with 1 Axes>",
      "image/png": "[encoded data removed]"
     },
     "metadata": {
      "needs_background": "light"
     },
     "output_type": "display_data"
    }
   ],
   "source": [
    "x = [f\"fold{i}\" for i in range(1, 11)]\n",
    "plt.plot(x, accuracy_xgb_fs, label='XGBoost')\n",
    "plt.plot(x, accuracy_rf_fs, label='Random Forest')\n",
    "\n",
    "# 添加图例\n",
    "plt.legend()\n",
    "\n",
    "# 添加标题和轴标签\n",
    "plt.title('Accuracy for E. coli after feature selection')\n",
    "plt.xlabel('Test Dataset')\n",
    "plt.ylabel('Accuracy')\n",
    "plt.xticks(rotation=25)\n",
    "# 显示图形\n",
    "plt.grid(True)\n",
    "plt.savefig('NCTC_fs.jpg')\n",
    "plt.show()"
   ],
   "metadata": {
    "collapsed": false,
    "ExecuteTime": {
     "end_time": "2024-03-05T16:14:22.043776400Z",
     "start_time": "2024-03-05T16:14:21.721706800Z"
    }
   },
   "id": "c757cd28aad2a50a"
  },
  {
   "cell_type": "code",
   "execution_count": null,
   "outputs": [],
   "source": [],
   "metadata": {
    "collapsed": false
   },
   "id": "66ff4538a223215f"
  }
 ],
 "metadata": {
  "kernelspec": {
   "display_name": "Python 3",
   "language": "python",
   "name": "python3"
  },
  "language_info": {
   "codemirror_mode": {
    "name": "ipython",
    "version": 2
   },
   "file_extension": ".py",
   "mimetype": "text/x-python",
   "name": "python",
   "nbconvert_exporter": "python",
   "pygments_lexer": "ipython2",
   "version": "2.7.6"
  }
 },
 "nbformat": 4,
 "nbformat_minor": 5
}
