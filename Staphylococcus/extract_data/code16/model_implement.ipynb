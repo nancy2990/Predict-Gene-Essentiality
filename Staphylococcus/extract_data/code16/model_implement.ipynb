{
 "cells": [
  {
   "cell_type": "code",
   "execution_count": 1,
   "id": "initial_id",
   "metadata": {
    "collapsed": true,
    "ExecuteTime": {
     "end_time": "2024-03-05T15:37:39.581639100Z",
     "start_time": "2024-03-05T15:37:37.118738400Z"
    }
   },
   "outputs": [],
   "source": [
    "import pandas as pd\n",
    "\n",
    "from imblearn.under_sampling import RandomUnderSampler\n",
    "from matplotlib import pyplot as plt\n",
    "from sklearn.model_selection import KFold\n",
    "\n",
    "from joblib import load\n",
    "from sklearn.metrics import accuracy_score\n",
    "from sklearn.feature_selection import RFE"
   ]
  },
  {
   "cell_type": "code",
   "execution_count": 3,
   "outputs": [],
   "source": [
    "df = pd.read_csv(\"N315output.csv\",index_col=False)"
   ],
   "metadata": {
    "collapsed": false,
    "ExecuteTime": {
     "end_time": "2024-03-05T15:38:49.418279300Z",
     "start_time": "2024-03-05T15:38:49.339818100Z"
    }
   },
   "id": "8f4bed1a6bb7dfae"
  },
  {
   "cell_type": "code",
   "execution_count": 4,
   "outputs": [],
   "source": [
    "rus = RandomUnderSampler(sampling_strategy='auto', random_state=42)"
   ],
   "metadata": {
    "collapsed": false,
    "ExecuteTime": {
     "end_time": "2024-03-05T15:38:51.790116800Z",
     "start_time": "2024-03-05T15:38:51.774254900Z"
    }
   },
   "id": "25aeb6d58714abb1"
  },
  {
   "cell_type": "code",
   "execution_count": 5,
   "outputs": [],
   "source": [
    "selected_columns=[\"locus tag\",\"essential\",\"DNA\",\"protein sequence\"]\n",
    "Xs= df.drop(columns=selected_columns)\n",
    "y=df[\"essential\"]"
   ],
   "metadata": {
    "collapsed": false,
    "ExecuteTime": {
     "end_time": "2024-03-05T15:38:53.093956100Z",
     "start_time": "2024-03-05T15:38:53.054503900Z"
    }
   },
   "id": "7a5e2531f7b6097"
  },
  {
   "cell_type": "code",
   "execution_count": 7,
   "outputs": [],
   "source": [
    "model = load(\"../../../model/RF_model.joblib\")"
   ],
   "metadata": {
    "collapsed": false,
    "ExecuteTime": {
     "end_time": "2024-03-05T15:39:04.159585300Z",
     "start_time": "2024-03-05T15:39:03.950863300Z"
    }
   },
   "id": "a31c930ca03bba3a"
  },
  {
   "cell_type": "code",
   "execution_count": 8,
   "outputs": [
    {
     "name": "stdout",
     "output_type": "stream",
     "text": [
      "0.6046511627906976\n",
      "0.5891472868217055\n",
      "0.5426356589147286\n",
      "0.627906976744186\n",
      "0.5968992248062015\n",
      "0.5736434108527132\n",
      "0.562015503875969\n",
      "0.627906976744186\n",
      "0.6550387596899225\n",
      "0.6124031007751938\n"
     ]
    }
   ],
   "source": [
    "kf = KFold(n_splits=10, shuffle=True, random_state=42)\n",
    "accuracy_rf = []\n",
    "\n",
    "for train_index, test_index in kf.split(Xs):\n",
    "    X_train_fold, X_test_fold = Xs.iloc[train_index], Xs.iloc[test_index]\n",
    "    y_train_fold, y_test_fold = y.iloc[train_index], y.iloc[test_index]\n",
    "    X_train_undersampled, y_train_undersampled = rus.fit_resample(X_train_fold, y_train_fold)\n",
    "    \n",
    "    model.fit(X_train_undersampled, y_train_undersampled)\n",
    "    \n",
    "    y_pred_fold = model.predict(X_test_fold)\n",
    "    \n",
    "    accuracy_fold = accuracy_score(y_test_fold, y_pred_fold)\n",
    "    print(accuracy_fold)\n",
    "    \n",
    "    accuracy_rf.append(accuracy_fold)"
   ],
   "metadata": {
    "collapsed": false,
    "ExecuteTime": {
     "end_time": "2024-03-05T15:39:22.487808600Z",
     "start_time": "2024-03-05T15:39:09.654621500Z"
    }
   },
   "id": "2809155894c0d944"
  },
  {
   "cell_type": "code",
   "execution_count": 10,
   "outputs": [],
   "source": [
    "model_rf_fs = load(\"../../../model/RF_FS_model.joblib\")"
   ],
   "metadata": {
    "collapsed": false,
    "ExecuteTime": {
     "end_time": "2024-03-05T15:40:19.297715200Z",
     "start_time": "2024-03-05T15:40:19.158629500Z"
    }
   },
   "id": "f6b735fae782259"
  },
  {
   "cell_type": "code",
   "execution_count": 11,
   "outputs": [
    {
     "name": "stdout",
     "output_type": "stream",
     "text": [
      "0.7015503875968992\n",
      "0.7868217054263565\n",
      "0.7093023255813954\n",
      "0.8023255813953488\n",
      "0.6124031007751938\n",
      "0.7403100775193798\n",
      "0.6007751937984496\n",
      "0.6317829457364341\n",
      "0.6782945736434108\n",
      "0.6589147286821705\n"
     ]
    }
   ],
   "source": [
    "accuracy_rf_fs = []\n",
    "for train_index, test_index in kf.split(Xs):\n",
    "    X_train_fold, X_test_fold = Xs.iloc[train_index], Xs.iloc[test_index]\n",
    "    y_train_fold, y_test_fold = y.iloc[train_index], y.iloc[test_index]\n",
    "    \n",
    "    X_train_undersampled, y_train_undersampled = rus.fit_resample(X_train_fold, y_train_fold)\n",
    "    rfe = RFE(model_rf_fs, n_features_to_select=9)\n",
    "    X_selected = rfe.fit_transform(X_train_undersampled, y_train_undersampled)\n",
    "    model_rf_fs.fit(X_selected,y_train_undersampled)\n",
    "    X_test = rfe.fit_transform(X_test_fold,y_test_fold)\n",
    "    y_pred_fold = model_rf_fs.predict(X_test)\n",
    "    \n",
    "    accuracy_fold = accuracy_score(y_test_fold, y_pred_fold)\n",
    "    print(accuracy_fold)\n",
    "    \n",
    "    # 存储当前折叠的准确率\n",
    "    accuracy_rf_fs.append(accuracy_fold)"
   ],
   "metadata": {
    "collapsed": false,
    "ExecuteTime": {
     "end_time": "2024-03-05T15:43:52.291429700Z",
     "start_time": "2024-03-05T15:40:21.717358300Z"
    }
   },
   "id": "a51990b18b7c6556"
  },
  {
   "cell_type": "code",
   "execution_count": 13,
   "outputs": [
    {
     "name": "stdout",
     "output_type": "stream",
     "text": [
      "0.6434108527131783\n",
      "0.7093023255813954\n",
      "0.6705426356589147\n",
      "0.7054263565891473\n",
      "0.6744186046511628\n",
      "0.6589147286821705\n",
      "0.686046511627907\n",
      "0.6937984496124031\n",
      "0.7170542635658915\n",
      "0.6976744186046512\n"
     ]
    }
   ],
   "source": [
    "model_xgb = load(\"../../../model/XGB_model.joblib\")\n",
    "accuracy_xgb = []\n",
    "for train_index, test_index in kf.split(Xs):\n",
    "    X_train_fold, X_test_fold = Xs.iloc[train_index], Xs.iloc[test_index]\n",
    "    y_train_fold, y_test_fold = y.iloc[train_index], y.iloc[test_index]\n",
    "    \n",
    "    X_train_undersampled, y_train_undersampled = rus.fit_resample(X_train_fold, y_train_fold)\n",
    "    \n",
    "    model_xgb.fit(X_train_undersampled, y_train_undersampled)\n",
    "    \n",
    "    # 在测试集上进行预测\n",
    "    y_pred_fold = model_xgb.predict(X_test_fold)\n",
    "    \n",
    "    accuracy_fold = accuracy_score(y_test_fold, y_pred_fold)\n",
    "    print(accuracy_fold)\n",
    "    \n",
    "    # 存储当前折叠的准确率\n",
    "    accuracy_xgb.append(accuracy_fold)"
   ],
   "metadata": {
    "collapsed": false,
    "ExecuteTime": {
     "end_time": "2024-03-05T15:45:20.144929600Z",
     "start_time": "2024-03-05T15:45:16.984823400Z"
    }
   },
   "id": "d66ed93d0661144d"
  },
  {
   "cell_type": "code",
   "execution_count": 14,
   "outputs": [
    {
     "name": "stdout",
     "output_type": "stream",
     "text": [
      "0.5813953488372093\n",
      "0.7403100775193798\n",
      "0.6317829457364341\n",
      "0.7674418604651163\n",
      "0.4883720930232558\n",
      "0.6124031007751938\n",
      "0.810077519379845\n",
      "0.8682170542635659\n",
      "0.627906976744186\n",
      "0.624031007751938\n"
     ]
    }
   ],
   "source": [
    "model_xgb_fs = load(\"../../../model/XGB_FS_model.joblib\")\n",
    "accuracy_xgb_fs = []\n",
    "for train_index, test_index in kf.split(Xs):\n",
    "    X_train_fold, X_test_fold = Xs.iloc[train_index], Xs.iloc[test_index]\n",
    "    y_train_fold, y_test_fold = y.iloc[train_index], y.iloc[test_index]\n",
    "    \n",
    "    X_train_undersampled, y_train_undersampled = rus.fit_resample(X_train_fold, y_train_fold)\n",
    "    rfe = RFE(model_xgb_fs, n_features_to_select=6)\n",
    "    X_selected = rfe.fit_transform(X_train_undersampled, y_train_undersampled)\n",
    "    model_xgb_fs.fit(X_selected,y_train_undersampled)\n",
    "    X_test = rfe.fit_transform(X_test_fold,y_test_fold)\n",
    "    y_pred_fold = model_xgb_fs.predict(X_test)\n",
    "    \n",
    "    accuracy_fold = accuracy_score(y_test_fold, y_pred_fold)\n",
    "    print(accuracy_fold)\n",
    "    \n",
    "    # 存储当前折叠的准确率\n",
    "    accuracy_xgb_fs.append(accuracy_fold)"
   ],
   "metadata": {
    "collapsed": false,
    "ExecuteTime": {
     "end_time": "2024-03-05T15:46:56.947829300Z",
     "start_time": "2024-03-05T15:45:46.623847700Z"
    }
   },
   "id": "a31e431b517a51a9"
  },
  {
   "cell_type": "code",
   "execution_count": 15,
   "outputs": [
    {
     "name": "stdout",
     "output_type": "stream",
     "text": [
      "0.6434108527131783\n",
      "0.6395348837209303\n",
      "0.6434108527131783\n",
      "0.6395348837209303\n",
      "0.6937984496124031\n",
      "0.624031007751938\n",
      "0.6744186046511628\n",
      "0.6356589147286822\n",
      "0.686046511627907\n",
      "0.6627906976744186\n"
     ]
    }
   ],
   "source": [
    "model_mlp = load(\"../../../model/MLP_model.joblib\")\n",
    "accuracy_mlp = []\n",
    "for train_index, test_index in kf.split(Xs):\n",
    "    X_train_fold, X_test_fold = Xs.iloc[train_index], Xs.iloc[test_index]\n",
    "    y_train_fold, y_test_fold = y.iloc[train_index], y.iloc[test_index]\n",
    "    \n",
    "    X_train_undersampled, y_train_undersampled = rus.fit_resample(X_train_fold, y_train_fold)\n",
    "    \n",
    "    model_mlp.fit(X_train_undersampled, y_train_undersampled)\n",
    "    \n",
    "    # 在测试集上进行预测\n",
    "    y_pred_fold = model_mlp.predict(X_test_fold)\n",
    "    \n",
    "    accuracy_fold = accuracy_score(y_test_fold, y_pred_fold)\n",
    "    print(accuracy_fold)\n",
    "    \n",
    "    # 存储当前折叠的准确率\n",
    "    accuracy_mlp.append(accuracy_fold)"
   ],
   "metadata": {
    "collapsed": false,
    "ExecuteTime": {
     "end_time": "2024-03-05T15:47:16.499455400Z",
     "start_time": "2024-03-05T15:47:00.779735100Z"
    }
   },
   "id": "7b6664eb4f52c3c2"
  },
  {
   "cell_type": "code",
   "execution_count": 16,
   "outputs": [
    {
     "name": "stdout",
     "output_type": "stream",
     "text": [
      "0.5930232558139535\n",
      "0.6627906976744186\n",
      "0.6162790697674418\n",
      "0.686046511627907\n",
      "0.6550387596899225\n",
      "0.6550387596899225\n",
      "0.6162790697674418\n",
      "0.6511627906976745\n",
      "0.689922480620155\n",
      "0.6666666666666666\n"
     ]
    }
   ],
   "source": [
    "model_svm = load(\"../../../model/SVM_model.joblib\")\n",
    "accuracy_svm = []\n",
    "for train_index, test_index in kf.split(Xs):\n",
    "    X_train_fold, X_test_fold = Xs.iloc[train_index], Xs.iloc[test_index]\n",
    "    y_train_fold, y_test_fold = y.iloc[train_index], y.iloc[test_index]\n",
    "    \n",
    "    X_train_undersampled, y_train_undersampled = rus.fit_resample(X_train_fold, y_train_fold)\n",
    "    \n",
    "    model_svm.fit(X_train_undersampled, y_train_undersampled)\n",
    "    \n",
    "    # 在测试集上进行预测\n",
    "    y_pred_fold = model_svm.predict(X_test_fold)\n",
    "    \n",
    "    accuracy_fold = accuracy_score(y_test_fold, y_pred_fold)\n",
    "    print(accuracy_fold)\n",
    "    \n",
    "    # 存储当前折叠的准确率\n",
    "    accuracy_svm.append(accuracy_fold)"
   ],
   "metadata": {
    "collapsed": false,
    "ExecuteTime": {
     "end_time": "2024-03-05T15:47:20.943473Z",
     "start_time": "2024-03-05T15:47:20.377716300Z"
    }
   },
   "id": "b6dbc7e6e206a7f5"
  },
  {
   "cell_type": "code",
   "execution_count": 17,
   "outputs": [
    {
     "name": "stdout",
     "output_type": "stream",
     "text": [
      "0.42248062015503873\n",
      "0.4496124031007752\n",
      "0.4418604651162791\n",
      "0.5426356589147286\n",
      "0.4883720930232558\n",
      "0.4573643410852713\n",
      "0.4728682170542636\n",
      "0.5\n",
      "0.5503875968992248\n",
      "0.4806201550387597\n"
     ]
    }
   ],
   "source": [
    "model_nb = load(\"../../../model/NB_model.joblib\")\n",
    "accuracy_nb = []\n",
    "for train_index, test_index in kf.split(Xs):\n",
    "    X_train_fold, X_test_fold = Xs.iloc[train_index], Xs.iloc[test_index]\n",
    "    y_train_fold, y_test_fold = y.iloc[train_index], y.iloc[test_index]\n",
    "    \n",
    "    X_train_undersampled, y_train_undersampled = rus.fit_resample(X_train_fold, y_train_fold)\n",
    "    \n",
    "    model_nb.fit(X_train_undersampled, y_train_undersampled)\n",
    "    \n",
    "    # 在测试集上进行预测\n",
    "    y_pred_fold = model_nb.predict(X_test_fold)\n",
    "    \n",
    "    accuracy_fold = accuracy_score(y_test_fold, y_pred_fold)\n",
    "    print(accuracy_fold)\n",
    "    \n",
    "    # 存储当前折叠的准确率\n",
    "    accuracy_nb.append(accuracy_fold)"
   ],
   "metadata": {
    "collapsed": false,
    "ExecuteTime": {
     "end_time": "2024-03-05T15:47:23.180699400Z",
     "start_time": "2024-03-05T15:47:22.951936100Z"
    }
   },
   "id": "8c52f367d8b6cc85"
  },
  {
   "cell_type": "code",
   "execution_count": 26,
   "outputs": [],
   "source": [
    "models = ['Random Forest', 'XGBoost', 'Naive Bayes', 'MLP', 'SVM']\n",
    "\n",
    "# 创建一个包含均值和方差的字典\n",
    "data = {\n",
    "    'Model': models,\n",
    "    'Mean Accuracy': [pd.Series(accuracy_rf).mean(), pd.Series(accuracy_xgb).mean(), pd.Series(accuracy_nb).mean(), pd.Series(accuracy_mlp).mean(), pd.Series(accuracy_svm).mean()],\n",
    "    'Variance': [pd.Series(accuracy_rf).var(), pd.Series(accuracy_xgb).var(), pd.Series(accuracy_nb).var(), pd.Series(accuracy_mlp).var(), pd.Series(accuracy_svm).var()]\n",
    "}\n",
    "\n",
    "# 创建DataFrame\n",
    "df = pd.DataFrame(data)\n",
    "\n",
    "# 将DataFrame写入CSV文件\n",
    "df.to_csv('model_N315accuracy.csv', index=False)"
   ],
   "metadata": {
    "collapsed": false,
    "ExecuteTime": {
     "end_time": "2024-03-05T16:15:11.037333600Z",
     "start_time": "2024-03-05T16:15:10.987258200Z"
    }
   },
   "id": "bcad0dfffd12e16d"
  },
  {
   "cell_type": "code",
   "execution_count": 25,
   "outputs": [],
   "source": [
    "models = ['Random Forest', 'XGBoost']\n",
    "\n",
    "# 创建一个包含均值和方差的字典\n",
    "data = {\n",
    "    'Model': models,\n",
    "    'Mean Accuracy': [pd.Series(accuracy_rf_fs).mean(), pd.Series(accuracy_xgb_fs).mean()],\n",
    "    'Variance': [pd.Series(accuracy_rf_fs).var(), pd.Series(accuracy_xgb_fs).var()]\n",
    "}\n",
    "\n",
    "# 创建DataFrame\n",
    "df = pd.DataFrame(data)\n",
    "\n",
    "# 将DataFrame写入CSV文件\n",
    "df.to_csv('model_N315fs_accuracy.csv', index=False)"
   ],
   "metadata": {
    "collapsed": false,
    "ExecuteTime": {
     "end_time": "2024-03-05T16:15:07.731568100Z",
     "start_time": "2024-03-05T16:15:07.631358800Z"
    }
   },
   "id": "b31e3a28aec21e76"
  },
  {
   "cell_type": "code",
   "execution_count": 23,
   "outputs": [
    {
     "data": {
      "text/plain": "<Figure size 432x288 with 1 Axes>",
      "image/png": "[encoded data removed]"
     },
     "metadata": {
      "needs_background": "light"
     },
     "output_type": "display_data"
    }
   ],
   "source": [
    "x = [f\"fold{i}\" for i in range(1, 11)]\n",
    "plt.plot(x, accuracy_xgb, label='XGBoost')\n",
    "plt.plot(x, accuracy_svm, label='SVM')\n",
    "plt.plot(x, accuracy_mlp, label='MLP')\n",
    "plt.plot(x, accuracy_nb, label='GaussianNB')\n",
    "plt.plot(x, accuracy_rf, label='Random Forest')\n",
    "\n",
    "# 添加图例\n",
    "plt.legend()\n",
    "\n",
    "# 添加标题和轴标签\n",
    "plt.title('Accuracy for E. coli')\n",
    "plt.xlabel('Test Dataset')\n",
    "plt.ylabel('Accuracy')\n",
    "plt.xticks(rotation=25)\n",
    "# 显示图形\n",
    "plt.grid(True)\n",
    "plt.savefig('N315.jpg')\n",
    "plt.show()"
   ],
   "metadata": {
    "collapsed": false,
    "ExecuteTime": {
     "end_time": "2024-03-05T16:14:36.483302100Z",
     "start_time": "2024-03-05T16:14:35.538608800Z"
    }
   },
   "id": "344e0f2e1a9e0c28"
  },
  {
   "cell_type": "code",
   "execution_count": 24,
   "outputs": [
    {
     "data": {
      "text/plain": "<Figure size 432x288 with 1 Axes>",
      "image/png": "[encoded data removed]"
     },
     "metadata": {
      "needs_background": "light"
     },
     "output_type": "display_data"
    }
   ],
   "source": [
    "x = [f\"fold{i}\" for i in range(1, 11)]\n",
    "plt.plot(x, accuracy_xgb_fs, label='XGBoost')\n",
    "plt.plot(x, accuracy_rf_fs, label='Random Forest')\n",
    "\n",
    "# 添加图例\n",
    "plt.legend()\n",
    "\n",
    "# 添加标题和轴标签\n",
    "plt.title('Accuracy for E. coli after feature selection')\n",
    "plt.xlabel('Test Dataset')\n",
    "plt.ylabel('Accuracy')\n",
    "plt.xticks(rotation=25)\n",
    "# 显示图形\n",
    "plt.grid(True)\n",
    "plt.savefig('N315_fs.jpg')\n",
    "plt.show()"
   ],
   "metadata": {
    "collapsed": false,
    "ExecuteTime": {
     "end_time": "2024-03-05T16:14:40.103194600Z",
     "start_time": "2024-03-05T16:14:39.605577Z"
    }
   },
   "id": "c757cd28aad2a50a"
  },
  {
   "cell_type": "code",
   "execution_count": null,
   "outputs": [],
   "source": [],
   "metadata": {
    "collapsed": false
   },
   "id": "66ff4538a223215f"
  }
 ],
 "metadata": {
  "kernelspec": {
   "display_name": "Python 3",
   "language": "python",
   "name": "python3"
  },
  "language_info": {
   "codemirror_mode": {
    "name": "ipython",
    "version": 2
   },
   "file_extension": ".py",
   "mimetype": "text/x-python",
   "name": "python",
   "nbconvert_exporter": "python",
   "pygments_lexer": "ipython2",
   "version": "2.7.6"
  }
 },
 "nbformat": 4,
 "nbformat_minor": 5
}
