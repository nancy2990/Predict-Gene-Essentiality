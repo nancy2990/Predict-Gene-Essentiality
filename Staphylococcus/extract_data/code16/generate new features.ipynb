{
 "cells": [
  {
   "cell_type": "code",
   "execution_count": 1,
   "id": "initial_id",
   "metadata": {
    "collapsed": true,
    "ExecuteTime": {
     "end_time": "2024-03-05T15:23:27.848341900Z",
     "start_time": "2024-03-05T15:23:27.192152300Z"
    }
   },
   "outputs": [],
   "source": [
    "import pandas as pd\n",
    "from collections import Counter\n",
    "import math\n"
   ]
  },
  {
   "cell_type": "code",
   "execution_count": 11,
   "outputs": [],
   "source": [
    "df = pd.read_csv(\"../../dataset/NCTCGC+CAI+Acimo.csv\")"
   ],
   "metadata": {
    "collapsed": false,
    "ExecuteTime": {
     "end_time": "2024-03-05T15:30:22.718180500Z",
     "start_time": "2024-03-05T15:30:22.638206500Z"
    }
   },
   "id": "3ef4f382bfc53dcd"
  },
  {
   "cell_type": "code",
   "execution_count": 4,
   "outputs": [],
   "source": [
    "def calculate_shannon_entropy(block, k):\n",
    "    # 将区段分割成长度为k的子序列\n",
    "    kmers = [block[i:i+k] for i in range(len(block) - k + 1)]\n",
    "    \n",
    "    # 统计每个子序列的出现次数\n",
    "    kmer_counts = Counter(kmers)\n",
    "    total_kmers = len(kmers)\n",
    "    \n",
    "    # 计算每个子序列的概率\n",
    "    probabilities = {kmer: count / total_kmers for kmer, count in kmer_counts.items()}\n",
    "    \n",
    "    # 计算Shannon熵\n",
    "    entropy = -sum(prob * math.log2(prob) for prob in probabilities.values())\n",
    "    \n",
    "    return entropy"
   ],
   "metadata": {
    "collapsed": false,
    "ExecuteTime": {
     "end_time": "2024-03-05T15:23:54.119550300Z",
     "start_time": "2024-03-05T15:23:54.088100300Z"
    }
   },
   "id": "97a9b31c5afb46d5"
  },
  {
   "cell_type": "code",
   "execution_count": 5,
   "outputs": [],
   "source": [
    "def calculate_gibbs_entropy(sequence, k):\n",
    "    kmer_counts = Counter(sequence[i:i+k] for i in range(len(sequence) - k + 1))\n",
    "    total_kmers = sum(kmer_counts.values())\n",
    "    probabilities = {kmer: count / total_kmers for kmer, count in kmer_counts.items()}\n",
    "    gibbs_entropy = -sum(prob * math.log2(prob) for prob in probabilities.values())\n",
    "    return gibbs_entropy"
   ],
   "metadata": {
    "collapsed": false,
    "ExecuteTime": {
     "end_time": "2024-03-05T15:23:56.734112900Z",
     "start_time": "2024-03-05T15:23:56.718637100Z"
    }
   },
   "id": "651984cf12fc09fd"
  },
  {
   "cell_type": "code",
   "execution_count": 12,
   "outputs": [],
   "source": [
    "df['nSE2'] = df['DNA'].apply(lambda x: calculate_shannon_entropy(x, 2))\n",
    "df['nSE3'] = df['DNA'].apply(lambda x: calculate_shannon_entropy(x, 3))\n",
    "df['nGE2'] = df['DNA'].apply(lambda x: calculate_gibbs_entropy(x,2))\n",
    "df['nGE3'] = df['DNA'].apply(lambda x: calculate_gibbs_entropy(x,3))"
   ],
   "metadata": {
    "collapsed": false,
    "ExecuteTime": {
     "end_time": "2024-03-05T15:30:28.987191900Z",
     "start_time": "2024-03-05T15:30:26.836311800Z"
    }
   },
   "id": "2807718c7b7a3a87"
  },
  {
   "cell_type": "code",
   "execution_count": 7,
   "outputs": [],
   "source": [
    "def min_max_normalize(column):\n",
    "    min_val = column.min()\n",
    "    max_val = column.max()\n",
    "    normalized_column = (column - min_val) / (max_val - min_val)\n",
    "    return normalized_column"
   ],
   "metadata": {
    "collapsed": false,
    "ExecuteTime": {
     "end_time": "2024-03-05T15:24:09.680213500Z",
     "start_time": "2024-03-05T15:24:09.665784200Z"
    }
   },
   "id": "764ab3dd31c7b02c"
  },
  {
   "cell_type": "code",
   "execution_count": 13,
   "outputs": [],
   "source": [
    "df['nSE2'] = min_max_normalize(df['nSE2'])\n",
    "df['nSE3'] = min_max_normalize(df['nSE3'])\n",
    "df['nGE2'] = min_max_normalize(df['nGE2'])\n",
    "df['nGE3'] = min_max_normalize(df['nGE3'])"
   ],
   "metadata": {
    "collapsed": false,
    "ExecuteTime": {
     "end_time": "2024-03-05T15:30:31.045700900Z",
     "start_time": "2024-03-05T15:30:30.971957800Z"
    }
   },
   "id": "48fac27aa84035ca"
  },
  {
   "cell_type": "code",
   "execution_count": 9,
   "outputs": [
    {
     "data": {
      "text/plain": "  locus tag  essential                                                DNA  \\\n0    SA0001          1  ATGTCGGAAAAAGAAATTTGGGAAAAAGTGCTTGAAATTGCTCAAG...   \n1    SA0002          0  ATGATGGAATTCACTATTAAAAGAGATTATTTTATTACACAATTAA...   \n2    SA0003          0  GTGATTATTTTGGTTCAAGAAGTTGTAGTAGAAGGAGACATTAATT...   \n3    SA0004          1  ATGAAGTTAAATACACTCCAATTAGAAAATTATCGTAACTATGATG...   \n4    SA0005          1  ATGGTGACTGCATTGTCAGATGTAAACAACACGGATAATTATGGTG...   \n\n                                    protein sequence       CAI  GC_Content  \\\n0  MSEKEIWEKVLEIAQEKLSAVSYSTFLKDTELYTIKDGEAIVLSSI...  0.601193    0.326725   \n1  MMEFTIKRDYFITQLNDTLKAISPRTTLPILTGIKIDAKEHEVILT...  0.620382    0.328042   \n2  MIILVQEVVVEGDINLGQFLKTEGIIESGGQAKWFLQDVEVLINGV...  0.627939    0.353659   \n3  MKLNTLQLENYRNYDEVTLKCHPDVNILIGENAQGKTNLLESIYTL...  0.562197    0.336927   \n4  MVTALSDVNNTDNYGAGQIQVLEGLEAVRKRPGMYIGSTSERGLHH...  0.623400    0.369509   \n\n          A         R         N         D  ...         P         S         T  \\\n0  0.070640  0.041943  0.057395  0.050773  ...  0.044150  0.050773  0.066225   \n1  0.042440  0.031830  0.058355  0.076923  ...  0.042440  0.076923  0.071618   \n2  0.024691  0.049383  0.024691  0.061728  ...  0.024691  0.024691  0.024691   \n3  0.056757  0.045946  0.064865  0.059459  ...  0.021622  0.054054  0.056757   \n4  0.068323  0.060559  0.049689  0.062112  ...  0.026398  0.046584  0.059006   \n\n          W         Y         V      nSE2      nSE3      nGE2      nGE3  \n0  0.006623  0.037528  0.046358  0.825606  0.853573  0.825606  0.853573  \n1  0.002653  0.018568  0.076923  0.846990  0.866865  0.846990  0.866865  \n2  0.012346  0.000000  0.086420  0.834126  0.774510  0.834126  0.774510  \n3  0.000000  0.040541  0.043243  0.859611  0.887616  0.859611  0.887616  \n4  0.006211  0.045031  0.071429  0.905492  0.933875  0.905492  0.933875  \n\n[5 rows x 30 columns]",
      "text/html": "<div>\n<style scoped>\n    .dataframe tbody tr th:only-of-type {\n        vertical-align: middle;\n    }\n\n    .dataframe tbody tr th {\n        vertical-align: top;\n    }\n\n    .dataframe thead th {\n        text-align: right;\n    }\n</style>\n<table border=\"1\" class=\"dataframe\">\n  <thead>\n    <tr style=\"text-align: right;\">\n      <th></th>\n      <th>locus tag</th>\n      <th>essential</th>\n      <th>DNA</th>\n      <th>protein sequence</th>\n      <th>CAI</th>\n      <th>GC_Content</th>\n      <th>A</th>\n      <th>R</th>\n      <th>N</th>\n      <th>D</th>\n      <th>...</th>\n      <th>P</th>\n      <th>S</th>\n      <th>T</th>\n      <th>W</th>\n      <th>Y</th>\n      <th>V</th>\n      <th>nSE2</th>\n      <th>nSE3</th>\n      <th>nGE2</th>\n      <th>nGE3</th>\n    </tr>\n  </thead>\n  <tbody>\n    <tr>\n      <th>0</th>\n      <td>SA0001</td>\n      <td>1</td>\n      <td>ATGTCGGAAAAAGAAATTTGGGAAAAAGTGCTTGAAATTGCTCAAG...</td>\n      <td>MSEKEIWEKVLEIAQEKLSAVSYSTFLKDTELYTIKDGEAIVLSSI...</td>\n      <td>0.601193</td>\n      <td>0.326725</td>\n      <td>0.070640</td>\n      <td>0.041943</td>\n      <td>0.057395</td>\n      <td>0.050773</td>\n      <td>...</td>\n      <td>0.044150</td>\n      <td>0.050773</td>\n      <td>0.066225</td>\n      <td>0.006623</td>\n      <td>0.037528</td>\n      <td>0.046358</td>\n      <td>0.825606</td>\n      <td>0.853573</td>\n      <td>0.825606</td>\n      <td>0.853573</td>\n    </tr>\n    <tr>\n      <th>1</th>\n      <td>SA0002</td>\n      <td>0</td>\n      <td>ATGATGGAATTCACTATTAAAAGAGATTATTTTATTACACAATTAA...</td>\n      <td>MMEFTIKRDYFITQLNDTLKAISPRTTLPILTGIKIDAKEHEVILT...</td>\n      <td>0.620382</td>\n      <td>0.328042</td>\n      <td>0.042440</td>\n      <td>0.031830</td>\n      <td>0.058355</td>\n      <td>0.076923</td>\n      <td>...</td>\n      <td>0.042440</td>\n      <td>0.076923</td>\n      <td>0.071618</td>\n      <td>0.002653</td>\n      <td>0.018568</td>\n      <td>0.076923</td>\n      <td>0.846990</td>\n      <td>0.866865</td>\n      <td>0.846990</td>\n      <td>0.866865</td>\n    </tr>\n    <tr>\n      <th>2</th>\n      <td>SA0003</td>\n      <td>0</td>\n      <td>GTGATTATTTTGGTTCAAGAAGTTGTAGTAGAAGGAGACATTAATT...</td>\n      <td>MIILVQEVVVEGDINLGQFLKTEGIIESGGQAKWFLQDVEVLINGV...</td>\n      <td>0.627939</td>\n      <td>0.353659</td>\n      <td>0.024691</td>\n      <td>0.049383</td>\n      <td>0.024691</td>\n      <td>0.061728</td>\n      <td>...</td>\n      <td>0.024691</td>\n      <td>0.024691</td>\n      <td>0.024691</td>\n      <td>0.012346</td>\n      <td>0.000000</td>\n      <td>0.086420</td>\n      <td>0.834126</td>\n      <td>0.774510</td>\n      <td>0.834126</td>\n      <td>0.774510</td>\n    </tr>\n    <tr>\n      <th>3</th>\n      <td>SA0004</td>\n      <td>1</td>\n      <td>ATGAAGTTAAATACACTCCAATTAGAAAATTATCGTAACTATGATG...</td>\n      <td>MKLNTLQLENYRNYDEVTLKCHPDVNILIGENAQGKTNLLESIYTL...</td>\n      <td>0.562197</td>\n      <td>0.336927</td>\n      <td>0.056757</td>\n      <td>0.045946</td>\n      <td>0.064865</td>\n      <td>0.059459</td>\n      <td>...</td>\n      <td>0.021622</td>\n      <td>0.054054</td>\n      <td>0.056757</td>\n      <td>0.000000</td>\n      <td>0.040541</td>\n      <td>0.043243</td>\n      <td>0.859611</td>\n      <td>0.887616</td>\n      <td>0.859611</td>\n      <td>0.887616</td>\n    </tr>\n    <tr>\n      <th>4</th>\n      <td>SA0005</td>\n      <td>1</td>\n      <td>ATGGTGACTGCATTGTCAGATGTAAACAACACGGATAATTATGGTG...</td>\n      <td>MVTALSDVNNTDNYGAGQIQVLEGLEAVRKRPGMYIGSTSERGLHH...</td>\n      <td>0.623400</td>\n      <td>0.369509</td>\n      <td>0.068323</td>\n      <td>0.060559</td>\n      <td>0.049689</td>\n      <td>0.062112</td>\n      <td>...</td>\n      <td>0.026398</td>\n      <td>0.046584</td>\n      <td>0.059006</td>\n      <td>0.006211</td>\n      <td>0.045031</td>\n      <td>0.071429</td>\n      <td>0.905492</td>\n      <td>0.933875</td>\n      <td>0.905492</td>\n      <td>0.933875</td>\n    </tr>\n  </tbody>\n</table>\n<p>5 rows × 30 columns</p>\n</div>"
     },
     "execution_count": 9,
     "metadata": {},
     "output_type": "execute_result"
    }
   ],
   "source": [
    "df.head()"
   ],
   "metadata": {
    "collapsed": false,
    "ExecuteTime": {
     "end_time": "2024-03-05T15:24:15.543308900Z",
     "start_time": "2024-03-05T15:24:15.479397100Z"
    }
   },
   "id": "34f3373fd275c383"
  },
  {
   "cell_type": "code",
   "execution_count": 14,
   "outputs": [],
   "source": [
    "df.to_csv(\"NCTCoutput.csv\",index = False)"
   ],
   "metadata": {
    "collapsed": false,
    "ExecuteTime": {
     "end_time": "2024-03-05T15:30:37.067710700Z",
     "start_time": "2024-03-05T15:30:36.878634600Z"
    }
   },
   "id": "da82c774c048f285"
  },
  {
   "cell_type": "code",
   "execution_count": null,
   "outputs": [],
   "source": [],
   "metadata": {
    "collapsed": false
   },
   "id": "1c2fb30d919eee10"
  }
 ],
 "metadata": {
  "kernelspec": {
   "display_name": "Python 3",
   "language": "python",
   "name": "python3"
  },
  "language_info": {
   "codemirror_mode": {
    "name": "ipython",
    "version": 2
   },
   "file_extension": ".py",
   "mimetype": "text/x-python",
   "name": "python",
   "nbconvert_exporter": "python",
   "pygments_lexer": "ipython2",
   "version": "2.7.6"
  }
 },
 "nbformat": 4,
 "nbformat_minor": 5
}
