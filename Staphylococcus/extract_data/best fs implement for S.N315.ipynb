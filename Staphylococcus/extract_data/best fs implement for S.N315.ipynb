{
 "cells": [
  {
   "cell_type": "code",
   "execution_count": 1,
   "id": "initial_id",
   "metadata": {
    "collapsed": true,
    "ExecuteTime": {
     "end_time": "2024-01-30T16:17:22.970545200Z",
     "start_time": "2024-01-30T16:17:19.722435900Z"
    }
   },
   "outputs": [
    {
     "name": "stderr",
     "output_type": "stream",
     "text": [
      "D:\\anaconda3\\lib\\site-packages\\scipy\\__init__.py:146: UserWarning: A NumPy version >=1.16.5 and <1.23.0 is required for this version of SciPy (detected version 1.26.3\n",
      "  warnings.warn(f\"A NumPy version >={np_minversion} and <{np_maxversion}\"\n"
     ]
    }
   ],
   "source": [
    "import numpy as np\n",
    "import pandas as pd\n",
    "from sklearn.model_selection import cross_val_score\n",
    "\n",
    "from sklearn.feature_selection import SelectKBest\n",
    "from sklearn.feature_selection import mutual_info_classif\n",
    "from sklearn.ensemble import RandomForestClassifier\n",
    "import optuna\n",
    "import matplotlib.pyplot as plt\n",
    "from xgboost import XGBClassifier\n",
    "from sklearn.metrics import make_scorer, balanced_accuracy_score\n",
    "from sklearn.feature_selection import RFECV\n"
   ]
  },
  {
   "cell_type": "code",
   "execution_count": 2,
   "outputs": [],
   "source": [
    "from sklearn.model_selection import train_test_split\n",
    "\n",
    "all_df = pd.read_csv(\"../dataset/N315GC+CAI+Acimo.csv\")\n",
    "selected_columns=[\"locus tag\",\"essential\",\"DNA\",\"protein sequence\"]\n",
    "Xs= all_df.drop(columns=selected_columns)\n",
    "y=all_df[\"essential\"]\n",
    "Xs,Xs_test,y,y_test=train_test_split(Xs, y, test_size=0.2, random_state=42)\n",
    "scorer = make_scorer(balanced_accuracy_score)"
   ],
   "metadata": {
    "collapsed": false,
    "ExecuteTime": {
     "end_time": "2024-01-30T16:17:23.057527Z",
     "start_time": "2024-01-30T16:17:22.971535600Z"
    }
   },
   "id": "3b49649c3f378b07"
  },
  {
   "cell_type": "code",
   "execution_count": 3,
   "outputs": [
    {
     "name": "stdout",
     "output_type": "stream",
     "text": [
      "0.5385129636088827\n"
     ]
    }
   ],
   "source": [
    "model_rf=RandomForestClassifier(n_estimators=261, max_depth=12,min_samples_split=8 )\n",
    "ba_score=cross_val_score(model_rf, Xs, y ,cv=5,scoring=scorer).mean()\n",
    "print(ba_score)"
   ],
   "metadata": {
    "collapsed": false,
    "ExecuteTime": {
     "end_time": "2024-01-30T16:17:40.203390600Z",
     "start_time": "2024-01-30T16:17:23.057703500Z"
    }
   },
   "id": "22733d3cd7c645f2"
  },
  {
   "cell_type": "code",
   "execution_count": 4,
   "outputs": [
    {
     "data": {
      "text/plain": "<Figure size 432x288 with 1 Axes>",
      "image/png": "[encoded data removed]"
     },
     "metadata": {
      "needs_background": "light"
     },
     "output_type": "display_data"
    }
   ],
   "source": [
    "#remove high correlated features\n",
    "score = []\n",
    "for i in range(22,5,-1):\n",
    "\tX_mutual = SelectKBest(score_func=mutual_info_classif, k=i).fit_transform(Xs, y)\n",
    "\tonce = cross_val_score(model_rf, X_mutual, y, cv=5,scoring=scorer)\n",
    "\tscore.append(once.mean())\n",
    "plt.plot(range(22,5,-1), score)\n",
    "plt.show()              \n"
   ],
   "metadata": {
    "collapsed": false,
    "ExecuteTime": {
     "end_time": "2024-01-30T16:21:15.041501300Z",
     "start_time": "2024-01-30T16:17:40.177024900Z"
    }
   },
   "id": "ee6d29189d3c9f32"
  },
  {
   "cell_type": "code",
   "execution_count": 5,
   "outputs": [
    {
     "name": "stdout",
     "output_type": "stream",
     "text": [
      "Fitting estimator with 10 features.\n",
      "Fitting estimator with 9 features.\n",
      "Fitting estimator with 8 features.\n",
      "Fitting estimator with 7 features.\n",
      "Fitting estimator with 6 features.\n",
      "Fitting estimator with 10 features.\n",
      "Fitting estimator with 9 features.\n",
      "Fitting estimator with 8 features.\n",
      "Fitting estimator with 7 features.\n",
      "Fitting estimator with 6 features.\n",
      "Fitting estimator with 10 features.\n",
      "Fitting estimator with 9 features.\n",
      "Fitting estimator with 8 features.\n",
      "Fitting estimator with 7 features.\n",
      "Fitting estimator with 6 features.\n",
      "Fitting estimator with 10 features.\n",
      "Fitting estimator with 9 features.\n",
      "RFECVresult——————————————————————————————————————————————————\n",
      "valid : 8\n",
      "ranking : [1, 1, 1, 1, 1, 1, 1, 3, 2, 1]\n"
     ]
    }
   ],
   "source": [
    "# 10 features\n",
    "X_mutual = SelectKBest(score_func=mutual_info_classif, k=10).fit_transform(Xs, y)\n",
    "rfecv = RFECV(estimator=model_rf,  \n",
    "            min_features_to_select=5, \n",
    "            step=1, \n",
    "            verbose = 1,\n",
    "            n_jobs = 1,\n",
    "            cv=3\n",
    "              ).fit(X_mutual,y)\n",
    "X_RFECV = rfecv.transform(X_mutual)\n",
    "print(\"RFECVresult——————————————————————————————————————————————————\")\n",
    "print(\"valid : %d\" % rfecv.n_features_)\n",
    "print(\"ranking : %s\" % list(rfecv.ranking_))"
   ],
   "metadata": {
    "collapsed": false,
    "ExecuteTime": {
     "end_time": "2024-01-30T16:21:55.559730200Z",
     "start_time": "2024-01-30T16:21:15.001094100Z"
    }
   },
   "id": "933e933f763b34ee"
  },
  {
   "cell_type": "code",
   "execution_count": 6,
   "outputs": [
    {
     "name": "stdout",
     "output_type": "stream",
     "text": [
      "Selected Features:\n",
      "['GC_Content', 'CAI', 'A', 'H', 'I', 'L', 'K', 'Y']\n"
     ]
    }
   ],
   "source": [
    "all_feature_names = [\"GC_Content\",\"CAI\",\"A\",\"R\",\"N\",\"D\",\"C\",\"Q\",\"E\",\"G\",\"H\",\"I\",\"L\",\"K\",\"M\",\"F\",\"P\",\"S\",\"T\",\"W\",\"Y\",\"V\"]\n",
    "selector = SelectKBest(mutual_info_classif, k=10)\n",
    "selector.fit(Xs,y)\n",
    "# Get columns to keep and create new dataframe with those only\n",
    "cols_idxs = selector.get_support(indices=True)\n",
    "selected_feature_indices = rfecv.support_\n",
    "selected_feature_names = cols_idxs[selected_feature_indices]\n",
    "selected_features = [all_feature_names[i] for i in selected_feature_names]\n",
    "print(\"Selected Features:\")\n",
    "print(selected_features)"
   ],
   "metadata": {
    "collapsed": false,
    "ExecuteTime": {
     "end_time": "2024-01-30T16:21:55.837534200Z",
     "start_time": "2024-01-30T16:21:55.560727800Z"
    }
   },
   "id": "8e8f98afc3c9e009"
  },
  {
   "cell_type": "code",
   "execution_count": 8,
   "outputs": [
    {
     "name": "stdout",
     "output_type": "stream",
     "text": [
      "0.5416746380239316\n"
     ]
    }
   ],
   "source": [
    "selected_columns_rf=['GC_Content', 'CAI', 'A', 'H', 'I', 'L', 'K', 'Y']\n",
    "model_rf.fit(Xs[selected_columns_rf],y)\n",
    "Wrapper_score = cross_val_score(model_rf,Xs[selected_columns_rf],y,cv=5,scoring=scorer).mean()\n",
    "print(Wrapper_score)"
   ],
   "metadata": {
    "collapsed": false,
    "ExecuteTime": {
     "end_time": "2024-01-30T16:22:32.999262400Z",
     "start_time": "2024-01-30T16:22:22.058874600Z"
    }
   },
   "id": "9a3bc2e7f638cccc"
  },
  {
   "cell_type": "code",
   "execution_count": 9,
   "outputs": [
    {
     "name": "stdout",
     "output_type": "stream",
     "text": [
      "0.8914772326570912\n"
     ]
    }
   ],
   "source": [
    "Wrapper_score = cross_val_score(model_rf,Xs[selected_columns_rf],y,cv=5,scoring='accuracy').mean()\n",
    "print(Wrapper_score)"
   ],
   "metadata": {
    "collapsed": false,
    "ExecuteTime": {
     "end_time": "2024-01-30T16:23:31.593461400Z",
     "start_time": "2024-01-30T16:23:22.832478900Z"
    }
   },
   "id": "315bf0fc1ad87962"
  },
  {
   "cell_type": "code",
   "execution_count": 10,
   "outputs": [
    {
     "name": "stdout",
     "output_type": "stream",
     "text": [
      "0.567029160355677\n"
     ]
    }
   ],
   "source": [
    "model_xgb=XGBClassifier(use_label_encoder=False, objective='binary:logistic', eval_metric='auc',booster='gbtree', reg_lambda=0.06549791643377749, alpha=0.034807661018972466, max_depth=8,colsample_bytree=0.7529261751602442, \n",
    " subsample=0.5644783331957857)\n",
    "ba_score=cross_val_score(model_xgb, Xs, y ,cv=5,scoring=scorer).mean()\n",
    "print(ba_score)"
   ],
   "metadata": {
    "collapsed": false,
    "ExecuteTime": {
     "end_time": "2024-01-30T16:24:13.990902400Z",
     "start_time": "2024-01-30T16:24:13.010312800Z"
    }
   },
   "id": "802a683271da46da"
  },
  {
   "cell_type": "code",
   "execution_count": 11,
   "outputs": [
    {
     "data": {
      "text/plain": "<Figure size 432x288 with 1 Axes>",
      "image/png": "[encoded data removed]"
     },
     "metadata": {
      "needs_background": "light"
     },
     "output_type": "display_data"
    }
   ],
   "source": [
    "score = []\n",
    "for i in range(22,5,-1):\n",
    "\tX_mutual = SelectKBest(score_func=mutual_info_classif, k=i).fit_transform(Xs, y)\n",
    "\tonce = cross_val_score(model_xgb, X_mutual, y, cv=5,scoring=scorer)\n",
    "\tscore.append(once.mean())\n",
    "plt.plot(range(22,5,-1), score)\n",
    "plt.show()              "
   ],
   "metadata": {
    "collapsed": false,
    "ExecuteTime": {
     "end_time": "2024-01-30T16:24:44.752383800Z",
     "start_time": "2024-01-30T16:24:32.641780500Z"
    }
   },
   "id": "3c0e7daeede105bb"
  },
  {
   "cell_type": "code",
   "execution_count": 12,
   "outputs": [
    {
     "name": "stdout",
     "output_type": "stream",
     "text": [
      "Fitting estimator with 18 features.\n",
      "Fitting estimator with 17 features.\n",
      "Fitting estimator with 16 features.\n",
      "Fitting estimator with 15 features.\n",
      "Fitting estimator with 14 features.\n",
      "Fitting estimator with 13 features.\n",
      "Fitting estimator with 12 features.\n",
      "Fitting estimator with 11 features.\n",
      "Fitting estimator with 10 features.\n",
      "Fitting estimator with 9 features.\n",
      "Fitting estimator with 8 features.\n",
      "Fitting estimator with 7 features.\n",
      "Fitting estimator with 6 features.\n",
      "Fitting estimator with 18 features.\n",
      "Fitting estimator with 17 features.\n",
      "Fitting estimator with 16 features.\n",
      "Fitting estimator with 15 features.\n",
      "Fitting estimator with 14 features.\n",
      "Fitting estimator with 13 features.\n",
      "Fitting estimator with 12 features.\n",
      "Fitting estimator with 11 features.\n",
      "Fitting estimator with 10 features.\n",
      "Fitting estimator with 9 features.\n",
      "Fitting estimator with 8 features.\n",
      "Fitting estimator with 7 features.\n",
      "Fitting estimator with 6 features.\n",
      "Fitting estimator with 18 features.\n",
      "Fitting estimator with 17 features.\n",
      "Fitting estimator with 16 features.\n",
      "Fitting estimator with 15 features.\n",
      "Fitting estimator with 14 features.\n",
      "Fitting estimator with 13 features.\n",
      "Fitting estimator with 12 features.\n",
      "Fitting estimator with 11 features.\n",
      "Fitting estimator with 10 features.\n",
      "Fitting estimator with 9 features.\n",
      "Fitting estimator with 8 features.\n",
      "Fitting estimator with 7 features.\n",
      "Fitting estimator with 6 features.\n",
      "Fitting estimator with 18 features.\n",
      "Fitting estimator with 17 features.\n",
      "Fitting estimator with 16 features.\n",
      "Fitting estimator with 15 features.\n",
      "RFECVresult——————————————————————————————————————————————————\n",
      "valid : 14\n",
      "ranking : [1, 1, 1, 2, 1, 1, 1, 1, 1, 4, 3, 5, 1, 1, 1, 1, 1, 1]\n"
     ]
    }
   ],
   "source": [
    "# 18 features\n",
    "X_mutual = SelectKBest(score_func=mutual_info_classif, k=18).fit_transform(Xs, y)\n",
    "rfecv = RFECV(estimator=model_xgb,  \n",
    "            min_features_to_select=5, \n",
    "            step=1, \n",
    "            verbose = 1,\n",
    "            n_jobs = 1,\n",
    "            cv=3\n",
    "              ).fit(X_mutual,y)\n",
    "X_RFECV = rfecv.transform(X_mutual)\n",
    "print(\"RFECVresult——————————————————————————————————————————————————\")\n",
    "print(\"valid : %d\" % rfecv.n_features_)\n",
    "print(\"ranking : %s\" % list(rfecv.ranking_))"
   ],
   "metadata": {
    "collapsed": false,
    "ExecuteTime": {
     "end_time": "2024-01-30T16:25:03.074006Z",
     "start_time": "2024-01-30T16:24:58.546222Z"
    }
   },
   "id": "a983650e1b3a1325"
  },
  {
   "cell_type": "code",
   "execution_count": 13,
   "outputs": [
    {
     "name": "stdout",
     "output_type": "stream",
     "text": [
      "Selected Features:\n",
      "['GC_Content', 'CAI', 'A', 'Q', 'G', 'H', 'I', 'L', 'P', 'S', 'T', 'W', 'Y', 'V']\n"
     ]
    }
   ],
   "source": [
    "all_feature_names = [\"GC_Content\",\"CAI\",\"A\",\"R\",\"N\",\"D\",\"C\",\"Q\",\"E\",\"G\",\"H\",\"I\",\"L\",\"K\",\"M\",\"F\",\"P\",\"S\",\"T\",\"W\",\"Y\",\"V\"]\n",
    "selector = SelectKBest(mutual_info_classif, k=18)\n",
    "selector.fit(Xs,y)\n",
    "# Get columns to keep and create new dataframe with those only\n",
    "cols_idxs = selector.get_support(indices=True)\n",
    "selected_feature_indices = rfecv.support_\n",
    "selected_feature_names = cols_idxs[selected_feature_indices]\n",
    "selected_features = [all_feature_names[i] for i in selected_feature_names]\n",
    "print(\"Selected Features:\")\n",
    "print(selected_features)"
   ],
   "metadata": {
    "collapsed": false,
    "ExecuteTime": {
     "end_time": "2024-01-30T16:25:06.604075100Z",
     "start_time": "2024-01-30T16:25:06.369336900Z"
    }
   },
   "id": "1b16a0ee9ed091e4"
  },
  {
   "cell_type": "code",
   "execution_count": 14,
   "outputs": [
    {
     "name": "stdout",
     "output_type": "stream",
     "text": [
      "0.5577358000742187\n"
     ]
    }
   ],
   "source": [
    "selected_columns_xgb=['GC_Content', 'CAI', 'A', 'Q', 'G', 'H', 'I', 'L', 'P', 'S', 'T', 'W', 'Y', 'V']\n",
    "model_xgb.fit(Xs[selected_columns_xgb],y)\n",
    "Wrapper_score = cross_val_score(model_xgb,Xs[selected_columns_xgb],y,cv=5,scoring=scorer).mean()\n",
    "print(Wrapper_score)"
   ],
   "metadata": {
    "collapsed": false,
    "ExecuteTime": {
     "end_time": "2024-01-30T16:25:20.256247200Z",
     "start_time": "2024-01-30T16:25:19.129831800Z"
    }
   },
   "id": "60c8f0f17f9413c4"
  },
  {
   "cell_type": "code",
   "execution_count": 15,
   "outputs": [
    {
     "name": "stdout",
     "output_type": "stream",
     "text": [
      "0.8701638496438562\n"
     ]
    }
   ],
   "source": [
    "Wrapper_score = cross_val_score(model_xgb,Xs[selected_columns_xgb],y,cv=5,scoring='accuracy').mean()\n",
    "print(Wrapper_score)"
   ],
   "metadata": {
    "collapsed": false,
    "ExecuteTime": {
     "end_time": "2024-01-30T16:26:00.879889900Z",
     "start_time": "2024-01-30T16:26:00.025600Z"
    }
   },
   "id": "6d9fd9725854e66c"
  },
  {
   "cell_type": "code",
   "execution_count": 16,
   "outputs": [],
   "source": [
    "from sklearn.neural_network import MLPClassifier\n",
    "model_mlp = MLPClassifier(random_state=1, max_iter=500, hidden_layer_sizes= (100, 50, 25), alpha=0.18, activation= 'tanh')"
   ],
   "metadata": {
    "collapsed": false,
    "ExecuteTime": {
     "end_time": "2024-01-30T16:26:13.574131500Z",
     "start_time": "2024-01-30T16:26:13.532124700Z"
    }
   },
   "id": "6b9faa5d272e08a6"
  },
  {
   "cell_type": "code",
   "execution_count": 17,
   "outputs": [
    {
     "name": "stdout",
     "output_type": "stream",
     "text": [
      "0.5339844204162307\n"
     ]
    }
   ],
   "source": [
    "ba_score = cross_val_score(model_mlp, Xs, y, cv=5,scoring=scorer)\n",
    "print(ba_score.mean())"
   ],
   "metadata": {
    "collapsed": false,
    "ExecuteTime": {
     "end_time": "2024-01-30T16:26:25.343929200Z",
     "start_time": "2024-01-30T16:26:14.981372500Z"
    }
   },
   "id": "fb19906623de33bb"
  },
  {
   "cell_type": "code",
   "execution_count": 18,
   "outputs": [
    {
     "data": {
      "text/plain": "<Figure size 432x288 with 1 Axes>",
      "image/png": "[encoded data removed]"
     },
     "metadata": {
      "needs_background": "light"
     },
     "output_type": "display_data"
    }
   ],
   "source": [
    "score = []\n",
    "for i in range(22,5,-1):\n",
    "\tX_mutual = SelectKBest(score_func=mutual_info_classif, k=i).fit_transform(Xs, y)\n",
    "\tonce = cross_val_score(model_mlp, X_mutual, y, cv=5,scoring=scorer)\n",
    "\tscore.append(once.mean())\n",
    "plt.plot(range(22,5,-1), score)\n",
    "plt.show()"
   ],
   "metadata": {
    "collapsed": false,
    "ExecuteTime": {
     "end_time": "2024-01-30T16:29:03.574661800Z",
     "start_time": "2024-01-30T16:26:28.272315600Z"
    }
   },
   "id": "37cffc55035d916b"
  },
  {
   "cell_type": "code",
   "execution_count": 19,
   "outputs": [
    {
     "name": "stdout",
     "output_type": "stream",
     "text": [
      "['GC_Content', 'CAI', 'A', 'R', 'H', 'I', 'L', 'K', 'F', 'Y']\n"
     ]
    }
   ],
   "source": [
    "selector = SelectKBest(score_func=mutual_info_classif, k=10)\n",
    "all_feature_names = [\"GC_Content\",\"CAI\",\"A\",\"R\",\"N\",\"D\",\"C\",\"Q\",\"E\",\"G\",\"H\",\"I\",\"L\",\"K\",\"M\",\"F\",\"P\",\"S\",\"T\",\"W\",\"Y\",\"V\"]\n",
    "X_mutual=selector.fit_transform(Xs, y)\n",
    "cols_idxs = selector.get_support(indices=True)\n",
    "selected_features = [all_feature_names[i] for i in cols_idxs]\n",
    "print(selected_features)"
   ],
   "metadata": {
    "collapsed": false,
    "ExecuteTime": {
     "end_time": "2024-01-30T16:29:20.946869600Z",
     "start_time": "2024-01-30T16:29:20.673581800Z"
    }
   },
   "id": "8d58abfe5bc215ed"
  },
  {
   "cell_type": "code",
   "execution_count": 20,
   "outputs": [
    {
     "name": "stdout",
     "output_type": "stream",
     "text": [
      "0.5562950310014922\n"
     ]
    }
   ],
   "source": [
    "selected_columns_mlp=['GC_Content', 'CAI', 'A', 'R', 'H', 'I', 'L', 'K', 'F', 'Y']\n",
    "model_mlp.fit(Xs[selected_columns_mlp],y)\n",
    "Wrapper_score = cross_val_score(model_mlp,Xs[selected_columns_mlp],y,cv=5,scoring=scorer).mean()\n",
    "print(Wrapper_score)"
   ],
   "metadata": {
    "collapsed": false,
    "ExecuteTime": {
     "end_time": "2024-01-30T16:29:40.871791400Z",
     "start_time": "2024-01-30T16:29:29.533720300Z"
    }
   },
   "id": "20f2e127037122d2"
  },
  {
   "cell_type": "code",
   "execution_count": 21,
   "outputs": [
    {
     "name": "stdout",
     "output_type": "stream",
     "text": [
      "0.8938973647711512\n"
     ]
    }
   ],
   "source": [
    "Wrapper_score = cross_val_score(model_mlp,Xs[selected_columns_mlp],y,cv=5,scoring='accuracy').mean()\n",
    "print(Wrapper_score)"
   ],
   "metadata": {
    "collapsed": false,
    "ExecuteTime": {
     "end_time": "2024-01-30T16:29:56.980088Z",
     "start_time": "2024-01-30T16:29:47.431126100Z"
    }
   },
   "id": "d96e7490a4512540"
  },
  {
   "cell_type": "code",
   "execution_count": 23,
   "outputs": [
    {
     "name": "stdout",
     "output_type": "stream",
     "text": [
      "Reject the null hypothesis: The distributions of xgboost and random forest are different.\n",
      "Fail to reject the null hypothesis: The distributions of MLP and random forest are the same.\n",
      "Reject the null hypothesis: The distributions of xgboost and MLP are different.\n"
     ]
    }
   ],
   "source": [
    "from scipy.stats import ks_2samp\n",
    "\n",
    "model_rf_prediction = model_rf.predict(Xs[selected_columns_rf])\n",
    "model_xgb_prediction = model_xgb.predict(Xs[selected_columns_xgb])\n",
    "model_mlp_prediction = model_mlp.predict(Xs[selected_columns_mlp])\n",
    "\n",
    "statistic_xgb_rf, p_value_xgb_rf = ks_2samp(model_xgb_prediction, model_rf_prediction)\n",
    "statistic_mlp_rf, p_value_mlp_rf = ks_2samp(model_mlp_prediction, model_rf_prediction)\n",
    "statistic_xgb_mlp, p_value_xgb_mlp, = ks_2samp(model_xgb_prediction, model_mlp_prediction)\n",
    "\n",
    "if p_value_xgb_rf < 0.05:\n",
    "    print(\"Reject the null hypothesis: The distributions of xgboost and random forest are different.\")\n",
    "else:\n",
    "    print(\"Fail to reject the null hypothesis: The distributions of xgboost and random forest are the same.\")\n",
    "\n",
    "if p_value_mlp_rf < 0.05:\n",
    "    print(\"Reject the null hypothesis: The distributions of MLP and random forest are different.\")\n",
    "else:\n",
    "    print(\"Fail to reject the null hypothesis: The distributions of MLP and random forest are the same.\")\n",
    "    \n",
    "if p_value_xgb_mlp < 0.05:\n",
    "    print(\"Reject the null hypothesis: The distributions of xgboost and MLP are different.\")\n",
    "else:\n",
    "    print(\"Fail to reject the null hypothesis: The distributions of xgboost and MLP are the same.\")"
   ],
   "metadata": {
    "collapsed": false,
    "ExecuteTime": {
     "end_time": "2024-01-30T16:30:50.455124800Z",
     "start_time": "2024-01-30T16:30:50.319452100Z"
    }
   },
   "id": "d401ddb5db01a53c"
  },
  {
   "cell_type": "code",
   "execution_count": 24,
   "outputs": [
    {
     "name": "stdout",
     "output_type": "stream",
     "text": [
      "3.5671195921026913e-07 1.2905718938839826e-05 0.9998045804566601\n"
     ]
    }
   ],
   "source": [
    "print(p_value_xgb_mlp,p_value_xgb_rf,p_value_mlp_rf)"
   ],
   "metadata": {
    "collapsed": false,
    "ExecuteTime": {
     "end_time": "2024-01-30T16:30:53.423011400Z",
     "start_time": "2024-01-30T16:30:53.386327300Z"
    }
   },
   "id": "9ba7d3f93f8718e1"
  },
  {
   "cell_type": "code",
   "execution_count": 25,
   "outputs": [
    {
     "name": "stderr",
     "output_type": "stream",
     "text": [
      "D:\\anaconda3\\lib\\site-packages\\sklearn\\base.py:465: UserWarning: X does not have valid feature names, but RandomForestClassifier was fitted with feature names\n",
      "  warnings.warn(\n"
     ]
    },
    {
     "data": {
      "text/plain": "<Figure size 432x288 with 2 Axes>",
      "image/png": "[encoded data removed]"
     },
     "metadata": {
      "needs_background": "light"
     },
     "output_type": "display_data"
    }
   ],
   "source": [
    "from sklearn.metrics import ConfusionMatrixDisplay\n",
    "X_evl_test_rf = np.array(Xs_test[selected_columns_rf])\n",
    "y_evl_test = np.array(y_test)\n",
    "disp = ConfusionMatrixDisplay.from_estimator(model_rf,X_evl_test_rf,y_evl_test,cmap=plt.cm.Blues)"
   ],
   "metadata": {
    "collapsed": false,
    "ExecuteTime": {
     "end_time": "2024-01-30T16:31:21.084917800Z",
     "start_time": "2024-01-30T16:31:20.831472Z"
    }
   },
   "id": "91263d9b4ed28c9f"
  },
  {
   "cell_type": "code",
   "execution_count": 26,
   "outputs": [
    {
     "data": {
      "text/plain": "<Figure size 432x288 with 2 Axes>",
      "image/png": "[encoded data removed]"
     },
     "metadata": {
      "needs_background": "light"
     },
     "output_type": "display_data"
    }
   ],
   "source": [
    "X_evl_test_xgb = np.array(Xs_test[selected_columns_xgb])\n",
    "\n",
    "disp_xgb = ConfusionMatrixDisplay.from_estimator(model_xgb,X_evl_test_xgb,y_evl_test,cmap=plt.cm.Blues)"
   ],
   "metadata": {
    "collapsed": false,
    "ExecuteTime": {
     "end_time": "2024-01-30T16:31:37.444953300Z",
     "start_time": "2024-01-30T16:31:37.298138700Z"
    }
   },
   "id": "4e90667d678e10f1"
  },
  {
   "cell_type": "code",
   "execution_count": 27,
   "outputs": [
    {
     "name": "stderr",
     "output_type": "stream",
     "text": [
      "D:\\anaconda3\\lib\\site-packages\\sklearn\\base.py:465: UserWarning: X does not have valid feature names, but MLPClassifier was fitted with feature names\n",
      "  warnings.warn(\n"
     ]
    },
    {
     "data": {
      "text/plain": "<Figure size 432x288 with 2 Axes>",
      "image/png": "[encoded data removed]"
     },
     "metadata": {
      "needs_background": "light"
     },
     "output_type": "display_data"
    }
   ],
   "source": [
    "X_evl_test_mlp = np.array(Xs_test[selected_columns_mlp])\n",
    "\n",
    "disp_mlp = ConfusionMatrixDisplay.from_estimator(model_mlp,X_evl_test_mlp,y_evl_test,cmap=plt.cm.Blues)"
   ],
   "metadata": {
    "collapsed": false,
    "ExecuteTime": {
     "end_time": "2024-01-30T16:31:48.923132700Z",
     "start_time": "2024-01-30T16:31:48.773362500Z"
    }
   },
   "id": "2b5239f5e5fe8f8a"
  },
  {
   "cell_type": "code",
   "execution_count": 28,
   "outputs": [
    {
     "name": "stderr",
     "output_type": "stream",
     "text": [
      "D:\\anaconda3\\lib\\site-packages\\sklearn\\base.py:465: UserWarning: X does not have valid feature names, but RandomForestClassifier was fitted with feature names\n",
      "  warnings.warn(\n",
      "D:\\anaconda3\\lib\\site-packages\\sklearn\\base.py:465: UserWarning: X does not have valid feature names, but MLPClassifier was fitted with feature names\n",
      "  warnings.warn(\n"
     ]
    },
    {
     "data": {
      "text/plain": "<Figure size 576x432 with 1 Axes>",
      "image/png": "[encoded data removed]"
     },
     "metadata": {
      "needs_background": "light"
     },
     "output_type": "display_data"
    }
   ],
   "source": [
    "from sklearn.metrics import roc_curve, roc_auc_score\n",
    "\n",
    "y_pred_xgb = model_xgb.predict_proba(X_evl_test_xgb)[:, 1]  \n",
    "y_pred_rf = model_rf.predict_proba(X_evl_test_rf)[:, 1]\n",
    "y_pred_mlp = model_mlp.predict(X_evl_test_mlp)\n",
    "\n",
    "# 计算 ROC 曲线的参数\n",
    "fpr_xgb, tpr_xgb, thresholds_xgb = roc_curve(y_evl_test, y_pred_xgb)\n",
    "fpr_rf, tpr_rf, thresholds_rf = roc_curve(y_evl_test, y_pred_rf)\n",
    "fpr_mlp, tpr_mlp, thresholds_mlp = roc_curve(y_evl_test, y_pred_mlp)\n",
    "\n",
    "# 计算 AUC 值\n",
    "auc_xgb = roc_auc_score(y_evl_test, y_pred_xgb)\n",
    "auc_rf = roc_auc_score(y_evl_test, y_pred_rf)\n",
    "auc_mlp = roc_auc_score(y_evl_test, y_pred_mlp)\n",
    "\n",
    "# 绘制 ROC 曲线\n",
    "plt.figure(figsize=(8, 6))\n",
    "plt.plot(fpr_xgb, tpr_xgb, label='XGBoost (AUC = %0.2f)' % auc_xgb)\n",
    "plt.plot(fpr_rf, tpr_rf, label='Random Forest (AUC = %0.2f)' % auc_rf)\n",
    "plt.plot(fpr_mlp, tpr_mlp, label='MLP (AUC = %0.2f)' % auc_mlp)\n",
    "plt.plot([0, 1], [0, 1], 'k--')\n",
    "plt.xlabel('False Positive Rate')\n",
    "plt.ylabel('True Positive Rate')\n",
    "plt.title('ROC Curve')\n",
    "plt.legend(loc='lower right')\n",
    "plt.grid()\n",
    "plt.show()"
   ],
   "metadata": {
    "collapsed": false,
    "ExecuteTime": {
     "end_time": "2024-01-30T16:32:01.061731300Z",
     "start_time": "2024-01-30T16:32:00.859475300Z"
    }
   },
   "id": "367feb2490fa22a7"
  },
  {
   "cell_type": "code",
   "execution_count": null,
   "outputs": [],
   "source": [],
   "metadata": {
    "collapsed": false,
    "ExecuteTime": {
     "start_time": "2024-01-30T16:22:06.612024200Z"
    }
   },
   "id": "e632599026527fd9"
  }
 ],
 "metadata": {
  "kernelspec": {
   "display_name": "Python 3",
   "language": "python",
   "name": "python3"
  },
  "language_info": {
   "codemirror_mode": {
    "name": "ipython",
    "version": 2
   },
   "file_extension": ".py",
   "mimetype": "text/x-python",
   "name": "python",
   "nbconvert_exporter": "python",
   "pygments_lexer": "ipython2",
   "version": "2.7.6"
  }
 },
 "nbformat": 4,
 "nbformat_minor": 5
}
