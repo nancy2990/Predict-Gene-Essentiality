{
 "cells": [
  {
   "cell_type": "code",
   "execution_count": 2,
   "id": "initial_id",
   "metadata": {
    "collapsed": true,
    "ExecuteTime": {
     "end_time": "2024-03-29T17:56:30.262863900Z",
     "start_time": "2024-03-29T17:56:30.031465500Z"
    }
   },
   "outputs": [],
   "source": [
    "from joblib import load"
   ]
  },
  {
   "cell_type": "code",
   "execution_count": 3,
   "outputs": [],
   "source": [
    "nb_model = load(\"NB_model.joblib\")"
   ],
   "metadata": {
    "collapsed": false,
    "ExecuteTime": {
     "end_time": "2024-03-29T16:16:55.374153200Z",
     "start_time": "2024-03-29T16:16:54.445236100Z"
    }
   },
   "id": "f22866860a5796b4"
  },
  {
   "cell_type": "code",
   "execution_count": 4,
   "outputs": [
    {
     "data": {
      "text/plain": "0.08288390651987589"
     },
     "execution_count": 4,
     "metadata": {},
     "output_type": "execute_result"
    }
   ],
   "source": [
    "nb_model.var_smoothing"
   ],
   "metadata": {
    "collapsed": false,
    "ExecuteTime": {
     "end_time": "2024-03-29T16:17:04.770187Z",
     "start_time": "2024-03-29T16:17:04.735741Z"
    }
   },
   "id": "e96b2ee9d227ed3e"
  },
  {
   "cell_type": "code",
   "execution_count": 5,
   "outputs": [
    {
     "data": {
      "text/plain": "0.04081966461501301"
     },
     "execution_count": 5,
     "metadata": {},
     "output_type": "execute_result"
    }
   ],
   "source": [
    "nb_model_lasso = load(\"NB_model_lasso.joblib\")\n",
    "nb_model_lasso.var_smoothing"
   ],
   "metadata": {
    "collapsed": false,
    "ExecuteTime": {
     "end_time": "2024-03-29T16:17:39.267376400Z",
     "start_time": "2024-03-29T16:17:39.227493400Z"
    }
   },
   "id": "dd38cacb52930c88"
  },
  {
   "cell_type": "code",
   "execution_count": 12,
   "outputs": [
    {
     "data": {
      "text/plain": "0"
     },
     "execution_count": 12,
     "metadata": {},
     "output_type": "execute_result"
    }
   ],
   "source": [
    "svm_model = load(\"SVM_model.joblib\")\n",
    "svm_model.gamma"
   ],
   "metadata": {
    "collapsed": false,
    "ExecuteTime": {
     "end_time": "2024-03-29T16:34:58.778587900Z",
     "start_time": "2024-03-29T16:34:58.761979500Z"
    }
   },
   "id": "5833f3cccc259f55"
  },
  {
   "cell_type": "code",
   "execution_count": 16,
   "outputs": [
    {
     "data": {
      "text/plain": "'linear'"
     },
     "execution_count": 16,
     "metadata": {},
     "output_type": "execute_result"
    }
   ],
   "source": [
    "svm_lasso = load(\"SVM_model_lasso.joblib\")\n",
    "svm_lasso.kernel"
   ],
   "metadata": {
    "collapsed": false,
    "ExecuteTime": {
     "end_time": "2024-03-29T16:38:08.502730700Z",
     "start_time": "2024-03-29T16:38:08.470698600Z"
    }
   },
   "id": "fd999ea80d7b063c"
  },
  {
   "cell_type": "code",
   "execution_count": 17,
   "outputs": [
    {
     "data": {
      "text/plain": "'linear'"
     },
     "execution_count": 17,
     "metadata": {},
     "output_type": "execute_result"
    }
   ],
   "source": [
    "svm_fss = load(\"SVM_model_FSS.joblib\")\n",
    "svm_fss.kernel"
   ],
   "metadata": {
    "collapsed": false,
    "ExecuteTime": {
     "end_time": "2024-03-29T16:38:14.080641400Z",
     "start_time": "2024-03-29T16:38:14.068675500Z"
    }
   },
   "id": "bd04898a769390b1"
  },
  {
   "cell_type": "code",
   "execution_count": 3,
   "outputs": [],
   "source": [
    "xgb_model = load(\"XGB_model.joblib\")\n",
    "xgb_lasso = load(\"XGBoost_model_lasso.joblib\")\n",
    "xgb_rfe = load(\"XGB_FS_model.joblib\")\n",
    "xgb_fss = load(\"XGB_model_FSS.joblib\")"
   ],
   "metadata": {
    "collapsed": false,
    "ExecuteTime": {
     "end_time": "2024-03-29T17:56:35.699507500Z",
     "start_time": "2024-03-29T17:56:33.217108Z"
    }
   },
   "id": "e6facf723ba6049"
  },
  {
   "cell_type": "code",
   "execution_count": 8,
   "outputs": [],
   "source": [
    "xgb_lasso.learning_rate"
   ],
   "metadata": {
    "collapsed": false,
    "ExecuteTime": {
     "end_time": "2024-03-29T17:57:51.898312100Z",
     "start_time": "2024-03-29T17:57:51.852433900Z"
    }
   },
   "id": "84166136ec0c9862"
  },
  {
   "cell_type": "code",
   "execution_count": 9,
   "outputs": [
    {
     "data": {
      "text/plain": "0.09045411626271394"
     },
     "execution_count": 9,
     "metadata": {},
     "output_type": "execute_result"
    }
   ],
   "source": [
    "xgb_fss.learning_rate"
   ],
   "metadata": {
    "collapsed": false,
    "ExecuteTime": {
     "end_time": "2024-03-29T17:57:58.141709700Z",
     "start_time": "2024-03-29T17:57:58.121449300Z"
    }
   },
   "id": "5482e4c3ec33bed2"
  },
  {
   "cell_type": "code",
   "execution_count": 10,
   "outputs": [],
   "source": [
    "rf_model = load(\"RF_model.joblib\")\n",
    "rf_rfe = load(\"RF_FS_model.joblib\")\n",
    "rf_lasso = load(\"RF_model_lasso.joblib\")\n",
    "rf_fss = load(\"RF_model_FSS.joblib\")"
   ],
   "metadata": {
    "collapsed": false,
    "ExecuteTime": {
     "end_time": "2024-03-29T18:17:48.587864300Z",
     "start_time": "2024-03-29T18:17:47.719364300Z"
    }
   },
   "id": "5a63a2c9fd5bbd3d"
  },
  {
   "cell_type": "code",
   "execution_count": 20,
   "outputs": [
    {
     "data": {
      "text/plain": "0.10030016223764829"
     },
     "execution_count": 20,
     "metadata": {},
     "output_type": "execute_result"
    }
   ],
   "source": [
    "rf_model.min_samples_leaf"
   ],
   "metadata": {
    "collapsed": false,
    "ExecuteTime": {
     "end_time": "2024-03-29T18:19:54.893656600Z",
     "start_time": "2024-03-29T18:19:54.863186900Z"
    }
   },
   "id": "386bcea75968e24"
  },
  {
   "cell_type": "code",
   "execution_count": 21,
   "outputs": [
    {
     "data": {
      "text/plain": "0.21494252794129354"
     },
     "execution_count": 21,
     "metadata": {},
     "output_type": "execute_result"
    }
   ],
   "source": [
    "rf_fss.min_samples_leaf"
   ],
   "metadata": {
    "collapsed": false,
    "ExecuteTime": {
     "end_time": "2024-03-29T18:20:08.999127Z",
     "start_time": "2024-03-29T18:20:08.981201Z"
    }
   },
   "id": "2c94f76d7065a3f6"
  },
  {
   "cell_type": "code",
   "execution_count": 23,
   "outputs": [
    {
     "data": {
      "text/plain": "0.12017969486189678"
     },
     "execution_count": 23,
     "metadata": {},
     "output_type": "execute_result"
    }
   ],
   "source": [
    "rf_rfe.min_samples_leaf"
   ],
   "metadata": {
    "collapsed": false,
    "ExecuteTime": {
     "end_time": "2024-03-29T18:20:23.145182400Z",
     "start_time": "2024-03-29T18:20:23.129458100Z"
    }
   },
   "id": "2a4d13fc9b4e20ce"
  },
  {
   "cell_type": "code",
   "execution_count": 22,
   "outputs": [
    {
     "data": {
      "text/plain": "0.14193224681858743"
     },
     "execution_count": 22,
     "metadata": {},
     "output_type": "execute_result"
    }
   ],
   "source": [
    "rf_lasso.min_samples_leaf"
   ],
   "metadata": {
    "collapsed": false,
    "ExecuteTime": {
     "end_time": "2024-03-29T18:20:19.636159100Z",
     "start_time": "2024-03-29T18:20:19.600239100Z"
    }
   },
   "id": "13762c92f28722db"
  },
  {
   "cell_type": "code",
   "execution_count": 24,
   "outputs": [],
   "source": [
    "mlp_model = load(\"MLP_model.joblib\")"
   ],
   "metadata": {
    "collapsed": false,
    "ExecuteTime": {
     "end_time": "2024-03-29T18:21:10.346016800Z",
     "start_time": "2024-03-29T18:21:10.299803400Z"
    }
   },
   "id": "29a14582349c06cd"
  },
  {
   "cell_type": "code",
   "execution_count": 25,
   "outputs": [],
   "source": [
    "mlp_lasso = load(\"MLP_model_lasso.joblib\")"
   ],
   "metadata": {
    "collapsed": false,
    "ExecuteTime": {
     "end_time": "2024-03-29T18:21:21.131959400Z",
     "start_time": "2024-03-29T18:21:21.094033900Z"
    }
   },
   "id": "2602aa83ebf217d3"
  },
  {
   "cell_type": "code",
   "execution_count": 40,
   "outputs": [
    {
     "data": {
      "text/plain": "101"
     },
     "execution_count": 40,
     "metadata": {},
     "output_type": "execute_result"
    }
   ],
   "source": [
    "mlp_model.hidden_layer_sizes"
   ],
   "metadata": {
    "collapsed": false,
    "ExecuteTime": {
     "end_time": "2024-03-29T18:27:27.814062800Z",
     "start_time": "2024-03-29T18:27:27.795560600Z"
    }
   },
   "id": "7ac27391e063b69c"
  },
  {
   "cell_type": "code",
   "execution_count": 41,
   "outputs": [
    {
     "data": {
      "text/plain": "193"
     },
     "execution_count": 41,
     "metadata": {},
     "output_type": "execute_result"
    }
   ],
   "source": [
    "mlp_lasso.hidden_layer_sizes"
   ],
   "metadata": {
    "collapsed": false,
    "ExecuteTime": {
     "end_time": "2024-03-29T18:27:31.075881500Z",
     "start_time": "2024-03-29T18:27:31.059851500Z"
    }
   },
   "id": "f282b04eec20ea0c"
  },
  {
   "cell_type": "code",
   "execution_count": 42,
   "outputs": [
    {
     "name": "stdout",
     "output_type": "stream",
     "text": [
      "Layer 1 size: 27 Neurons\n",
      "Output Layer size: 101 Neurons\n"
     ]
    }
   ],
   "source": [
    "for i, layer in enumerate(mlp_model.coefs_[:-1]):\n",
    "    print(\"Layer\", i+1, \"size:\", layer.shape[0], \"Neurons\")\n",
    "print(\"Output Layer size:\", mlp_model.coefs_[-1].shape[0], \"Neurons\")"
   ],
   "metadata": {
    "collapsed": false,
    "ExecuteTime": {
     "end_time": "2024-03-29T18:28:00.455839200Z",
     "start_time": "2024-03-29T18:28:00.426948100Z"
    }
   },
   "id": "70887999aac3ee1b"
  },
  {
   "cell_type": "code",
   "execution_count": 43,
   "outputs": [
    {
     "name": "stdout",
     "output_type": "stream",
     "text": [
      "Layer 1 size: 7 Neurons\n",
      "Output Layer size: 193 Neurons\n"
     ]
    }
   ],
   "source": [
    "for i, layer in enumerate(mlp_lasso.coefs_[:-1]):\n",
    "    print(\"Layer\", i+1, \"size:\", layer.shape[0], \"Neurons\")\n",
    "print(\"Output Layer size:\", mlp_lasso.coefs_[-1].shape[0], \"Neurons\")"
   ],
   "metadata": {
    "collapsed": false,
    "ExecuteTime": {
     "end_time": "2024-03-29T18:28:31.942682100Z",
     "start_time": "2024-03-29T18:28:31.902730300Z"
    }
   },
   "id": "681efadf84d197e2"
  },
  {
   "cell_type": "code",
   "execution_count": null,
   "outputs": [],
   "source": [],
   "metadata": {
    "collapsed": false
   },
   "id": "267a5ebb3f10ec67"
  }
 ],
 "metadata": {
  "kernelspec": {
   "display_name": "Python 3",
   "language": "python",
   "name": "python3"
  },
  "language_info": {
   "codemirror_mode": {
    "name": "ipython",
    "version": 2
   },
   "file_extension": ".py",
   "mimetype": "text/x-python",
   "name": "python",
   "nbconvert_exporter": "python",
   "pygments_lexer": "ipython2",
   "version": "2.7.6"
  }
 },
 "nbformat": 4,
 "nbformat_minor": 5
}
