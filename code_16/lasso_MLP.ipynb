{
 "cells": [
  {
   "cell_type": "code",
   "execution_count": 1,
   "id": "initial_id",
   "metadata": {
    "collapsed": true,
    "ExecuteTime": {
     "end_time": "2024-03-08T15:12:01.257592400Z",
     "start_time": "2024-03-08T15:12:00.019680800Z"
    }
   },
   "outputs": [],
   "source": [
    "import pandas as pd\n",
    "from sklearn.metrics import make_scorer\n",
    "from sklearn.model_selection import cross_val_score\n",
    "from hyperopt import hp\n",
    "import numpy as np\n",
    "from hyperopt import Trials, tpe, fmin\n",
    "import warnings\n",
    "from imblearn.under_sampling import RandomUnderSampler\n",
    "from sklearn.linear_model import LassoCV\n",
    "from sklearn.metrics import accuracy_score\n",
    "from sklearn.naive_bayes import GaussianNB\n",
    "\n",
    "warnings.filterwarnings(\"ignore\")"
   ]
  },
  {
   "cell_type": "code",
   "execution_count": 2,
   "outputs": [],
   "source": [
    "ma = pd.read_csv(\"../16 Mycoplosma/ma.csv\")\n",
    "map = pd.read_csv(\"../16 Mycoplosma/map.csv\")\n",
    "marth = pd.read_csv(\"../16 Mycoplosma/marth.csv\")\n",
    "mcap = pd.read_csv(\"../16 Mycoplosma/mcap.csv\")\n",
    "mcon = pd.read_csv(\"../16 Mycoplosma/mcon.csv\")\n",
    "mcro = pd.read_csv(\"../16 Mycoplosma/mcro.csv\")\n",
    "mgal = pd.read_csv(\"../16 Mycoplosma/mgal.csv\")\n",
    "mhom = pd.read_csv(\"../16 Mycoplosma/mhom.csv\")\n",
    "mhyoJ = pd.read_csv(\"../16 Mycoplosma/mhyoJ.csv\")\n",
    "mhyo232 = pd.read_csv(\"../16 Mycoplosma/mhyo232.csv\")\n",
    "mhyo7448 = pd.read_csv(\"../16 Mycoplosma/mhyo7448.csv\")\n",
    "mm163K = pd.read_csv(\"../16 Mycoplosma/mm163K.csv\")\n",
    "mms = pd.read_csv(\"../16 Mycoplosma/mms.csv\")\n",
    "mpHF = pd.read_csv(\"../16 Mycoplosma/mpHF.csv\")\n",
    "mpM = pd.read_csv(\"../16 Mycoplosma/mpM.csv\")\n",
    "ms53 = pd.read_csv(\"../16 Mycoplosma/ms53.csv\")"
   ],
   "metadata": {
    "collapsed": false,
    "ExecuteTime": {
     "end_time": "2024-03-08T15:12:02.865673Z",
     "start_time": "2024-03-08T15:12:02.669532200Z"
    }
   },
   "id": "1b6ba68f7118a51"
  },
  {
   "cell_type": "code",
   "execution_count": 3,
   "outputs": [],
   "source": [
    "def generate_train_test_dataset(index):\n",
    "    dataset_names = [ma, map, marth, mcap, mcon, mcro, mgal, mhom, mhyoJ, mhyo232, mhyo7448, mm163K, mms, mpHF, mpM, ms53]\n",
    "    merged_train = dataset_names[:index]+dataset_names[index+1:]\n",
    "    train_data = pd.concat(merged_train)\n",
    "    test_data = dataset_names[index]\n",
    "    return train_data,test_data"
   ],
   "metadata": {
    "collapsed": false,
    "ExecuteTime": {
     "end_time": "2024-03-08T15:12:03.204106100Z",
     "start_time": "2024-03-08T15:12:03.183685100Z"
    }
   },
   "id": "2b976e80eff11ec6"
  },
  {
   "cell_type": "code",
   "execution_count": 4,
   "outputs": [],
   "source": [
    "def handle_dataset(dataset):\n",
    "    columns_to_drop = ['identity','name', 'Amino acid', 'protein_sequence', 'essentiality']\n",
    "    Xs = dataset.drop(columns = columns_to_drop)\n",
    "    y = dataset['essentiality']\n",
    "    return Xs,y"
   ],
   "metadata": {
    "collapsed": false,
    "ExecuteTime": {
     "end_time": "2024-03-08T15:12:04.136770500Z",
     "start_time": "2024-03-08T15:12:04.122434700Z"
    }
   },
   "id": "85be72e44735b274"
  },
  {
   "cell_type": "code",
   "execution_count": 5,
   "outputs": [],
   "source": [
    "rus = RandomUnderSampler(sampling_strategy='auto', random_state=42)"
   ],
   "metadata": {
    "collapsed": false,
    "ExecuteTime": {
     "end_time": "2024-03-08T15:12:05.400435400Z",
     "start_time": "2024-03-08T15:12:05.388572700Z"
    }
   },
   "id": "92f2bd53c65db613"
  },
  {
   "cell_type": "code",
   "execution_count": 6,
   "outputs": [],
   "source": [
    "lassoCV = LassoCV(cv=20,random_state=10)\n",
    "all_feature_names = [\"GC_Content\",\"CAI\",\"A\",\"R\",\"N\",\"D\",\"C\",\"Q\",\"E\",\"G\",\"H\",\"I\",\"L\",\"K\",\"M\",\"F\",\"P\",\"S\",\"T\",\"W\",\"Y\",\"V\",\"nSE2\",\"nSE3\",\"nGE2\",\"nGE3\"]\n"
   ],
   "metadata": {
    "collapsed": false,
    "ExecuteTime": {
     "end_time": "2024-03-08T15:12:19.134772200Z",
     "start_time": "2024-03-08T15:12:19.115434100Z"
    }
   },
   "id": "d9658a1443eba766"
  },
  {
   "cell_type": "code",
   "execution_count": 7,
   "outputs": [],
   "source": [
    "space = {'layer_size':hp.quniform('layer_size', 25, 300, 1),\n",
    "         'alpha':hp.lognormal('alpha', mu=np.log(1e-4), sigma=1),\n",
    "         'activation':hp.choice('activation', ['logistic', 'tanh', 'relu']),\n",
    "         'max_iter': hp.quniform('max_iter', 100, 3000, 100),\n",
    "         'learning_rate':hp.loguniform('learning_rate', low=np.log(1e-4), high=np.log(1.)),\n",
    "        }"
   ],
   "metadata": {
    "collapsed": false,
    "ExecuteTime": {
     "end_time": "2024-03-08T15:12:37.768954900Z",
     "start_time": "2024-03-08T15:12:37.753665Z"
    }
   },
   "id": "22d663b303007756"
  },
  {
   "cell_type": "code",
   "execution_count": 10,
   "outputs": [],
   "source": [
    "from sklearn.neural_network import MLPClassifier\n",
    "from sklearn.metrics import accuracy_score\n",
    "def mlp_ac_cv(args):\n",
    "    scorer = make_scorer(accuracy_score)\n",
    "    model = MLPClassifier(hidden_layer_sizes=(int(args['layer_size']),),                         max_iter=int(args['max_iter']),\n",
    "                        alpha=args['alpha'], tol=1e-4, \n",
    "                        random_state=1, activation=args['activation'], \n",
    "                        learning_rate_init=args['learning_rate']\n",
    "                       )\n",
    "    score = -cross_val_score(model, X_resampled[selected_features], y_resampled, cv=5,scoring=scorer ).mean()\n",
    "    return score"
   ],
   "metadata": {
    "collapsed": false,
    "ExecuteTime": {
     "end_time": "2024-03-08T15:15:47.448979400Z",
     "start_time": "2024-03-08T15:15:47.413255Z"
    }
   },
   "id": "c7ff8a5d6e235794"
  },
  {
   "cell_type": "code",
   "execution_count": 11,
   "outputs": [
    {
     "name": "stdout",
     "output_type": "stream",
     "text": [
      "100%|██████████| 15/15 [00:46<00:00,  3.13s/trial, best loss: -0.8312397179788483]\n",
      "0.8673740053050398\n",
      "100%|██████████| 15/15 [00:47<00:00,  3.19s/trial, best loss: -0.8351648351648352]\n",
      "0.7950310559006211\n",
      "100%|██████████| 15/15 [00:47<00:00,  3.16s/trial, best loss: -0.8370121743087949]\n",
      "0.60062893081761\n",
      "100%|██████████| 15/15 [00:52<00:00,  3.51s/trial, best loss: -0.8250841301212543]\n",
      "0.9510204081632653\n",
      "100%|██████████| 15/15 [00:40<00:00,  2.70s/trial, best loss: -0.8326950721637628]\n",
      "0.8558282208588958\n",
      "100%|██████████| 15/15 [00:43<00:00,  2.93s/trial, best loss: -0.8301734378712282]\n",
      "0.6807909604519774\n",
      "100%|██████████| 15/15 [00:47<00:00,  3.17s/trial, best loss: -0.8279905992949471]\n",
      "0.6464891041162227\n",
      "100%|██████████| 15/15 [00:54<00:00,  3.64s/trial, best loss: -0.8284284974987063]\n",
      "0.9129032258064517\n",
      "100%|██████████| 15/15 [00:50<00:00,  3.37s/trial, best loss: -0.8370121743087952]\n",
      "0.5635838150289018\n",
      "100%|██████████| 15/15 [01:03<00:00,  4.22s/trial, best loss: -0.8338534393783013]\n",
      "0.8142235123367199\n",
      "100%|██████████| 15/15 [01:03<00:00,  4.21s/trial, best loss: -0.8423768346797132]\n",
      "0.9161849710982659\n",
      "100%|██████████| 15/15 [01:44<00:00,  6.94s/trial, best loss: -0.8423830281894797]\n",
      "0.9366391184573003\n",
      "100%|██████████| 15/15 [01:04<00:00,  4.32s/trial, best loss: -0.8354166666666666]\n",
      "0.9102244389027432\n",
      "100%|██████████| 15/15 [00:48<00:00,  3.24s/trial, best loss: -0.8252631578947369]\n",
      "0.945\n",
      "100%|██████████| 15/15 [00:28<00:00,  1.88s/trial, best loss: -0.8125]            \n",
      "0.45546558704453444\n"
     ]
    }
   ],
   "source": [
    "scores = []\n",
    "score = 0\n",
    "models = []\n",
    "features = []\n",
    "for i in range(0,15):\n",
    "    train_data, test_data = generate_train_test_dataset(i)\n",
    "    Xs_train,y_train = handle_dataset(train_data)\n",
    "    Xs_test,y_test = handle_dataset(test_data)\n",
    "    rus = RandomUnderSampler(sampling_strategy='auto', random_state=42)\n",
    "    X_resampled, y_resampled = rus.fit_resample(Xs_train, y_train)\n",
    "    lassoCV.fit(X_resampled,y_resampled)\n",
    "    selected_features = [feature for feature, coef in zip(all_feature_names, lassoCV.coef_) if coef !=0]\n",
    "    trials = Trials()\n",
    "    best=fmin(fn=mlp_ac_cv, # function to optimize\n",
    "          space=space, \n",
    "          algo=tpe.suggest, # optimization algorithm, hyperotp will select its parameters automatically\n",
    "          max_evals=15, # maximum number of iterations\n",
    "          trials=trials, # logging\n",
    "          rstate=np.random.default_rng(42) # fixing random state for the reproducibility\n",
    "    )\n",
    "    activations = ['logistic', 'tanh', 'relu']\n",
    "    model = MLPClassifier(hidden_layer_sizes=int(best['layer_size']),                            max_iter=int(best['max_iter']),alpha=best['alpha'], tol=1e-4,  random_state=1, activation=activations[best['activation']], learning_rate_init=best['learning_rate'])\n",
    "    models.append(model)\n",
    "    model.fit(X_resampled[selected_features],y_resampled)\n",
    "    tpe_test_score=accuracy_score(y_test, model.predict(Xs_test[selected_features]))\n",
    "    scores.append(tpe_test_score)\n",
    "    print(tpe_test_score)\n",
    "    if score < tpe_test_score:\n",
    "        score = tpe_test_score\n",
    "        best_model = model\n",
    "        features = selected_features"
   ],
   "metadata": {
    "collapsed": false,
    "ExecuteTime": {
     "end_time": "2024-03-08T15:29:23.879215Z",
     "start_time": "2024-03-08T15:15:48.570176600Z"
    }
   },
   "id": "a4984ad66d0e4611"
  },
  {
   "cell_type": "code",
   "execution_count": 12,
   "outputs": [
    {
     "name": "stdout",
     "output_type": "stream",
     "text": [
      "[0.8673740053050398, 0.7950310559006211, 0.60062893081761, 0.9510204081632653, 0.8558282208588958, 0.6807909604519774, 0.6464891041162227, 0.9129032258064517, 0.5635838150289018, 0.8142235123367199, 0.9161849710982659, 0.9366391184573003, 0.9102244389027432, 0.945, 0.45546558704453444]\n"
     ]
    }
   ],
   "source": [
    "print(scores)"
   ],
   "metadata": {
    "collapsed": false,
    "ExecuteTime": {
     "end_time": "2024-03-08T15:30:04.813187700Z",
     "start_time": "2024-03-08T15:30:04.779857500Z"
    }
   },
   "id": "e43a528bd5c9a2de"
  },
  {
   "cell_type": "code",
   "execution_count": 13,
   "outputs": [
    {
     "data": {
      "text/plain": "['../../model/MLP_model_lasso.joblib']"
     },
     "execution_count": 13,
     "metadata": {},
     "output_type": "execute_result"
    }
   ],
   "source": [
    "from joblib import dump\n",
    "\n",
    "dump(best_model, '../../model/MLP_model_lasso.joblib')"
   ],
   "metadata": {
    "collapsed": false,
    "ExecuteTime": {
     "end_time": "2024-03-08T15:30:14.648523800Z",
     "start_time": "2024-03-08T15:30:14.550542100Z"
    }
   },
   "id": "51884e5d0d475ce0"
  },
  {
   "cell_type": "code",
   "execution_count": 14,
   "outputs": [
    {
     "name": "stdout",
     "output_type": "stream",
     "text": [
      "['GC_Content', 'CAI', 'A', 'N', 'H', 'nSE3', 'nGE3']\n"
     ]
    }
   ],
   "source": [
    "print(features)"
   ],
   "metadata": {
    "collapsed": false,
    "ExecuteTime": {
     "end_time": "2024-03-08T15:30:21.483819100Z",
     "start_time": "2024-03-08T15:30:21.413146800Z"
    }
   },
   "id": "105c0b651db6551b"
  },
  {
   "cell_type": "code",
   "execution_count": null,
   "outputs": [],
   "source": [],
   "metadata": {
    "collapsed": false
   },
   "id": "608d7d5d24743959"
  }
 ],
 "metadata": {
  "kernelspec": {
   "display_name": "Python 3",
   "language": "python",
   "name": "python3"
  },
  "language_info": {
   "codemirror_mode": {
    "name": "ipython",
    "version": 2
   },
   "file_extension": ".py",
   "mimetype": "text/x-python",
   "name": "python",
   "nbconvert_exporter": "python",
   "pygments_lexer": "ipython2",
   "version": "2.7.6"
  }
 },
 "nbformat": 4,
 "nbformat_minor": 5
}
