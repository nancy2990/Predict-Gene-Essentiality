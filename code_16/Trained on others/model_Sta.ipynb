{
 "cells": [
  {
   "cell_type": "code",
   "execution_count": 1,
   "id": "initial_id",
   "metadata": {
    "collapsed": true,
    "ExecuteTime": {
     "end_time": "2024-03-13T14:02:26.634968100Z",
     "start_time": "2024-03-13T14:02:24.491960400Z"
    }
   },
   "outputs": [],
   "source": [
    "import pandas as pd\n",
    "from sklearn.metrics import make_scorer, balanced_accuracy_score\n",
    "from sklearn.model_selection import cross_val_score\n",
    "from sklearn.ensemble import RandomForestClassifier\n",
    "from hyperopt import hp\n",
    "import numpy as np\n",
    "from hyperopt import Trials, tpe, fmin\n",
    "import warnings\n",
    "from imblearn.under_sampling import RandomUnderSampler\n",
    "from joblib import load\n",
    "import statistics\n",
    "from sklearn.metrics import accuracy_score, f1_score, roc_auc_score, matthews_corrcoef, precision_score, recall_score\n",
    "warnings.filterwarnings(\"ignore\")"
   ]
  },
  {
   "cell_type": "code",
   "execution_count": 2,
   "outputs": [],
   "source": [
    "ma = pd.read_csv(\"../../16 Mycoplosma/ma.csv\")\n",
    "map = pd.read_csv(\"../../16 Mycoplosma/map.csv\")\n",
    "marth = pd.read_csv(\"../../16 Mycoplosma/marth.csv\")\n",
    "mcap = pd.read_csv(\"../../16 Mycoplosma/mcap.csv\")\n",
    "mcon = pd.read_csv(\"../../16 Mycoplosma/mcon.csv\")\n",
    "mcro = pd.read_csv(\"../../16 Mycoplosma/mcro.csv\")\n",
    "mgal = pd.read_csv(\"../../16 Mycoplosma/mgal.csv\")\n",
    "mhyoJ = pd.read_csv(\"../../16 Mycoplosma/mhyoJ.csv\")\n",
    "mhyo232 = pd.read_csv(\"../../16 Mycoplosma/mhyo232.csv\")\n",
    "mhyo7448 = pd.read_csv(\"../../16 Mycoplosma/mhyo7448.csv\")\n",
    "mm163K = pd.read_csv(\"../../16 Mycoplosma/mm163K.csv\")\n",
    "mms = pd.read_csv(\"../../16 Mycoplosma/mms.csv\")\n",
    "mpHF = pd.read_csv(\"../../16 Mycoplosma/mpHF.csv\")\n",
    "mpM = pd.read_csv(\"../../16 Mycoplosma/mpM.csv\")\n",
    "ms53 = pd.read_csv(\"../../16 Mycoplosma/ms53.csv\")"
   ],
   "metadata": {
    "collapsed": false,
    "ExecuteTime": {
     "end_time": "2024-03-13T14:04:29.279511600Z",
     "start_time": "2024-03-13T14:04:29.090226700Z"
    }
   },
   "id": "1b6ba68f7118a51"
  },
  {
   "cell_type": "code",
   "execution_count": 3,
   "outputs": [],
   "source": [
    "rus = RandomUnderSampler(sampling_strategy='auto', random_state=42)"
   ],
   "metadata": {
    "collapsed": false,
    "ExecuteTime": {
     "end_time": "2024-03-13T14:04:29.810250300Z",
     "start_time": "2024-03-13T14:04:29.799247600Z"
    }
   },
   "id": "92f2bd53c65db613"
  },
  {
   "cell_type": "code",
   "execution_count": 6,
   "outputs": [],
   "source": [
    "def generate_train_test_dataset(index):\n",
    "    dataset_names = [ma, map, marth, mcap, mcon, mcro, mgal, mhyoJ, mhyo232, mhyo7448, mm163K, mms, mpHF, mpM, ms53]\n",
    "    merged_train = dataset_names[:index]+dataset_names[index+1:]\n",
    "    train_data = pd.concat(merged_train)\n",
    "    test_data = dataset_names[index]\n",
    "    return train_data,test_data"
   ],
   "metadata": {
    "collapsed": false,
    "ExecuteTime": {
     "end_time": "2024-03-13T14:05:16.943567100Z",
     "start_time": "2024-03-13T14:05:16.905669400Z"
    }
   },
   "id": "fbd44da7d2452e49"
  },
  {
   "cell_type": "code",
   "execution_count": 5,
   "outputs": [],
   "source": [
    "def handle_dataset(dataset):\n",
    "    columns_to_drop = ['identity','name', 'Amino acid', 'protein_sequence', 'essentiality']\n",
    "    Xs = dataset.drop(columns = columns_to_drop)\n",
    "    y = dataset['essentiality']\n",
    "    return Xs,y"
   ],
   "metadata": {
    "collapsed": false,
    "ExecuteTime": {
     "end_time": "2024-03-13T14:05:05.523791800Z",
     "start_time": "2024-03-13T14:05:05.492323900Z"
    }
   },
   "id": "b1e15277feee28cd"
  },
  {
   "cell_type": "code",
   "execution_count": 8,
   "outputs": [],
   "source": [
    "from sklearn.model_selection import KFold\n",
    "\n",
    "model_Sta = load('../../../model/XGB_model_Sta.joblib')\n",
    "scores_sta_ac = []\n",
    "scores_sta_f1 = []\n",
    "scores_sta_auc = []\n",
    "scores_sta_precision = []\n",
    "scores_sta_recall = []\n",
    "feature_sta = ['GC_Content', 'CAI', 'R', 'D', 'E', 'S', 'nSE2', 'nSE3', 'nGE3']\n",
    "\n",
    "for i in range(0,15): \n",
    "    train_data, test_data = generate_train_test_dataset(i)\n",
    "    Xs_train,y_train = handle_dataset(train_data)\n",
    "    Xs_test,y_test = handle_dataset(test_data)\n",
    "    X_resampled, y_resampled = rus.fit_resample(Xs_train, y_train)\n",
    "    model_Sta.fit(X_resampled[feature_sta], y_resampled)\n",
    "    y_predict = model_Sta.predict(Xs_test[feature_sta])\n",
    "    acc=accuracy_score(y_test, y_predict)\n",
    "    scores_sta_ac.append(acc)\n",
    "    auc = roc_auc_score(y_test,y_predict)\n",
    "    scores_sta_auc.append(auc)\n",
    "    f1 = f1_score(y_test,y_predict)\n",
    "    scores_sta_f1.append(f1)\n",
    "    precision = precision_score(y_test,y_predict)\n",
    "    scores_sta_precision.append(precision)\n",
    "    recall = recall_score(y_test,y_predict)\n",
    "    scores_sta_recall.append(recall)"
   ],
   "metadata": {
    "collapsed": false,
    "ExecuteTime": {
     "end_time": "2024-03-13T14:07:45.449226700Z",
     "start_time": "2024-03-13T14:07:41.580Z"
    }
   },
   "id": "3dddd9824af86e1c"
  },
  {
   "cell_type": "code",
   "execution_count": 9,
   "outputs": [
    {
     "name": "stdout",
     "output_type": "stream",
     "text": [
      "[0.896551724137931, 0.8509316770186336, 0.720125786163522, 0.9061224489795918, 0.8926380368098159, 0.923728813559322, 0.7046004842615012, 0.8554913294797688, 0.8621190130624092, 0.869942196531792, 0.9614325068870524, 0.942643391521197, 0.955, 0.46153846153846156, 0.8904494382022472]\n",
      "0.8462210205435498 0.01682171161730699\n"
     ]
    }
   ],
   "source": [
    "print(scores_sta_ac)\n",
    "print(statistics.mean(scores_sta_ac),statistics.variance(scores_sta_ac))"
   ],
   "metadata": {
    "collapsed": false,
    "ExecuteTime": {
     "end_time": "2024-03-13T14:07:56.327264100Z",
     "start_time": "2024-03-13T14:07:56.290605600Z"
    }
   },
   "id": "74bce6cc10e475f3"
  },
  {
   "cell_type": "code",
   "execution_count": 10,
   "outputs": [],
   "source": [
    "import csv\n",
    "def generateString(scores):\n",
    "    mean_score = round(np.mean(scores),4)\n",
    "    var_score = round(np.var(scores),4)\n",
    "    return f'{mean_score}±{var_score}'\n",
    "with open('results.csv', 'w', newline='') as file:\n",
    "    writer = csv.writer(file)\n",
    "    writer.writerow(['Type','ACC','AUC','F1','Precision', 'Recall'])\n",
    "    writer.writerow(['Sta',generateString(scores_sta_ac),generateString(scores_sta_auc),generateString(scores_sta_f1),generateString(scores_sta_precision),generateString(scores_sta_recall)])"
   ],
   "metadata": {
    "collapsed": false,
    "ExecuteTime": {
     "end_time": "2024-03-13T14:07:57.937154700Z",
     "start_time": "2024-03-13T14:07:57.905355700Z"
    }
   },
   "id": "b2de3d77d8600939"
  },
  {
   "cell_type": "code",
   "execution_count": null,
   "outputs": [],
   "source": [],
   "metadata": {
    "collapsed": false
   },
   "id": "6c78387cc3a4b998"
  }
 ],
 "metadata": {
  "kernelspec": {
   "display_name": "Python 3",
   "language": "python",
   "name": "python3"
  },
  "language_info": {
   "codemirror_mode": {
    "name": "ipython",
    "version": 2
   },
   "file_extension": ".py",
   "mimetype": "text/x-python",
   "name": "python",
   "nbconvert_exporter": "python",
   "pygments_lexer": "ipython2",
   "version": "2.7.6"
  }
 },
 "nbformat": 4,
 "nbformat_minor": 5
}
