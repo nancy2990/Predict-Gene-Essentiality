{
 "cells": [
  {
   "cell_type": "code",
   "execution_count": 1,
   "id": "initial_id",
   "metadata": {
    "collapsed": true,
    "ExecuteTime": {
     "end_time": "2024-03-13T15:08:03.099034400Z",
     "start_time": "2024-03-13T15:08:00.069819800Z"
    }
   },
   "outputs": [],
   "source": [
    "import pandas as pd\n",
    "from sklearn.metrics import make_scorer, balanced_accuracy_score\n",
    "from sklearn.model_selection import cross_val_score\n",
    "from sklearn.ensemble import RandomForestClassifier\n",
    "from hyperopt import hp\n",
    "import numpy as np\n",
    "from hyperopt import Trials, tpe, fmin\n",
    "import warnings\n",
    "from imblearn.under_sampling import RandomUnderSampler\n",
    "from joblib import load\n",
    "import statistics\n",
    "from sklearn.metrics import accuracy_score, f1_score, roc_auc_score, matthews_corrcoef, precision_score, recall_score\n",
    "warnings.filterwarnings(\"ignore\")"
   ]
  },
  {
   "cell_type": "code",
   "execution_count": 2,
   "outputs": [],
   "source": [
    "ma = pd.read_csv(\"../../16 Mycoplosma/ma.csv\")\n",
    "map = pd.read_csv(\"../../16 Mycoplosma/map.csv\")\n",
    "marth = pd.read_csv(\"../../16 Mycoplosma/marth.csv\")\n",
    "mcap = pd.read_csv(\"../../16 Mycoplosma/mcap.csv\")\n",
    "mcon = pd.read_csv(\"../../16 Mycoplosma/mcon.csv\")\n",
    "mcro = pd.read_csv(\"../../16 Mycoplosma/mcro.csv\")\n",
    "mgal = pd.read_csv(\"../../16 Mycoplosma/mgal.csv\")\n",
    "mhyoJ = pd.read_csv(\"../../16 Mycoplosma/mhyoJ.csv\")\n",
    "mhyo232 = pd.read_csv(\"../../16 Mycoplosma/mhyo232.csv\")\n",
    "mhyo7448 = pd.read_csv(\"../../16 Mycoplosma/mhyo7448.csv\")\n",
    "mm163K = pd.read_csv(\"../../16 Mycoplosma/mm163K.csv\")\n",
    "mms = pd.read_csv(\"../../16 Mycoplosma/mms.csv\")\n",
    "mpHF = pd.read_csv(\"../../16 Mycoplosma/mpHF.csv\")\n",
    "mpM = pd.read_csv(\"../../16 Mycoplosma/mpM.csv\")\n",
    "ms53 = pd.read_csv(\"../../16 Mycoplosma/ms53.csv\")"
   ],
   "metadata": {
    "collapsed": false,
    "ExecuteTime": {
     "end_time": "2024-03-13T15:08:08.412965900Z",
     "start_time": "2024-03-13T15:08:08.213409500Z"
    }
   },
   "id": "1b6ba68f7118a51"
  },
  {
   "cell_type": "code",
   "execution_count": 10,
   "outputs": [],
   "source": [
    "rus = RandomUnderSampler(sampling_strategy='auto', random_state=42)"
   ],
   "metadata": {
    "collapsed": false,
    "ExecuteTime": {
     "end_time": "2024-03-13T15:09:17.634833900Z",
     "start_time": "2024-03-13T15:09:17.611784500Z"
    }
   },
   "id": "92f2bd53c65db613"
  },
  {
   "cell_type": "code",
   "execution_count": 11,
   "outputs": [],
   "source": [
    "def generate_train_test_dataset(index):\n",
    "    dataset_names = [ma, map, marth, mcap, mcon, mcro, mgal, mhyoJ, mhyo232, mhyo7448, mm163K, mms, mpHF, mpM, ms53]\n",
    "    merged_train = dataset_names[:index]+dataset_names[index+1:]\n",
    "    train_data = pd.concat(merged_train)\n",
    "    test_data = dataset_names[index]\n",
    "    return train_data,test_data"
   ],
   "metadata": {
    "collapsed": false,
    "ExecuteTime": {
     "end_time": "2024-03-13T15:09:18.389645800Z",
     "start_time": "2024-03-13T15:09:18.375682500Z"
    }
   },
   "id": "4e75f9424709b179"
  },
  {
   "cell_type": "code",
   "execution_count": 12,
   "outputs": [],
   "source": [
    "def handle_dataset(dataset):\n",
    "    columns_to_drop = ['identity','name', 'Amino acid', 'protein_sequence', 'essentiality']\n",
    "    Xs = dataset.drop(columns = columns_to_drop)\n",
    "    y = dataset['essentiality']\n",
    "    return Xs,y"
   ],
   "metadata": {
    "collapsed": false,
    "ExecuteTime": {
     "end_time": "2024-03-13T15:09:19.265702100Z",
     "start_time": "2024-03-13T15:09:19.244466Z"
    }
   },
   "id": "15ced18c9b57916d"
  },
  {
   "cell_type": "code",
   "execution_count": 13,
   "outputs": [],
   "source": [
    "from sklearn.model_selection import KFold\n",
    "\n",
    "model_ecoli = load('../../../model/XGB_model_Ecoli.joblib')\n",
    "scores_ecoli_ac = []\n",
    "scores_ecoli_f1 = []\n",
    "scores_ecoli_auc = []\n",
    "scores_ecoli_precision = []\n",
    "scores_ecoli_recall = []\n",
    "feature_ecoli = ['GC_Content', 'CAI', 'D', 'C', 'Q', 'H', 'L', 'F', 'V', 'nSE2']\n",
    "\n",
    "for i in range(0,15): \n",
    "    train_data, test_data = generate_train_test_dataset(i)\n",
    "    Xs_train,y_train = handle_dataset(train_data)\n",
    "    Xs_test,y_test = handle_dataset(test_data)\n",
    "    X_resampled, y_resampled = rus.fit_resample(Xs_train, y_train)\n",
    "    model_ecoli.fit(X_resampled[feature_ecoli], y_resampled)\n",
    "    y_predict = model_ecoli.predict(Xs_test[feature_ecoli])\n",
    "    acc=accuracy_score(y_test, y_predict)\n",
    "    scores_ecoli_ac.append(acc)\n",
    "    auc = roc_auc_score(y_test,y_predict)\n",
    "    scores_ecoli_auc.append(auc)\n",
    "    f1 = f1_score(y_test,y_predict)\n",
    "    scores_ecoli_f1.append(f1)\n",
    "    precision = precision_score(y_test,y_predict)\n",
    "    scores_ecoli_precision.append(precision)\n",
    "    recall = recall_score(y_test,y_predict)\n",
    "    scores_ecoli_recall.append(recall)"
   ],
   "metadata": {
    "collapsed": false,
    "ExecuteTime": {
     "end_time": "2024-03-13T15:09:24.676880200Z",
     "start_time": "2024-03-13T15:09:21.434828400Z"
    }
   },
   "id": "3dddd9824af86e1c"
  },
  {
   "cell_type": "code",
   "execution_count": 14,
   "outputs": [
    {
     "name": "stdout",
     "output_type": "stream",
     "text": [
      "[0.8541114058355438, 0.8509316770186336, 0.7452830188679245, 0.9224489795918367, 0.8773006134969326, 0.8926553672316384, 0.7191283292978208, 0.523121387283237, 0.8925979680696662, 0.9046242774566474, 0.928374655647383, 0.9476309226932669, 0.9375, 0.4817813765182186, 0.8735955056179775]\n",
      "0.8234056989751152 0.021173998578612716\n"
     ]
    }
   ],
   "source": [
    "print(scores_ecoli_ac)\n",
    "print(statistics.mean(scores_ecoli_ac),statistics.variance(scores_ecoli_ac))"
   ],
   "metadata": {
    "collapsed": false,
    "ExecuteTime": {
     "end_time": "2024-03-13T15:09:26.214178200Z",
     "start_time": "2024-03-13T15:09:26.194329800Z"
    }
   },
   "id": "74bce6cc10e475f3"
  },
  {
   "cell_type": "code",
   "execution_count": 15,
   "outputs": [],
   "source": [
    "import csv\n",
    "def generateString(scores):\n",
    "    mean_score = round(np.mean(scores),4)\n",
    "    var_score = round(np.var(scores),4)\n",
    "    return f'{mean_score}±{var_score}'\n",
    "with open('resulte.csv', 'w', newline='') as file:\n",
    "    writer = csv.writer(file)\n",
    "    writer.writerow(['Type','ACC','AUC','F1','Precision', 'Recall'])\n",
    "    writer.writerow(['ecoli',generateString(scores_ecoli_ac),generateString(scores_ecoli_auc),generateString(scores_ecoli_f1),generateString(scores_ecoli_precision),generateString(scores_ecoli_recall)])"
   ],
   "metadata": {
    "collapsed": false,
    "ExecuteTime": {
     "end_time": "2024-03-13T15:09:27.172579100Z",
     "start_time": "2024-03-13T15:09:27.152578200Z"
    }
   },
   "id": "b2de3d77d8600939"
  },
  {
   "cell_type": "code",
   "execution_count": null,
   "outputs": [],
   "source": [],
   "metadata": {
    "collapsed": false
   },
   "id": "6c78387cc3a4b998"
  }
 ],
 "metadata": {
  "kernelspec": {
   "display_name": "Python 3",
   "language": "python",
   "name": "python3"
  },
  "language_info": {
   "codemirror_mode": {
    "name": "ipython",
    "version": 2
   },
   "file_extension": ".py",
   "mimetype": "text/x-python",
   "name": "python",
   "nbconvert_exporter": "python",
   "pygments_lexer": "ipython2",
   "version": "2.7.6"
  }
 },
 "nbformat": 4,
 "nbformat_minor": 5
}
