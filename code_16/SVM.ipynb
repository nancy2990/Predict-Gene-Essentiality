{
 "cells": [
  {
   "cell_type": "code",
   "execution_count": 1,
   "id": "initial_id",
   "metadata": {
    "collapsed": true,
    "ExecuteTime": {
     "end_time": "2024-02-27T14:31:23.311095500Z",
     "start_time": "2024-02-27T14:31:21.548768400Z"
    }
   },
   "outputs": [],
   "source": [
    "import pandas as pd\n",
    "from sklearn.metrics import make_scorer, balanced_accuracy_score\n",
    "from sklearn.model_selection import cross_val_score\n",
    "from sklearn.ensemble import RandomForestClassifier\n",
    "from hyperopt import hp\n",
    "import numpy as np\n",
    "from hyperopt import Trials, tpe, fmin\n"
   ]
  },
  {
   "cell_type": "code",
   "execution_count": 2,
   "outputs": [],
   "source": [
    "ma = pd.read_csv(\"../16 Mycoplosma/ma.csv\")\n",
    "map = pd.read_csv(\"../16 Mycoplosma/map.csv\")\n",
    "marth = pd.read_csv(\"../16 Mycoplosma/marth.csv\")\n",
    "mcap = pd.read_csv(\"../16 Mycoplosma/mcap.csv\")\n",
    "mcon = pd.read_csv(\"../16 Mycoplosma/mcon.csv\")\n",
    "mcro = pd.read_csv(\"../16 Mycoplosma/mcro.csv\")\n",
    "mgal = pd.read_csv(\"../16 Mycoplosma/mgal.csv\")\n",
    "mhom = pd.read_csv(\"../16 Mycoplosma/mhom.csv\")\n",
    "mhyoJ = pd.read_csv(\"../16 Mycoplosma/mhyoJ.csv\")\n",
    "mhyo232 = pd.read_csv(\"../16 Mycoplosma/mhyo232.csv\")\n",
    "mhyo7448 = pd.read_csv(\"../16 Mycoplosma/mhyo7448.csv\")\n",
    "mm163K = pd.read_csv(\"../16 Mycoplosma/mm163K.csv\")\n",
    "mms = pd.read_csv(\"../16 Mycoplosma/mms.csv\")\n",
    "mpHF = pd.read_csv(\"../16 Mycoplosma/mpHF.csv\")\n",
    "mpM = pd.read_csv(\"../16 Mycoplosma/mpM.csv\")\n",
    "ms53 = pd.read_csv(\"../16 Mycoplosma/ms53.csv\")"
   ],
   "metadata": {
    "collapsed": false,
    "ExecuteTime": {
     "end_time": "2024-02-27T14:31:29.076766200Z",
     "start_time": "2024-02-27T14:31:28.896007Z"
    }
   },
   "id": "fb7b457e32d9d469"
  },
  {
   "cell_type": "code",
   "execution_count": 3,
   "outputs": [],
   "source": [
    "def generate_train_test_dataset(index):\n",
    "    dataset_names = [ma, map, marth, mcap, mcon, mcro, mgal, mhom, mhyoJ, mhyo232, mhyo7448, mm163K, mms, mpHF, mpM, ms53]\n",
    "    merged_train = dataset_names[:index]+dataset_names[index+1:]\n",
    "    train_data = pd.concat(merged_train)\n",
    "    test_data = dataset_names[index]\n",
    "    return train_data,test_data"
   ],
   "metadata": {
    "collapsed": false,
    "ExecuteTime": {
     "end_time": "2024-02-27T14:31:29.801609800Z",
     "start_time": "2024-02-27T14:31:29.781546700Z"
    }
   },
   "id": "4af6836f3f4cd3c9"
  },
  {
   "cell_type": "code",
   "execution_count": 4,
   "outputs": [],
   "source": [
    "train_data , test_data = generate_train_test_dataset(0)"
   ],
   "metadata": {
    "collapsed": false,
    "ExecuteTime": {
     "end_time": "2024-02-27T14:31:31.026660700Z",
     "start_time": "2024-02-27T14:31:30.978839Z"
    }
   },
   "id": "709bff4b11c3f9a9"
  },
  {
   "cell_type": "code",
   "execution_count": 5,
   "outputs": [],
   "source": [
    "def handle_dataset(dataset):\n",
    "    columns_to_drop = ['identity','name', 'Amino acid', 'protein_sequence', 'essentiality']\n",
    "    Xs = dataset.drop(columns = columns_to_drop)\n",
    "    y = dataset['essentiality']\n",
    "    return Xs,y"
   ],
   "metadata": {
    "collapsed": false,
    "ExecuteTime": {
     "end_time": "2024-02-27T14:31:31.891750300Z",
     "start_time": "2024-02-27T14:31:31.857616300Z"
    }
   },
   "id": "6a1c23ca5328b750"
  },
  {
   "cell_type": "code",
   "execution_count": 6,
   "outputs": [],
   "source": [
    "Xs_train,y_train = handle_dataset(train_data)\n",
    "Xs_test,y_test = handle_dataset(test_data)"
   ],
   "metadata": {
    "collapsed": false,
    "ExecuteTime": {
     "end_time": "2024-02-27T14:31:32.947681800Z",
     "start_time": "2024-02-27T14:31:32.900238600Z"
    }
   },
   "id": "f8a93ff3172c6df8"
  },
  {
   "cell_type": "code",
   "execution_count": 7,
   "outputs": [],
   "source": [
    "from imblearn.under_sampling import RandomUnderSampler\n",
    "rus = RandomUnderSampler(sampling_strategy='auto', random_state=42)\n",
    "X_resampled, y_resampled = rus.fit_resample(Xs_train, y_train)"
   ],
   "metadata": {
    "collapsed": false,
    "ExecuteTime": {
     "end_time": "2024-02-27T14:31:36.268122600Z",
     "start_time": "2024-02-27T14:31:36.097512200Z"
    }
   },
   "id": "2a61a723ab2ea79"
  },
  {
   "cell_type": "code",
   "execution_count": 8,
   "outputs": [],
   "source": [
    "import warnings\n",
    "warnings.filterwarnings(\"ignore\")\n",
    "trials = Trials()"
   ],
   "metadata": {
    "collapsed": false,
    "ExecuteTime": {
     "end_time": "2024-02-27T14:31:37.282142600Z",
     "start_time": "2024-02-27T14:31:37.236243800Z"
    }
   },
   "id": "8053d87887607427"
  },
  {
   "cell_type": "code",
   "execution_count": 52,
   "outputs": [],
   "source": [
    "from sklearn.svm import SVC\n",
    "def svm_bca_cv(params):\n",
    "    model = SVC(C = params[\"C\"],kernel =\"linear\", degree = int(params[\"degree\"]), gamma = params[\"gamma\"])\n",
    "    scorer = make_scorer(balanced_accuracy_score)\n",
    "    score = -cross_val_score(model, X_resampled, y_resampled, cv=5,scoring=scorer, ).mean()\n",
    "    return score"
   ],
   "metadata": {
    "collapsed": false,
    "ExecuteTime": {
     "end_time": "2024-02-27T16:18:47.129234100Z",
     "start_time": "2024-02-27T16:18:47.108775Z"
    }
   },
   "id": "5ffb9faeabdf9977"
  },
  {
   "cell_type": "code",
   "execution_count": 10,
   "outputs": [],
   "source": [
    "space = {\n",
    "    'C': hp.loguniform('C', -5, 2),  # 正则化参数 C\n",
    "    'kernel': hp.choice('kernel', ['linear', 'rbf']),  # 核函数选择\n",
    "    'degree': hp.quniform('degree', 2, 5, 1),  # 多项式核的次数\n",
    "    'gamma': hp.choice('gamma', ['auto', 'scale', hp.loguniform('gamma_val', -5, 2)])  # 核函数的系数\n",
    "}"
   ],
   "metadata": {
    "collapsed": false,
    "ExecuteTime": {
     "end_time": "2024-02-27T14:31:55.383132Z",
     "start_time": "2024-02-27T14:31:55.357829400Z"
    }
   },
   "id": "633df9e2354340e3"
  },
  {
   "cell_type": "code",
   "execution_count": 11,
   "outputs": [
    {
     "name": "stdout",
     "output_type": "stream",
     "text": [
      "100%|██████████| 50/50 [29:17<00:00, 35.15s/trial, best loss: -0.8463066853669939] \n"
     ]
    }
   ],
   "source": [
    "trials = Trials()\n",
    "best=fmin(fn=svm_bca_cv, # function to optimize\n",
    "          space=space, \n",
    "          algo=tpe.suggest, # optimization algorithm, hyperotp will select its parameters automatically\n",
    "          max_evals=50, # maximum number of iterations\n",
    "          trials=trials, # logging\n",
    "          rstate=np.random.default_rng(42) # fixing random state for the reproducibility\n",
    "         )\n"
   ],
   "metadata": {
    "collapsed": false,
    "ExecuteTime": {
     "end_time": "2024-02-27T15:01:18.831147100Z",
     "start_time": "2024-02-27T14:32:01.201709500Z"
    }
   },
   "id": "ce1c3676c7bd0a3e"
  },
  {
   "cell_type": "code",
   "execution_count": 13,
   "outputs": [
    {
     "data": {
      "text/plain": "{'C': 4.447352149446517, 'degree': 5.0, 'gamma': 1, 'kernel': 0}"
     },
     "execution_count": 13,
     "metadata": {},
     "output_type": "execute_result"
    }
   ],
   "source": [
    "best"
   ],
   "metadata": {
    "collapsed": false,
    "ExecuteTime": {
     "end_time": "2024-02-27T15:02:58.816499Z",
     "start_time": "2024-02-27T15:02:58.736264500Z"
    }
   },
   "id": "87183d5ad555be2"
  },
  {
   "cell_type": "code",
   "execution_count": 45,
   "outputs": [],
   "source": [
    "space2 = {\n",
    "    'C': hp.loguniform('C', -5, 2),  # 正则化参数 C\n",
    "    'kernel': hp.choice('kernel', ['linear']),  # 核函数选择\n",
    "    'degree': hp.quniform('degree', 2, 15, 1),  # 多项式核的次数\n",
    "    'gamma': hp.choice('gamma', ['auto', 'scale'])  # 核函数的系数\n",
    "}"
   ],
   "metadata": {
    "collapsed": false,
    "ExecuteTime": {
     "end_time": "2024-02-27T16:06:26.498591400Z",
     "start_time": "2024-02-27T16:06:26.456404900Z"
    }
   },
   "id": "f8ce0ba2a23fe7c5"
  },
  {
   "cell_type": "code",
   "execution_count": 21,
   "outputs": [
    {
     "name": "stdout",
     "output_type": "stream",
     "text": [
      "100%|██████████| 50/50 [32:47<00:00, 39.36s/trial, best loss: -0.8473819541841981] \n"
     ]
    }
   ],
   "source": [
    "trials = Trials()\n",
    "best=fmin(fn=svm_bca_cv, # function to optimize\n",
    "          space=space2, \n",
    "          algo=tpe.suggest, # optimization algorithm, hyperotp will select its parameters automatically\n",
    "          max_evals=50, # maximum number of iterations\n",
    "          trials=trials, # logging\n",
    "          rstate=np.random.default_rng(42) # fixing random state for the reproducibility\n",
    "         )"
   ],
   "metadata": {
    "collapsed": false,
    "ExecuteTime": {
     "end_time": "2024-02-27T15:40:08.649333800Z",
     "start_time": "2024-02-27T15:07:20.631808300Z"
    }
   },
   "id": "61821811e86c7e07"
  },
  {
   "cell_type": "code",
   "execution_count": 18,
   "outputs": [
    {
     "data": {
      "text/plain": "{'C': 2.960894486282841,\n 'degree': 3.0,\n 'gamma': 2,\n 'gamma_val': 7.23485609161834}"
     },
     "execution_count": 18,
     "metadata": {},
     "output_type": "execute_result"
    }
   ],
   "source": [
    "best"
   ],
   "metadata": {
    "collapsed": false,
    "ExecuteTime": {
     "end_time": "2024-02-27T15:05:55.224268100Z",
     "start_time": "2024-02-27T15:05:55.196698300Z"
    }
   },
   "id": "2b4a50581390d43b"
  },
  {
   "cell_type": "code",
   "execution_count": 22,
   "outputs": [
    {
     "data": {
      "text/plain": "{'C': 6.800148981369235, 'degree': 9.0, 'gamma': 0, 'kernel': 0}"
     },
     "execution_count": 22,
     "metadata": {},
     "output_type": "execute_result"
    }
   ],
   "source": [
    "best"
   ],
   "metadata": {
    "collapsed": false,
    "ExecuteTime": {
     "end_time": "2024-02-27T15:41:02.394315100Z",
     "start_time": "2024-02-27T15:41:02.340027300Z"
    }
   },
   "id": "b60af7d8fc6dd223"
  },
  {
   "cell_type": "code",
   "execution_count": 23,
   "outputs": [
    {
     "name": "stdout",
     "output_type": "stream",
     "text": [
      "0.8811102923114713\n"
     ]
    }
   ],
   "source": [
    "model1 = SVC(C=4.447352149446517, degree=5, gamma = 1, kernel = 'linear')\n",
    "model1 .fit(X_resampled,y_resampled)\n",
    "tpe_test_score=balanced_accuracy_score(y_test, model1.predict(Xs_test))\n",
    "print(tpe_test_score)"
   ],
   "metadata": {
    "collapsed": false,
    "ExecuteTime": {
     "end_time": "2024-02-27T15:41:58.759748400Z",
     "start_time": "2024-02-27T15:41:20.563929Z"
    }
   },
   "id": "192b14cbae746c55"
  },
  {
   "cell_type": "code",
   "execution_count": 24,
   "outputs": [
    {
     "name": "stdout",
     "output_type": "stream",
     "text": [
      "0.9000245639891918\n"
     ]
    }
   ],
   "source": [
    "model2 = SVC(C=6.800148981369235, degree=9, gamma = 0, kernel = 'linear')\n",
    "model2 .fit(X_resampled,y_resampled)\n",
    "tpe_test_score2=balanced_accuracy_score(y_test, model2.predict(Xs_test))\n",
    "print(tpe_test_score2)"
   ],
   "metadata": {
    "collapsed": false,
    "ExecuteTime": {
     "end_time": "2024-02-27T15:42:59.810270300Z",
     "start_time": "2024-02-27T15:42:27.778622100Z"
    }
   },
   "id": "e298874826a7c11c"
  },
  {
   "cell_type": "code",
   "execution_count": 25,
   "outputs": [],
   "source": [
    "from matplotlib import pyplot as plt\n",
    "from sklearn.feature_selection import SelectKBest, mutual_info_classif\n",
    "\n",
    "#feature selection\n",
    "#RFE\n",
    "score = []\n",
    "scorer = make_scorer(balanced_accuracy_score)\n",
    "for i in range(26,5,-1):\n",
    "\tX_mutual = SelectKBest(score_func=mutual_info_classif, k=i).fit_transform(X_resampled, y_resampled)\n",
    "\tonce = cross_val_score(model2, X_mutual, y_resampled, cv=3,scoring=scorer)\n",
    "\tscore.append(once.mean())"
   ],
   "metadata": {
    "collapsed": false,
    "ExecuteTime": {
     "end_time": "2024-02-27T15:44:34.855944500Z",
     "start_time": "2024-02-27T15:43:30.252943400Z"
    }
   },
   "id": "ffda5e1a077cc371"
  },
  {
   "cell_type": "code",
   "execution_count": 26,
   "outputs": [
    {
     "data": {
      "text/plain": "<Figure size 432x288 with 1 Axes>",
      "image/png": "[encoded data removed]"
     },
     "metadata": {
      "needs_background": "light"
     },
     "output_type": "display_data"
    }
   ],
   "source": [
    "plt.plot(range(26,5,-1), score)\n",
    "plt.show()    "
   ],
   "metadata": {
    "collapsed": false,
    "ExecuteTime": {
     "end_time": "2024-02-27T15:45:00.286729300Z",
     "start_time": "2024-02-27T15:45:00.117240900Z"
    }
   },
   "id": "96656851bcab3cda"
  },
  {
   "cell_type": "code",
   "execution_count": 27,
   "outputs": [
    {
     "name": "stdout",
     "output_type": "stream",
     "text": [
      "Fitting estimator with 25 features.\n",
      "Fitting estimator with 24 features.\n",
      "Fitting estimator with 23 features.\n",
      "Fitting estimator with 22 features.\n",
      "Fitting estimator with 21 features.\n",
      "Fitting estimator with 20 features.\n",
      "Fitting estimator with 19 features.\n",
      "Fitting estimator with 18 features.\n",
      "Fitting estimator with 17 features.\n",
      "Fitting estimator with 16 features.\n",
      "Fitting estimator with 15 features.\n",
      "Fitting estimator with 14 features.\n",
      "Fitting estimator with 13 features.\n",
      "Fitting estimator with 12 features.\n",
      "Fitting estimator with 11 features.\n",
      "Fitting estimator with 10 features.\n",
      "Fitting estimator with 9 features.\n",
      "Fitting estimator with 8 features.\n",
      "Fitting estimator with 7 features.\n",
      "Fitting estimator with 6 features.\n",
      "Fitting estimator with 25 features.\n",
      "Fitting estimator with 24 features.\n",
      "Fitting estimator with 23 features.\n",
      "Fitting estimator with 22 features.\n",
      "Fitting estimator with 21 features.\n",
      "Fitting estimator with 20 features.\n",
      "Fitting estimator with 19 features.\n",
      "Fitting estimator with 18 features.\n",
      "Fitting estimator with 17 features.\n",
      "Fitting estimator with 16 features.\n",
      "Fitting estimator with 15 features.\n",
      "Fitting estimator with 14 features.\n",
      "Fitting estimator with 13 features.\n",
      "Fitting estimator with 12 features.\n",
      "Fitting estimator with 11 features.\n",
      "Fitting estimator with 10 features.\n",
      "Fitting estimator with 9 features.\n",
      "Fitting estimator with 8 features.\n",
      "Fitting estimator with 7 features.\n",
      "Fitting estimator with 6 features.\n",
      "Fitting estimator with 25 features.\n",
      "Fitting estimator with 24 features.\n",
      "Fitting estimator with 23 features.\n",
      "Fitting estimator with 22 features.\n",
      "Fitting estimator with 21 features.\n",
      "Fitting estimator with 20 features.\n",
      "Fitting estimator with 19 features.\n",
      "Fitting estimator with 18 features.\n",
      "Fitting estimator with 17 features.\n",
      "Fitting estimator with 16 features.\n",
      "Fitting estimator with 15 features.\n",
      "Fitting estimator with 14 features.\n",
      "Fitting estimator with 13 features.\n",
      "Fitting estimator with 12 features.\n",
      "Fitting estimator with 11 features.\n",
      "Fitting estimator with 10 features.\n",
      "Fitting estimator with 9 features.\n",
      "Fitting estimator with 8 features.\n",
      "Fitting estimator with 7 features.\n",
      "Fitting estimator with 6 features.\n",
      "Fitting estimator with 25 features.\n",
      "Fitting estimator with 24 features.\n",
      "Fitting estimator with 23 features.\n",
      "Fitting estimator with 22 features.\n",
      "Fitting estimator with 21 features.\n",
      "Fitting estimator with 20 features.\n",
      "Fitting estimator with 19 features.\n",
      "Fitting estimator with 18 features.\n",
      "Fitting estimator with 17 features.\n",
      "Fitting estimator with 16 features.\n",
      "Fitting estimator with 15 features.\n",
      "RFECVresult——————————————————————————————————————————————————\n",
      "valid : 14\n",
      "ranking : [1, 1, 1, 1, 1, 11, 9, 1, 1, 3, 1, 1, 1, 1, 12, 7, 1, 2, 10, 1, 1, 8, 4, 6, 5]\n"
     ]
    }
   ],
   "source": [
    "from sklearn.feature_selection import RFECV\n",
    "\n",
    "X_mutual = SelectKBest(score_func=mutual_info_classif, k=25).fit_transform(X_resampled, y_resampled)\n",
    "rfecv = RFECV(estimator=model2,  \n",
    "              min_features_to_select=5, \n",
    "              step=1,               \n",
    "              cv=3,\n",
    "              verbose = 1,\n",
    "              n_jobs = 1\n",
    "              ).fit(X_mutual,y_resampled)\n",
    "X_RFECV = rfecv.transform(X_mutual)\n",
    "print(\"RFECVresult——————————————————————————————————————————————————\")\n",
    "print(\"valid : %d\" % rfecv.n_features_)\n",
    "print(\"ranking : %s\" % list(rfecv.ranking_))"
   ],
   "metadata": {
    "collapsed": false,
    "ExecuteTime": {
     "end_time": "2024-02-27T15:45:23.907660900Z",
     "start_time": "2024-02-27T15:45:22.857543700Z"
    }
   },
   "id": "ed0d5fc9ea421690"
  },
  {
   "cell_type": "code",
   "execution_count": 28,
   "outputs": [
    {
     "name": "stdout",
     "output_type": "stream",
     "text": [
      "Selected feature names: ['GC_Content', 'CAI', 'A', 'R', 'N', 'Q', 'E', 'H', 'I', 'L', 'K', 'P', 'W', 'Y']\n"
     ]
    }
   ],
   "source": [
    "all_feature_names = [\"GC_Content\",\"CAI\",\"A\",\"R\",\"N\",\"D\",\"C\",\"Q\",\"E\",\"G\",\"H\",\"I\",\"L\",\"K\",\"M\",\"F\",\"P\",\"S\",\"T\",\"W\",\"Y\",\"V\",\"SE2\",\"SE3\",\"GE2\",\"GE3\"]\n",
    "selected_feature_names = [all_feature_names[i] for i, rank in enumerate(rfecv.ranking_) if rank == 1]\n",
    "\n",
    "print(\"Selected feature names:\", selected_feature_names)"
   ],
   "metadata": {
    "collapsed": false,
    "ExecuteTime": {
     "end_time": "2024-02-27T15:45:50.728045100Z",
     "start_time": "2024-02-27T15:45:50.695116600Z"
    }
   },
   "id": "d860c614bfc30fa5"
  },
  {
   "cell_type": "code",
   "execution_count": 29,
   "outputs": [
    {
     "name": "stdout",
     "output_type": "stream",
     "text": [
      "0.857129499766246\n"
     ]
    }
   ],
   "source": [
    "Wrapper_score = cross_val_score(model2,X_RFECV,y_resampled,cv=5,scoring=scorer).mean()\n",
    "print(Wrapper_score)"
   ],
   "metadata": {
    "collapsed": false,
    "ExecuteTime": {
     "end_time": "2024-02-27T15:46:07.307823500Z",
     "start_time": "2024-02-27T15:46:07.229114700Z"
    }
   },
   "id": "e9f6cbeebf1daef2"
  },
  {
   "cell_type": "code",
   "execution_count": 31,
   "outputs": [
    {
     "name": "stdout",
     "output_type": "stream",
     "text": [
      "0.9000245639891918\n"
     ]
    }
   ],
   "source": [
    "model2.fit(X_resampled,y_resampled)\n",
    "Xs_test_mutual = SelectKBest(mutual_info_classif, k=25).fit_transform(Xs_test,y_test)\n",
    "Xs_test_rfe = rfecv.transform(Xs_test_mutual)\n",
    "test_score = balanced_accuracy_score(y_test, model2.predict(Xs_test))\n",
    "print(test_score)"
   ],
   "metadata": {
    "collapsed": false,
    "ExecuteTime": {
     "end_time": "2024-02-27T15:48:00.902015300Z",
     "start_time": "2024-02-27T15:47:27.824060900Z"
    }
   },
   "id": "63be367fb65338c1"
  },
  {
   "cell_type": "code",
   "execution_count": 32,
   "outputs": [],
   "source": [
    "def feature_selection(Xs,y):\n",
    "    Xs_result = SelectKBest(mutual_info_classif, k=25).fit_transform(Xs,y)\n",
    "    Xs_result = rfecv.transform(Xs_result)\n",
    "    return Xs_result"
   ],
   "metadata": {
    "collapsed": false,
    "ExecuteTime": {
     "end_time": "2024-02-27T15:48:34.542442900Z",
     "start_time": "2024-02-27T15:48:34.510773300Z"
    }
   },
   "id": "466ca38bcba90413"
  },
  {
   "cell_type": "code",
   "execution_count": 53,
   "outputs": [],
   "source": [
    "space = {\n",
    "    'C': hp.loguniform('C', -5, 2),  # 正则化参数 C\n",
    "    'degree': hp.quniform('degree', 2, 5, 1),  # 多项式核的次数\n",
    "    'gamma': hp.choice('gamma', ['auto', 'scale', hp.loguniform('gamma_val', -5, 2)])  # 核函数的系数\n",
    "}"
   ],
   "metadata": {
    "collapsed": false,
    "ExecuteTime": {
     "end_time": "2024-02-27T16:19:37.066648100Z",
     "start_time": "2024-02-27T16:19:37.041528300Z"
    }
   },
   "id": "901be3c5b3a41ace"
  },
  {
   "cell_type": "code",
   "execution_count": 60,
   "outputs": [
    {
     "name": "stdout",
     "output_type": "stream",
     "text": [
      "100%|██████████| 20/20 [06:48<00:00, 20.43s/trial, best loss: -0.8572637840311141]\n",
      "0.721780303030303\n",
      "100%|██████████| 20/20 [06:23<00:00, 19.17s/trial, best loss: -0.8415750915750916]\n",
      "0.8471663888616532\n",
      "100%|██████████| 20/20 [06:59<00:00, 20.95s/trial, best loss: -0.8551704415465569]\n",
      "0.8547348484848485\n",
      "100%|██████████| 20/20 [06:42<00:00, 20.15s/trial, best loss: -0.8465871902758298]\n",
      "0.8035190615835777\n",
      "100%|██████████| 20/20 [07:17<00:00, 21.86s/trial, best loss: -0.8505263157894737]\n",
      "0.8717948717948718\n",
      "100%|██████████| 20/20 [03:41<00:00, 11.07s/trial, best loss: -0.8232142857142858]\n",
      "0.6350662503164823\n"
     ]
    }
   ],
   "source": [
    "\n",
    "for i in range(8,15):\n",
    "    if i == 3 :\n",
    "        scores.append(0.8227968346578312)\n",
    "        continue\n",
    "    if i ==12:\n",
    "        scores.append(0.8013582987129056)\n",
    "        continue\n",
    "    \n",
    "    train_data, test_data = generate_train_test_dataset(i)\n",
    "    Xs_train,y_train = handle_dataset(train_data)\n",
    "    Xs_test,y_test = handle_dataset(test_data)\n",
    "    rus = RandomUnderSampler(sampling_strategy='auto', random_state=42)\n",
    "    X_resampled, y_resampled = rus.fit_resample(Xs_train, y_train)\n",
    "    #X_resampled = feature_selection(X_resampled,y_resampled)\n",
    "    trials = Trials()\n",
    "    params=fmin(fn=svm_bca_cv, # function to optimize\n",
    "          space=space, \n",
    "          algo=tpe.suggest, # optimization algorithm, hyperotp will select its parameters automatically\n",
    "          max_evals=20, # maximum number of iterations\n",
    "          trials=trials, # logging\n",
    "          rstate=np.random.default_rng(42) # fixing random state for the reproducibility\n",
    "    )\n",
    "    model = SVC(C = params[\"C\"],kernel =\"linear\", degree = int(params[\"degree\"]), gamma = params[\"gamma\"])\n",
    "    models.append(model)\n",
    "    model.fit(X_resampled,y_resampled)\n",
    "   #Xs_test_fs = feature_selection(Xs_test,y_test)\n",
    "    tpe_test_score=balanced_accuracy_score(y_test, model.predict(Xs_test))\n",
    "    scores.append(tpe_test_score)\n",
    "    print(tpe_test_score)\n",
    "    if score < tpe_test_score:\n",
    "        score = tpe_test_score\n",
    "        best_model = model"
   ],
   "metadata": {
    "collapsed": false,
    "ExecuteTime": {
     "end_time": "2024-02-27T20:03:29.104525500Z",
     "start_time": "2024-02-27T19:23:42.569621900Z"
    }
   },
   "id": "f99209334cf39f25"
  },
  {
   "cell_type": "code",
   "execution_count": 58,
   "outputs": [
    {
     "name": "stdout",
     "output_type": "stream",
     "text": [
      "[0.9014369933677229, 0.8071743929359824, 0.6045115894039735, 0.5027968346578312, 0.8656780387450711, 0.8434568480300189, 0.8360089186176143, 0.9130041598842467]\n"
     ]
    }
   ],
   "source": [
    "print(scores)"
   ],
   "metadata": {
    "collapsed": false,
    "ExecuteTime": {
     "end_time": "2024-02-27T17:45:56.656489300Z",
     "start_time": "2024-02-27T17:45:56.587748300Z"
    }
   },
   "id": "df015d2f238aaed7"
  },
  {
   "cell_type": "code",
   "execution_count": 62,
   "outputs": [
    {
     "name": "stdout",
     "output_type": "stream",
     "text": [
      "[0.9014369933677229, 0.8071743929359824, 0.6045115894039735, 0.5027968346578312, 0.8656780387450711, 0.8434568480300189, 0.8360089186176143, 0.9130041598842467, 0.721780303030303, 0.8471663888616532, 0.8547348484848485, 0.8035190615835777, 0.8013582987129056, 0.8717948717948718, 0.6350662503164823]\n"
     ]
    }
   ],
   "source": [
    "print(scores)"
   ],
   "metadata": {
    "collapsed": false,
    "ExecuteTime": {
     "end_time": "2024-02-27T20:04:22.803601300Z",
     "start_time": "2024-02-27T20:04:22.742904100Z"
    }
   },
   "id": "7ee2de9a0365b0be"
  },
  {
   "cell_type": "code",
   "execution_count": 56,
   "outputs": [
    {
     "name": "stdout",
     "output_type": "stream",
     "text": [
      "0.9014369933677229\n"
     ]
    }
   ],
   "source": [
    "tpe_test_score=balanced_accuracy_score(y_test, model.predict(Xs_test))\n",
    "scores.append(tpe_test_score)\n",
    "print(tpe_test_score)\n",
    "if score < tpe_test_score:\n",
    "    score = tpe_test_score\n",
    "    best_model = model"
   ],
   "metadata": {
    "collapsed": false,
    "ExecuteTime": {
     "end_time": "2024-02-27T16:29:14.088812100Z",
     "start_time": "2024-02-27T16:29:14.042048400Z"
    }
   },
   "id": "7fa1446fd579fc18"
  },
  {
   "cell_type": "code",
   "execution_count": 43,
   "outputs": [
    {
     "name": "stdout",
     "output_type": "stream",
     "text": [
      "0.5\n"
     ]
    }
   ],
   "source": [
    "model = SVC(C=6.2463624366109745,\n",
    "                kernel='linear',\n",
    "                degree=11,\n",
    "                gamma='auto')\n",
    "models.append(model)\n",
    "model.fit(X_resampled,y_resampled)\n",
    "Xs_test_fs = feature_selection(Xs_test,y_test)\n",
    "tpe_test_score=balanced_accuracy_score(y_test, model.predict(Xs_test_fs))\n",
    "scores.append(tpe_test_score)\n",
    "print(tpe_test_score)\n",
    "if score < tpe_test_score:\n",
    "    score = tpe_test_score\n",
    "    best_model = model"
   ],
   "metadata": {
    "collapsed": false,
    "ExecuteTime": {
     "end_time": "2024-02-27T16:04:25.055729700Z",
     "start_time": "2024-02-27T16:04:24.927905700Z"
    }
   },
   "id": "d5e42365c53c4e53"
  },
  {
   "cell_type": "code",
   "execution_count": 96,
   "outputs": [],
   "source": [
    "scores = [0.501412429378531, 0.5011037527593819, 0.5502897350993378, 0.5127968346578312, 0.501628664495114, 0.5015243902439024, 0.5012820512820513, 0.5189003436426117, 0.5015151515151515, 0.5007598784194529, 0.5015151515151515, 0.501466275659824,0.5123582987129056, 0.5012820512820513, 0.4975609756097561]"
   ],
   "metadata": {
    "collapsed": false,
    "ExecuteTime": {
     "end_time": "2024-02-26T17:13:34.074770900Z",
     "start_time": "2024-02-26T17:13:34.027276700Z"
    }
   },
   "id": "2f85ffcbe90faba9"
  },
  {
   "cell_type": "code",
   "execution_count": 63,
   "outputs": [
    {
     "data": {
      "text/plain": "['../../model/SVM_model.joblib']"
     },
     "execution_count": 63,
     "metadata": {},
     "output_type": "execute_result"
    }
   ],
   "source": [
    "from joblib import dump\n",
    "\n",
    "dump(best_model, '../../model/SVM_model.joblib')"
   ],
   "metadata": {
    "collapsed": false,
    "ExecuteTime": {
     "end_time": "2024-02-27T20:06:53.282466600Z",
     "start_time": "2024-02-27T20:06:53.238049900Z"
    }
   },
   "id": "a5a008a6a77b3535"
  },
  {
   "cell_type": "code",
   "execution_count": null,
   "outputs": [],
   "source": [],
   "metadata": {
    "collapsed": false
   },
   "id": "a72a93255b206fc1"
  }
 ],
 "metadata": {
  "kernelspec": {
   "display_name": "Python 3",
   "language": "python",
   "name": "python3"
  },
  "language_info": {
   "codemirror_mode": {
    "name": "ipython",
    "version": 2
   },
   "file_extension": ".py",
   "mimetype": "text/x-python",
   "name": "python",
   "nbconvert_exporter": "python",
   "pygments_lexer": "ipython2",
   "version": "2.7.6"
  }
 },
 "nbformat": 4,
 "nbformat_minor": 5
}
