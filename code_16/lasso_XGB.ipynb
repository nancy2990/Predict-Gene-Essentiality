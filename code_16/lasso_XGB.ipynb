{
 "cells": [
  {
   "cell_type": "code",
   "execution_count": 1,
   "id": "initial_id",
   "metadata": {
    "collapsed": true,
    "ExecuteTime": {
     "end_time": "2024-03-29T16:44:58.373693600Z",
     "start_time": "2024-03-29T16:44:56.232178500Z"
    }
   },
   "outputs": [],
   "source": [
    "import pandas as pd\n",
    "from sklearn.metrics import make_scorer, balanced_accuracy_score\n",
    "from sklearn.model_selection import cross_val_score\n",
    "from sklearn.ensemble import RandomForestClassifier\n",
    "from hyperopt import hp\n",
    "import numpy as np\n",
    "from hyperopt import Trials, tpe, fmin\n",
    "import warnings\n",
    "from imblearn.under_sampling import RandomUnderSampler\n",
    "from sklearn.svm import SVC\n",
    "from sklearn.feature_selection import RFECV\n",
    "from sklearn.feature_selection import SelectKBest, mutual_info_classif\n",
    "from nbimporter import NotebookLoader\n",
    "\n",
    "warnings.filterwarnings(\"ignore\")"
   ]
  },
  {
   "cell_type": "code",
   "execution_count": 2,
   "outputs": [],
   "source": [
    "ma = pd.read_csv(\"../16 Mycoplosma/ma.csv\")\n",
    "map = pd.read_csv(\"../16 Mycoplosma/map.csv\")\n",
    "marth = pd.read_csv(\"../16 Mycoplosma/marth.csv\")\n",
    "mcap = pd.read_csv(\"../16 Mycoplosma/mcap.csv\")\n",
    "mcon = pd.read_csv(\"../16 Mycoplosma/mcon.csv\")\n",
    "mcro = pd.read_csv(\"../16 Mycoplosma/mcro.csv\")\n",
    "mgal = pd.read_csv(\"../16 Mycoplosma/mgal.csv\")\n",
    "mhom = pd.read_csv(\"../16 Mycoplosma/mhom.csv\")\n",
    "mhyoJ = pd.read_csv(\"../16 Mycoplosma/mhyoJ.csv\")\n",
    "mhyo232 = pd.read_csv(\"../16 Mycoplosma/mhyo232.csv\")\n",
    "mhyo7448 = pd.read_csv(\"../16 Mycoplosma/mhyo7448.csv\")\n",
    "mm163K = pd.read_csv(\"../16 Mycoplosma/mm163K.csv\")\n",
    "mms = pd.read_csv(\"../16 Mycoplosma/mms.csv\")\n",
    "mpHF = pd.read_csv(\"../16 Mycoplosma/mpHF.csv\")\n",
    "mpM = pd.read_csv(\"../16 Mycoplosma/mpM.csv\")\n",
    "ms53 = pd.read_csv(\"../16 Mycoplosma/ms53.csv\")"
   ],
   "metadata": {
    "collapsed": false,
    "ExecuteTime": {
     "end_time": "2024-03-29T16:45:15.377758600Z",
     "start_time": "2024-03-29T16:45:15.122468500Z"
    }
   },
   "id": "1b6ba68f7118a51"
  },
  {
   "cell_type": "code",
   "execution_count": 3,
   "outputs": [],
   "source": [
    "def generate_train_test_dataset(index):\n",
    "    dataset_names = [ma, map, marth, mcap, mcon, mcro, mgal, mhom, mhyoJ, mhyo232, mhyo7448, mm163K, mms, mpHF, mpM, ms53]\n",
    "    merged_train = dataset_names[:index]+dataset_names[index+1:]\n",
    "    train_data = pd.concat(merged_train)\n",
    "    test_data = dataset_names[index]\n",
    "    return train_data,test_data"
   ],
   "metadata": {
    "collapsed": false,
    "ExecuteTime": {
     "end_time": "2024-03-29T16:45:15.968847300Z",
     "start_time": "2024-03-29T16:45:15.958414Z"
    }
   },
   "id": "2b976e80eff11ec6"
  },
  {
   "cell_type": "code",
   "execution_count": 4,
   "outputs": [],
   "source": [
    "def handle_dataset(dataset):\n",
    "    columns_to_drop = ['identity','name', 'Amino acid', 'protein_sequence', 'essentiality']\n",
    "    Xs = dataset.drop(columns = columns_to_drop)\n",
    "    y = dataset['essentiality']\n",
    "    return Xs,y"
   ],
   "metadata": {
    "collapsed": false,
    "ExecuteTime": {
     "end_time": "2024-03-29T16:45:16.443696800Z",
     "start_time": "2024-03-29T16:45:16.432282100Z"
    }
   },
   "id": "85be72e44735b274"
  },
  {
   "cell_type": "code",
   "execution_count": 5,
   "outputs": [],
   "source": [
    "rus = RandomUnderSampler(sampling_strategy='auto', random_state=42)"
   ],
   "metadata": {
    "collapsed": false,
    "ExecuteTime": {
     "end_time": "2024-03-29T16:45:18.294807600Z",
     "start_time": "2024-03-29T16:45:18.279848900Z"
    }
   },
   "id": "92f2bd53c65db613"
  },
  {
   "cell_type": "code",
   "execution_count": 6,
   "outputs": [],
   "source": [
    "from sklearn.linear_model import LassoCV\n",
    "\n",
    "lassoCV = LassoCV(cv=20,random_state=10)\n",
    "all_feature_names = [\"GC_Content\",\"CAI\",\"A\",\"R\",\"N\",\"D\",\"C\",\"Q\",\"E\",\"G\",\"H\",\"I\",\"L\",\"K\",\"M\",\"F\",\"P\",\"S\",\"T\",\"W\",\"Y\",\"V\",\"nSE2\",\"nSE3\",\"nGE2\",\"nGE3\"]"
   ],
   "metadata": {
    "collapsed": false,
    "ExecuteTime": {
     "end_time": "2024-03-29T16:45:18.798536Z",
     "start_time": "2024-03-29T16:45:18.789233600Z"
    }
   },
   "id": "d9658a1443eba766"
  },
  {
   "cell_type": "code",
   "execution_count": 7,
   "outputs": [],
   "source": [
    "space = {\n",
    "    'n_estimators': hp.quniform('n_estimators', 100, 1000, 100),  # 树的数量\n",
    "    'max_depth': hp.quniform('max_depth', 3, 10, 1),  # 每棵树的最大深度\n",
    "    'learning_rate': hp.loguniform('learning_rate', -3, 0),  # 学习率\n",
    "    'subsample': hp.uniform('subsample', 0.5, 1.0),  # 每棵树的样本采样比例\n",
    "    'colsample_bytree': hp.uniform('colsample_bytree', 0.5, 1.0),  # 每棵树的特征采样比例\n",
    "    'gamma': hp.loguniform('gamma', -3, 2),  # 节点分裂时损失函数减小值的最小值要求\n",
    "    'reg_alpha': hp.loguniform('reg_alpha', -3, 2),  # L1 正则化项系数\n",
    "    'reg_lambda': hp.loguniform('reg_lambda', -3, 2),  # L2 正则化项系数\n",
    "}"
   ],
   "metadata": {
    "collapsed": false,
    "ExecuteTime": {
     "end_time": "2024-03-29T16:45:19.527054500Z",
     "start_time": "2024-03-29T16:45:19.516120500Z"
    }
   },
   "id": "22d663b303007756"
  },
  {
   "cell_type": "code",
   "execution_count": 8,
   "outputs": [],
   "source": [
    "from xgboost import XGBClassifier\n",
    "from sklearn.metrics import accuracy_score\n",
    "\n",
    "\n",
    "def xgb_ac_cv(params):\n",
    "    scorer = make_scorer(accuracy_score)\n",
    "    model = XGBClassifier(\n",
    "        n_estimators=int(params['n_estimators']),\n",
    "        max_depth=int(params['max_depth']),\n",
    "        learning_rate=params['learning_rate'],\n",
    "        subsample=params['subsample'],\n",
    "        colsample_bytree=params['colsample_bytree'],\n",
    "        gamma=params['gamma'],\n",
    "        reg_alpha=params['reg_alpha'],\n",
    "        reg_lambda=params['reg_lambda'],\n",
    "        objective='binary:logistic'  # 二分类问题\n",
    "    )\n",
    "    scorer = make_scorer(accuracy_score)\n",
    "    score = -cross_val_score(model, X_resampled, y_resampled, cv=5,scoring=scorer).mean()\n",
    "    return score"
   ],
   "metadata": {
    "collapsed": false,
    "ExecuteTime": {
     "end_time": "2024-03-29T16:45:20.549478400Z",
     "start_time": "2024-03-29T16:45:20.511532500Z"
    }
   },
   "id": "c7ff8a5d6e235794"
  },
  {
   "cell_type": "code",
   "execution_count": 9,
   "outputs": [
    {
     "name": "stdout",
     "output_type": "stream",
     "text": [
      "100%|██████████| 50/50 [01:04<00:00,  1.30s/trial, best loss: -0.8669388954171563]\n",
      "0.8673740053050398\n",
      "100%|██████████| 50/50 [01:17<00:00,  1.54s/trial, best loss: -0.8780219780219781]\n",
      "0.8136645962732919\n",
      "100%|██████████| 50/50 [01:09<00:00,  1.38s/trial, best loss: -0.8689498236431904]\n",
      "0.6540880503144654\n",
      "100%|██████████| 50/50 [01:31<00:00,  1.83s/trial, best loss: -0.858260776667913] \n",
      "0.9142857142857143\n",
      "100%|██████████| 50/50 [01:30<00:00,  1.81s/trial, best loss: -0.8659421539876948]\n",
      "0.8803680981595092\n",
      "100%|██████████| 50/50 [01:28<00:00,  1.78s/trial, best loss: -0.8780886196246138]\n",
      "0.8898305084745762\n",
      "100%|██████████| 50/50 [01:06<00:00,  1.33s/trial, best loss: -0.8723560517038778]\n",
      "0.7191283292978208\n",
      "100%|██████████| 50/50 [01:23<00:00,  1.66s/trial, best loss: -0.8745788051290898]\n",
      "0.9387096774193548\n",
      "100%|██████████| 50/50 [01:24<00:00,  1.69s/trial, best loss: -0.8838605074524974]\n",
      "0.6878612716763006\n",
      "100%|██████████| 50/50 [01:20<00:00,  1.62s/trial, best loss: -0.8623884402889928]\n",
      "0.8548621190130624\n",
      "100%|██████████| 50/50 [01:22<00:00,  1.66s/trial, best loss: -0.8689953350779384]\n",
      "0.8988439306358381\n",
      "100%|██████████| 50/50 [01:44<00:00,  2.10s/trial, best loss: -0.868323161871549] \n",
      "0.931129476584022\n",
      "100%|██████████| 50/50 [01:13<00:00,  1.47s/trial, best loss: -0.875]             \n",
      "0.9002493765586035\n",
      "100%|██████████| 50/50 [01:30<00:00,  1.81s/trial, best loss: -0.8747368421052633]\n",
      "0.89\n",
      "100%|██████████| 50/50 [01:09<00:00,  1.38s/trial, best loss: -0.8410714285714287]\n",
      "0.45951417004048584\n",
      "100%|██████████| 50/50 [01:10<00:00,  1.41s/trial, best loss: -0.8669388954171563]\n",
      "0.8673740053050398\n",
      "100%|██████████| 50/50 [01:26<00:00,  1.72s/trial, best loss: -0.8780219780219781]\n",
      "0.8136645962732919\n",
      "100%|██████████| 50/50 [01:13<00:00,  1.47s/trial, best loss: -0.8689498236431904]\n",
      "0.6540880503144654\n",
      "100%|██████████| 50/50 [01:29<00:00,  1.79s/trial, best loss: -0.858260776667913] \n",
      "0.9142857142857143\n",
      "100%|██████████| 50/50 [01:32<00:00,  1.86s/trial, best loss: -0.8659421539876948]\n",
      "0.8803680981595092\n",
      "100%|██████████| 50/50 [01:28<00:00,  1.77s/trial, best loss: -0.8780886196246138]\n",
      "0.8898305084745762\n",
      "100%|██████████| 50/50 [01:06<00:00,  1.33s/trial, best loss: -0.8723560517038778]\n",
      "0.7191283292978208\n",
      "100%|██████████| 50/50 [01:22<00:00,  1.65s/trial, best loss: -0.8745788051290898]\n",
      "0.9387096774193548\n",
      "100%|██████████| 50/50 [01:16<00:00,  1.53s/trial, best loss: -0.8838605074524974]\n",
      "0.6878612716763006\n",
      "100%|██████████| 50/50 [01:23<00:00,  1.66s/trial, best loss: -0.8623884402889928]\n",
      "0.8548621190130624\n",
      "100%|██████████| 50/50 [01:21<00:00,  1.64s/trial, best loss: -0.8689953350779384]\n",
      "0.8988439306358381\n",
      "100%|██████████| 50/50 [01:43<00:00,  2.07s/trial, best loss: -0.868323161871549] \n",
      "0.931129476584022\n",
      "100%|██████████| 50/50 [01:13<00:00,  1.48s/trial, best loss: -0.875]             \n",
      "0.9002493765586035\n",
      "100%|██████████| 50/50 [01:30<00:00,  1.81s/trial, best loss: -0.8747368421052633]\n",
      "0.89\n",
      "100%|██████████| 50/50 [01:08<00:00,  1.38s/trial, best loss: -0.8410714285714287]\n",
      "0.45951417004048584\n",
      "100%|██████████| 50/50 [01:09<00:00,  1.40s/trial, best loss: -0.8669388954171563]\n",
      "0.8673740053050398\n",
      "100%|██████████| 50/50 [01:28<00:00,  1.76s/trial, best loss: -0.8780219780219781]\n",
      "0.8136645962732919\n",
      "100%|██████████| 50/50 [01:13<00:00,  1.48s/trial, best loss: -0.8689498236431904]\n",
      "0.6540880503144654\n",
      "100%|██████████| 50/50 [01:29<00:00,  1.78s/trial, best loss: -0.858260776667913] \n",
      "0.9142857142857143\n",
      "100%|██████████| 50/50 [01:31<00:00,  1.83s/trial, best loss: -0.8659421539876948]\n",
      "0.8803680981595092\n",
      "100%|██████████| 50/50 [01:29<00:00,  1.78s/trial, best loss: -0.8780886196246138]\n",
      "0.8898305084745762\n",
      "100%|██████████| 50/50 [01:05<00:00,  1.32s/trial, best loss: -0.8723560517038778]\n",
      "0.7191283292978208\n",
      "100%|██████████| 50/50 [01:22<00:00,  1.65s/trial, best loss: -0.8745788051290898]\n",
      "0.9387096774193548\n",
      "100%|██████████| 50/50 [01:15<00:00,  1.51s/trial, best loss: -0.8838605074524974]\n",
      "0.6878612716763006\n",
      "100%|██████████| 50/50 [01:24<00:00,  1.70s/trial, best loss: -0.8623884402889928]\n",
      "0.8548621190130624\n",
      "100%|██████████| 50/50 [01:21<00:00,  1.64s/trial, best loss: -0.8689953350779384]\n",
      "0.8988439306358381\n",
      "100%|██████████| 50/50 [01:43<00:00,  2.08s/trial, best loss: -0.868323161871549] \n",
      "0.931129476584022\n",
      "100%|██████████| 50/50 [01:12<00:00,  1.46s/trial, best loss: -0.875]             \n",
      "0.9002493765586035\n",
      "100%|██████████| 50/50 [01:30<00:00,  1.80s/trial, best loss: -0.8747368421052633]\n",
      "0.89\n",
      "100%|██████████| 50/50 [01:09<00:00,  1.39s/trial, best loss: -0.8410714285714287]\n",
      "0.45951417004048584\n"
     ]
    }
   ],
   "source": [
    "scores = []\n",
    "score = 0\n",
    "models = []\n",
    "for j in range(0,3):\n",
    "    for i in range(0,15):\n",
    "        train_data, test_data = generate_train_test_dataset(i)\n",
    "        Xs_train,y_train = handle_dataset(train_data)\n",
    "        Xs_test,y_test = handle_dataset(test_data)\n",
    "        rus = RandomUnderSampler(sampling_strategy='auto', random_state=42)\n",
    "        X_resampled, y_resampled = rus.fit_resample(Xs_train, y_train)\n",
    "        lassoCV.fit(X_resampled,y_resampled)\n",
    "        selected_features = [feature for feature, coef in zip(all_feature_names, lassoCV.coef_) if coef !=0]\n",
    "        trials = Trials()\n",
    "        best=fmin(fn=xgb_ac_cv, # function to optimize\n",
    "              space=space, \n",
    "              algo=tpe.suggest, # optimization algorithm, hyperotp will select its parameters automatically\n",
    "              max_evals=50, # maximum number of iterations\n",
    "              trials=trials, # logging\n",
    "              rstate=np.random.default_rng(42) # fixing random state for the reproducibility\n",
    "        )\n",
    "        model = XGBClassifier(\n",
    "        n_estimators=int(best['n_estimators']),\n",
    "        max_depth=int(best['max_depth']),\n",
    "        learning_rate=best['learning_rate'],\n",
    "        subsample=best['subsample'],\n",
    "        colsample_bytree=best['colsample_bytree'],\n",
    "        gamma=best['gamma'],\n",
    "        reg_alpha=best['reg_alpha'],\n",
    "        reg_lambda=best['reg_lambda'],\n",
    "        objective='binary:logistic'  # 二分类问题\n",
    "    )\n",
    "        models.append(model)\n",
    "        model.fit(X_resampled[selected_features],y_resampled)\n",
    "        tpe_test_score=accuracy_score(y_test, model.predict(Xs_test[selected_features]))\n",
    "        scores.append(tpe_test_score)\n",
    "        print(tpe_test_score)\n",
    "        if score < tpe_test_score:\n",
    "            score = tpe_test_score\n",
    "            best_model = model"
   ],
   "metadata": {
    "collapsed": false,
    "ExecuteTime": {
     "end_time": "2024-03-29T17:47:00.476422Z",
     "start_time": "2024-03-29T16:45:22.055049600Z"
    }
   },
   "id": "a4984ad66d0e4611"
  },
  {
   "cell_type": "code",
   "execution_count": 10,
   "outputs": [
    {
     "name": "stdout",
     "output_type": "stream",
     "text": [
      "[0.8673740053050398, 0.8136645962732919, 0.6540880503144654, 0.9142857142857143, 0.8803680981595092, 0.8898305084745762, 0.7191283292978208, 0.9387096774193548, 0.6878612716763006, 0.8548621190130624, 0.8988439306358381, 0.931129476584022, 0.9002493765586035, 0.89, 0.45951417004048584, 0.8673740053050398, 0.8136645962732919, 0.6540880503144654, 0.9142857142857143, 0.8803680981595092, 0.8898305084745762, 0.7191283292978208, 0.9387096774193548, 0.6878612716763006, 0.8548621190130624, 0.8988439306358381, 0.931129476584022, 0.9002493765586035, 0.89, 0.45951417004048584, 0.8673740053050398, 0.8136645962732919, 0.6540880503144654, 0.9142857142857143, 0.8803680981595092, 0.8898305084745762, 0.7191283292978208, 0.9387096774193548, 0.6878612716763006, 0.8548621190130624, 0.8988439306358381, 0.931129476584022, 0.9002493765586035, 0.89, 0.45951417004048584]\n"
     ]
    }
   ],
   "source": [
    "print(scores)"
   ],
   "metadata": {
    "collapsed": false,
    "ExecuteTime": {
     "end_time": "2024-03-09T00:50:09.320755100Z",
     "start_time": "2024-03-09T00:50:09.291553Z"
    }
   },
   "id": "e43a528bd5c9a2de"
  },
  {
   "cell_type": "code",
   "execution_count": 10,
   "outputs": [
    {
     "data": {
      "text/plain": "['../../model/XGB_model_lasso.joblib']"
     },
     "execution_count": 10,
     "metadata": {},
     "output_type": "execute_result"
    }
   ],
   "source": [
    "from joblib import dump\n",
    "\n",
    "dump(best_model, '../../model/XGB_model_lasso.joblib')"
   ],
   "metadata": {
    "collapsed": false,
    "ExecuteTime": {
     "end_time": "2024-03-29T17:47:11.969105600Z",
     "start_time": "2024-03-29T17:47:11.925227400Z"
    }
   },
   "id": "51884e5d0d475ce0"
  },
  {
   "cell_type": "code",
   "execution_count": 11,
   "outputs": [
    {
     "data": {
      "text/plain": "XGBClassifier(base_score=None, booster=None, callbacks=None,\n              colsample_bylevel=None, colsample_bynode=None,\n              colsample_bytree=0.5950068203970165, device=None,\n              early_stopping_rounds=None, enable_categorical=False,\n              eval_metric=None, feature_types=None, gamma=0.20261344066604717,\n              grow_policy=None, importance_type=None,\n              interaction_constraints=None, learning_rate=0.08407518937092857,\n              max_bin=None, max_cat_threshold=None, max_cat_to_onehot=None,\n              max_delta_step=None, max_depth=4, max_leaves=None,\n              min_child_weight=None, missing=nan, monotone_constraints=None,\n              multi_strategy=None, n_estimators=700, n_jobs=None,\n              num_parallel_tree=None, random_state=None, ...)",
      "text/html": "<style>#sk-container-id-1 {color: black;}#sk-container-id-1 pre{padding: 0;}#sk-container-id-1 div.sk-toggleable {background-color: white;}#sk-container-id-1 label.sk-toggleable__label {cursor: pointer;display: block;width: 100%;margin-bottom: 0;padding: 0.3em;box-sizing: border-box;text-align: center;}#sk-container-id-1 label.sk-toggleable__label-arrow:before {content: \"▸\";float: left;margin-right: 0.25em;color: #696969;}#sk-container-id-1 label.sk-toggleable__label-arrow:hover:before {color: black;}#sk-container-id-1 div.sk-estimator:hover label.sk-toggleable__label-arrow:before {color: black;}#sk-container-id-1 div.sk-toggleable__content {max-height: 0;max-width: 0;overflow: hidden;text-align: left;background-color: #f0f8ff;}#sk-container-id-1 div.sk-toggleable__content pre {margin: 0.2em;color: black;border-radius: 0.25em;background-color: #f0f8ff;}#sk-container-id-1 input.sk-toggleable__control:checked~div.sk-toggleable__content {max-height: 200px;max-width: 100%;overflow: auto;}#sk-container-id-1 input.sk-toggleable__control:checked~label.sk-toggleable__label-arrow:before {content: \"▾\";}#sk-container-id-1 div.sk-estimator input.sk-toggleable__control:checked~label.sk-toggleable__label {background-color: #d4ebff;}#sk-container-id-1 div.sk-label input.sk-toggleable__control:checked~label.sk-toggleable__label {background-color: #d4ebff;}#sk-container-id-1 input.sk-hidden--visually {border: 0;clip: rect(1px 1px 1px 1px);clip: rect(1px, 1px, 1px, 1px);height: 1px;margin: -1px;overflow: hidden;padding: 0;position: absolute;width: 1px;}#sk-container-id-1 div.sk-estimator {font-family: monospace;background-color: #f0f8ff;border: 1px dotted black;border-radius: 0.25em;box-sizing: border-box;margin-bottom: 0.5em;}#sk-container-id-1 div.sk-estimator:hover {background-color: #d4ebff;}#sk-container-id-1 div.sk-parallel-item::after {content: \"\";width: 100%;border-bottom: 1px solid gray;flex-grow: 1;}#sk-container-id-1 div.sk-label:hover label.sk-toggleable__label {background-color: #d4ebff;}#sk-container-id-1 div.sk-serial::before {content: \"\";position: absolute;border-left: 1px solid gray;box-sizing: border-box;top: 0;bottom: 0;left: 50%;z-index: 0;}#sk-container-id-1 div.sk-serial {display: flex;flex-direction: column;align-items: center;background-color: white;padding-right: 0.2em;padding-left: 0.2em;position: relative;}#sk-container-id-1 div.sk-item {position: relative;z-index: 1;}#sk-container-id-1 div.sk-parallel {display: flex;align-items: stretch;justify-content: center;background-color: white;position: relative;}#sk-container-id-1 div.sk-item::before, #sk-container-id-1 div.sk-parallel-item::before {content: \"\";position: absolute;border-left: 1px solid gray;box-sizing: border-box;top: 0;bottom: 0;left: 50%;z-index: -1;}#sk-container-id-1 div.sk-parallel-item {display: flex;flex-direction: column;z-index: 1;position: relative;background-color: white;}#sk-container-id-1 div.sk-parallel-item:first-child::after {align-self: flex-end;width: 50%;}#sk-container-id-1 div.sk-parallel-item:last-child::after {align-self: flex-start;width: 50%;}#sk-container-id-1 div.sk-parallel-item:only-child::after {width: 0;}#sk-container-id-1 div.sk-dashed-wrapped {border: 1px dashed gray;margin: 0 0.4em 0.5em 0.4em;box-sizing: border-box;padding-bottom: 0.4em;background-color: white;}#sk-container-id-1 div.sk-label label {font-family: monospace;font-weight: bold;display: inline-block;line-height: 1.2em;}#sk-container-id-1 div.sk-label-container {text-align: center;}#sk-container-id-1 div.sk-container {/* jupyter's `normalize.less` sets `[hidden] { display: none; }` but bootstrap.min.css set `[hidden] { display: none !important; }` so we also need the `!important` here to be able to override the default hidden behavior on the sphinx rendered scikit-learn.org. See: https://github.com/scikit-learn/scikit-learn/issues/21755 */display: inline-block !important;position: relative;}#sk-container-id-1 div.sk-text-repr-fallback {display: none;}</style><div id=\"sk-container-id-1\" class=\"sk-top-container\"><div class=\"sk-text-repr-fallback\"><pre>XGBClassifier(base_score=None, booster=None, callbacks=None,\n              colsample_bylevel=None, colsample_bynode=None,\n              colsample_bytree=0.5950068203970165, device=None,\n              early_stopping_rounds=None, enable_categorical=False,\n              eval_metric=None, feature_types=None, gamma=0.20261344066604717,\n              grow_policy=None, importance_type=None,\n              interaction_constraints=None, learning_rate=0.08407518937092857,\n              max_bin=None, max_cat_threshold=None, max_cat_to_onehot=None,\n              max_delta_step=None, max_depth=4, max_leaves=None,\n              min_child_weight=None, missing=nan, monotone_constraints=None,\n              multi_strategy=None, n_estimators=700, n_jobs=None,\n              num_parallel_tree=None, random_state=None, ...)</pre><b>In a Jupyter environment, please rerun this cell to show the HTML representation or trust the notebook. <br />On GitHub, the HTML representation is unable to render, please try loading this page with nbviewer.org.</b></div><div class=\"sk-container\" hidden><div class=\"sk-item\"><div class=\"sk-estimator sk-toggleable\"><input class=\"sk-toggleable__control sk-hidden--visually\" id=\"sk-estimator-id-1\" type=\"checkbox\" checked><label for=\"sk-estimator-id-1\" class=\"sk-toggleable__label sk-toggleable__label-arrow\">XGBClassifier</label><div class=\"sk-toggleable__content\"><pre>XGBClassifier(base_score=None, booster=None, callbacks=None,\n              colsample_bylevel=None, colsample_bynode=None,\n              colsample_bytree=0.5950068203970165, device=None,\n              early_stopping_rounds=None, enable_categorical=False,\n              eval_metric=None, feature_types=None, gamma=0.20261344066604717,\n              grow_policy=None, importance_type=None,\n              interaction_constraints=None, learning_rate=0.08407518937092857,\n              max_bin=None, max_cat_threshold=None, max_cat_to_onehot=None,\n              max_delta_step=None, max_depth=4, max_leaves=None,\n              min_child_weight=None, missing=nan, monotone_constraints=None,\n              multi_strategy=None, n_estimators=700, n_jobs=None,\n              num_parallel_tree=None, random_state=None, ...)</pre></div></div></div></div></div>"
     },
     "execution_count": 11,
     "metadata": {},
     "output_type": "execute_result"
    }
   ],
   "source": [
    "best_model"
   ],
   "metadata": {
    "collapsed": false,
    "ExecuteTime": {
     "end_time": "2024-03-29T17:47:24.714551200Z",
     "start_time": "2024-03-29T17:47:24.423331200Z"
    }
   },
   "id": "4b0b5039ac2abb15"
  },
  {
   "cell_type": "code",
   "execution_count": 12,
   "outputs": [
    {
     "name": "stdout",
     "output_type": "stream",
     "text": [
      "['GC_Content', 'CAI', 'A', 'N', 'D', 'H', 'M', 'nSE3', 'nGE3']\n"
     ]
    }
   ],
   "source": [
    "train_data, test_data = generate_train_test_dataset(12)\n",
    "Xs_train,y_train = handle_dataset(train_data)\n",
    "Xs_test,y_test = handle_dataset(test_data)\n",
    "rus = RandomUnderSampler(sampling_strategy='auto', random_state=42)\n",
    "X_resampled, y_resampled = rus.fit_resample(Xs_train, y_train)\n",
    "lassoCV.fit(X_resampled,y_resampled)\n",
    "selected_features = [feature for feature, coef in zip(all_feature_names, lassoCV.coef_) if coef !=0]\n",
    "print(selected_features)"
   ],
   "metadata": {
    "collapsed": false,
    "ExecuteTime": {
     "end_time": "2024-03-09T00:50:13.666779600Z",
     "start_time": "2024-03-09T00:50:13.364098900Z"
    }
   },
   "id": "eb6d41c0568087b3"
  },
  {
   "cell_type": "code",
   "execution_count": null,
   "outputs": [],
   "source": [],
   "metadata": {
    "collapsed": false
   },
   "id": "4a82d07e82c412db"
  }
 ],
 "metadata": {
  "kernelspec": {
   "display_name": "Python 3",
   "language": "python",
   "name": "python3"
  },
  "language_info": {
   "codemirror_mode": {
    "name": "ipython",
    "version": 2
   },
   "file_extension": ".py",
   "mimetype": "text/x-python",
   "name": "python",
   "nbconvert_exporter": "python",
   "pygments_lexer": "ipython2",
   "version": "2.7.6"
  }
 },
 "nbformat": 4,
 "nbformat_minor": 5
}
