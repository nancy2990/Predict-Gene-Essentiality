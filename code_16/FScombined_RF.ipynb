{
 "cells": [
  {
   "cell_type": "code",
   "execution_count": 1,
   "id": "initial_id",
   "metadata": {
    "collapsed": true,
    "ExecuteTime": {
     "end_time": "2024-03-10T15:05:39.297570400Z",
     "start_time": "2024-03-10T15:05:37.544812200Z"
    }
   },
   "outputs": [],
   "source": [
    "import pandas as pd\n",
    "from sklearn.metrics import make_scorer, balanced_accuracy_score\n",
    "from sklearn.model_selection import cross_val_score\n",
    "from sklearn.ensemble import RandomForestClassifier\n",
    "from hyperopt import hp\n",
    "import numpy as np\n",
    "from hyperopt import Trials, tpe, fmin\n",
    "import warnings\n",
    "from imblearn.under_sampling import RandomUnderSampler\n",
    "from sklearn.svm import SVC\n",
    "from sklearn.feature_selection import RFECV\n",
    "from sklearn.feature_selection import SelectKBest, mutual_info_classif\n",
    "from nbimporter import NotebookLoader\n",
    "\n",
    "warnings.filterwarnings(\"ignore\")"
   ]
  },
  {
   "cell_type": "code",
   "execution_count": 2,
   "outputs": [],
   "source": [
    "ma = pd.read_csv(\"../16 Mycoplosma/ma.csv\")\n",
    "map = pd.read_csv(\"../16 Mycoplosma/map.csv\")\n",
    "marth = pd.read_csv(\"../16 Mycoplosma/marth.csv\")\n",
    "mcap = pd.read_csv(\"../16 Mycoplosma/mcap.csv\")\n",
    "mcon = pd.read_csv(\"../16 Mycoplosma/mcon.csv\")\n",
    "mcro = pd.read_csv(\"../16 Mycoplosma/mcro.csv\")\n",
    "mgal = pd.read_csv(\"../16 Mycoplosma/mgal.csv\")\n",
    "mhom = pd.read_csv(\"../16 Mycoplosma/mhom.csv\")\n",
    "mhyoJ = pd.read_csv(\"../16 Mycoplosma/mhyoJ.csv\")\n",
    "mhyo232 = pd.read_csv(\"../16 Mycoplosma/mhyo232.csv\")\n",
    "mhyo7448 = pd.read_csv(\"../16 Mycoplosma/mhyo7448.csv\")\n",
    "mm163K = pd.read_csv(\"../16 Mycoplosma/mm163K.csv\")\n",
    "mms = pd.read_csv(\"../16 Mycoplosma/mms.csv\")\n",
    "mpHF = pd.read_csv(\"../16 Mycoplosma/mpHF.csv\")\n",
    "mpM = pd.read_csv(\"../16 Mycoplosma/mpM.csv\")\n",
    "ms53 = pd.read_csv(\"../16 Mycoplosma/ms53.csv\")"
   ],
   "metadata": {
    "collapsed": false,
    "ExecuteTime": {
     "end_time": "2024-03-10T15:05:44.104743200Z",
     "start_time": "2024-03-10T15:05:43.873725Z"
    }
   },
   "id": "1b6ba68f7118a51"
  },
  {
   "cell_type": "code",
   "execution_count": 3,
   "outputs": [],
   "source": [
    "def generate_train_test_dataset(index):\n",
    "    dataset_names = [ma, map, marth, mcap, mcon, mcro, mgal, mhom, mhyoJ, mhyo232, mhyo7448, mm163K, mms, mpHF, mpM, ms53]\n",
    "    merged_train = dataset_names[:index]+dataset_names[index+1:]\n",
    "    train_data = pd.concat(merged_train)\n",
    "    test_data = dataset_names[index]\n",
    "    return train_data,test_data"
   ],
   "metadata": {
    "collapsed": false,
    "ExecuteTime": {
     "end_time": "2024-03-10T15:05:45.899481500Z",
     "start_time": "2024-03-10T15:05:45.881691800Z"
    }
   },
   "id": "2b976e80eff11ec6"
  },
  {
   "cell_type": "code",
   "execution_count": 4,
   "outputs": [],
   "source": [
    "def handle_dataset(dataset):\n",
    "    columns_to_drop = ['identity','name', 'Amino acid', 'protein_sequence', 'essentiality']\n",
    "    Xs = dataset.drop(columns = columns_to_drop)\n",
    "    y = dataset['essentiality']\n",
    "    return Xs,y"
   ],
   "metadata": {
    "collapsed": false,
    "ExecuteTime": {
     "end_time": "2024-03-10T15:05:46.484385400Z",
     "start_time": "2024-03-10T15:05:46.463445100Z"
    }
   },
   "id": "85be72e44735b274"
  },
  {
   "cell_type": "code",
   "execution_count": 5,
   "outputs": [],
   "source": [
    "rus = RandomUnderSampler(sampling_strategy='auto', random_state=42)"
   ],
   "metadata": {
    "collapsed": false,
    "ExecuteTime": {
     "end_time": "2024-03-10T15:05:47.645736400Z",
     "start_time": "2024-03-10T15:05:47.619708100Z"
    }
   },
   "id": "92f2bd53c65db613"
  },
  {
   "cell_type": "code",
   "execution_count": 14,
   "outputs": [],
   "source": [
    "from sklearn.linear_model import LassoCV\n",
    "\n",
    "lassoCV = LassoCV(cv=20,random_state=10)\n",
    "all_feature_names = [\"GC_Content\",\"CAI\",\"A\",\"R\",\"N\",\"D\",\"C\",\"Q\",\"E\",\"G\",\"H\",\"I\",\"L\",\"K\",\"M\",\"F\",\"P\",\"S\",\"T\",\"W\",\"Y\",\"V\",\"nSE2\",\"nSE3\",\"nGE2\",\"nGE3\"]"
   ],
   "metadata": {
    "collapsed": false,
    "ExecuteTime": {
     "end_time": "2024-03-10T15:23:51.190527100Z",
     "start_time": "2024-03-10T15:23:51.151462600Z"
    }
   },
   "id": "d9658a1443eba766"
  },
  {
   "cell_type": "code",
   "execution_count": 7,
   "outputs": [],
   "source": [
    "space = {\n",
    "    'n_estimators': hp.quniform('n_estimators', 50, 700, 1),\n",
    "    'max_depth': hp.quniform('max_depth', 3, 20, 1),\n",
    "    'min_samples_split': hp.uniform('min_samples_split', 0.1, 1),\n",
    "    'min_samples_leaf': hp.uniform('min_samples_leaf', 0.1, 0.5),\n",
    "}"
   ],
   "metadata": {
    "collapsed": false,
    "ExecuteTime": {
     "end_time": "2024-03-10T15:06:24.668726800Z",
     "start_time": "2024-03-10T15:06:24.646448900Z"
    }
   },
   "id": "22d663b303007756"
  },
  {
   "cell_type": "code",
   "execution_count": 10,
   "outputs": [],
   "source": [
    "\n",
    "from sklearn.metrics import accuracy_score\n",
    "\n",
    "def rf_ac_cv(params):\n",
    "    params = {\n",
    "    'n_estimators': int(params['n_estimators']), \n",
    "    'max_depth': int(params['max_depth']), \n",
    "    'min_samples_split': params['min_samples_split'],\n",
    "    'min_samples_leaf': params['min_samples_leaf']\n",
    "}\n",
    "    scorer = make_scorer(accuracy_score)\n",
    "    model = RandomForestClassifier(random_state=42, **params)\n",
    "    score = -cross_val_score(model, X_resampled, y_resampled, cv=5,scoring=scorer, ).mean()\n",
    "    return score"
   ],
   "metadata": {
    "collapsed": false,
    "ExecuteTime": {
     "end_time": "2024-03-10T15:09:05.916955200Z",
     "start_time": "2024-03-10T15:09:05.870242600Z"
    }
   },
   "id": "c7ff8a5d6e235794"
  },
  {
   "cell_type": "code",
   "execution_count": 11,
   "outputs": [
    {
     "name": "stdout",
     "output_type": "stream",
     "text": [
      "100%|██████████| 10/10 [00:20<00:00,  2.02s/trial, best loss: -0.7944888366627497]\n",
      "0.8992042440318302\n",
      "100%|██████████| 10/10 [00:19<00:00,  1.98s/trial, best loss: -0.7956043956043957]\n",
      "0.8530020703933747\n",
      "100%|██████████| 10/10 [00:21<00:00,  2.17s/trial, best loss: -0.8050859028330869]\n",
      "0.6383647798742138\n",
      "100%|██████████| 10/10 [00:22<00:00,  2.22s/trial, best loss: -0.7827092569841354]\n",
      "0.9795918367346939\n",
      "100%|██████████| 10/10 [00:21<00:00,  2.18s/trial, best loss: -0.7930308780403658]\n",
      "0.8803680981595092\n",
      "100%|██████████| 10/10 [00:20<00:00,  2.09s/trial, best loss: -0.7899204086481351]\n",
      "0.9322033898305084\n",
      "100%|██████████| 10/10 [00:21<00:00,  2.20s/trial, best loss: -0.7814571092831963]\n",
      "0.6561743341404358\n",
      "100%|██████████| 10/10 [00:27<00:00,  2.75s/trial, best loss: -0.7941348973607039]\n",
      "0.9483870967741935\n",
      "100%|██████████| 10/10 [00:28<00:00,  2.84s/trial, best loss: -0.8380589373079987]\n",
      "0.7861271676300579\n",
      "100%|██████████| 10/10 [00:27<00:00,  2.77s/trial, best loss: -0.7699653937222998]\n",
      "0.8359941944847605\n",
      "100%|██████████| 10/10 [00:28<00:00,  2.80s/trial, best loss: -0.7902377972465582]\n",
      "0.8294797687861272\n",
      "100%|██████████| 10/10 [00:26<00:00,  2.68s/trial, best loss: -0.786312118570183]\n",
      "0.9504132231404959\n",
      "100%|██████████| 10/10 [00:28<00:00,  2.89s/trial, best loss: -0.7791666666666666]\n",
      "0.9900249376558603\n",
      "100%|██████████| 10/10 [00:28<00:00,  2.87s/trial, best loss: -0.783157894736842]\n",
      "0.9725\n",
      "100%|██████████| 10/10 [00:25<00:00,  2.54s/trial, best loss: -0.8035714285714286]\n",
      "0.5688259109311741\n"
     ]
    }
   ],
   "source": [
    "from joblib import load\n",
    "from sklearn.feature_selection import RFE\n",
    "\n",
    "scores = []\n",
    "score = 0\n",
    "models = []\n",
    "model_rf_fs = load(\"../../model/RF_model.joblib\")\n",
    "for i in range(0,15):\n",
    "    train_data, test_data = generate_train_test_dataset(i)\n",
    "    Xs_train,y_train = handle_dataset(train_data)\n",
    "    Xs_test,y_test = handle_dataset(test_data)\n",
    "    rus = RandomUnderSampler(sampling_strategy='auto', random_state=42)\n",
    "    X_resampled, y_resampled = rus.fit_resample(Xs_train, y_train)\n",
    "    rfe = RFE(model_rf_fs, n_features_to_select=20)\n",
    "    rfe.fit(X_resampled, y_resampled)\n",
    "    X_resampled = rfe.transform(X_resampled)  # For training data\n",
    "    Xs_test = rfe.transform(Xs_test)  # For testing data\n",
    "    lassoCV.fit(X_resampled,y_resampled)\n",
    "    selected_features = [feature for feature, coef in zip(all_feature_names, lassoCV.coef_) if coef !=0]\n",
    "    trials = Trials()\n",
    "    selected_feature_indices = [all_feature_names.index(feature) for feature in selected_features]\n",
    "    X_resampled = X_resampled[:, selected_feature_indices]\n",
    "    Xs_test = Xs_test[:,selected_feature_indices]\n",
    "    best=fmin(fn=rf_ac_cv, # function to optimize\n",
    "              space=space, \n",
    "              algo=tpe.suggest, # optimization algorithm, hyperotp will select its parameters automatically\n",
    "              max_evals=10, # maximum number of iterations\n",
    "              trials=trials, # logging\n",
    "              rstate=np.random.default_rng(42) # fixing random state for the reproducibility\n",
    "    )\n",
    "    model = RandomForestClassifier(random_state=42, n_estimators=int(best['n_estimators']),max_depth=int(best['max_depth']),min_samples_split=best['min_samples_split'],min_samples_leaf=best['min_samples_leaf'])\n",
    "    models.append(model)\n",
    "    model.fit(X_resampled,y_resampled)\n",
    "    tpe_test_score=accuracy_score(y_test, model.predict(Xs_test))\n",
    "    scores.append(tpe_test_score)\n",
    "    print(tpe_test_score)\n",
    "    if score < tpe_test_score:\n",
    "        score = tpe_test_score\n",
    "        best_model = model"
   ],
   "metadata": {
    "collapsed": false,
    "ExecuteTime": {
     "end_time": "2024-03-10T15:19:04.411184800Z",
     "start_time": "2024-03-10T15:09:08.308535900Z"
    }
   },
   "id": "a4984ad66d0e4611"
  },
  {
   "cell_type": "code",
   "execution_count": 12,
   "outputs": [
    {
     "name": "stdout",
     "output_type": "stream",
     "text": [
      "0.9900249376558603\n"
     ]
    }
   ],
   "source": [
    "print(score)"
   ],
   "metadata": {
    "collapsed": false,
    "ExecuteTime": {
     "end_time": "2024-03-10T15:21:04.608901100Z",
     "start_time": "2024-03-10T15:21:04.585517Z"
    }
   },
   "id": "e43a528bd5c9a2de"
  },
  {
   "cell_type": "code",
   "execution_count": 17,
   "outputs": [
    {
     "name": "stdout",
     "output_type": "stream",
     "text": [
      "[ 1  2  3  4  5  6  7 10 12 13 14 16 18 19 21 22 23 24 25 26]\n",
      "Selected feature RFE: ['GC_Content', 'CAI', 'A', 'R', 'N', 'D', 'C', 'G', 'I', 'L', 'K', 'F', 'S', 'T', 'Y', 'V', 'nSE2', 'nSE3', 'nGE2', 'nGE3']\n",
      "Selected feature Lasso: ['GC_Content', 'CAI', 'A', 'R', 'N', 'D', 'G', 'K', 'F', 'S', 'T', 'Y', 'V', 'nSE2', 'nSE3', 'nGE2', 'nGE3']\n"
     ]
    }
   ],
   "source": [
    "train_data, test_data = generate_train_test_dataset(13)\n",
    "Xs_train,y_train = handle_dataset(train_data)\n",
    "X_resampled, y_resampled = rus.fit_resample(Xs_train, y_train)\n",
    "rfe = RFE(model_rf_fs, n_features_to_select=20)\n",
    "rfe.fit(X_resampled, y_resampled)\n",
    "X_resampled = rfe.transform(X_resampled)\n",
    "lassoCV.fit(X_resampled,y_resampled)\n",
    "selected_feature_indices = rfe.get_support(indices=True)\n",
    "print(selected_feature_indices)\n",
    "selected_feature_names = [all_feature_names[index-1] for index in selected_feature_indices]\n",
    "selected_features = [feature for feature, coef in zip(selected_feature_names, lassoCV.coef_) if coef !=0]\n",
    "print(\"Selected feature RFE:\", selected_feature_names)\n",
    "print(\"Selected feature Lasso:\", selected_features)"
   ],
   "metadata": {
    "collapsed": false,
    "ExecuteTime": {
     "end_time": "2024-03-10T15:46:04.343967300Z",
     "start_time": "2024-03-10T15:45:51.837510200Z"
    }
   },
   "id": "9c57feeb8ae31484"
  },
  {
   "cell_type": "code",
   "execution_count": 18,
   "outputs": [
    {
     "data": {
      "text/plain": "['../../model/RF_model_FSS.joblib']"
     },
     "execution_count": 18,
     "metadata": {},
     "output_type": "execute_result"
    }
   ],
   "source": [
    "from joblib import dump\n",
    "\n",
    "dump(best_model, '../../model/RF_model_FSS.joblib')"
   ],
   "metadata": {
    "collapsed": false,
    "ExecuteTime": {
     "end_time": "2024-03-10T15:46:44.617828400Z",
     "start_time": "2024-03-10T15:46:44.444798200Z"
    }
   },
   "id": "51884e5d0d475ce0"
  },
  {
   "cell_type": "code",
   "execution_count": 12,
   "outputs": [
    {
     "name": "stdout",
     "output_type": "stream",
     "text": [
      "['GC_Content', 'CAI', 'A', 'N', 'D', 'H', 'M', 'nSE3', 'nGE3']\n"
     ]
    }
   ],
   "source": [
    "train_data, test_data = generate_train_test_dataset(12)\n",
    "Xs_train,y_train = handle_dataset(train_data)\n",
    "Xs_test,y_test = handle_dataset(test_data)\n",
    "rus = RandomUnderSampler(sampling_strategy='auto', random_state=42)\n",
    "X_resampled, y_resampled = rus.fit_resample(Xs_train, y_train)\n",
    "lassoCV.fit(X_resampled,y_resampled)\n",
    "selected_features = [feature for feature, coef in zip(all_feature_names, lassoCV.coef_) if coef !=0]\n",
    "print(selected_features)"
   ],
   "metadata": {
    "collapsed": false,
    "ExecuteTime": {
     "end_time": "2024-03-09T00:50:13.666779600Z",
     "start_time": "2024-03-09T00:50:13.364098900Z"
    }
   },
   "id": "eb6d41c0568087b3"
  },
  {
   "cell_type": "code",
   "execution_count": null,
   "outputs": [],
   "source": [],
   "metadata": {
    "collapsed": false
   },
   "id": "4a82d07e82c412db"
  }
 ],
 "metadata": {
  "kernelspec": {
   "display_name": "Python 3",
   "language": "python",
   "name": "python3"
  },
  "language_info": {
   "codemirror_mode": {
    "name": "ipython",
    "version": 2
   },
   "file_extension": ".py",
   "mimetype": "text/x-python",
   "name": "python",
   "nbconvert_exporter": "python",
   "pygments_lexer": "ipython2",
   "version": "2.7.6"
  }
 },
 "nbformat": 4,
 "nbformat_minor": 5
}
