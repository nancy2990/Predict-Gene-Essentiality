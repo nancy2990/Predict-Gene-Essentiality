{
 "cells": [
  {
   "cell_type": "code",
   "execution_count": 4,
   "id": "initial_id",
   "metadata": {
    "collapsed": true,
    "ExecuteTime": {
     "end_time": "2024-03-11T18:42:41.433912500Z",
     "start_time": "2024-03-11T18:42:39.748112800Z"
    }
   },
   "outputs": [],
   "source": [
    "import pandas as pd\n",
    "from sklearn.metrics import make_scorer, balanced_accuracy_score\n",
    "from sklearn.model_selection import cross_val_score\n",
    "from sklearn.ensemble import RandomForestClassifier\n",
    "from hyperopt import hp\n",
    "import numpy as np\n",
    "from hyperopt import Trials, tpe, fmin\n",
    "import warnings\n",
    "from imblearn.under_sampling import RandomUnderSampler\n",
    "from sklearn.svm import SVC\n",
    "from sklearn.feature_selection import RFECV\n",
    "from sklearn.feature_selection import SelectKBest, mutual_info_classif\n",
    "from nbimporter import NotebookLoader\n",
    "from joblib import load\n",
    "import statistics\n",
    "from sklearn.metrics import accuracy_score, f1_score, roc_auc_score, matthews_corrcoef, precision_score, recall_score\n",
    "warnings.filterwarnings(\"ignore\")"
   ]
  },
  {
   "cell_type": "code",
   "execution_count": 5,
   "outputs": [],
   "source": [
    "ma = pd.read_csv(\"../16 Mycoplosma/ma.csv\")\n",
    "map = pd.read_csv(\"../16 Mycoplosma/map.csv\")\n",
    "marth = pd.read_csv(\"../16 Mycoplosma/marth.csv\")\n",
    "mcap = pd.read_csv(\"../16 Mycoplosma/mcap.csv\")\n",
    "mcon = pd.read_csv(\"../16 Mycoplosma/mcon.csv\")\n",
    "mcro = pd.read_csv(\"../16 Mycoplosma/mcro.csv\")\n",
    "mgal = pd.read_csv(\"../16 Mycoplosma/mgal.csv\")\n",
    "mhom = pd.read_csv(\"../16 Mycoplosma/mhom.csv\")\n",
    "mhyoJ = pd.read_csv(\"../16 Mycoplosma/mhyoJ.csv\")\n",
    "mhyo232 = pd.read_csv(\"../16 Mycoplosma/mhyo232.csv\")\n",
    "mhyo7448 = pd.read_csv(\"../16 Mycoplosma/mhyo7448.csv\")\n",
    "mm163K = pd.read_csv(\"../16 Mycoplosma/mm163K.csv\")\n",
    "mms = pd.read_csv(\"../16 Mycoplosma/mms.csv\")\n",
    "mpHF = pd.read_csv(\"../16 Mycoplosma/mpHF.csv\")\n",
    "mpM = pd.read_csv(\"../16 Mycoplosma/mpM.csv\")\n",
    "ms53 = pd.read_csv(\"../16 Mycoplosma/ms53.csv\")"
   ],
   "metadata": {
    "collapsed": false,
    "ExecuteTime": {
     "end_time": "2024-03-11T18:42:42.965813200Z",
     "start_time": "2024-03-11T18:42:42.756161700Z"
    }
   },
   "id": "1b6ba68f7118a51"
  },
  {
   "cell_type": "code",
   "execution_count": 6,
   "outputs": [],
   "source": [
    "def generate_train_test_dataset(index):\n",
    "    dataset_names = [ma, map, marth, mcap, mcon, mcro, mgal, mhom, mhyoJ, mhyo232, mhyo7448, mm163K, mms, mpHF, mpM, ms53]\n",
    "    merged_train = dataset_names[:index]+dataset_names[index+1:]\n",
    "    train_data = pd.concat(merged_train)\n",
    "    test_data = dataset_names[index]\n",
    "    return train_data,test_data"
   ],
   "metadata": {
    "collapsed": false,
    "ExecuteTime": {
     "end_time": "2024-03-11T18:42:43.721795Z",
     "start_time": "2024-03-11T18:42:43.699956600Z"
    }
   },
   "id": "2b976e80eff11ec6"
  },
  {
   "cell_type": "code",
   "execution_count": 7,
   "outputs": [],
   "source": [
    "def handle_dataset(dataset):\n",
    "    columns_to_drop = ['identity','name', 'Amino acid', 'protein_sequence', 'essentiality']\n",
    "    Xs = dataset.drop(columns = columns_to_drop)\n",
    "    y = dataset['essentiality']\n",
    "    return Xs,y"
   ],
   "metadata": {
    "collapsed": false,
    "ExecuteTime": {
     "end_time": "2024-03-11T18:42:44.422873300Z",
     "start_time": "2024-03-11T18:42:44.397494Z"
    }
   },
   "id": "85be72e44735b274"
  },
  {
   "cell_type": "code",
   "execution_count": 8,
   "outputs": [],
   "source": [
    "rus = RandomUnderSampler(sampling_strategy='auto', random_state=42)"
   ],
   "metadata": {
    "collapsed": false,
    "ExecuteTime": {
     "end_time": "2024-03-11T18:42:45.229571800Z",
     "start_time": "2024-03-11T18:42:45.216652600Z"
    }
   },
   "id": "92f2bd53c65db613"
  },
  {
   "cell_type": "code",
   "execution_count": 9,
   "outputs": [],
   "source": [
    "model_mlp = load('../../model/MLP_model_lasso.joblib')\n",
    "scores_mlp_ac = []\n",
    "scores_mlp_f1 = []\n",
    "scores_mlp_auc = []\n",
    "scores_mlp_mcc =[]\n",
    "scores_mlp_precision = []\n",
    "scores_mlp_recall = []\n",
    "feature_mlp = ['GC_Content', 'CAI', 'A', 'N', 'H', 'nSE3', 'nGE3']\n",
    "for i in range(0,16): \n",
    "    train_data, test_data = generate_train_test_dataset(i)\n",
    "    Xs_train,y_train = handle_dataset(train_data)\n",
    "    Xs_test,y_test = handle_dataset(test_data)\n",
    "    X_resampled, y_resampled = rus.fit_resample(Xs_train, y_train)\n",
    "    model_mlp.fit(X_resampled[feature_mlp],y_resampled)\n",
    "    y_predict = model_mlp.predict(Xs_test[feature_mlp])\n",
    "    acc=accuracy_score(y_test, y_predict)\n",
    "    scores_mlp_ac.append(acc)\n",
    "    f1 = f1_score(y_test,y_predict)\n",
    "    scores_mlp_f1.append(f1)\n",
    "    auc = roc_auc_score(y_test,y_predict)\n",
    "    scores_mlp_auc.append(auc)\n",
    "    mcc = matthews_corrcoef(y_test,y_predict)\n",
    "    scores_mlp_mcc.append(mcc)\n",
    "    precision = precision_score(y_test,y_predict)\n",
    "    scores_mlp_precision.append(precision)\n",
    "    recall = recall_score(y_test,y_predict)\n",
    "    scores_mlp_recall.append(recall)"
   ],
   "metadata": {
    "collapsed": false,
    "ExecuteTime": {
     "end_time": "2024-03-11T18:42:50.688929300Z",
     "start_time": "2024-03-11T18:42:45.709974200Z"
    }
   },
   "id": "a4984ad66d0e4611"
  },
  {
   "cell_type": "code",
   "execution_count": 7,
   "outputs": [
    {
     "name": "stdout",
     "output_type": "stream",
     "text": [
      "[0.8355437665782494, 0.8136645962732919, 0.7767295597484277, 0.9510204081632653, 0.901840490797546, 0.8870056497175142, 0.6537530266343826, 0.9225806451612903, 0.9190751445086706, 0.9056603773584906, 0.9161849710982659, 0.9338842975206612, 0.9301745635910225, 0.9575, 0.46963562753036436, 0.8146067415730337]\n",
      "0.8493037416409047 0.016542218368110834\n"
     ]
    }
   ],
   "source": [
    "print(scores_mlp_ac)\n",
    "print(statistics.mean(scores_mlp_ac),statistics.variance(scores_mlp_ac))"
   ],
   "metadata": {
    "collapsed": false,
    "ExecuteTime": {
     "end_time": "2024-03-10T16:20:13.626230900Z",
     "start_time": "2024-03-10T16:20:13.610077100Z"
    }
   },
   "id": "794d56f0541246b9"
  },
  {
   "cell_type": "code",
   "execution_count": 10,
   "outputs": [],
   "source": [
    "model_svm = load('../../model/SVM_model.joblib')\n",
    "feature_svm = ['GC_Content', 'CAI', 'A', 'N', 'D', 'H', 'M', 'nSE3', 'nGE3']\n",
    "scores_svm_ac = []\n",
    "scores_svm_mcc = []\n",
    "scores_svm_auc = []\n",
    "scores_svm_f1 = []\n",
    "scores_svm_precision = []\n",
    "scores_svm_recall = []\n",
    "for i in range(0,16):\n",
    "    train_data, test_data = generate_train_test_dataset(i)\n",
    "    Xs_train,y_train = handle_dataset(train_data)\n",
    "    Xs_test,y_test = handle_dataset(test_data)\n",
    "    X_resampled, y_resampled = rus.fit_resample(Xs_train, y_train)\n",
    "    model_svm.fit(X_resampled[feature_svm],y_resampled)\n",
    "    y_predict = model_svm.predict(Xs_test[feature_svm])\n",
    "    acc=accuracy_score(y_test, y_predict)\n",
    "    scores_svm_ac.append(acc)\n",
    "    auc = roc_auc_score(y_test,y_predict)\n",
    "    scores_svm_auc.append(auc)\n",
    "    mcc = matthews_corrcoef(y_test,y_predict)\n",
    "    scores_svm_mcc.append(mcc)\n",
    "    f1 = f1_score(y_test,y_predict)\n",
    "    scores_svm_f1.append(f1)\n",
    "    precision = precision_score(y_test,y_predict)\n",
    "    scores_svm_precision.append(precision)\n",
    "    recall = recall_score(y_test,y_predict)\n",
    "    scores_svm_recall.append(recall)"
   ],
   "metadata": {
    "collapsed": false,
    "ExecuteTime": {
     "end_time": "2024-03-11T18:42:53.865824400Z",
     "start_time": "2024-03-11T18:42:52.705675200Z"
    }
   },
   "id": "3ca4051be32b0d8c"
  },
  {
   "cell_type": "code",
   "execution_count": 8,
   "outputs": [
    {
     "name": "stdout",
     "output_type": "stream",
     "text": [
      "[0.8514588859416445, 0.8364389233954451, 0.6949685534591195, 0.9346938775510204, 0.8650306748466258, 0.903954802259887, 0.6973365617433414, 0.9225806451612903, 0.6098265895953757, 0.8911465892597968, 0.8930635838150289, 0.9393939393939394, 0.9351620947630923, 0.94, 0.45951417004048584, 0.8567415730337079]\n",
      "0.8269569665162375 0.019447234706971545\n"
     ]
    }
   ],
   "source": [
    "print(scores_svm_ac)\n",
    "print(statistics.mean(scores_svm_ac),statistics.variance(scores_svm_ac))"
   ],
   "metadata": {
    "collapsed": false,
    "ExecuteTime": {
     "end_time": "2024-03-11T14:55:27.980465100Z",
     "start_time": "2024-03-11T14:55:27.938995600Z"
    }
   },
   "id": "9260de06dc639f5"
  },
  {
   "cell_type": "code",
   "execution_count": 11,
   "outputs": [],
   "source": [
    "model_nb = load('../../model/NB_model_lasso.joblib')\n",
    "scores_nb_ac = []\n",
    "scores_nb_mcc = []\n",
    "scores_nb_auc = []\n",
    "scores_nb_f1 = []\n",
    "scores_nb_precision = []\n",
    "scores_nb_recall = []\n",
    "feature_nb = ['GC_Content', 'CAI', 'N']\n",
    "for i in range(0,16):\n",
    "    train_data, test_data = generate_train_test_dataset(i)\n",
    "    Xs_train,y_train = handle_dataset(train_data)\n",
    "    Xs_test,y_test = handle_dataset(test_data)\n",
    "    X_resampled, y_resampled = rus.fit_resample(Xs_train, y_train)\n",
    "    model_nb.fit(X_resampled[feature_nb],y_resampled)\n",
    "    y_predict = model_nb.predict(Xs_test[feature_nb])\n",
    "    acc=accuracy_score(y_test, y_predict)\n",
    "    scores_nb_ac.append(acc)\n",
    "    auc = roc_auc_score(y_test,y_predict)\n",
    "    scores_nb_auc.append(auc)\n",
    "    mcc =matthews_corrcoef(y_test,y_predict)\n",
    "    scores_nb_mcc.append(mcc)\n",
    "    f1 = f1_score(y_test,y_predict)\n",
    "    scores_nb_f1.append(f1)\n",
    "    precision = precision_score(y_test,y_predict)\n",
    "    scores_nb_precision.append(precision)\n",
    "    recall = recall_score(y_test,y_predict)\n",
    "    scores_nb_recall.append(recall)"
   ],
   "metadata": {
    "collapsed": false,
    "ExecuteTime": {
     "end_time": "2024-03-11T18:42:56.458807900Z",
     "start_time": "2024-03-11T18:42:56.015074400Z"
    }
   },
   "id": "51884e5d0d475ce0"
  },
  {
   "cell_type": "code",
   "execution_count": 18,
   "outputs": [
    {
     "name": "stdout",
     "output_type": "stream",
     "text": [
      "[0.8275862068965517, 0.8240165631469979, 0.6352201257861635, 0.9551020408163265, 0.8588957055214724, 0.8954802259887006, 0.6900726392251816, 0.9354838709677419, 0.6011560693641619, 0.8026124818577649, 0.7832369942196532, 0.9449035812672176, 0.9526184538653366, 0.97, 0.48785425101214575, 0.8370786516853933]\n",
      "0.8125823663513005 0.02032432254559922\n"
     ]
    }
   ],
   "source": [
    "print(scores_nb_ac)\n",
    "print(statistics.mean(scores_nb_ac),statistics.variance(scores_nb_ac))"
   ],
   "metadata": {
    "collapsed": false,
    "ExecuteTime": {
     "end_time": "2024-03-09T01:05:47.511628700Z",
     "start_time": "2024-03-09T01:05:47.497058800Z"
    }
   },
   "id": "cd9288c936f21d36"
  },
  {
   "cell_type": "code",
   "execution_count": 12,
   "outputs": [],
   "source": [
    "model_rf = load('../../model/RF_model_lasso.joblib')\n",
    "scores_rf_ac = []\n",
    "scores_rf_mcc= []\n",
    "scores_rf_f1 = []\n",
    "scores_rf_auc = []\n",
    "scores_rf_precision = []\n",
    "scores_rf_recall = []\n",
    "feature_rf = ['GC_Content', 'CAI', 'A', 'N', 'D', 'H', 'M', 'nSE3', 'nGE3']\n",
    "for i in range(0,16):\n",
    "    train_data, test_data = generate_train_test_dataset(i)\n",
    "    Xs_train,y_train = handle_dataset(train_data)\n",
    "    Xs_test,y_test = handle_dataset(test_data)\n",
    "    X_resampled, y_resampled = rus.fit_resample(Xs_train, y_train)\n",
    "    model_rf.fit(X_resampled[feature_rf],y_resampled)\n",
    "    y_predict = model_rf.predict(Xs_test[feature_rf])\n",
    "    acc=accuracy_score(y_test, y_predict)\n",
    "    scores_rf_ac.append(acc)\n",
    "    mcc = matthews_corrcoef(y_test,y_predict)\n",
    "    scores_rf_mcc.append(mcc)\n",
    "    auc = roc_auc_score(y_test,y_predict)\n",
    "    scores_rf_auc.append(auc)\n",
    "    f1 = f1_score(y_test,y_predict)\n",
    "    scores_rf_f1.append(f1)\n",
    "    precision = precision_score(y_test,y_predict)\n",
    "    scores_rf_precision.append(precision)\n",
    "    recall = recall_score(y_test,y_predict)\n",
    "    scores_rf_recall.append(recall)"
   ],
   "metadata": {
    "collapsed": false,
    "ExecuteTime": {
     "end_time": "2024-03-11T18:43:10.280045100Z",
     "start_time": "2024-03-11T18:42:59.430756200Z"
    }
   },
   "id": "3dddd9824af86e1c"
  },
  {
   "cell_type": "code",
   "execution_count": 20,
   "outputs": [
    {
     "name": "stdout",
     "output_type": "stream",
     "text": [
      "[0.8806366047745358, 0.8157349896480331, 0.6509433962264151, 0.9836734693877551, 0.8466257668711656, 0.9180790960451978, 0.7094430992736077, 0.9419354838709677, 0.48554913294797686, 0.8243831640058055, 0.8005780346820809, 0.953168044077135, 0.9900249376558603, 0.9725, 0.5546558704453441, 0.851123595505618]\n",
      "0.8236909178385936 0.02331960953989258\n"
     ]
    }
   ],
   "source": [
    "print(scores_rf_ac)\n",
    "print(statistics.mean(scores_rf_ac),statistics.variance(scores_rf_ac))"
   ],
   "metadata": {
    "collapsed": false,
    "ExecuteTime": {
     "end_time": "2024-03-09T01:08:13.189063100Z",
     "start_time": "2024-03-09T01:08:13.176106600Z"
    }
   },
   "id": "74bce6cc10e475f3"
  },
  {
   "cell_type": "code",
   "execution_count": 13,
   "outputs": [],
   "source": [
    "model_xgb = load('../../model/XGB_model_lasso.joblib')\n",
    "scores_xgb_ac = []\n",
    "scores_xgb_mcc = []\n",
    "scores_xgb_auc = []\n",
    "scores_xgb_f1 = []\n",
    "scores_xgb_precision = []\n",
    "scores_xgb_recall = []\n",
    "feature_xgb = ['GC_Content', 'CAI', 'A', 'N', 'D', 'H', 'M', 'nSE3', 'nGE3']\n",
    "for i in range(0,16):\n",
    "    train_data, test_data = generate_train_test_dataset(i)\n",
    "    Xs_train,y_train = handle_dataset(train_data)\n",
    "    Xs_test,y_test = handle_dataset(test_data)\n",
    "    X_resampled, y_resampled = rus.fit_resample(Xs_train, y_train)\n",
    "    model_xgb.fit(X_resampled[feature_xgb],y_resampled)\n",
    "    y_predict = model_xgb.predict(Xs_test[feature_xgb])\n",
    "    acc=accuracy_score(y_test, y_predict)\n",
    "    scores_xgb_ac.append(acc)\n",
    "    mcc = matthews_corrcoef(y_test,y_predict)\n",
    "    scores_xgb_mcc.append(mcc)\n",
    "    auc = roc_auc_score(y_test,y_predict)\n",
    "    scores_xgb_auc.append(auc)\n",
    "    f1 = f1_score(y_test,y_predict)\n",
    "    scores_xgb_f1.append(f1)\n",
    "    precision = precision_score(y_test,y_predict)\n",
    "    scores_xgb_precision.append(precision)\n",
    "    recall = recall_score(y_test,y_predict)\n",
    "    scores_xgb_recall.append(recall)"
   ],
   "metadata": {
    "collapsed": false,
    "ExecuteTime": {
     "end_time": "2024-03-11T18:43:17.104364600Z",
     "start_time": "2024-03-11T18:43:12.519259600Z"
    }
   },
   "id": "2f48527b3c9c8ded"
  },
  {
   "cell_type": "code",
   "execution_count": 11,
   "outputs": [
    {
     "name": "stdout",
     "output_type": "stream",
     "text": [
      "[0.8567639257294429, 0.8240165631469979, 0.7075471698113207, 0.889795918367347, 0.8957055214723927, 0.8898305084745762, 0.7554479418886199, 0.9129032258064517, 0.9161849710982659, 0.8969521044992743, 0.9104046242774566, 0.9228650137741047, 0.912718204488778, 0.915, 0.46356275303643724, 0.8679775280898876]\n",
      "0.8461047483725845 0.014152367159188474\n"
     ]
    }
   ],
   "source": [
    "print(scores_xgb_ac)\n",
    "print(statistics.mean(scores_xgb_ac),statistics.variance(scores_xgb_ac))"
   ],
   "metadata": {
    "collapsed": false,
    "ExecuteTime": {
     "end_time": "2024-03-10T16:20:40.596722Z",
     "start_time": "2024-03-10T16:20:40.582768200Z"
    }
   },
   "id": "f1e2dacd62f78e1e"
  },
  {
   "cell_type": "code",
   "execution_count": 23,
   "outputs": [],
   "source": [
    "with open('Lasso_scores.txt', 'w') as file:\n",
    "    file.write(\"scores_mlp_acc:\\n\")\n",
    "    np.savetxt(file,scores_mlp_ac,fmt='%1.6f')\n",
    "    file.write(\"scores_mlp_auc:\\n\")\n",
    "    np.savetxt(file,scores_mlp_auc,fmt='%1.6f')\n",
    "    file.write(\"scores_mlp_mcc:\\n\")\n",
    "    np.savetxt(file,scores_mlp_mcc,fmt='%1.6f')\n",
    "    file.write(\"scores_mlp_f1:\\n\")\n",
    "    np.savetxt(file,scores_mlp_f1,fmt='%1.6f')\n",
    "    file.write(\"scores_mlp_precision:\\n\")\n",
    "    np.savetxt(file,scores_mlp_precision,fmt='%1.6f')\n",
    "    file.write(\"scores_mlp_recall:\\n\")\n",
    "    np.savetxt(file,scores_mlp_recall,fmt='%1.6f')\n",
    "    file.write(\"scores_svm_acc:\\n\")\n",
    "    np.savetxt(file,scores_svm_ac,fmt='%1.6f')\n",
    "    file.write(\"scores_svm_mcc:\\n\")\n",
    "    np.savetxt(file,scores_svm_mcc,fmt='%1.6f')\n",
    "    file.write(\"scores_svm_f1:\\n\")\n",
    "    np.savetxt(file,scores_svm_f1,fmt='%1.6f')\n",
    "    file.write(\"scores_svm_auc:\\n\")\n",
    "    np.savetxt(file,scores_svm_auc,fmt='%1.6f')\n",
    "    file.write(\"scores_svm_precision:\\n\")\n",
    "    np.savetxt(file,scores_svm_precision,fmt='%1.6f')\n",
    "    file.write(\"scores_svm_recall:\\n\")\n",
    "    np.savetxt(file,scores_svm_recall,fmt='%1.6f')\n",
    "    file.write(\"scores_xgb_acc:\\n\")\n",
    "    np.savetxt(file,scores_xgb_ac,fmt='%1.6f')\n",
    "    file.write(\"scores_xgb_auc:\\n\")\n",
    "    np.savetxt(file,scores_xgb_auc,fmt='%1.6f')\n",
    "    file.write(\"scores_xgb_mcc:\\n\")\n",
    "    np.savetxt(file,scores_xgb_mcc,fmt='%1.6f')\n",
    "    file.write(\"scores_xgb_f1:\\n\")\n",
    "    np.savetxt(file,scores_xgb_f1,fmt='%1.6f')\n",
    "    file.write(\"scores_xgb_precision:\\n\")\n",
    "    np.savetxt(file, scores_xgb_precision,fmt='%1.6f')\n",
    "    file.write(\"scores_xgb_recall:\\n\")\n",
    "    np.savetxt(file, scores_xgb_recall,fmt='%1.6f')\n",
    "    file.write(\"scores_nb_acc:\\n\")\n",
    "    np.savetxt(file,scores_nb_ac,fmt='%1.6f')\n",
    "    file.write(\"scores_nb_auc:\\n\")\n",
    "    np.savetxt(file,scores_nb_auc,fmt='%1.6f')\n",
    "    file.write(\"scores_nb_mcc:\\n\")\n",
    "    np.savetxt(file,scores_nb_mcc,fmt='%1.6f')\n",
    "    file.write(\"scores_nb_f1:\\n\")\n",
    "    np.savetxt(file,scores_nb_f1,fmt='%1.6f')\n",
    "    file.write(\"scores_nb_precision:\\n\")\n",
    "    np.savetxt(file,scores_nb_precision,fmt='%1.6f')\n",
    "    file.write(\"scores_nb_recall:\\n\")\n",
    "    np.savetxt(file,scores_nb_recall,fmt='%1.6f')\n",
    "    file.write(\"scores_rf_acc:\\n\")\n",
    "    np.savetxt(file,scores_rf_ac,fmt='%1.6f')\n",
    "    file.write(\"scores_rf_auc:\\n\")\n",
    "    np.savetxt(file,scores_rf_auc,fmt='%1.6f')\n",
    "    file.write(\"scores_rf_mcc:\\n\")\n",
    "    np.savetxt(file,scores_rf_mcc,fmt='%1.6f')\n",
    "    file.write(\"scores_rf_f1:\\n\")\n",
    "    np.savetxt(file,scores_rf_f1,fmt='%1.6f')\n",
    "    file.write(\"scores_rf_precision:\\n\")\n",
    "    np.savetxt(file,scores_rf_precision,fmt='%1.6f')"
   ],
   "metadata": {
    "collapsed": false,
    "ExecuteTime": {
     "end_time": "2024-03-09T01:08:26.834680400Z",
     "start_time": "2024-03-09T01:08:26.811743Z"
    }
   },
   "id": "563921c5156e9dfb"
  },
  {
   "cell_type": "code",
   "execution_count": 24,
   "outputs": [],
   "source": [
    "import csv\n",
    "\n",
    "with open('Lasso.csv', 'w', newline='') as file:\n",
    "    writer = csv.writer(file)\n",
    "    writer.writerow(['ACC','MCC','AUC','F1','Precision', 'Recall'])\n",
    "    writer.writerow([np.mean(scores_mlp_ac),np.mean(scores_mlp_mcc),np.mean(scores_mlp_auc),np.mean(scores_mlp_f1),np.mean(scores_mlp_precision),np.mean(scores_mlp_recall)])\n",
    "    writer.writerow([np.mean(scores_rf_ac),np.mean(scores_rf_mcc),np.mean(scores_rf_auc),np.mean(scores_rf_f1),np.mean(scores_rf_precision),np.mean(scores_rf_recall)])\n",
    "    writer.writerow([np.mean(scores_xgb_ac),np.mean(scores_xgb_mcc),np.mean(scores_xgb_auc),np.mean(scores_xgb_f1),np.mean(scores_xgb_precision),np.mean(scores_xgb_recall)])\n",
    "    writer.writerow([np.mean(scores_nb_ac),np.mean(scores_nb_mcc),np.mean(scores_nb_auc),np.mean(scores_nb_f1),np.mean(scores_nb_precision),np.mean(scores_nb_recall)])"
   ],
   "metadata": {
    "collapsed": false,
    "ExecuteTime": {
     "end_time": "2024-03-09T01:08:28.913583300Z",
     "start_time": "2024-03-09T01:08:28.887646Z"
    }
   },
   "id": "b2de3d77d8600939"
  },
  {
   "cell_type": "code",
   "execution_count": 15,
   "outputs": [
    {
     "name": "stdout",
     "output_type": "stream",
     "text": [
      "0.8113978393860939\n"
     ]
    }
   ],
   "source": [
    "from scipy.stats import ks_2samp\n",
    "p_values = []\n",
    "for i in range(0,16):\n",
    "    train_data, test_data = generate_train_test_dataset(i)\n",
    "    Xs_train,y_train = handle_dataset(train_data)\n",
    "    Xs_test,y_test = handle_dataset(test_data)\n",
    "    X_resampled, y_resampled = rus.fit_resample(Xs_train, y_train)\n",
    "    model_mlp.fit(X_resampled[feature_mlp],y_resampled)\n",
    "    y_predict_mlp = model_mlp.predict(Xs_test[feature_mlp])\n",
    "    model_xgb.fit(X_resampled[feature_xgb],y_resampled)\n",
    "    y_predict_xgb = model_xgb.predict(Xs_test[feature_xgb])\n",
    "    ks_statistic, p_value = ks_2samp(y_predict_mlp,y_predict_xgb)\n",
    "    p_values.append(p_value)\n",
    "print(np.mean(p_values))"
   ],
   "metadata": {
    "collapsed": false,
    "ExecuteTime": {
     "end_time": "2024-03-10T16:22:15.060614100Z",
     "start_time": "2024-03-10T16:22:04.856265100Z"
    }
   },
   "id": "83c4080bab89c37a"
  },
  {
   "cell_type": "code",
   "execution_count": 1,
   "outputs": [],
   "source": [
    "scores_xgb_ac = [0.8567639257294429, 0.8240165631469979, 0.7075471698113207, 0.889795918367347, 0.8957055214723927, 0.8898305084745762, 0.7554479418886199, 0.9129032258064517, 0.9161849710982659, 0.8969521044992743, 0.9104046242774566, 0.9228650137741047, 0.912718204488778, 0.915, 0.46356275303643724, 0.8679775280898876]\n",
    "scores_svm_ac = [0.8514588859416445, 0.8364389233954451, 0.6949685534591195, 0.9346938775510204, 0.8650306748466258, 0.903954802259887, 0.6973365617433414, 0.9225806451612903, 0.6098265895953757, 0.8911465892597968, 0.8930635838150289, 0.9393939393939394, 0.9351620947630923, 0.94, 0.45951417004048584,0.8567415730337079]\n",
    "scores_rf_ac = [0.8806366047745358, 0.8157349896480331, 0.6509433962264151, 0.9836734693877551, 0.8466257668711656, 0.9180790960451978, 0.7094430992736077, 0.9419354838709677, 0.48554913294797686, 0.8243831640058055, 0.8005780346820809, 0.953168044077135, 0.9900249376558603, 0.9725, 0.5546558704453441, 0.851123595505618]\n",
    "scores_mlp_ac = [0.8355437665782494, 0.8136645962732919, 0.7767295597484277, 0.9510204081632653, 0.901840490797546, 0.8870056497175142, 0.6537530266343826, 0.9225806451612903, 0.9190751445086706, 0.9056603773584906, 0.9161849710982659, 0.9338842975206612, 0.9301745635910225, 0.9575, 0.46963562753036436, 0.8146067415730337]\n",
    "scores_nb_ac = [0.8275862068965517, 0.8240165631469979, 0.6352201257861635, 0.9551020408163265, 0.8588957055214724, 0.8954802259887006, 0.6900726392251816, 0.9354838709677419, 0.6011560693641619, 0.8026124818577649, 0.7832369942196532, 0.9449035812672176, 0.9526184538653366, 0.97, 0.48785425101214575, 0.8370786516853933]"
   ],
   "metadata": {
    "collapsed": false,
    "ExecuteTime": {
     "end_time": "2024-03-11T18:31:37.411799100Z",
     "start_time": "2024-03-11T18:31:37.379783100Z"
    }
   },
   "id": "1a57d6edea6c802e"
  },
  {
   "cell_type": "code",
   "execution_count": 14,
   "outputs": [],
   "source": [
    "import numpy as np\n",
    "def generateString(scores):\n",
    "    mean_score = round(np.mean(scores),4)\n",
    "    var_score = round(np.var(scores),4)\n",
    "    return f'{mean_score}±{var_score}'\n",
    "import csv\n",
    "with open('lassoF.csv', 'w', newline='') as file:\n",
    "    writer = csv.writer(file)\n",
    "    writer.writerow(['Type','ACC','MCC','AUC','F1','Precision', 'Recall'])\n",
    "    writer.writerow(['XGB',generateString(scores_xgb_ac),generateString(scores_xgb_mcc),generateString(scores_xgb_auc),generateString(scores_xgb_f1),generateString(scores_xgb_precision),generateString(scores_xgb_recall)])\n",
    "    writer.writerow(['SVM',generateString(scores_svm_ac),generateString(scores_svm_mcc),generateString(scores_svm_auc),generateString(scores_svm_f1),generateString(scores_svm_precision),generateString(scores_svm_recall)])\n",
    "    writer.writerow(['MLP',generateString(scores_mlp_ac),generateString(scores_mlp_mcc),generateString(scores_mlp_auc),generateString(scores_mlp_f1),generateString(scores_mlp_precision),generateString(scores_mlp_recall)])\n",
    "    writer.writerow(['RF',generateString(scores_rf_ac),generateString(scores_rf_mcc),generateString(scores_rf_auc),generateString(scores_rf_f1),generateString(scores_rf_precision),generateString(scores_rf_recall)])\n",
    "    writer.writerow(['NB',generateString(scores_nb_ac),generateString(scores_nb_mcc),generateString(scores_nb_auc),generateString(scores_nb_f1),generateString(scores_nb_precision),generateString(scores_nb_recall)])"
   ],
   "metadata": {
    "collapsed": false,
    "ExecuteTime": {
     "end_time": "2024-03-11T18:43:25.395636500Z",
     "start_time": "2024-03-11T18:43:25.358577900Z"
    }
   },
   "id": "7f8774ca0eeaf581"
  },
  {
   "cell_type": "code",
   "execution_count": 9,
   "outputs": [
    {
     "data": {
      "text/plain": "<Figure size 432x288 with 1 Axes>",
      "image/png": "[encoded data removed]"
     },
     "metadata": {
      "needs_background": "light"
     },
     "output_type": "display_data"
    }
   ],
   "source": [
    "from matplotlib import pyplot as plt\n",
    "\n",
    "x = [\"ma\", \"map\", \"marth\", \"mcap\", \"mcon\", \"mcro\", \"mgal\", \"mhom\", \"mhyoJ\", \"mhyo232\", \"mhyo7448\", \"mm163K\", \"mms\", \"mpHF\", \"mpM\", \"ms53\"]\n",
    "plt.plot(x, scores_xgb_ac, label='XGBoost')\n",
    "plt.plot(x, scores_svm_ac, label='SVM')\n",
    "plt.plot(x, scores_mlp_ac, label='MLP')\n",
    "plt.plot(x, scores_rf_ac, label='Random Forest')\n",
    "plt.plot(x,scores_nb_ac,label = 'GaussianNB')\n",
    "\n",
    "# 添加图例\n",
    "plt.legend()\n",
    "\n",
    "# 添加标题和轴标签\n",
    "plt.title('Accuracy for Different Test Mycoplosma after Lasso')\n",
    "plt.xlabel('Test Dataset')\n",
    "plt.ylabel('Accuracy')\n",
    "plt.xticks(rotation=25)\n",
    "# 显示图形\n",
    "plt.grid(True)\n",
    "plt.savefig('../ACC_Lasso.jpg')\n",
    "plt.show()"
   ],
   "metadata": {
    "collapsed": false,
    "ExecuteTime": {
     "end_time": "2024-03-11T14:56:21.024030400Z",
     "start_time": "2024-03-11T14:56:20.496475500Z"
    }
   },
   "id": "df32fd711561945"
  },
  {
   "cell_type": "code",
   "execution_count": null,
   "outputs": [],
   "source": [],
   "metadata": {
    "collapsed": false
   },
   "id": "4212499da5ae1558"
  }
 ],
 "metadata": {
  "kernelspec": {
   "display_name": "Python 3",
   "language": "python",
   "name": "python3"
  },
  "language_info": {
   "codemirror_mode": {
    "name": "ipython",
    "version": 2
   },
   "file_extension": ".py",
   "mimetype": "text/x-python",
   "name": "python",
   "nbconvert_exporter": "python",
   "pygments_lexer": "ipython2",
   "version": "2.7.6"
  }
 },
 "nbformat": 4,
 "nbformat_minor": 5
}
