{
 "cells": [
  {
   "cell_type": "code",
   "execution_count": 1,
   "id": "initial_id",
   "metadata": {
    "collapsed": true,
    "ExecuteTime": {
     "end_time": "2024-03-10T15:47:53.172604400Z",
     "start_time": "2024-03-10T15:47:50.840560800Z"
    }
   },
   "outputs": [],
   "source": [
    "import pandas as pd\n",
    "from sklearn.metrics import make_scorer, balanced_accuracy_score\n",
    "from sklearn.model_selection import cross_val_score\n",
    "from sklearn.ensemble import RandomForestClassifier\n",
    "from hyperopt import hp\n",
    "import numpy as np\n",
    "from hyperopt import Trials, tpe, fmin\n",
    "import warnings\n",
    "from imblearn.under_sampling import RandomUnderSampler\n",
    "from sklearn.svm import SVC\n",
    "from sklearn.feature_selection import RFECV\n",
    "from sklearn.feature_selection import SelectKBest, mutual_info_classif\n",
    "from nbimporter import NotebookLoader\n",
    "\n",
    "warnings.filterwarnings(\"ignore\")"
   ]
  },
  {
   "cell_type": "code",
   "execution_count": 2,
   "outputs": [],
   "source": [
    "ma = pd.read_csv(\"../16 Mycoplosma/ma.csv\")\n",
    "map = pd.read_csv(\"../16 Mycoplosma/map.csv\")\n",
    "marth = pd.read_csv(\"../16 Mycoplosma/marth.csv\")\n",
    "mcap = pd.read_csv(\"../16 Mycoplosma/mcap.csv\")\n",
    "mcon = pd.read_csv(\"../16 Mycoplosma/mcon.csv\")\n",
    "mcro = pd.read_csv(\"../16 Mycoplosma/mcro.csv\")\n",
    "mgal = pd.read_csv(\"../16 Mycoplosma/mgal.csv\")\n",
    "mhom = pd.read_csv(\"../16 Mycoplosma/mhom.csv\")\n",
    "mhyoJ = pd.read_csv(\"../16 Mycoplosma/mhyoJ.csv\")\n",
    "mhyo232 = pd.read_csv(\"../16 Mycoplosma/mhyo232.csv\")\n",
    "mhyo7448 = pd.read_csv(\"../16 Mycoplosma/mhyo7448.csv\")\n",
    "mm163K = pd.read_csv(\"../16 Mycoplosma/mm163K.csv\")\n",
    "mms = pd.read_csv(\"../16 Mycoplosma/mms.csv\")\n",
    "mpHF = pd.read_csv(\"../16 Mycoplosma/mpHF.csv\")\n",
    "mpM = pd.read_csv(\"../16 Mycoplosma/mpM.csv\")\n",
    "ms53 = pd.read_csv(\"../16 Mycoplosma/ms53.csv\")"
   ],
   "metadata": {
    "collapsed": false,
    "ExecuteTime": {
     "end_time": "2024-03-10T15:48:12.028209700Z",
     "start_time": "2024-03-10T15:48:11.804583Z"
    }
   },
   "id": "1b6ba68f7118a51"
  },
  {
   "cell_type": "code",
   "execution_count": 3,
   "outputs": [],
   "source": [
    "def generate_train_test_dataset(index):\n",
    "    dataset_names = [ma, map, marth, mcap, mcon, mcro, mgal, mhom, mhyoJ, mhyo232, mhyo7448, mm163K, mms, mpHF, mpM, ms53]\n",
    "    merged_train = dataset_names[:index]+dataset_names[index+1:]\n",
    "    train_data = pd.concat(merged_train)\n",
    "    test_data = dataset_names[index]\n",
    "    return train_data,test_data"
   ],
   "metadata": {
    "collapsed": false,
    "ExecuteTime": {
     "end_time": "2024-03-10T15:48:12.304295700Z",
     "start_time": "2024-03-10T15:48:12.289112700Z"
    }
   },
   "id": "2b976e80eff11ec6"
  },
  {
   "cell_type": "code",
   "execution_count": 4,
   "outputs": [],
   "source": [
    "def handle_dataset(dataset):\n",
    "    columns_to_drop = ['identity','name', 'Amino acid', 'protein_sequence', 'essentiality']\n",
    "    Xs = dataset.drop(columns = columns_to_drop)\n",
    "    y = dataset['essentiality']\n",
    "    return Xs,y"
   ],
   "metadata": {
    "collapsed": false,
    "ExecuteTime": {
     "end_time": "2024-03-10T15:48:12.872742Z",
     "start_time": "2024-03-10T15:48:12.859777400Z"
    }
   },
   "id": "85be72e44735b274"
  },
  {
   "cell_type": "code",
   "execution_count": 5,
   "outputs": [],
   "source": [
    "rus = RandomUnderSampler(sampling_strategy='auto', random_state=42)"
   ],
   "metadata": {
    "collapsed": false,
    "ExecuteTime": {
     "end_time": "2024-03-10T15:48:14.389880900Z",
     "start_time": "2024-03-10T15:48:14.379462800Z"
    }
   },
   "id": "92f2bd53c65db613"
  },
  {
   "cell_type": "code",
   "execution_count": 6,
   "outputs": [],
   "source": [
    "from sklearn.linear_model import LassoCV\n",
    "\n",
    "lassoCV = LassoCV(cv=20,random_state=10)\n",
    "all_feature_names = [\"GC_Content\",\"CAI\",\"A\",\"R\",\"N\",\"D\",\"C\",\"Q\",\"E\",\"G\",\"H\",\"I\",\"L\",\"K\",\"M\",\"F\",\"P\",\"S\",\"T\",\"W\",\"Y\",\"V\",\"nSE2\",\"nSE3\",\"nGE2\",\"nGE3\"]"
   ],
   "metadata": {
    "collapsed": false,
    "ExecuteTime": {
     "end_time": "2024-03-10T15:48:15.204116500Z",
     "start_time": "2024-03-10T15:48:15.183316300Z"
    }
   },
   "id": "d9658a1443eba766"
  },
  {
   "cell_type": "code",
   "execution_count": 7,
   "outputs": [],
   "source": [
    "space = {\n",
    "    'C': hp.loguniform('C', -5, 2),  # 正则化参数 C\n",
    "    'degree': hp.quniform('degree', 2, 5, 1),  # 多项式核的次数\n",
    "    'gamma': hp.choice('gamma', ['auto', 'scale', hp.loguniform('gamma_val', -5, 2)])  # 核函数的系数\n",
    "}"
   ],
   "metadata": {
    "collapsed": false,
    "ExecuteTime": {
     "end_time": "2024-03-10T15:48:41.837290400Z",
     "start_time": "2024-03-10T15:48:41.816692900Z"
    }
   },
   "id": "22d663b303007756"
  },
  {
   "cell_type": "code",
   "execution_count": 8,
   "outputs": [],
   "source": [
    "\n",
    "from sklearn.metrics import accuracy_score\n",
    "\n",
    "def svm_ac_cv(params):\n",
    "    model = SVC(C = params[\"C\"],kernel =\"linear\", degree = int(params[\"degree\"]), gamma = params[\"gamma\"])\n",
    "    scorer = make_scorer(accuracy_score)\n",
    "    score = -cross_val_score(model, X_resampled, y_resampled, cv=5,scoring=scorer ).mean()\n",
    "    return score\n"
   ],
   "metadata": {
    "collapsed": false,
    "ExecuteTime": {
     "end_time": "2024-03-10T15:49:03.947265500Z",
     "start_time": "2024-03-10T15:49:03.919824Z"
    }
   },
   "id": "c7ff8a5d6e235794"
  },
  {
   "cell_type": "code",
   "execution_count": 9,
   "outputs": [
    {
     "name": "stdout",
     "output_type": "stream",
     "text": [
      "100%|██████████| 10/10 [00:00<00:00, 10.87trial/s, best loss: -0.850728554641598]\n",
      "0.8885941644562334\n",
      "100%|██████████| 10/10 [00:00<00:00, 11.31trial/s, best loss: -0.8692307692307691]\n",
      "0.855072463768116\n",
      "100%|██████████| 10/10 [00:00<00:00, 10.29trial/s, best loss: -0.8540448287632267]\n",
      "0.7327044025157232\n",
      "100%|██████████| 10/10 [00:00<00:00, 10.22trial/s, best loss: -0.8520271353026013]\n",
      "0.9224489795918367\n",
      "100%|██████████| 10/10 [00:00<00:00, 10.83trial/s, best loss: -0.8498476223333908]\n",
      "0.8957055214723927\n",
      "100%|██████████| 10/10 [00:00<00:00, 11.00trial/s, best loss: -0.8508909479686387]\n",
      "0.903954802259887\n",
      "100%|██████████| 10/10 [00:00<00:00, 10.63trial/s, best loss: -0.8561339600470035]\n",
      "0.7627118644067796\n",
      "100%|██████████| 10/10 [00:00<00:00, 11.05trial/s, best loss: -0.8531021792881376]\n",
      "0.9258064516129032\n",
      "100%|██████████| 10/10 [00:00<00:00, 10.75trial/s, best loss: -0.8743201729434519]\n",
      "0.6791907514450867\n",
      "100%|██████████| 10/10 [00:00<00:00, 11.26trial/s, best loss: -0.842596077955194]\n",
      "0.888243831640058\n",
      "100%|██████████| 10/10 [00:00<00:00, 10.34trial/s, best loss: -0.8626066674251904]\n",
      "0.8872832369942196\n",
      "100%|██████████| 10/10 [00:01<00:00,  7.74trial/s, best loss: -0.8553734379540832]\n",
      "0.9504132231404959\n",
      "100%|██████████| 10/10 [00:01<00:00,  5.74trial/s, best loss: -0.853125]\n",
      "0.942643391521197\n",
      "100%|██████████| 10/10 [00:01<00:00,  7.36trial/s, best loss: -0.8547368421052631]\n",
      "0.9425\n",
      "100%|██████████| 10/10 [00:00<00:00, 15.67trial/s, best loss: -0.8321428571428571]\n",
      "0.5566801619433198\n"
     ]
    }
   ],
   "source": [
    "from joblib import load\n",
    "from sklearn.feature_selection import RFE\n",
    "\n",
    "scores = []\n",
    "score = 0\n",
    "models = []\n",
    "model_svm_fs = load(\"../../model/SVM_model.joblib\")\n",
    "for i in range(0,15):\n",
    "    train_data, test_data = generate_train_test_dataset(i)\n",
    "    Xs_train,y_train = handle_dataset(train_data)\n",
    "    Xs_test,y_test = handle_dataset(test_data)\n",
    "    rus = RandomUnderSampler(sampling_strategy='auto', random_state=42)\n",
    "    X_resampled, y_resampled = rus.fit_resample(Xs_train, y_train)\n",
    "    rfe = RFE(model_svm_fs, n_features_to_select=20)\n",
    "    rfe.fit(X_resampled, y_resampled)\n",
    "    X_resampled = rfe.transform(X_resampled)  # For training data\n",
    "    Xs_test = rfe.transform(Xs_test)  # For testing data\n",
    "    lassoCV.fit(X_resampled,y_resampled)\n",
    "    selected_features = [feature for feature, coef in zip(all_feature_names, lassoCV.coef_) if coef !=0]\n",
    "    trials = Trials()\n",
    "    selected_feature_indices = [all_feature_names.index(feature) for feature in selected_features]\n",
    "    X_resampled = X_resampled[:, selected_feature_indices]\n",
    "    Xs_test = Xs_test[:,selected_feature_indices]\n",
    "    params=fmin(fn=svm_ac_cv, # function to optimize\n",
    "              space=space, \n",
    "              algo=tpe.suggest, # optimization algorithm, hyperotp will select its parameters automatically\n",
    "              max_evals=10, # maximum number of iterations\n",
    "              trials=trials, # logging\n",
    "              rstate=np.random.default_rng(42) # fixing random state for the reproducibility\n",
    "    )\n",
    "    model = SVC(C = params[\"C\"],kernel =\"linear\", degree = int(params[\"degree\"]), gamma = params[\"gamma\"])\n",
    "    models.append(model)\n",
    "    model.fit(X_resampled,y_resampled)\n",
    "    tpe_test_score=accuracy_score(y_test, model.predict(Xs_test))\n",
    "    scores.append(tpe_test_score)\n",
    "    print(tpe_test_score)\n",
    "    if score < tpe_test_score:\n",
    "        score = tpe_test_score\n",
    "        best_model = model"
   ],
   "metadata": {
    "collapsed": false,
    "ExecuteTime": {
     "end_time": "2024-03-10T15:58:03.139701800Z",
     "start_time": "2024-03-10T15:50:01.766516500Z"
    }
   },
   "id": "a4984ad66d0e4611"
  },
  {
   "cell_type": "code",
   "execution_count": 10,
   "outputs": [
    {
     "name": "stdout",
     "output_type": "stream",
     "text": [
      "0.9504132231404959\n"
     ]
    }
   ],
   "source": [
    "print(score)"
   ],
   "metadata": {
    "collapsed": false,
    "ExecuteTime": {
     "end_time": "2024-03-10T15:58:34.531696900Z",
     "start_time": "2024-03-10T15:58:34.513860300Z"
    }
   },
   "id": "e43a528bd5c9a2de"
  },
  {
   "cell_type": "code",
   "execution_count": 11,
   "outputs": [
    {
     "name": "stdout",
     "output_type": "stream",
     "text": [
      "[ 1  2  3  4  5  6  7  8  9 10 11 12 13 14 15 16 18 19 21 22]\n",
      "Selected feature RFE: ['GC_Content', 'CAI', 'A', 'R', 'N', 'D', 'C', 'Q', 'E', 'G', 'H', 'I', 'L', 'K', 'M', 'F', 'S', 'T', 'Y', 'V']\n",
      "Selected feature Lasso: ['GC_Content', 'CAI', 'A', 'R', 'N', 'D', 'E', 'G', 'H', 'K', 'M', 'F', 'S', 'T', 'Y', 'V']\n"
     ]
    }
   ],
   "source": [
    "train_data, test_data = generate_train_test_dataset(12)\n",
    "Xs_train,y_train = handle_dataset(train_data)\n",
    "X_resampled, y_resampled = rus.fit_resample(Xs_train, y_train)\n",
    "rfe = RFE(model_svm_fs, n_features_to_select=20)\n",
    "rfe.fit(X_resampled, y_resampled)\n",
    "X_resampled = rfe.transform(X_resampled)\n",
    "lassoCV.fit(X_resampled,y_resampled)\n",
    "selected_feature_indices = rfe.get_support(indices=True)\n",
    "print(selected_feature_indices)\n",
    "selected_feature_names = [all_feature_names[index-1] for index in selected_feature_indices]\n",
    "selected_features = [feature for feature, coef in zip(selected_feature_names, lassoCV.coef_) if coef !=0]\n",
    "print(\"Selected feature RFE:\", selected_feature_names)\n",
    "print(\"Selected feature Lasso:\", selected_features)"
   ],
   "metadata": {
    "collapsed": false,
    "ExecuteTime": {
     "end_time": "2024-03-10T15:59:19.074510100Z",
     "start_time": "2024-03-10T15:58:51.532391100Z"
    }
   },
   "id": "9c57feeb8ae31484"
  },
  {
   "cell_type": "code",
   "execution_count": 12,
   "outputs": [
    {
     "data": {
      "text/plain": "['../../model/SVM_model_FSS.joblib']"
     },
     "execution_count": 12,
     "metadata": {},
     "output_type": "execute_result"
    }
   ],
   "source": [
    "from joblib import dump\n",
    "\n",
    "dump(best_model, '../../model/SVM_model_FSS.joblib')"
   ],
   "metadata": {
    "collapsed": false,
    "ExecuteTime": {
     "end_time": "2024-03-10T15:59:25.697767500Z",
     "start_time": "2024-03-10T15:59:25.672157200Z"
    }
   },
   "id": "51884e5d0d475ce0"
  },
  {
   "cell_type": "code",
   "execution_count": 12,
   "outputs": [
    {
     "name": "stdout",
     "output_type": "stream",
     "text": [
      "['GC_Content', 'CAI', 'A', 'N', 'D', 'H', 'M', 'nSE3', 'nGE3']\n"
     ]
    }
   ],
   "source": [
    "train_data, test_data = generate_train_test_dataset(12)\n",
    "Xs_train,y_train = handle_dataset(train_data)\n",
    "Xs_test,y_test = handle_dataset(test_data)\n",
    "rus = RandomUnderSampler(sampling_strategy='auto', random_state=42)\n",
    "X_resampled, y_resampled = rus.fit_resample(Xs_train, y_train)\n",
    "lassoCV.fit(X_resampled,y_resampled)\n",
    "selected_features = [feature for feature, coef in zip(all_feature_names, lassoCV.coef_) if coef !=0]\n",
    "print(selected_features)"
   ],
   "metadata": {
    "collapsed": false,
    "ExecuteTime": {
     "end_time": "2024-03-09T00:50:13.666779600Z",
     "start_time": "2024-03-09T00:50:13.364098900Z"
    }
   },
   "id": "eb6d41c0568087b3"
  },
  {
   "cell_type": "code",
   "execution_count": null,
   "outputs": [],
   "source": [],
   "metadata": {
    "collapsed": false
   },
   "id": "4a82d07e82c412db"
  }
 ],
 "metadata": {
  "kernelspec": {
   "display_name": "Python 3",
   "language": "python",
   "name": "python3"
  },
  "language_info": {
   "codemirror_mode": {
    "name": "ipython",
    "version": 2
   },
   "file_extension": ".py",
   "mimetype": "text/x-python",
   "name": "python",
   "nbconvert_exporter": "python",
   "pygments_lexer": "ipython2",
   "version": "2.7.6"
  }
 },
 "nbformat": 4,
 "nbformat_minor": 5
}
