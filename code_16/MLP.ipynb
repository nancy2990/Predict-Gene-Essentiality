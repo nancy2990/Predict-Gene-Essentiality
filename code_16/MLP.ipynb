{
 "cells": [
  {
   "cell_type": "code",
   "execution_count": 2,
   "id": "initial_id",
   "metadata": {
    "collapsed": true,
    "ExecuteTime": {
     "end_time": "2024-02-26T23:17:26.751986800Z",
     "start_time": "2024-02-26T23:17:26.528270300Z"
    }
   },
   "outputs": [],
   "source": [
    "import pandas as pd\n",
    "from sklearn.metrics import make_scorer, balanced_accuracy_score\n",
    "from sklearn.model_selection import cross_val_score\n",
    "from sklearn.ensemble import RandomForestClassifier\n",
    "from hyperopt import hp\n",
    "import numpy as np\n",
    "from hyperopt import Trials, tpe, fmin\n",
    "from imblearn.under_sampling import RandomUnderSampler\n",
    "from sklearn.neural_network import MLPClassifier\n"
   ]
  },
  {
   "cell_type": "code",
   "execution_count": 3,
   "outputs": [],
   "source": [
    "ma = pd.read_csv(\"../16 Mycoplosma/ma.csv\")\n",
    "map = pd.read_csv(\"../16 Mycoplosma/map.csv\")\n",
    "marth = pd.read_csv(\"../16 Mycoplosma/marth.csv\")\n",
    "mcap = pd.read_csv(\"../16 Mycoplosma/mcap.csv\")\n",
    "mcon = pd.read_csv(\"../16 Mycoplosma/mcon.csv\")\n",
    "mcro = pd.read_csv(\"../16 Mycoplosma/mcro.csv\")\n",
    "mgal = pd.read_csv(\"../16 Mycoplosma/mgal.csv\")\n",
    "mhom = pd.read_csv(\"../16 Mycoplosma/mhom.csv\")\n",
    "mhyoJ = pd.read_csv(\"../16 Mycoplosma/mhyoJ.csv\")\n",
    "mhyo232 = pd.read_csv(\"../16 Mycoplosma/mhyo232.csv\")\n",
    "mhyo7448 = pd.read_csv(\"../16 Mycoplosma/mhyo7448.csv\")\n",
    "mm163K = pd.read_csv(\"../16 Mycoplosma/mm163K.csv\")\n",
    "mms = pd.read_csv(\"../16 Mycoplosma/mms.csv\")\n",
    "mpHF = pd.read_csv(\"../16 Mycoplosma/mpHF.csv\")\n",
    "mpM = pd.read_csv(\"../16 Mycoplosma/mpM.csv\")\n",
    "ms53 = pd.read_csv(\"../16 Mycoplosma/ms53.csv\")"
   ],
   "metadata": {
    "collapsed": false,
    "ExecuteTime": {
     "end_time": "2024-02-26T23:17:29.126791600Z",
     "start_time": "2024-02-26T23:17:28.906215500Z"
    }
   },
   "id": "fb7b457e32d9d469"
  },
  {
   "cell_type": "code",
   "execution_count": 4,
   "outputs": [],
   "source": [
    "def generate_train_test_dataset(index):\n",
    "    dataset_names = [ma, map, marth, mcap, mcon, mcro, mgal, mhom, mhyoJ, mhyo232, mhyo7448, mm163K, mms, mpHF, mpM, ms53]\n",
    "    merged_train = dataset_names[:index]+dataset_names[index+1:]\n",
    "    train_data = pd.concat(merged_train)\n",
    "    test_data = dataset_names[index]\n",
    "    return train_data,test_data"
   ],
   "metadata": {
    "collapsed": false,
    "ExecuteTime": {
     "end_time": "2024-02-26T23:17:30.889945700Z",
     "start_time": "2024-02-26T23:17:30.863057800Z"
    }
   },
   "id": "4af6836f3f4cd3c9"
  },
  {
   "cell_type": "code",
   "execution_count": 5,
   "outputs": [],
   "source": [
    "train_data , test_data = generate_train_test_dataset(0)"
   ],
   "metadata": {
    "collapsed": false,
    "ExecuteTime": {
     "end_time": "2024-02-26T18:46:43.052289900Z",
     "start_time": "2024-02-26T18:46:43.023509Z"
    }
   },
   "id": "709bff4b11c3f9a9"
  },
  {
   "cell_type": "code",
   "execution_count": 9,
   "outputs": [],
   "source": [
    "def handle_dataset(dataset):\n",
    "    columns_to_drop = ['identity','name', 'Amino acid', 'protein_sequence', 'essentiality']\n",
    "    Xs = dataset.drop(columns = columns_to_drop)\n",
    "    y = dataset['essentiality']\n",
    "    return Xs,y"
   ],
   "metadata": {
    "collapsed": false,
    "ExecuteTime": {
     "end_time": "2024-02-26T23:18:13.384341Z",
     "start_time": "2024-02-26T23:18:13.355359100Z"
    }
   },
   "id": "6a1c23ca5328b750"
  },
  {
   "cell_type": "code",
   "execution_count": 6,
   "outputs": [],
   "source": [
    "Xs_train,y_train = handle_dataset(train_data)\n",
    "Xs_test,y_test = handle_dataset(test_data)"
   ],
   "metadata": {
    "collapsed": false,
    "ExecuteTime": {
     "end_time": "2024-02-26T18:46:45.655446600Z",
     "start_time": "2024-02-26T18:46:45.623230100Z"
    }
   },
   "id": "f8a93ff3172c6df8"
  },
  {
   "cell_type": "code",
   "execution_count": 7,
   "outputs": [],
   "source": [
    "rus = RandomUnderSampler(sampling_strategy='auto', random_state=42)\n",
    "X_resampled, y_resampled = rus.fit_resample(Xs_train, y_train)"
   ],
   "metadata": {
    "collapsed": false,
    "ExecuteTime": {
     "end_time": "2024-02-26T18:49:53.452018900Z",
     "start_time": "2024-02-26T18:49:53.266504200Z"
    }
   },
   "id": "5d00c5586a16f11f"
  },
  {
   "cell_type": "code",
   "execution_count": 5,
   "outputs": [],
   "source": [
    "def mlp_bca_cv(args):\n",
    "    scorer = make_scorer(balanced_accuracy_score)\n",
    "    model = MLPClassifier(hidden_layer_sizes=(int(args['layer_size']),),                         max_iter=int(args['max_iter']),\n",
    "                        alpha=args['alpha'], tol=1e-4, \n",
    "                        random_state=1, activation=args['activation'], \n",
    "                        learning_rate_init=args['learning_rate']\n",
    "                       )\n",
    "    score = -cross_val_score(model, X_resampled, y_resampled, cv=5,scoring=scorer ).mean()\n",
    "    return score"
   ],
   "metadata": {
    "collapsed": false,
    "ExecuteTime": {
     "end_time": "2024-02-26T23:17:36.798478Z",
     "start_time": "2024-02-26T23:17:36.760938700Z"
    }
   },
   "id": "5ffb9faeabdf9977"
  },
  {
   "cell_type": "code",
   "execution_count": 25,
   "outputs": [],
   "source": [
    "def mlp_bca_cv_2(args):\n",
    "    scorer = make_scorer(balanced_accuracy_score)\n",
    "    model = MLPClassifier(hidden_layer_sizes=(int(args['layer_size']),),                         max_iter=int(args['max_iter']),\n",
    "                        alpha=args['alpha'], tol=1e-4, \n",
    "                        random_state=1, activation=args['activation'], \n",
    "                        learning_rate_init=args['learning_rate']\n",
    "                       )\n",
    "    score = -cross_val_score(model, Xs_train, y_train, cv=5,scoring=scorer ).mean()\n",
    "    return score"
   ],
   "metadata": {
    "collapsed": false,
    "ExecuteTime": {
     "end_time": "2024-02-26T20:27:48.116307Z",
     "start_time": "2024-02-26T20:27:48.073474Z"
    }
   },
   "id": "403381cc40d439d1"
  },
  {
   "cell_type": "code",
   "execution_count": 6,
   "outputs": [],
   "source": [
    "space = {'layer_size':hp.quniform('layer_size', 25, 300, 1),\n",
    "         'alpha':hp.lognormal('alpha', mu=np.log(1e-4), sigma=1),\n",
    "         'activation':hp.choice('activation', ['logistic', 'tanh', 'relu']),\n",
    "         'max_iter': hp.quniform('max_iter', 100, 3000, 100),\n",
    "         'learning_rate':hp.loguniform('learning_rate', low=np.log(1e-4), high=np.log(1.)),\n",
    "        }"
   ],
   "metadata": {
    "collapsed": false,
    "ExecuteTime": {
     "end_time": "2024-02-26T23:17:43.044694400Z",
     "start_time": "2024-02-26T23:17:43.001777100Z"
    }
   },
   "id": "633df9e2354340e3"
  },
  {
   "cell_type": "code",
   "execution_count": 7,
   "outputs": [],
   "source": [
    "import warnings\n",
    "warnings.filterwarnings(\"ignore\")\n",
    "trials = Trials()"
   ],
   "metadata": {
    "collapsed": false,
    "ExecuteTime": {
     "end_time": "2024-02-26T23:17:55.749081Z",
     "start_time": "2024-02-26T23:17:55.725407900Z"
    }
   },
   "id": "4119de92f2014d49"
  },
  {
   "cell_type": "code",
   "execution_count": 36,
   "outputs": [
    {
     "name": "stdout",
     "output_type": "stream",
     "text": [
      "100%|██████████| 100/100 [05:05<00:00,  3.05s/trial, best loss: -0.7913160355306218]\n"
     ]
    }
   ],
   "source": [
    "\n",
    "best=fmin(fn=mlp_bca_cv, # function to optimize\n",
    "          space=space, \n",
    "          algo=tpe.suggest, # optimization algorithm, hyperotp will select its parameters automatically\n",
    "          max_evals=100, # maximum number of iterations\n",
    "          trials=trials, # logging\n",
    "          rstate=np.random.default_rng(1) # fixing random state for the reproducibility\n",
    "         )\n"
   ],
   "metadata": {
    "collapsed": false,
    "ExecuteTime": {
     "end_time": "2024-02-26T20:57:29.197993300Z",
     "start_time": "2024-02-26T20:52:24.121674400Z"
    }
   },
   "id": "ce1c3676c7bd0a3e"
  },
  {
   "cell_type": "code",
   "execution_count": 37,
   "outputs": [
    {
     "data": {
      "text/plain": "{'activation': 1,\n 'alpha': 0.031462537249946146,\n 'layer_size': 73.0,\n 'learning_rate': 0.0005684316445598827,\n 'max_iter': 2700.0}"
     },
     "execution_count": 37,
     "metadata": {},
     "output_type": "execute_result"
    }
   ],
   "source": [
    "best"
   ],
   "metadata": {
    "collapsed": false,
    "ExecuteTime": {
     "end_time": "2024-02-26T21:01:22.704326800Z",
     "start_time": "2024-02-26T21:01:22.681738800Z"
    }
   },
   "id": "b1cda573b467b397"
  },
  {
   "cell_type": "code",
   "execution_count": 20,
   "outputs": [
    {
     "name": "stdout",
     "output_type": "stream",
     "text": [
      "100%|██████████| 100/100 [02:31<00:00,  1.51s/trial, best loss: -0.5040690156780345]\n"
     ]
    }
   ],
   "source": [
    "trials = Trials()\n",
    "best2=fmin(fn=mlp_bca_cv_2, # function to optimize\n",
    "          space=space, \n",
    "          algo=tpe.suggest, # optimization algorithm, hyperotp will select its parameters automatically\n",
    "          max_evals=100, # maximum number of iterations\n",
    "          trials=trials, # logging\n",
    "          rstate=np.random.default_rng(42) # fixing random state for the reproducibility\n",
    "         )"
   ],
   "metadata": {
    "collapsed": false,
    "ExecuteTime": {
     "end_time": "2024-02-26T20:20:29.148412600Z",
     "start_time": "2024-02-26T20:17:57.842042100Z"
    }
   },
   "id": "5d67550fa05f6267"
  },
  {
   "cell_type": "code",
   "execution_count": 39,
   "outputs": [
    {
     "name": "stdout",
     "output_type": "stream",
     "text": [
      "0.884180790960452\n"
     ]
    }
   ],
   "source": [
    "best_model = MLPClassifier(hidden_layer_sizes=73,                            max_iter=2700,alpha=0.031462537249946146, tol=1e-4,  random_state=1, activation='tanh', learning_rate_init=0.0005684316445598827)\n",
    "best_model.fit(X_resampled,y_resampled)\n",
    "tpe_test_score=balanced_accuracy_score(y_test, best_model.predict(Xs_test))\n",
    "print(tpe_test_score)"
   ],
   "metadata": {
    "collapsed": false,
    "ExecuteTime": {
     "end_time": "2024-02-26T21:07:23.265385700Z",
     "start_time": "2024-02-26T21:07:21.502981600Z"
    }
   },
   "id": "192b14cbae746c55"
  },
  {
   "cell_type": "code",
   "execution_count": 40,
   "outputs": [],
   "source": [
    "from matplotlib import pyplot as plt\n",
    "from sklearn.feature_selection import SelectKBest, mutual_info_classif\n",
    "\n",
    "#feature selection\n",
    "#RFE\n",
    "score = []\n",
    "scorer = make_scorer(balanced_accuracy_score)\n",
    "for i in range(26,5,-1):\n",
    "\tX_mutual = SelectKBest(score_func=mutual_info_classif, k=i).fit_transform(X_resampled, y_resampled)\n",
    "\tonce = cross_val_score(best_model, X_mutual, y_resampled, cv=10,scoring=scorer)\n",
    "\tscore.append(once.mean())\n"
   ],
   "metadata": {
    "collapsed": false,
    "ExecuteTime": {
     "end_time": "2024-02-26T21:12:34.513494400Z",
     "start_time": "2024-02-26T21:07:59.451141500Z"
    }
   },
   "id": "ffda5e1a077cc371"
  },
  {
   "cell_type": "code",
   "execution_count": 41,
   "outputs": [
    {
     "data": {
      "text/plain": "<Figure size 432x288 with 1 Axes>",
      "image/png": "[encoded data removed]"
     },
     "metadata": {
      "needs_background": "light"
     },
     "output_type": "display_data"
    }
   ],
   "source": [
    "plt.plot(range(26,5,-1), score)\n",
    "plt.show()    "
   ],
   "metadata": {
    "collapsed": false,
    "ExecuteTime": {
     "end_time": "2024-02-26T21:15:31.987196100Z",
     "start_time": "2024-02-26T21:15:31.816956500Z"
    }
   },
   "id": "96656851bcab3cda"
  },
  {
   "cell_type": "code",
   "execution_count": 47,
   "outputs": [],
   "source": [
    "def feature_selection(Xs,y):\n",
    "    Xs_result = SelectKBest(mutual_info_classif, k=25).fit_transform(Xs,y)\n",
    "    return Xs_result"
   ],
   "metadata": {
    "collapsed": false,
    "ExecuteTime": {
     "end_time": "2024-02-26T21:20:45.471076900Z",
     "start_time": "2024-02-26T21:20:45.416519400Z"
    }
   },
   "id": "466ca38bcba90413"
  },
  {
   "cell_type": "code",
   "execution_count": 55,
   "outputs": [
    {
     "name": "stdout",
     "output_type": "stream",
     "text": [
      "100%|██████████| 50/50 [04:12<00:00,  5.05s/trial, best loss: -0.8531228551818806]\n",
      "0.5\n",
      "100%|██████████| 50/50 [03:24<00:00,  4.08s/trial, best loss: -0.8574414715719063]\n",
      "0.5\n",
      "100%|██████████| 50/50 [04:01<00:00,  4.84s/trial, best loss: -0.8484572230014026]\n",
      "0.5012820512820513\n",
      "100%|██████████| 50/50 [05:20<00:00,  6.42s/trial, best loss: -0.8670784717455959]\n",
      "0.5\n",
      "100%|██████████| 50/50 [05:08<00:00,  6.17s/trial, best loss: -0.8711050102951269]\n",
      "0.5\n",
      "100%|██████████| 50/50 [04:33<00:00,  5.48s/trial, best loss: -0.858046398046398] \n",
      "0.5\n",
      "100%|██████████| 50/50 [04:22<00:00,  5.24s/trial, best loss: -0.8626401281171356]\n",
      "0.5\n",
      "100%|██████████| 50/50 [03:43<00:00,  4.47s/trial, best loss: -0.8465871902758298]\n",
      "0.5\n",
      "100%|██████████| 50/50 [04:58<00:00,  5.97s/trial, best loss: -0.8515789473684212]\n",
      "0.5\n",
      "100%|██████████| 50/50 [02:53<00:00,  3.48s/trial, best loss: -0.85]              \n",
      "0.5\n"
     ]
    }
   ],
   "source": [
    "models= []\n",
    "score = 0\n",
    "scores = []\n",
    "i = 0\n",
    "for i in range(1,15):\n",
    "    \"\"\"\n",
    "    if i == 3 :\n",
    "        scores.append(0.5127968346578312)\n",
    "        continue\n",
    "    if i ==12:\n",
    "        scores.append(0.5123582987129056)\n",
    "        continue\"\"\"\n",
    "    train_data, test_data = generate_train_test_dataset(i)\n",
    "    Xs_train,y_train = handle_dataset(train_data)\n",
    "    Xs_test,y_test = handle_dataset(test_data)\n",
    "    rus = RandomUnderSampler(sampling_strategy='auto', random_state=42)\n",
    "    X_resampled, y_resampled = rus.fit_resample(Xs_train, y_train)\n",
    "    X_resampled = feature_selection(X_resampled,y_resampled)\n",
    "    trials = Trials()\n",
    "    best=fmin(fn=mlp_bca_cv, # function to optimize\n",
    "          space=space, \n",
    "          algo=tpe.suggest, # optimization algorithm, hyperotp will select its parameters automatically\n",
    "          max_evals=50, # maximum number of iterations\n",
    "          trials=trials, # logging\n",
    "          rstate=np.random.default_rng(42) # fixing random state for the reproducibility\n",
    "    )\n",
    "    activations = ['logistic', 'tanh', 'relu']\n",
    "    model = MLPClassifier(hidden_layer_sizes=int(best['layer_size']),                            max_iter=int(best['max_iter']),alpha=best['alpha'], tol=1e-4,  random_state=1, activation=activations[best['activation']], learning_rate_init=best['learning_rate'])\n",
    "    models.append(model)\n",
    "    model.fit(X_resampled,y_resampled)\n",
    "    Xs_test_fs = feature_selection(Xs_test,y_test)\n",
    "    tpe_test_score=balanced_accuracy_score(y_test, model.predict(Xs_test_fs))\n",
    "    scores.append(tpe_test_score)\n",
    "    print(tpe_test_score)\n",
    "    if score < tpe_test_score:\n",
    "        score = tpe_test_score\n",
    "        best_model = model"
   ],
   "metadata": {
    "collapsed": false,
    "ExecuteTime": {
     "end_time": "2024-02-26T22:33:14.633079600Z",
     "start_time": "2024-02-26T21:50:21.311341300Z"
    }
   },
   "id": "f99209334cf39f25"
  },
  {
   "cell_type": "code",
   "execution_count": 12,
   "outputs": [
    {
     "name": "stdout",
     "output_type": "stream",
     "text": [
      "100%|██████████| 50/50 [02:19<00:00,  2.80s/trial, best loss: -0.8056623198352779]\n",
      "0.7867306703240184\n",
      "100%|██████████| 50/50 [06:01<00:00,  7.24s/trial, best loss: -0.8312947921643573]\n",
      "0.8221153846153846\n",
      "100%|██████████| 50/50 [05:13<00:00,  6.27s/trial, best loss: -0.8171458625525947]\n",
      "0.8217948717948718\n",
      "100%|██████████| 50/50 [03:54<00:00,  4.69s/trial, best loss: -0.8273850377487989]\n",
      "0.8689636462289745\n",
      "100%|██████████| 50/50 [07:26<00:00,  8.92s/trial, best loss: -0.8359071150766415]\n",
      "0.7348484848484849\n",
      "100%|██████████| 50/50 [05:31<00:00,  6.64s/trial, best loss: -0.794175824175824] \n",
      "0.6531522698303756\n",
      "100%|██████████| 50/50 [05:36<00:00,  6.74s/trial, best loss: -0.8050789293067948]\n",
      "0.8535984848484848\n",
      "100%|██████████| 50/50 [04:32<00:00,  5.44s/trial, best loss: -0.8034244974287048]\n",
      "0.8570381231671554\n",
      "100%|██████████| 50/50 [08:52<00:00, 10.64s/trial, best loss: -0.8010526315789473]\n",
      "0.8256410256410256\n",
      "100%|██████████| 50/50 [03:39<00:00,  4.39s/trial, best loss: -0.8089285714285716]\n",
      "0.6351590851548654\n"
     ]
    }
   ],
   "source": [
    "\n",
    "for i in range(3,15):\n",
    "    if i == 3 :\n",
    "        score2.append(0.5127968346578312)\n",
    "        continue\n",
    "    if i ==12:\n",
    "        score2.append(0.5123582987129056)\n",
    "        continue\n",
    "    train_data, test_data = generate_train_test_dataset(i)\n",
    "    Xs_train,y_train = handle_dataset(train_data)\n",
    "    Xs_test,y_test = handle_dataset(test_data)\n",
    "    rus = RandomUnderSampler(sampling_strategy='auto', random_state=42)\n",
    "    X_resampled, y_resampled = rus.fit_resample(Xs_train, y_train)\n",
    "    trials = Trials()\n",
    "    best=fmin(fn=mlp_bca_cv, # function to optimize\n",
    "          space=space, \n",
    "          algo=tpe.suggest, # optimization algorithm, hyperotp will select its parameters automatically\n",
    "          max_evals=50, # maximum number of iterations\n",
    "          trials=trials, # logging\n",
    "          rstate=np.random.default_rng(42) # fixing random state for the reproducibility\n",
    "    )\n",
    "    activations = ['logistic', 'tanh', 'relu']\n",
    "    model = MLPClassifier(hidden_layer_sizes=int(best['layer_size']),                            max_iter=int(best['max_iter']),alpha=best['alpha'], tol=1e-4,  random_state=1, activation=activations[best['activation']], learning_rate_init=best['learning_rate'])\n",
    "    model2.append(model)\n",
    "    model.fit(X_resampled,y_resampled)\n",
    "    tpe_test_score=balanced_accuracy_score(y_test, model.predict(Xs_test))\n",
    "    score2.append(tpe_test_score)\n",
    "    print(tpe_test_score)\n",
    "    if score < tpe_test_score:\n",
    "        score = tpe_test_score\n",
    "        best_model = model"
   ],
   "metadata": {
    "collapsed": false,
    "ExecuteTime": {
     "end_time": "2024-02-27T00:30:45.970740800Z",
     "start_time": "2024-02-26T23:36:54.291447700Z"
    }
   },
   "id": "4561288cb4810c92"
  },
  {
   "cell_type": "code",
   "execution_count": 13,
   "outputs": [
    {
     "name": "stdout",
     "output_type": "stream",
     "text": [
      "[0.6280353200883002, 0.7067466887417219, 0.5127968346578312, 0.7867306703240184, 0.8221153846153846, 0.8217948717948718, 0.8689636462289745, 0.7348484848484849, 0.6531522698303756, 0.8535984848484848, 0.8570381231671554, 0.5123582987129056, 0.8256410256410256, 0.6351590851548654]\n"
     ]
    }
   ],
   "source": [
    "print(score2)"
   ],
   "metadata": {
    "collapsed": false,
    "ExecuteTime": {
     "end_time": "2024-02-27T00:32:42.702433900Z",
     "start_time": "2024-02-27T00:32:42.601897800Z"
    }
   },
   "id": "a7c70d9329d819b4"
  },
  {
   "cell_type": "code",
   "execution_count": 14,
   "outputs": [
    {
     "name": "stdout",
     "output_type": "stream",
     "text": [
      "100%|██████████| 50/50 [06:43<00:00,  8.07s/trial, best loss: -0.8273850377487989]\n"
     ]
    },
    {
     "ename": "KeyError",
     "evalue": "'n_estimators'",
     "output_type": "error",
     "traceback": [
      "\u001B[1;31m---------------------------------------------------------------------------\u001B[0m",
      "\u001B[1;31mKeyError\u001B[0m                                  Traceback (most recent call last)",
      "Input \u001B[1;32mIn [14]\u001B[0m, in \u001B[0;36m<cell line: 14>\u001B[1;34m()\u001B[0m\n\u001B[0;32m      6\u001B[0m trials \u001B[38;5;241m=\u001B[39m Trials()\n\u001B[0;32m      7\u001B[0m best\u001B[38;5;241m=\u001B[39mfmin(fn\u001B[38;5;241m=\u001B[39mmlp_bca_cv, \u001B[38;5;66;03m# function to optimize\u001B[39;00m\n\u001B[0;32m      8\u001B[0m           space\u001B[38;5;241m=\u001B[39mspace, \n\u001B[0;32m      9\u001B[0m           algo\u001B[38;5;241m=\u001B[39mtpe\u001B[38;5;241m.\u001B[39msuggest, \u001B[38;5;66;03m# optimization algorithm, hyperotp will select its parameters automatically\u001B[39;00m\n\u001B[1;32m   (...)\u001B[0m\n\u001B[0;32m     12\u001B[0m           rstate\u001B[38;5;241m=\u001B[39mnp\u001B[38;5;241m.\u001B[39mrandom\u001B[38;5;241m.\u001B[39mdefault_rng(\u001B[38;5;241m42\u001B[39m) \u001B[38;5;66;03m# fixing random state for the reproducibility\u001B[39;00m\n\u001B[0;32m     13\u001B[0m           )\n\u001B[1;32m---> 14\u001B[0m best_model \u001B[38;5;241m=\u001B[39m RandomForestClassifier(random_state\u001B[38;5;241m=\u001B[39m\u001B[38;5;241m42\u001B[39m, n_estimators\u001B[38;5;241m=\u001B[39m\u001B[38;5;28mint\u001B[39m(\u001B[43mbest\u001B[49m\u001B[43m[\u001B[49m\u001B[38;5;124;43m'\u001B[39;49m\u001B[38;5;124;43mn_estimators\u001B[39;49m\u001B[38;5;124;43m'\u001B[39;49m\u001B[43m]\u001B[49m),max_depth\u001B[38;5;241m=\u001B[39m\u001B[38;5;28mint\u001B[39m(best[\u001B[38;5;124m'\u001B[39m\u001B[38;5;124mmax_depth\u001B[39m\u001B[38;5;124m'\u001B[39m]),min_samples_split\u001B[38;5;241m=\u001B[39mbest[\u001B[38;5;124m'\u001B[39m\u001B[38;5;124mmin_samples_split\u001B[39m\u001B[38;5;124m'\u001B[39m],min_samples_leaf\u001B[38;5;241m=\u001B[39mbest[\u001B[38;5;124m'\u001B[39m\u001B[38;5;124mmin_samples_leaf\u001B[39m\u001B[38;5;124m'\u001B[39m])\n",
      "\u001B[1;31mKeyError\u001B[0m: 'n_estimators'"
     ]
    }
   ],
   "source": [
    "train_data, test_data = generate_train_test_dataset(7)\n",
    "Xs_train,y_train = handle_dataset(train_data)\n",
    "Xs_test,y_test = handle_dataset(test_data)\n",
    "rus = RandomUnderSampler(sampling_strategy='auto', random_state=42)\n",
    "X_resampled, y_resampled = rus.fit_resample(Xs_train, y_train)\n",
    "trials = Trials()\n",
    "best=fmin(fn=mlp_bca_cv, # function to optimize\n",
    "          space=space, \n",
    "          algo=tpe.suggest, # optimization algorithm, hyperotp will select its parameters automatically\n",
    "          max_evals=50, # maximum number of iterations\n",
    "          trials=trials, # logging\n",
    "          rstate=np.random.default_rng(42) # fixing random state for the reproducibility\n",
    "          )\n"
   ],
   "metadata": {
    "collapsed": false,
    "ExecuteTime": {
     "end_time": "2024-02-27T00:40:50.138603900Z",
     "start_time": "2024-02-27T00:34:06.586013300Z"
    }
   },
   "id": "7c13b95ce0e842b"
  },
  {
   "cell_type": "code",
   "execution_count": 15,
   "outputs": [
    {
     "data": {
      "text/plain": "MLPClassifier(activation='tanh', alpha=7.782908668883826e-06,\n              hidden_layer_sizes=101, learning_rate_init=0.0006366437064143067,\n              max_iter=1200, random_state=1)",
      "text/html": "<style>#sk-container-id-1 {color: black;}#sk-container-id-1 pre{padding: 0;}#sk-container-id-1 div.sk-toggleable {background-color: white;}#sk-container-id-1 label.sk-toggleable__label {cursor: pointer;display: block;width: 100%;margin-bottom: 0;padding: 0.3em;box-sizing: border-box;text-align: center;}#sk-container-id-1 label.sk-toggleable__label-arrow:before {content: \"▸\";float: left;margin-right: 0.25em;color: #696969;}#sk-container-id-1 label.sk-toggleable__label-arrow:hover:before {color: black;}#sk-container-id-1 div.sk-estimator:hover label.sk-toggleable__label-arrow:before {color: black;}#sk-container-id-1 div.sk-toggleable__content {max-height: 0;max-width: 0;overflow: hidden;text-align: left;background-color: #f0f8ff;}#sk-container-id-1 div.sk-toggleable__content pre {margin: 0.2em;color: black;border-radius: 0.25em;background-color: #f0f8ff;}#sk-container-id-1 input.sk-toggleable__control:checked~div.sk-toggleable__content {max-height: 200px;max-width: 100%;overflow: auto;}#sk-container-id-1 input.sk-toggleable__control:checked~label.sk-toggleable__label-arrow:before {content: \"▾\";}#sk-container-id-1 div.sk-estimator input.sk-toggleable__control:checked~label.sk-toggleable__label {background-color: #d4ebff;}#sk-container-id-1 div.sk-label input.sk-toggleable__control:checked~label.sk-toggleable__label {background-color: #d4ebff;}#sk-container-id-1 input.sk-hidden--visually {border: 0;clip: rect(1px 1px 1px 1px);clip: rect(1px, 1px, 1px, 1px);height: 1px;margin: -1px;overflow: hidden;padding: 0;position: absolute;width: 1px;}#sk-container-id-1 div.sk-estimator {font-family: monospace;background-color: #f0f8ff;border: 1px dotted black;border-radius: 0.25em;box-sizing: border-box;margin-bottom: 0.5em;}#sk-container-id-1 div.sk-estimator:hover {background-color: #d4ebff;}#sk-container-id-1 div.sk-parallel-item::after {content: \"\";width: 100%;border-bottom: 1px solid gray;flex-grow: 1;}#sk-container-id-1 div.sk-label:hover label.sk-toggleable__label {background-color: #d4ebff;}#sk-container-id-1 div.sk-serial::before {content: \"\";position: absolute;border-left: 1px solid gray;box-sizing: border-box;top: 0;bottom: 0;left: 50%;z-index: 0;}#sk-container-id-1 div.sk-serial {display: flex;flex-direction: column;align-items: center;background-color: white;padding-right: 0.2em;padding-left: 0.2em;position: relative;}#sk-container-id-1 div.sk-item {position: relative;z-index: 1;}#sk-container-id-1 div.sk-parallel {display: flex;align-items: stretch;justify-content: center;background-color: white;position: relative;}#sk-container-id-1 div.sk-item::before, #sk-container-id-1 div.sk-parallel-item::before {content: \"\";position: absolute;border-left: 1px solid gray;box-sizing: border-box;top: 0;bottom: 0;left: 50%;z-index: -1;}#sk-container-id-1 div.sk-parallel-item {display: flex;flex-direction: column;z-index: 1;position: relative;background-color: white;}#sk-container-id-1 div.sk-parallel-item:first-child::after {align-self: flex-end;width: 50%;}#sk-container-id-1 div.sk-parallel-item:last-child::after {align-self: flex-start;width: 50%;}#sk-container-id-1 div.sk-parallel-item:only-child::after {width: 0;}#sk-container-id-1 div.sk-dashed-wrapped {border: 1px dashed gray;margin: 0 0.4em 0.5em 0.4em;box-sizing: border-box;padding-bottom: 0.4em;background-color: white;}#sk-container-id-1 div.sk-label label {font-family: monospace;font-weight: bold;display: inline-block;line-height: 1.2em;}#sk-container-id-1 div.sk-label-container {text-align: center;}#sk-container-id-1 div.sk-container {/* jupyter's `normalize.less` sets `[hidden] { display: none; }` but bootstrap.min.css set `[hidden] { display: none !important; }` so we also need the `!important` here to be able to override the default hidden behavior on the sphinx rendered scikit-learn.org. See: https://github.com/scikit-learn/scikit-learn/issues/21755 */display: inline-block !important;position: relative;}#sk-container-id-1 div.sk-text-repr-fallback {display: none;}</style><div id=\"sk-container-id-1\" class=\"sk-top-container\"><div class=\"sk-text-repr-fallback\"><pre>MLPClassifier(activation=&#x27;tanh&#x27;, alpha=7.782908668883826e-06,\n              hidden_layer_sizes=101, learning_rate_init=0.0006366437064143067,\n              max_iter=1200, random_state=1)</pre><b>In a Jupyter environment, please rerun this cell to show the HTML representation or trust the notebook. <br />On GitHub, the HTML representation is unable to render, please try loading this page with nbviewer.org.</b></div><div class=\"sk-container\" hidden><div class=\"sk-item\"><div class=\"sk-estimator sk-toggleable\"><input class=\"sk-toggleable__control sk-hidden--visually\" id=\"sk-estimator-id-1\" type=\"checkbox\" checked><label for=\"sk-estimator-id-1\" class=\"sk-toggleable__label sk-toggleable__label-arrow\">MLPClassifier</label><div class=\"sk-toggleable__content\"><pre>MLPClassifier(activation=&#x27;tanh&#x27;, alpha=7.782908668883826e-06,\n              hidden_layer_sizes=101, learning_rate_init=0.0006366437064143067,\n              max_iter=1200, random_state=1)</pre></div></div></div></div></div>"
     },
     "execution_count": 15,
     "metadata": {},
     "output_type": "execute_result"
    }
   ],
   "source": [
    "best_model = MLPClassifier(hidden_layer_sizes=int(best['layer_size']),                            max_iter=int(best['max_iter']),alpha=best['alpha'], tol=1e-4,  random_state=1, activation=activations[best['activation']], learning_rate_init=best['learning_rate'])\n",
    "best_model.fit(X_resampled,y_resampled)"
   ],
   "metadata": {
    "collapsed": false,
    "ExecuteTime": {
     "end_time": "2024-02-27T00:41:46.082634400Z",
     "start_time": "2024-02-27T00:41:43.194695300Z"
    }
   },
   "id": "9c69c4fef8b7c331"
  },
  {
   "cell_type": "code",
   "execution_count": 16,
   "outputs": [
    {
     "data": {
      "text/plain": "['../../model/MLP_model.joblib']"
     },
     "execution_count": 16,
     "metadata": {},
     "output_type": "execute_result"
    }
   ],
   "source": [
    "from joblib import dump\n",
    "\n",
    "dump(best_model, '../../model/MLP_model.joblib')"
   ],
   "metadata": {
    "collapsed": false,
    "ExecuteTime": {
     "end_time": "2024-02-27T00:41:56.945723600Z",
     "start_time": "2024-02-27T00:41:56.860759600Z"
    }
   },
   "id": "a5a008a6a77b3535"
  },
  {
   "cell_type": "code",
   "execution_count": 17,
   "outputs": [],
   "source": [
    "test_score = balanced_accuracy_score(y_test,best_model.predict(Xs_test))"
   ],
   "metadata": {
    "collapsed": false,
    "ExecuteTime": {
     "end_time": "2024-02-27T00:42:34.469878200Z",
     "start_time": "2024-02-27T00:42:34.365000500Z"
    }
   },
   "id": "a72a93255b206fc1"
  },
  {
   "cell_type": "code",
   "execution_count": 18,
   "outputs": [
    {
     "name": "stdout",
     "output_type": "stream",
     "text": [
      "0.8689636462289745\n"
     ]
    }
   ],
   "source": [
    "print(test_score)"
   ],
   "metadata": {
    "collapsed": false,
    "ExecuteTime": {
     "end_time": "2024-02-27T00:42:41.213175300Z",
     "start_time": "2024-02-27T00:42:41.129288300Z"
    }
   },
   "id": "394e4b9914e0b6dc"
  },
  {
   "cell_type": "code",
   "execution_count": null,
   "outputs": [],
   "source": [],
   "metadata": {
    "collapsed": false
   },
   "id": "23a4b4a81f70806"
  }
 ],
 "metadata": {
  "kernelspec": {
   "display_name": "Python 3",
   "language": "python",
   "name": "python3"
  },
  "language_info": {
   "codemirror_mode": {
    "name": "ipython",
    "version": 2
   },
   "file_extension": ".py",
   "mimetype": "text/x-python",
   "name": "python",
   "nbconvert_exporter": "python",
   "pygments_lexer": "ipython2",
   "version": "2.7.6"
  }
 },
 "nbformat": 4,
 "nbformat_minor": 5
}
