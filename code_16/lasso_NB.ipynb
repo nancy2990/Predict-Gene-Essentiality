{
 "cells": [
  {
   "cell_type": "code",
   "execution_count": 2,
   "id": "initial_id",
   "metadata": {
    "collapsed": true,
    "ExecuteTime": {
     "end_time": "2024-03-08T15:01:27.437673300Z",
     "start_time": "2024-03-08T15:01:27.419744600Z"
    }
   },
   "outputs": [],
   "source": [
    "import pandas as pd\n",
    "from sklearn.metrics import make_scorer\n",
    "from sklearn.model_selection import cross_val_score\n",
    "from hyperopt import hp\n",
    "import numpy as np\n",
    "from hyperopt import Trials, tpe, fmin\n",
    "import warnings\n",
    "from imblearn.under_sampling import RandomUnderSampler\n",
    "from sklearn.linear_model import LassoCV\n",
    "from sklearn.metrics import accuracy_score\n",
    "from sklearn.naive_bayes import GaussianNB\n",
    "\n",
    "warnings.filterwarnings(\"ignore\")"
   ]
  },
  {
   "cell_type": "code",
   "execution_count": 3,
   "outputs": [],
   "source": [
    "ma = pd.read_csv(\"../16 Mycoplosma/ma.csv\")\n",
    "map = pd.read_csv(\"../16 Mycoplosma/map.csv\")\n",
    "marth = pd.read_csv(\"../16 Mycoplosma/marth.csv\")\n",
    "mcap = pd.read_csv(\"../16 Mycoplosma/mcap.csv\")\n",
    "mcon = pd.read_csv(\"../16 Mycoplosma/mcon.csv\")\n",
    "mcro = pd.read_csv(\"../16 Mycoplosma/mcro.csv\")\n",
    "mgal = pd.read_csv(\"../16 Mycoplosma/mgal.csv\")\n",
    "mhom = pd.read_csv(\"../16 Mycoplosma/mhom.csv\")\n",
    "mhyoJ = pd.read_csv(\"../16 Mycoplosma/mhyoJ.csv\")\n",
    "mhyo232 = pd.read_csv(\"../16 Mycoplosma/mhyo232.csv\")\n",
    "mhyo7448 = pd.read_csv(\"../16 Mycoplosma/mhyo7448.csv\")\n",
    "mm163K = pd.read_csv(\"../16 Mycoplosma/mm163K.csv\")\n",
    "mms = pd.read_csv(\"../16 Mycoplosma/mms.csv\")\n",
    "mpHF = pd.read_csv(\"../16 Mycoplosma/mpHF.csv\")\n",
    "mpM = pd.read_csv(\"../16 Mycoplosma/mpM.csv\")\n",
    "ms53 = pd.read_csv(\"../16 Mycoplosma/ms53.csv\")"
   ],
   "metadata": {
    "collapsed": false,
    "ExecuteTime": {
     "end_time": "2024-03-08T15:01:29.838621200Z",
     "start_time": "2024-03-08T15:01:29.605709100Z"
    }
   },
   "id": "1b6ba68f7118a51"
  },
  {
   "cell_type": "code",
   "execution_count": 4,
   "outputs": [],
   "source": [
    "def generate_train_test_dataset(index):\n",
    "    dataset_names = [ma, map, marth, mcap, mcon, mcro, mgal, mhom, mhyoJ, mhyo232, mhyo7448, mm163K, mms, mpHF, mpM, ms53]\n",
    "    merged_train = dataset_names[:index]+dataset_names[index+1:]\n",
    "    train_data = pd.concat(merged_train)\n",
    "    test_data = dataset_names[index]\n",
    "    return train_data,test_data"
   ],
   "metadata": {
    "collapsed": false,
    "ExecuteTime": {
     "end_time": "2024-03-08T15:01:31.285158Z",
     "start_time": "2024-03-08T15:01:31.269976500Z"
    }
   },
   "id": "2b976e80eff11ec6"
  },
  {
   "cell_type": "code",
   "execution_count": 5,
   "outputs": [],
   "source": [
    "def handle_dataset(dataset):\n",
    "    columns_to_drop = ['identity','name', 'Amino acid', 'protein_sequence', 'essentiality']\n",
    "    Xs = dataset.drop(columns = columns_to_drop)\n",
    "    y = dataset['essentiality']\n",
    "    return Xs,y"
   ],
   "metadata": {
    "collapsed": false,
    "ExecuteTime": {
     "end_time": "2024-03-08T15:01:31.740287100Z",
     "start_time": "2024-03-08T15:01:31.728167Z"
    }
   },
   "id": "85be72e44735b274"
  },
  {
   "cell_type": "code",
   "execution_count": 6,
   "outputs": [],
   "source": [
    "rus = RandomUnderSampler(sampling_strategy='auto', random_state=42)"
   ],
   "metadata": {
    "collapsed": false,
    "ExecuteTime": {
     "end_time": "2024-03-08T15:01:33.405012300Z",
     "start_time": "2024-03-08T15:01:33.381871900Z"
    }
   },
   "id": "92f2bd53c65db613"
  },
  {
   "cell_type": "code",
   "execution_count": 9,
   "outputs": [],
   "source": [
    "space = {\n",
    "    'var_smoothing': hp.loguniform('var_smoothing', -9, 0)\n",
    "}\n",
    "lassoCV = LassoCV(cv=20,random_state=10)\n",
    "all_feature_names = [\"GC_Content\",\"CAI\",\"A\",\"R\",\"N\",\"D\",\"C\",\"Q\",\"E\",\"G\",\"H\",\"I\",\"L\",\"K\",\"M\",\"F\",\"P\",\"S\",\"T\",\"W\",\"Y\",\"V\",\"nSE2\",\"nSE3\",\"nGE2\",\"nGE3\"]"
   ],
   "metadata": {
    "collapsed": false,
    "ExecuteTime": {
     "end_time": "2024-03-08T15:03:13.738320Z",
     "start_time": "2024-03-08T15:03:13.713350600Z"
    }
   },
   "id": "22d663b303007756"
  },
  {
   "cell_type": "code",
   "execution_count": 8,
   "outputs": [],
   "source": [
    "def nb_ac_cv(params):\n",
    "    scorer = make_scorer(accuracy_score)\n",
    "    model = GaussianNB(var_smoothing=params['var_smoothing'])\n",
    "    score = -cross_val_score(model, X_resampled[selected_features], y_resampled, cv=5,scoring=scorer, ).mean()\n",
    "    return score"
   ],
   "metadata": {
    "collapsed": false,
    "ExecuteTime": {
     "end_time": "2024-03-08T15:02:55.771568200Z",
     "start_time": "2024-03-08T15:02:55.755559700Z"
    }
   },
   "id": "c7ff8a5d6e235794"
  },
  {
   "cell_type": "code",
   "execution_count": 14,
   "outputs": [
    {
     "name": "stdout",
     "output_type": "stream",
     "text": [
      "100%|██████████| 50/50 [00:01<00:00, 41.77trial/s, best loss: -0.8117626321974148]\n",
      "0.8408488063660478\n",
      "100%|██████████| 50/50 [00:01<00:00, 45.78trial/s, best loss: -0.8010989010989011]\n",
      "0.8115942028985508\n",
      "100%|██████████| 50/50 [00:01<00:00, 46.69trial/s, best loss: -0.8252645352144727]\n",
      "0.6383647798742138\n",
      "100%|██████████| 50/50 [00:01<00:00, 41.98trial/s, best loss: -0.799220127129961] \n",
      "0.9469387755102041\n",
      "100%|██████████| 50/50 [00:01<00:00, 46.00trial/s, best loss: -0.8219538841929734]\n",
      "0.8496932515337423\n",
      "100%|██████████| 50/50 [00:01<00:00, 47.35trial/s, best loss: -0.82472083630316]\n",
      "0.884180790960452\n",
      "100%|██████████| 50/50 [00:01<00:00, 45.51trial/s, best loss: -0.8128319623971798]\n",
      "0.6876513317191283\n",
      "100%|██████████| 50/50 [00:01<00:00, 45.76trial/s, best loss: -0.8165947904088322]\n",
      "0.9354838709677419\n",
      "100%|██████████| 50/50 [00:01<00:00, 46.47trial/s, best loss: -0.8231482534986915]\n",
      "0.5867052023121387\n",
      "100%|██████████| 50/50 [00:01<00:00, 47.62trial/s, best loss: -0.7953069030417097]\n",
      "0.8113207547169812\n",
      "100%|██████████| 50/50 [00:01<00:00, 46.03trial/s, best loss: -0.8157128228467403]\n",
      "0.7832369942196532\n",
      "100%|██████████| 50/50 [00:01<00:00, 45.91trial/s, best loss: -0.8034699215344376]\n",
      "0.9173553719008265\n",
      "100%|██████████| 50/50 [00:01<00:00, 43.92trial/s, best loss: -0.7833333333333333]\n",
      "0.9376558603491272\n",
      "100%|██████████| 50/50 [00:01<00:00, 48.29trial/s, best loss: -0.8126315789473685]\n",
      "0.97\n",
      "100%|██████████| 50/50 [00:01<00:00, 48.30trial/s, best loss: -0.7928571428571429]\n",
      "0.5020242914979757\n",
      "100%|██████████| 50/50 [00:01<00:00, 47.97trial/s, best loss: -0.8117626321974148]\n",
      "0.8408488063660478\n",
      "100%|██████████| 50/50 [00:01<00:00, 48.61trial/s, best loss: -0.8010989010989011]\n",
      "0.8115942028985508\n",
      "100%|██████████| 50/50 [00:01<00:00, 47.39trial/s, best loss: -0.8252645352144727]\n",
      "0.6383647798742138\n",
      "100%|██████████| 50/50 [00:01<00:00, 47.45trial/s, best loss: -0.799220127129961] \n",
      "0.9469387755102041\n",
      "100%|██████████| 50/50 [00:01<00:00, 43.99trial/s, best loss: -0.8219538841929734]\n",
      "0.8496932515337423\n",
      "100%|██████████| 50/50 [00:01<00:00, 48.06trial/s, best loss: -0.82472083630316]\n",
      "0.884180790960452\n",
      "100%|██████████| 50/50 [00:01<00:00, 45.26trial/s, best loss: -0.8128319623971798]\n",
      "0.6876513317191283\n",
      "100%|██████████| 50/50 [00:01<00:00, 48.67trial/s, best loss: -0.8165947904088322]\n",
      "0.9354838709677419\n",
      "100%|██████████| 50/50 [00:01<00:00, 46.66trial/s, best loss: -0.8231482534986915]\n",
      "0.5867052023121387\n",
      "100%|██████████| 50/50 [00:01<00:00, 48.20trial/s, best loss: -0.7953069030417097]\n",
      "0.8113207547169812\n",
      "100%|██████████| 50/50 [00:01<00:00, 46.94trial/s, best loss: -0.8157128228467403]\n",
      "0.7832369942196532\n",
      "100%|██████████| 50/50 [00:01<00:00, 46.15trial/s, best loss: -0.8034699215344376]\n",
      "0.9173553719008265\n",
      "100%|██████████| 50/50 [00:01<00:00, 46.40trial/s, best loss: -0.7833333333333333]\n",
      "0.9376558603491272\n",
      "100%|██████████| 50/50 [00:01<00:00, 48.57trial/s, best loss: -0.8126315789473685]\n",
      "0.97\n",
      "100%|██████████| 50/50 [00:01<00:00, 49.79trial/s, best loss: -0.7928571428571429]\n",
      "0.5020242914979757\n",
      "100%|██████████| 50/50 [00:01<00:00, 47.55trial/s, best loss: -0.8117626321974148]\n",
      "0.8408488063660478\n",
      "100%|██████████| 50/50 [00:01<00:00, 47.55trial/s, best loss: -0.8010989010989011]\n",
      "0.8115942028985508\n",
      "100%|██████████| 50/50 [00:01<00:00, 47.92trial/s, best loss: -0.8252645352144727]\n",
      "0.6383647798742138\n",
      "100%|██████████| 50/50 [00:01<00:00, 48.55trial/s, best loss: -0.799220127129961] \n",
      "0.9469387755102041\n",
      "100%|██████████| 50/50 [00:01<00:00, 49.34trial/s, best loss: -0.8219538841929734]\n",
      "0.8496932515337423\n",
      "100%|██████████| 50/50 [00:01<00:00, 48.32trial/s, best loss: -0.82472083630316]\n",
      "0.884180790960452\n",
      "100%|██████████| 50/50 [00:01<00:00, 46.64trial/s, best loss: -0.8128319623971798]\n",
      "0.6876513317191283\n",
      "100%|██████████| 50/50 [00:01<00:00, 49.19trial/s, best loss: -0.8165947904088322]\n",
      "0.9354838709677419\n",
      "100%|██████████| 50/50 [00:01<00:00, 48.14trial/s, best loss: -0.8231482534986915]\n",
      "0.5867052023121387\n",
      "100%|██████████| 50/50 [00:00<00:00, 50.99trial/s, best loss: -0.7953069030417097]\n",
      "0.8113207547169812\n",
      "100%|██████████| 50/50 [00:01<00:00, 47.22trial/s, best loss: -0.8157128228467403]\n",
      "0.7832369942196532\n",
      "100%|██████████| 50/50 [00:01<00:00, 45.80trial/s, best loss: -0.8034699215344376]\n",
      "0.9173553719008265\n",
      "100%|██████████| 50/50 [00:01<00:00, 45.40trial/s, best loss: -0.7833333333333333]\n",
      "0.9376558603491272\n",
      "100%|██████████| 50/50 [00:01<00:00, 43.68trial/s, best loss: -0.8126315789473685]\n",
      "0.97\n",
      "100%|██████████| 50/50 [00:00<00:00, 50.26trial/s, best loss: -0.7928571428571429]\n",
      "0.5020242914979757\n"
     ]
    }
   ],
   "source": [
    "scores = []\n",
    "score = 0\n",
    "models = []\n",
    "features = []\n",
    "for j in range(0,3):\n",
    "    for i in range(0,15):\n",
    "        train_data, test_data = generate_train_test_dataset(i)\n",
    "        Xs_train,y_train = handle_dataset(train_data)\n",
    "        Xs_test,y_test = handle_dataset(test_data)\n",
    "        rus = RandomUnderSampler(sampling_strategy='auto', random_state=42)\n",
    "        X_resampled, y_resampled = rus.fit_resample(Xs_train, y_train)\n",
    "        lassoCV.fit(X_resampled,y_resampled)\n",
    "        selected_features = [feature for feature, coef in zip(all_feature_names, lassoCV.coef_) if coef !=0]\n",
    "        trials = Trials()\n",
    "        best=fmin(fn=nb_ac_cv, # function to optimize\n",
    "              space=space, \n",
    "              algo=tpe.suggest, # optimization algorithm, hyperotp will select its parameters automatically\n",
    "              max_evals=50, # maximum number of iterations\n",
    "              trials=trials, # logging\n",
    "              rstate=np.random.default_rng(42) # fixing random state for the reproducibility\n",
    "        )\n",
    "        model = GaussianNB(**best)\n",
    "        models.append(model)\n",
    "        model.fit(X_resampled[selected_features],y_resampled)\n",
    "        tpe_test_score=accuracy_score(y_test, model.predict(Xs_test[selected_features]))\n",
    "        scores.append(tpe_test_score)\n",
    "        print(tpe_test_score)\n",
    "        if score < tpe_test_score:\n",
    "            score = tpe_test_score\n",
    "            best_model = model\n",
    "            features = selected_features"
   ],
   "metadata": {
    "collapsed": false,
    "ExecuteTime": {
     "end_time": "2024-03-08T15:10:03.002014Z",
     "start_time": "2024-03-08T15:09:02.080870600Z"
    }
   },
   "id": "a4984ad66d0e4611"
  },
  {
   "cell_type": "code",
   "execution_count": 15,
   "outputs": [
    {
     "name": "stdout",
     "output_type": "stream",
     "text": [
      "[0.8408488063660478, 0.8115942028985508, 0.6383647798742138, 0.9469387755102041, 0.8496932515337423, 0.884180790960452, 0.6876513317191283, 0.9354838709677419, 0.5867052023121387, 0.8113207547169812, 0.7832369942196532, 0.9173553719008265, 0.9376558603491272, 0.97, 0.5020242914979757, 0.8408488063660478, 0.8115942028985508, 0.6383647798742138, 0.9469387755102041, 0.8496932515337423, 0.884180790960452, 0.6876513317191283, 0.9354838709677419, 0.5867052023121387, 0.8113207547169812, 0.7832369942196532, 0.9173553719008265, 0.9376558603491272, 0.97, 0.5020242914979757, 0.8408488063660478, 0.8115942028985508, 0.6383647798742138, 0.9469387755102041, 0.8496932515337423, 0.884180790960452, 0.6876513317191283, 0.9354838709677419, 0.5867052023121387, 0.8113207547169812, 0.7832369942196532, 0.9173553719008265, 0.9376558603491272, 0.97, 0.5020242914979757]\n"
     ]
    }
   ],
   "source": [
    "print(scores)"
   ],
   "metadata": {
    "collapsed": false,
    "ExecuteTime": {
     "end_time": "2024-03-08T15:11:15.462427800Z",
     "start_time": "2024-03-08T15:11:15.446703500Z"
    }
   },
   "id": "e43a528bd5c9a2de"
  },
  {
   "cell_type": "code",
   "execution_count": 16,
   "outputs": [
    {
     "data": {
      "text/plain": "['../../model/NB_model_lasso.joblib']"
     },
     "execution_count": 16,
     "metadata": {},
     "output_type": "execute_result"
    }
   ],
   "source": [
    "from joblib import dump\n",
    "\n",
    "dump(best_model, '../../model/NB_model_lasso.joblib')"
   ],
   "metadata": {
    "collapsed": false,
    "ExecuteTime": {
     "end_time": "2024-03-08T15:11:17.706552400Z",
     "start_time": "2024-03-08T15:11:17.683888900Z"
    }
   },
   "id": "51884e5d0d475ce0"
  },
  {
   "cell_type": "code",
   "execution_count": 17,
   "outputs": [
    {
     "name": "stdout",
     "output_type": "stream",
     "text": [
      "['GC_Content', 'CAI', 'N']\n"
     ]
    }
   ],
   "source": [
    "print(features)"
   ],
   "metadata": {
    "collapsed": false,
    "ExecuteTime": {
     "end_time": "2024-03-08T15:11:23.594045900Z",
     "start_time": "2024-03-08T15:11:23.564324700Z"
    }
   },
   "id": "a8827bad4c7e64cd"
  },
  {
   "cell_type": "code",
   "execution_count": null,
   "outputs": [],
   "source": [],
   "metadata": {
    "collapsed": false
   },
   "id": "101548df529e102d"
  }
 ],
 "metadata": {
  "kernelspec": {
   "display_name": "Python 3",
   "language": "python",
   "name": "python3"
  },
  "language_info": {
   "codemirror_mode": {
    "name": "ipython",
    "version": 2
   },
   "file_extension": ".py",
   "mimetype": "text/x-python",
   "name": "python",
   "nbconvert_exporter": "python",
   "pygments_lexer": "ipython2",
   "version": "2.7.6"
  }
 },
 "nbformat": 4,
 "nbformat_minor": 5
}
