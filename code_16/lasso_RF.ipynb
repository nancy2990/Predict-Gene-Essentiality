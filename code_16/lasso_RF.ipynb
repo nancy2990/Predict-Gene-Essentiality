{
 "cells": [
  {
   "cell_type": "code",
   "execution_count": 2,
   "id": "initial_id",
   "metadata": {
    "collapsed": true,
    "ExecuteTime": {
     "end_time": "2024-03-08T15:06:25.397183100Z",
     "start_time": "2024-03-08T15:06:25.357233700Z"
    }
   },
   "outputs": [],
   "source": [
    "import pandas as pd\n",
    "from sklearn.metrics import make_scorer\n",
    "from sklearn.model_selection import cross_val_score\n",
    "from hyperopt import hp\n",
    "import numpy as np\n",
    "from hyperopt import Trials, tpe, fmin\n",
    "import warnings\n",
    "from imblearn.under_sampling import RandomUnderSampler\n",
    "from sklearn.linear_model import LassoCV\n",
    "from sklearn.metrics import accuracy_score\n",
    "from sklearn.naive_bayes import GaussianNB\n",
    "\n",
    "warnings.filterwarnings(\"ignore\")"
   ]
  },
  {
   "cell_type": "code",
   "execution_count": 3,
   "outputs": [],
   "source": [
    "ma = pd.read_csv(\"../16 Mycoplosma/ma.csv\")\n",
    "map = pd.read_csv(\"../16 Mycoplosma/map.csv\")\n",
    "marth = pd.read_csv(\"../16 Mycoplosma/marth.csv\")\n",
    "mcap = pd.read_csv(\"../16 Mycoplosma/mcap.csv\")\n",
    "mcon = pd.read_csv(\"../16 Mycoplosma/mcon.csv\")\n",
    "mcro = pd.read_csv(\"../16 Mycoplosma/mcro.csv\")\n",
    "mgal = pd.read_csv(\"../16 Mycoplosma/mgal.csv\")\n",
    "mhom = pd.read_csv(\"../16 Mycoplosma/mhom.csv\")\n",
    "mhyoJ = pd.read_csv(\"../16 Mycoplosma/mhyoJ.csv\")\n",
    "mhyo232 = pd.read_csv(\"../16 Mycoplosma/mhyo232.csv\")\n",
    "mhyo7448 = pd.read_csv(\"../16 Mycoplosma/mhyo7448.csv\")\n",
    "mm163K = pd.read_csv(\"../16 Mycoplosma/mm163K.csv\")\n",
    "mms = pd.read_csv(\"../16 Mycoplosma/mms.csv\")\n",
    "mpHF = pd.read_csv(\"../16 Mycoplosma/mpHF.csv\")\n",
    "mpM = pd.read_csv(\"../16 Mycoplosma/mpM.csv\")\n",
    "ms53 = pd.read_csv(\"../16 Mycoplosma/ms53.csv\")"
   ],
   "metadata": {
    "collapsed": false,
    "ExecuteTime": {
     "end_time": "2024-03-08T15:06:27.206887400Z",
     "start_time": "2024-03-08T15:06:26.980400100Z"
    }
   },
   "id": "1b6ba68f7118a51"
  },
  {
   "cell_type": "code",
   "execution_count": 4,
   "outputs": [],
   "source": [
    "def generate_train_test_dataset(index):\n",
    "    dataset_names = [ma, map, marth, mcap, mcon, mcro, mgal, mhom, mhyoJ, mhyo232, mhyo7448, mm163K, mms, mpHF, mpM, ms53]\n",
    "    merged_train = dataset_names[:index]+dataset_names[index+1:]\n",
    "    train_data = pd.concat(merged_train)\n",
    "    test_data = dataset_names[index]\n",
    "    return train_data,test_data"
   ],
   "metadata": {
    "collapsed": false,
    "ExecuteTime": {
     "end_time": "2024-03-08T15:06:28.678035300Z",
     "start_time": "2024-03-08T15:06:28.655845100Z"
    }
   },
   "id": "2b976e80eff11ec6"
  },
  {
   "cell_type": "code",
   "execution_count": 5,
   "outputs": [],
   "source": [
    "def handle_dataset(dataset):\n",
    "    columns_to_drop = ['identity','name', 'Amino acid', 'protein_sequence', 'essentiality']\n",
    "    Xs = dataset.drop(columns = columns_to_drop)\n",
    "    y = dataset['essentiality']\n",
    "    return Xs,y"
   ],
   "metadata": {
    "collapsed": false,
    "ExecuteTime": {
     "end_time": "2024-03-08T15:06:29.103162900Z",
     "start_time": "2024-03-08T15:06:29.091285Z"
    }
   },
   "id": "85be72e44735b274"
  },
  {
   "cell_type": "code",
   "execution_count": 8,
   "outputs": [],
   "source": [
    "rus = RandomUnderSampler(sampling_strategy='auto', random_state=42)\n",
    "lassoCV = LassoCV(cv=20,random_state=10)\n",
    "all_feature_names = [\"GC_Content\",\"CAI\",\"A\",\"R\",\"N\",\"D\",\"C\",\"Q\",\"E\",\"G\",\"H\",\"I\",\"L\",\"K\",\"M\",\"F\",\"P\",\"S\",\"T\",\"W\",\"Y\",\"V\",\"nSE2\",\"nSE3\",\"nGE2\",\"nGE3\"]"
   ],
   "metadata": {
    "collapsed": false,
    "ExecuteTime": {
     "end_time": "2024-03-08T15:06:51.540115Z",
     "start_time": "2024-03-08T15:06:51.515871Z"
    }
   },
   "id": "92f2bd53c65db613"
  },
  {
   "cell_type": "code",
   "execution_count": 9,
   "outputs": [],
   "source": [
    "space = {\n",
    "    'n_estimators': hp.quniform('n_estimators', 50, 700, 1),\n",
    "    'max_depth': hp.quniform('max_depth', 3, 20, 1),\n",
    "    'min_samples_split': hp.uniform('min_samples_split', 0.1, 1),\n",
    "    'min_samples_leaf': hp.uniform('min_samples_leaf', 0.1, 0.5),\n",
    "}"
   ],
   "metadata": {
    "collapsed": false,
    "ExecuteTime": {
     "end_time": "2024-03-08T15:09:21.085569400Z",
     "start_time": "2024-03-08T15:09:21.066062900Z"
    }
   },
   "id": "22d663b303007756"
  },
  {
   "cell_type": "code",
   "execution_count": 10,
   "outputs": [],
   "source": [
    "\n",
    "from sklearn.metrics import accuracy_score\n",
    "def rf_ac_cv(params):\n",
    "    params = {\n",
    "    'n_estimators': int(params['n_estimators']), \n",
    "    'max_depth': int(params['max_depth']), \n",
    "    'min_samples_split': params['min_samples_split'],\n",
    "    'min_samples_leaf': params['min_samples_leaf']\n",
    "}\n",
    "    scorer = make_scorer(accuracy_score)\n",
    "    model = RandomForestClassifier(random_state=42, **params)\n",
    "    score = -cross_val_score(model, X_resampled[selected_features], y_resampled, cv=5,scoring=scorer, ).mean()\n",
    "    return score"
   ],
   "metadata": {
    "collapsed": false,
    "ExecuteTime": {
     "end_time": "2024-03-08T15:09:57.431417400Z",
     "start_time": "2024-03-08T15:09:57.390728200Z"
    }
   },
   "id": "c7ff8a5d6e235794"
  },
  {
   "cell_type": "code",
   "execution_count": 11,
   "outputs": [
    {
     "name": "stdout",
     "output_type": "stream",
     "text": [
      "100%|██████████| 15/15 [00:28<00:00,  1.88s/trial, best loss: -0.8085193889541715]\n",
      "0.883289124668435\n",
      "100%|██████████| 15/15 [00:28<00:00,  1.92s/trial, best loss: -0.8186813186813187]\n",
      "0.8467908902691511\n",
      "100%|██████████| 15/15 [00:29<00:00,  2.00s/trial, best loss: -0.8146774377062236]\n",
      "0.6226415094339622\n",
      "100%|██████████| 15/15 [00:28<00:00,  1.87s/trial, best loss: -0.7941028791197051]\n",
      "0.9795918367346939\n",
      "100%|██████████| 15/15 [00:27<00:00,  1.84s/trial, best loss: -0.8059053533436835]\n",
      "0.901840490797546\n",
      "100%|██████████| 15/15 [00:29<00:00,  1.94s/trial, best loss: -0.8051912568306012]\n",
      "0.9322033898305084\n",
      "100%|██████████| 15/15 [00:28<00:00,  1.91s/trial, best loss: -0.810705052878966] \n",
      "0.7627118644067796\n",
      "100%|██████████| 15/15 [00:28<00:00,  1.93s/trial, best loss: -0.8102121787131275]\n",
      "0.9516129032258065\n",
      "100%|██████████| 15/15 [00:28<00:00,  1.91s/trial, best loss: -0.8019001024007283]\n",
      "0.7976878612716763\n",
      "100%|██████████| 15/15 [00:30<00:00,  2.00s/trial, best loss: -0.7931091008439075]\n",
      "0.8345428156748912\n",
      "100%|██████████| 15/15 [00:30<00:00,  2.01s/trial, best loss: -0.7976675389691661]\n",
      "0.8092485549132948\n",
      "100%|██████████| 15/15 [00:31<00:00,  2.11s/trial, best loss: -0.7776634699215345]\n",
      "0.9449035812672176\n",
      "100%|██████████| 15/15 [00:31<00:00,  2.13s/trial, best loss: -0.7906250000000001]\n",
      "0.9900249376558603\n",
      "100%|██████████| 15/15 [00:30<00:00,  2.04s/trial, best loss: -0.8115789473684212]\n",
      "0.97\n",
      "100%|██████████| 15/15 [00:32<00:00,  2.16s/trial, best loss: -0.7928571428571429]\n",
      "0.5728744939271255\n"
     ]
    }
   ],
   "source": [
    "from sklearn.ensemble import RandomForestClassifier\n",
    "\n",
    "scores = []\n",
    "score = 0\n",
    "models = []\n",
    "features = []\n",
    "for j in range(0,3):\n",
    "    for i in range(0,15):\n",
    "        train_data, test_data = generate_train_test_dataset(i)\n",
    "        Xs_train,y_train = handle_dataset(train_data)\n",
    "        Xs_test,y_test = handle_dataset(test_data)\n",
    "        rus = RandomUnderSampler(sampling_strategy='auto', random_state=42)\n",
    "        X_resampled, y_resampled = rus.fit_resample(Xs_train, y_train)\n",
    "        lassoCV.fit(X_resampled,y_resampled)\n",
    "        selected_features = [feature for feature, coef in zip(all_feature_names, lassoCV.coef_) if coef !=0]\n",
    "        trials = Trials()\n",
    "        best=fmin(fn=rf_ac_cv, # function to optimize\n",
    "              space=space, \n",
    "              algo=tpe.suggest, # optimization algorithm, hyperotp will select its parameters automatically\n",
    "              max_evals=15, # maximum number of iterations\n",
    "              trials=trials, # logging\n",
    "              rstate=np.random.default_rng(42) # fixing random state for the reproducibility\n",
    "        )\n",
    "        model = RandomForestClassifier(random_state=42, n_estimators=int(best['n_estimators']),max_depth=int(best['max_depth']),min_samples_split=best['min_samples_split'],min_samples_leaf=best['min_samples_leaf'])\n",
    "        models.append(model)\n",
    "        model.fit(X_resampled[selected_features],y_resampled)\n",
    "        tpe_test_score=accuracy_score(y_test, model.predict(Xs_test[selected_features]))\n",
    "        scores.append(tpe_test_score)\n",
    "        print(tpe_test_score)\n",
    "        if score < tpe_test_score:\n",
    "            score = tpe_test_score\n",
    "            best_model = model\n",
    "            features = selected_features"
   ],
   "metadata": {
    "collapsed": false,
    "ExecuteTime": {
     "end_time": "2024-03-08T15:18:44.427583800Z",
     "start_time": "2024-03-08T15:11:09.934561900Z"
    }
   },
   "id": "a4984ad66d0e4611"
  },
  {
   "cell_type": "code",
   "execution_count": 12,
   "outputs": [
    {
     "name": "stdout",
     "output_type": "stream",
     "text": [
      "[0.883289124668435, 0.8467908902691511, 0.6226415094339622, 0.9795918367346939, 0.901840490797546, 0.9322033898305084, 0.7627118644067796, 0.9516129032258065, 0.7976878612716763, 0.8345428156748912, 0.8092485549132948, 0.9449035812672176, 0.9900249376558603, 0.97, 0.5728744939271255]\n"
     ]
    }
   ],
   "source": [
    "print(scores)"
   ],
   "metadata": {
    "collapsed": false,
    "ExecuteTime": {
     "end_time": "2024-03-08T15:19:37.592384800Z",
     "start_time": "2024-03-08T15:19:37.562404Z"
    }
   },
   "id": "e43a528bd5c9a2de"
  },
  {
   "cell_type": "code",
   "execution_count": 13,
   "outputs": [
    {
     "data": {
      "text/plain": "['../../model/RF_model_lasso.joblib']"
     },
     "execution_count": 13,
     "metadata": {},
     "output_type": "execute_result"
    }
   ],
   "source": [
    "from joblib import dump\n",
    "\n",
    "dump(best_model, '../../model/RF_model_lasso.joblib')"
   ],
   "metadata": {
    "collapsed": false,
    "ExecuteTime": {
     "end_time": "2024-03-08T15:19:44.096887900Z",
     "start_time": "2024-03-08T15:19:43.822273Z"
    }
   },
   "id": "51884e5d0d475ce0"
  },
  {
   "cell_type": "code",
   "execution_count": 14,
   "outputs": [
    {
     "name": "stdout",
     "output_type": "stream",
     "text": [
      "['GC_Content', 'CAI', 'A', 'N', 'D', 'H', 'M', 'nSE3', 'nGE3']\n"
     ]
    }
   ],
   "source": [
    "print(features)"
   ],
   "metadata": {
    "collapsed": false,
    "ExecuteTime": {
     "end_time": "2024-03-08T15:19:49.758850500Z",
     "start_time": "2024-03-08T15:19:49.728601200Z"
    }
   },
   "id": "9299063bec41a8d9"
  },
  {
   "cell_type": "code",
   "execution_count": null,
   "outputs": [],
   "source": [],
   "metadata": {
    "collapsed": false
   },
   "id": "f27ebf5ad5bc30f8"
  }
 ],
 "metadata": {
  "kernelspec": {
   "display_name": "Python 3",
   "language": "python",
   "name": "python3"
  },
  "language_info": {
   "codemirror_mode": {
    "name": "ipython",
    "version": 2
   },
   "file_extension": ".py",
   "mimetype": "text/x-python",
   "name": "python",
   "nbconvert_exporter": "python",
   "pygments_lexer": "ipython2",
   "version": "2.7.6"
  }
 },
 "nbformat": 4,
 "nbformat_minor": 5
}
