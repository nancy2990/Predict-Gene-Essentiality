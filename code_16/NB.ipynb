{
 "cells": [
  {
   "cell_type": "code",
   "execution_count": 1,
   "id": "initial_id",
   "metadata": {
    "collapsed": true,
    "ExecuteTime": {
     "end_time": "2024-02-27T23:31:54.530965800Z",
     "start_time": "2024-02-27T23:31:52.534086Z"
    }
   },
   "outputs": [],
   "source": [
    "import pandas as pd\n",
    "from sklearn.metrics import make_scorer, balanced_accuracy_score\n",
    "from sklearn.model_selection import cross_val_score\n",
    "from sklearn.ensemble import RandomForestClassifier\n",
    "from hyperopt import hp\n",
    "import numpy as np\n",
    "from hyperopt import Trials, tpe, fmin\n",
    "from imblearn.under_sampling import RandomUnderSampler\n",
    "from sklearn.neural_network import MLPClassifier"
   ]
  },
  {
   "cell_type": "code",
   "execution_count": 2,
   "outputs": [],
   "source": [
    "ma = pd.read_csv(\"../16 Mycoplosma/ma.csv\")\n",
    "map = pd.read_csv(\"../16 Mycoplosma/map.csv\")\n",
    "marth = pd.read_csv(\"../16 Mycoplosma/marth.csv\")\n",
    "mcap = pd.read_csv(\"../16 Mycoplosma/mcap.csv\")\n",
    "mcon = pd.read_csv(\"../16 Mycoplosma/mcon.csv\")\n",
    "mcro = pd.read_csv(\"../16 Mycoplosma/mcro.csv\")\n",
    "mgal = pd.read_csv(\"../16 Mycoplosma/mgal.csv\")\n",
    "mhom = pd.read_csv(\"../16 Mycoplosma/mhom.csv\")\n",
    "mhyoJ = pd.read_csv(\"../16 Mycoplosma/mhyoJ.csv\")\n",
    "mhyo232 = pd.read_csv(\"../16 Mycoplosma/mhyo232.csv\")\n",
    "mhyo7448 = pd.read_csv(\"../16 Mycoplosma/mhyo7448.csv\")\n",
    "mm163K = pd.read_csv(\"../16 Mycoplosma/mm163K.csv\")\n",
    "mms = pd.read_csv(\"../16 Mycoplosma/mms.csv\")\n",
    "mpHF = pd.read_csv(\"../16 Mycoplosma/mpHF.csv\")\n",
    "mpM = pd.read_csv(\"../16 Mycoplosma/mpM.csv\")\n",
    "ms53 = pd.read_csv(\"../16 Mycoplosma/ms53.csv\")"
   ],
   "metadata": {
    "collapsed": false,
    "ExecuteTime": {
     "end_time": "2024-02-27T23:31:56.341369Z",
     "start_time": "2024-02-27T23:31:56.161984100Z"
    }
   },
   "id": "fb7b457e32d9d469"
  },
  {
   "cell_type": "code",
   "execution_count": 3,
   "outputs": [],
   "source": [
    "def generate_train_test_dataset(index):\n",
    "    dataset_names = [ma, map, marth, mcap, mcon, mcro, mgal, mhom, mhyoJ, mhyo232, mhyo7448, mm163K, mms, mpHF, mpM, ms53]\n",
    "    merged_train = dataset_names[:index]+dataset_names[index+1:]\n",
    "    train_data = pd.concat(merged_train)\n",
    "    test_data = dataset_names[index]\n",
    "    return train_data,test_data"
   ],
   "metadata": {
    "collapsed": false,
    "ExecuteTime": {
     "end_time": "2024-02-27T23:31:57.975736600Z",
     "start_time": "2024-02-27T23:31:57.964619700Z"
    }
   },
   "id": "4af6836f3f4cd3c9"
  },
  {
   "cell_type": "code",
   "execution_count": 4,
   "outputs": [],
   "source": [
    "train_data , test_data = generate_train_test_dataset(0)"
   ],
   "metadata": {
    "collapsed": false,
    "ExecuteTime": {
     "end_time": "2024-02-27T23:31:58.881986900Z",
     "start_time": "2024-02-27T23:31:58.820781400Z"
    }
   },
   "id": "709bff4b11c3f9a9"
  },
  {
   "cell_type": "code",
   "execution_count": 5,
   "outputs": [],
   "source": [
    "def handle_dataset(dataset):\n",
    "    columns_to_drop = ['identity','name', 'Amino acid', 'protein_sequence', 'essentiality']\n",
    "    Xs = dataset.drop(columns = columns_to_drop)\n",
    "    y = dataset['essentiality']\n",
    "    return Xs,y"
   ],
   "metadata": {
    "collapsed": false,
    "ExecuteTime": {
     "end_time": "2024-02-27T23:32:00.854456900Z",
     "start_time": "2024-02-27T23:32:00.828834200Z"
    }
   },
   "id": "6a1c23ca5328b750"
  },
  {
   "cell_type": "code",
   "execution_count": 6,
   "outputs": [],
   "source": [
    "Xs_train,y_train = handle_dataset(train_data)\n",
    "Xs_test,y_test = handle_dataset(test_data)"
   ],
   "metadata": {
    "collapsed": false,
    "ExecuteTime": {
     "end_time": "2024-02-27T23:32:02.022721800Z",
     "start_time": "2024-02-27T23:32:01.968096800Z"
    }
   },
   "id": "f8a93ff3172c6df8"
  },
  {
   "cell_type": "code",
   "execution_count": 7,
   "outputs": [],
   "source": [
    "from sklearn.naive_bayes import GaussianNB\n",
    "\n",
    "rus = RandomUnderSampler(sampling_strategy='auto', random_state=42)\n",
    "X_resampled, y_resampled = rus.fit_resample(Xs_train, y_train)\n",
    "def nb_bca_cv(params):\n",
    "    scorer = make_scorer(balanced_accuracy_score)\n",
    "    model = GaussianNB(var_smoothing=params['var_smoothing'])\n",
    "    score = -cross_val_score(model, X_resampled, y_resampled, cv=5,scoring=scorer, ).mean()\n",
    "    return score"
   ],
   "metadata": {
    "collapsed": false,
    "ExecuteTime": {
     "end_time": "2024-02-27T23:32:07.333047900Z",
     "start_time": "2024-02-27T23:32:07.312279400Z"
    }
   },
   "id": "5ffb9faeabdf9977"
  },
  {
   "cell_type": "code",
   "execution_count": 8,
   "outputs": [],
   "source": [
    "space = {\n",
    "    'var_smoothing': hp.loguniform('var_smoothing', -9, 0) \n",
    "}"
   ],
   "metadata": {
    "collapsed": false,
    "ExecuteTime": {
     "end_time": "2024-02-27T23:32:08.030299600Z",
     "start_time": "2024-02-27T23:32:08.009549200Z"
    }
   },
   "id": "633df9e2354340e3"
  },
  {
   "cell_type": "code",
   "execution_count": 9,
   "outputs": [
    {
     "name": "stdout",
     "output_type": "stream",
     "text": [
      "100%|██████████| 100/100 [00:02<00:00, 37.97trial/s, best loss: -0.3671809256661992]\n"
     ]
    }
   ],
   "source": [
    "\n",
    "trials = Trials()\n",
    "\n",
    "best=fmin(fn=nb_bca_cv, # function to optimize\n",
    "          space=space, \n",
    "          algo=tpe.suggest, # optimization algorithm, hyperotp will select its parameters automatically\n",
    "          max_evals=100, # maximum number of iterations\n",
    "          trials=trials, # logging\n",
    "          rstate=np.random.default_rng(42) # fixing random state for the reproducibility\n",
    "         )\n"
   ],
   "metadata": {
    "collapsed": false,
    "ExecuteTime": {
     "end_time": "2024-02-27T23:32:12.754113Z",
     "start_time": "2024-02-27T23:32:10.083255200Z"
    }
   },
   "id": "ce1c3676c7bd0a3e"
  },
  {
   "cell_type": "code",
   "execution_count": 11,
   "outputs": [],
   "source": [
    "from matplotlib import pyplot as plt\n",
    "from sklearn.feature_selection import SelectKBest, mutual_info_classif\n",
    "\n",
    "#feature selection\n",
    "#RFE\n",
    "score = []\n",
    "scorer = make_scorer(balanced_accuracy_score)\n",
    "model = GaussianNB(**best)\n",
    "for i in range(26,5,-1):\n",
    "\tX_mutual = SelectKBest(score_func=mutual_info_classif, k=i).fit_transform(X_resampled, y_resampled)\n",
    "\tonce = cross_val_score(model, X_mutual, y_resampled, cv=10,scoring=scorer)\n",
    "\tscore.append(once.mean())\n"
   ],
   "metadata": {
    "collapsed": false,
    "ExecuteTime": {
     "end_time": "2024-02-27T23:33:46.779636300Z",
     "start_time": "2024-02-27T23:33:42.699163500Z"
    }
   },
   "id": "ffda5e1a077cc371"
  },
  {
   "cell_type": "code",
   "execution_count": 12,
   "outputs": [
    {
     "data": {
      "text/plain": "<Figure size 432x288 with 1 Axes>",
      "image/png": "[encoded data removed]"
     },
     "metadata": {
      "needs_background": "light"
     },
     "output_type": "display_data"
    }
   ],
   "source": [
    "plt.plot(range(26,5,-1), score)\n",
    "plt.show()    "
   ],
   "metadata": {
    "collapsed": false,
    "ExecuteTime": {
     "end_time": "2024-02-27T23:33:48.844348400Z",
     "start_time": "2024-02-27T23:33:48.698196200Z"
    }
   },
   "id": "96656851bcab3cda"
  },
  {
   "cell_type": "code",
   "execution_count": 14,
   "outputs": [],
   "source": [
    "X_mutual = SelectKBest(score_func=mutual_info_classif, k=25).fit_transform(X_resampled, y_resampled)"
   ],
   "metadata": {
    "collapsed": false,
    "ExecuteTime": {
     "end_time": "2024-02-27T23:34:35.902049600Z",
     "start_time": "2024-02-27T23:34:35.752877800Z"
    }
   },
   "id": "ed0d5fc9ea421690"
  },
  {
   "cell_type": "code",
   "execution_count": 15,
   "outputs": [
    {
     "name": "stdout",
     "output_type": "stream",
     "text": [
      "0.7308321645628799\n"
     ]
    }
   ],
   "source": [
    "Wrapper_score = cross_val_score(model,X_mutual,y_resampled,cv=5,scoring=scorer).mean()\n",
    "print(Wrapper_score)"
   ],
   "metadata": {
    "collapsed": false,
    "ExecuteTime": {
     "end_time": "2024-02-27T23:34:56.110181900Z",
     "start_time": "2024-02-27T23:34:56.062489Z"
    }
   },
   "id": "e9f6cbeebf1daef2"
  },
  {
   "cell_type": "code",
   "execution_count": 16,
   "outputs": [],
   "source": [
    "def feature_selection(Xs,y):\n",
    "    Xs_result = SelectKBest(mutual_info_classif, k=25).fit_transform(Xs,y)\n",
    "    return Xs_result"
   ],
   "metadata": {
    "collapsed": false,
    "ExecuteTime": {
     "end_time": "2024-02-27T23:35:14.141513Z",
     "start_time": "2024-02-27T23:35:14.124399500Z"
    }
   },
   "id": "466ca38bcba90413"
  },
  {
   "cell_type": "code",
   "execution_count": 18,
   "outputs": [
    {
     "name": "stdout",
     "output_type": "stream",
     "text": [
      "100%|██████████| 50/50 [00:00<00:00, 61.03trial/s, best loss: -0.3671809256661992]\n",
      "0.45332842053549494\n",
      "100%|██████████| 50/50 [00:00<00:00, 62.70trial/s, best loss: -0.7912087912087912]\n",
      "0.5\n",
      "100%|██████████| 50/50 [00:00<00:00, 64.79trial/s, best loss: -0.7944635094943949]\n",
      "0.5016556291390728\n",
      "100%|██████████| 50/50 [00:00<00:00, 66.26trial/s, best loss: -0.8186799359414321]\n",
      "0.5\n",
      "100%|██████████| 50/50 [00:00<00:00, 69.36trial/s, best loss: -0.8194457716196846]\n",
      "0.5\n",
      "100%|██████████| 50/50 [00:00<00:00, 68.66trial/s, best loss: -0.8194132772323515]\n",
      "0.5012820512820513\n",
      "100%|██████████| 50/50 [00:00<00:00, 69.16trial/s, best loss: -0.8282887211164492]\n",
      "0.5\n",
      "100%|██████████| 50/50 [00:00<00:00, 68.20trial/s, best loss: -0.8476321207961565]\n",
      "0.5\n",
      "100%|██████████| 50/50 [00:00<00:00, 69.57trial/s, best loss: -0.8184126984126984]\n",
      "0.4870820668693009\n",
      "100%|██████████| 50/50 [00:00<00:00, 68.94trial/s, best loss: -0.8082818576984672]\n",
      "0.5\n",
      "100%|██████████| 50/50 [00:00<00:00, 67.18trial/s, best loss: -0.8240299205236091]\n",
      "0.5\n",
      "100%|██████████| 50/50 [00:00<00:00, 69.56trial/s, best loss: -0.8252631578947367]\n",
      "0.5\n",
      "100%|██████████| 50/50 [00:00<00:00, 75.43trial/s, best loss: -0.7946428571428571]\n",
      "0.49480968858131485\n",
      "100%|██████████| 50/50 [00:00<00:00, 69.68trial/s, best loss: -0.8381369798971482]\n",
      "0.5014970059880239\n"
     ]
    }
   ],
   "source": [
    "models= []\n",
    "score = 0\n",
    "scores = []\n",
    "\n",
    "for i in range(0,16):\n",
    "    if i == 3 :\n",
    "        scores.append(0.5127968346578312)\n",
    "        continue\n",
    "    if i ==12:\n",
    "        scores.append(0.5123582987129056)\n",
    "        continue\n",
    "    train_data, test_data = generate_train_test_dataset(i)\n",
    "    Xs_train,y_train = handle_dataset(train_data)\n",
    "    Xs_test,y_test = handle_dataset(test_data)\n",
    "    rus = RandomUnderSampler(sampling_strategy='auto', random_state=42)\n",
    "    X_resampled, y_resampled = rus.fit_resample(Xs_train, y_train)\n",
    "    X_resampled = feature_selection(X_resampled,y_resampled)\n",
    "    trials = Trials()\n",
    "    best=fmin(fn=nb_bca_cv, # function to optimize\n",
    "          space=space, \n",
    "          algo=tpe.suggest, # optimization algorithm, hyperotp will select its parameters automatically\n",
    "          max_evals=50, # maximum number of iterations\n",
    "          trials=trials, # logging\n",
    "          rstate=np.random.default_rng(42) # fixing random state for the reproducibility\n",
    "    )\n",
    "    model = GaussianNB(**best)\n",
    "    models.append(model)\n",
    "    model.fit(X_resampled,y_resampled)\n",
    "    Xs_test_fs = feature_selection(Xs_test,y_test)\n",
    "    tpe_test_score=balanced_accuracy_score(y_test, model.predict(Xs_test_fs))\n",
    "    scores.append(tpe_test_score)\n",
    "    print(tpe_test_score)\n",
    "    if score < tpe_test_score:\n",
    "        score = tpe_test_score\n",
    "        best_model = model"
   ],
   "metadata": {
    "collapsed": false,
    "ExecuteTime": {
     "end_time": "2024-02-27T23:36:25.144991500Z",
     "start_time": "2024-02-27T23:36:11.791458500Z"
    }
   },
   "id": "f99209334cf39f25"
  },
  {
   "cell_type": "code",
   "execution_count": 19,
   "outputs": [
    {
     "data": {
      "text/plain": "['../../model/NB_model.joblib']"
     },
     "execution_count": 19,
     "metadata": {},
     "output_type": "execute_result"
    }
   ],
   "source": [
    "from joblib import dump\n",
    "\n",
    "dump(best_model, '../../model/NB_model.joblib')"
   ],
   "metadata": {
    "collapsed": false,
    "ExecuteTime": {
     "end_time": "2024-02-27T23:37:02.015106900Z",
     "start_time": "2024-02-27T23:37:01.983444600Z"
    }
   },
   "id": "a5a008a6a77b3535"
  },
  {
   "cell_type": "code",
   "execution_count": null,
   "outputs": [],
   "source": [],
   "metadata": {
    "collapsed": false
   },
   "id": "a72a93255b206fc1"
  }
 ],
 "metadata": {
  "kernelspec": {
   "display_name": "Python 3",
   "language": "python",
   "name": "python3"
  },
  "language_info": {
   "codemirror_mode": {
    "name": "ipython",
    "version": 2
   },
   "file_extension": ".py",
   "mimetype": "text/x-python",
   "name": "python",
   "nbconvert_exporter": "python",
   "pygments_lexer": "ipython2",
   "version": "2.7.6"
  }
 },
 "nbformat": 4,
 "nbformat_minor": 5
}
