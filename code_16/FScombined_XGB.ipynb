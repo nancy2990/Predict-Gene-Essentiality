{
 "cells": [
  {
   "cell_type": "code",
   "execution_count": 1,
   "id": "initial_id",
   "metadata": {
    "collapsed": true,
    "ExecuteTime": {
     "end_time": "2024-03-28T14:53:06.026109Z",
     "start_time": "2024-03-28T14:53:03.096068200Z"
    }
   },
   "outputs": [],
   "source": [
    "import pandas as pd\n",
    "from sklearn.metrics import make_scorer, balanced_accuracy_score\n",
    "from sklearn.model_selection import cross_val_score\n",
    "from sklearn.ensemble import RandomForestClassifier\n",
    "from hyperopt import hp\n",
    "import numpy as np\n",
    "from hyperopt import Trials, tpe, fmin\n",
    "import warnings\n",
    "from imblearn.under_sampling import RandomUnderSampler\n",
    "from sklearn.svm import SVC\n",
    "from sklearn.feature_selection import RFECV\n",
    "from sklearn.feature_selection import SelectKBest, mutual_info_classif\n",
    "from nbimporter import NotebookLoader\n",
    "\n",
    "warnings.filterwarnings(\"ignore\")"
   ]
  },
  {
   "cell_type": "code",
   "execution_count": 2,
   "outputs": [],
   "source": [
    "ma = pd.read_csv(\"../16 Mycoplosma/ma.csv\")\n",
    "map = pd.read_csv(\"../16 Mycoplosma/map.csv\")\n",
    "marth = pd.read_csv(\"../16 Mycoplosma/marth.csv\")\n",
    "mcap = pd.read_csv(\"../16 Mycoplosma/mcap.csv\")\n",
    "mcon = pd.read_csv(\"../16 Mycoplosma/mcon.csv\")\n",
    "mcro = pd.read_csv(\"../16 Mycoplosma/mcro.csv\")\n",
    "mgal = pd.read_csv(\"../16 Mycoplosma/mgal.csv\")\n",
    "mhom = pd.read_csv(\"../16 Mycoplosma/mhom.csv\")\n",
    "mhyoJ = pd.read_csv(\"../16 Mycoplosma/mhyoJ.csv\")\n",
    "mhyo232 = pd.read_csv(\"../16 Mycoplosma/mhyo232.csv\")\n",
    "mhyo7448 = pd.read_csv(\"../16 Mycoplosma/mhyo7448.csv\")\n",
    "mm163K = pd.read_csv(\"../16 Mycoplosma/mm163K.csv\")\n",
    "mms = pd.read_csv(\"../16 Mycoplosma/mms.csv\")\n",
    "mpHF = pd.read_csv(\"../16 Mycoplosma/mpHF.csv\")\n",
    "mpM = pd.read_csv(\"../16 Mycoplosma/mpM.csv\")\n",
    "ms53 = pd.read_csv(\"../16 Mycoplosma/ms53.csv\")"
   ],
   "metadata": {
    "collapsed": false,
    "ExecuteTime": {
     "end_time": "2024-03-28T14:53:07.828191300Z",
     "start_time": "2024-03-28T14:53:07.535184200Z"
    }
   },
   "id": "1b6ba68f7118a51"
  },
  {
   "cell_type": "code",
   "execution_count": 20,
   "outputs": [],
   "source": [
    "def calculate_essential(df):\n",
    "    df['essentiality_0.6'] = (df['identity'] > 0.5).astype(int)\n",
    "    df = df['essentiality_0.6'].value_counts().reset_index()\n",
    "    df.columns = ['essentiality_0.6', 'count']\n",
    "    print(df)"
   ],
   "metadata": {
    "collapsed": false,
    "ExecuteTime": {
     "end_time": "2024-03-27T16:50:44.965990700Z",
     "start_time": "2024-03-27T16:50:44.941920800Z"
    }
   },
   "id": "ec79c5a750b52e7d"
  },
  {
   "cell_type": "code",
   "execution_count": 35,
   "outputs": [
    {
     "name": "stdout",
     "output_type": "stream",
     "text": [
      "   essentiality_0.6  count\n",
      "0                 0    202\n",
      "1                 1    154\n"
     ]
    }
   ],
   "source": [
    "calculate_essential(ms53)"
   ],
   "metadata": {
    "collapsed": false,
    "ExecuteTime": {
     "end_time": "2024-03-27T16:55:31.996726700Z",
     "start_time": "2024-03-27T16:55:31.955838100Z"
    }
   },
   "id": "b8c7d4ec9ade11f1"
  },
  {
   "cell_type": "code",
   "execution_count": 3,
   "outputs": [],
   "source": [
    "def generate_train_test_dataset(index):\n",
    "    dataset_names = [ma, map, marth, mcap, mcon, mcro, mgal, mhom, mhyoJ, mhyo232, mhyo7448, mm163K, mms, mpHF, mpM, ms53]\n",
    "    merged_train = dataset_names[:index]+dataset_names[index+1:]\n",
    "    train_data = pd.concat(merged_train)\n",
    "    test_data = dataset_names[index]\n",
    "    return train_data,test_data"
   ],
   "metadata": {
    "collapsed": false,
    "ExecuteTime": {
     "end_time": "2024-03-25T11:27:55.050042700Z",
     "start_time": "2024-03-25T11:27:55.033088200Z"
    }
   },
   "id": "2b976e80eff11ec6"
  },
  {
   "cell_type": "code",
   "execution_count": 4,
   "outputs": [],
   "source": [
    "def handle_dataset(dataset):\n",
    "    columns_to_drop = ['identity','name', 'Amino acid', 'protein_sequence', 'essentiality']\n",
    "    Xs = dataset.drop(columns = columns_to_drop)\n",
    "    y = dataset['essentiality']\n",
    "    return Xs,y"
   ],
   "metadata": {
    "collapsed": false,
    "ExecuteTime": {
     "end_time": "2024-03-25T11:27:55.911959200Z",
     "start_time": "2024-03-25T11:27:55.889763600Z"
    }
   },
   "id": "85be72e44735b274"
  },
  {
   "cell_type": "code",
   "execution_count": 5,
   "outputs": [],
   "source": [
    "rus = RandomUnderSampler(sampling_strategy='auto', random_state=42)"
   ],
   "metadata": {
    "collapsed": false,
    "ExecuteTime": {
     "end_time": "2024-03-25T11:27:57.534687300Z",
     "start_time": "2024-03-25T11:27:57.499637600Z"
    }
   },
   "id": "92f2bd53c65db613"
  },
  {
   "cell_type": "code",
   "execution_count": 21,
   "outputs": [],
   "source": [
    "from sklearn.linear_model import LassoCV\n",
    "\n",
    "lassoCV = LassoCV(cv=20,random_state=10)\n",
    "all_feature_names = [\"GC_Content\",\"CAI\",\"A\",\"R\",\"N\",\"D\",\"C\",\"Q\",\"E\",\"G\",\"H\",\"I\",\"L\",\"K\",\"M\",\"F\",\"P\",\"S\",\"T\",\"W\",\"Y\",\"V\",\"nSE2\",\"nSE3\",\"nGE2\",\"nGE3\"]"
   ],
   "metadata": {
    "collapsed": false,
    "ExecuteTime": {
     "end_time": "2024-03-10T14:28:41.355902600Z",
     "start_time": "2024-03-10T14:28:41.315098300Z"
    }
   },
   "id": "d9658a1443eba766"
  },
  {
   "cell_type": "code",
   "execution_count": 22,
   "outputs": [],
   "source": [
    "space = {\n",
    "    'n_estimators': hp.quniform('n_estimators', 100, 1000, 100),  # 树的数量\n",
    "    'max_depth': hp.quniform('max_depth', 3, 10, 1),  # 每棵树的最大深度\n",
    "    'learning_rate': hp.loguniform('learning_rate', -3, 0),  # 学习率\n",
    "    'subsample': hp.uniform('subsample', 0.5, 1.0),  # 每棵树的样本采样比例\n",
    "    'colsample_bytree': hp.uniform('colsample_bytree', 0.5, 1.0),  # 每棵树的特征采样比例\n",
    "    'gamma': hp.loguniform('gamma', -3, 2),  # 节点分裂时损失函数减小值的最小值要求\n",
    "    'reg_alpha': hp.loguniform('reg_alpha', -3, 2),  # L1 正则化项系数\n",
    "    'reg_lambda': hp.loguniform('reg_lambda', -3, 2),  # L2 正则化项系数\n",
    "}"
   ],
   "metadata": {
    "collapsed": false,
    "ExecuteTime": {
     "end_time": "2024-03-10T14:28:45.100381800Z",
     "start_time": "2024-03-10T14:28:45.067413600Z"
    }
   },
   "id": "22d663b303007756"
  },
  {
   "cell_type": "code",
   "execution_count": 23,
   "outputs": [],
   "source": [
    "from xgboost import XGBClassifier\n",
    "from sklearn.metrics import accuracy_score\n",
    "\n",
    "\n",
    "def xgb_ac_cv(params):\n",
    "    scorer = make_scorer(accuracy_score)\n",
    "    model = XGBClassifier(\n",
    "        n_estimators=int(params['n_estimators']),\n",
    "        max_depth=int(params['max_depth']),\n",
    "        learning_rate=params['learning_rate'],\n",
    "        subsample=params['subsample'],\n",
    "        colsample_bytree=params['colsample_bytree'],\n",
    "        gamma=params['gamma'],\n",
    "        reg_alpha=params['reg_alpha'],\n",
    "        reg_lambda=params['reg_lambda'],\n",
    "        objective='binary:logistic'  # 二分类问题\n",
    "    )\n",
    "    scorer = make_scorer(accuracy_score)\n",
    "    score = -cross_val_score(model, X_resampled, y_resampled, cv=5,scoring=scorer).mean()\n",
    "    return score"
   ],
   "metadata": {
    "collapsed": false,
    "ExecuteTime": {
     "end_time": "2024-03-10T14:28:55.065124Z",
     "start_time": "2024-03-10T14:28:55.012206400Z"
    }
   },
   "id": "c7ff8a5d6e235794"
  },
  {
   "cell_type": "code",
   "execution_count": 24,
   "outputs": [
    {
     "name": "stdout",
     "output_type": "stream",
     "text": [
      "100%|██████████| 50/50 [00:37<00:00,  1.34trial/s, best loss: -0.8561163337250294]\n",
      "0.870026525198939\n",
      "100%|██████████| 50/50 [01:01<00:00,  1.23s/trial, best loss: -0.879120879120879] \n",
      "0.8674948240165632\n",
      "100%|██████████| 50/50 [00:32<00:00,  1.56trial/s, best loss: -0.8402264193878711]\n",
      "0.6792452830188679\n",
      "100%|██████████| 50/50 [00:54<00:00,  1.09s/trial, best loss: -0.8665081993483253]\n",
      "0.9142857142857143\n",
      "100%|██████████| 50/50 [00:50<00:00,  1.01s/trial, best loss: -0.8756138232419067]\n",
      "0.8987730061349694\n",
      "100%|██████████| 50/50 [00:53<00:00,  1.06s/trial, best loss: -0.8715550011879307]\n",
      "0.8983050847457628\n",
      "100%|██████████| 50/50 [00:47<00:00,  1.05trial/s, best loss: -0.875599294947121] \n",
      "0.784503631961259\n",
      "100%|██████████| 50/50 [01:01<00:00,  1.23s/trial, best loss: -0.8810074176298086]\n",
      "0.9258064516129032\n",
      "100%|██████████| 50/50 [00:32<00:00,  1.54trial/s, best loss: -0.8413243827511663]\n",
      "0.8815028901734104\n",
      "100%|██████████| 50/50 [00:30<00:00,  1.64trial/s, best loss: -0.798615748891992] \n",
      "0.7939042089985486\n",
      "100%|██████████| 50/50 [00:46<00:00,  1.07trial/s, best loss: -0.8711173057230628]\n",
      "0.9046242774566474\n",
      "100%|██████████| 50/50 [00:46<00:00,  1.09trial/s, best loss: -0.856437082243534] \n",
      "0.9476584022038568\n",
      "100%|██████████| 50/50 [00:49<00:00,  1.01trial/s, best loss: -0.8739583333333334]\n",
      "0.9177057356608479\n",
      "100%|██████████| 50/50 [00:48<00:00,  1.04trial/s, best loss: -0.8757894736842106]\n",
      "0.935\n",
      "100%|██████████| 50/50 [00:39<00:00,  1.26trial/s, best loss: -0.85]              \n",
      "0.6032388663967612\n"
     ]
    }
   ],
   "source": [
    "from joblib import load\n",
    "from sklearn.feature_selection import RFE\n",
    "\n",
    "scores = []\n",
    "score = 0\n",
    "models = []\n",
    "model_xgb_fs = load(\"../../model/XGB_model.joblib\")\n",
    "for i in range(0,15):\n",
    "    train_data, test_data = generate_train_test_dataset(i)\n",
    "    Xs_train,y_train = handle_dataset(train_data)\n",
    "    Xs_test,y_test = handle_dataset(test_data)\n",
    "    rus = RandomUnderSampler(sampling_strategy='auto', random_state=42)\n",
    "    X_resampled, y_resampled = rus.fit_resample(Xs_train, y_train)\n",
    "    rfe = RFE(model_xgb_fs, n_features_to_select=20)\n",
    "    rfe.fit(X_resampled, y_resampled)\n",
    "    X_resampled = rfe.transform(X_resampled)  # For training data\n",
    "    Xs_test = rfe.transform(Xs_test)  # For testing data\n",
    "    lassoCV.fit(X_resampled,y_resampled)\n",
    "    selected_features = [feature for feature, coef in zip(all_feature_names, lassoCV.coef_) if coef !=0]\n",
    "    trials = Trials()\n",
    "    selected_feature_indices = [all_feature_names.index(feature) for feature in selected_features]\n",
    "    X_resampled = X_resampled[:, selected_feature_indices]\n",
    "    Xs_test = Xs_test[:,selected_feature_indices]\n",
    "    best=fmin(fn=xgb_ac_cv, # function to optimize\n",
    "              space=space, \n",
    "              algo=tpe.suggest, # optimization algorithm, hyperotp will select its parameters automatically\n",
    "              max_evals=50, # maximum number of iterations\n",
    "              trials=trials, # logging\n",
    "              rstate=np.random.default_rng(42) # fixing random state for the reproducibility\n",
    "    )\n",
    "    \n",
    "    model = XGBClassifier(\n",
    "        n_estimators=int(best['n_estimators']),\n",
    "        max_depth=int(best['max_depth']),\n",
    "        learning_rate=best['learning_rate'],\n",
    "        subsample=best['subsample'],\n",
    "        colsample_bytree=best['colsample_bytree'],\n",
    "        gamma=best['gamma'],\n",
    "        reg_alpha=best['reg_alpha'],\n",
    "        reg_lambda=best['reg_lambda'],\n",
    "        objective='binary:logistic'  # 二分类问题\n",
    "    )\n",
    "    models.append(model)\n",
    "    model.fit(X_resampled,y_resampled)\n",
    "    tpe_test_score=accuracy_score(y_test, model.predict(Xs_test))\n",
    "    scores.append(tpe_test_score)\n",
    "    print(tpe_test_score)\n",
    "    if score < tpe_test_score:\n",
    "        score = tpe_test_score\n",
    "        best_model = model"
   ],
   "metadata": {
    "collapsed": false,
    "ExecuteTime": {
     "end_time": "2024-03-10T14:41:04.467113500Z",
     "start_time": "2024-03-10T14:28:56.031696600Z"
    }
   },
   "id": "a4984ad66d0e4611"
  },
  {
   "cell_type": "code",
   "execution_count": 25,
   "outputs": [
    {
     "name": "stdout",
     "output_type": "stream",
     "text": [
      "0.9476584022038568\n"
     ]
    }
   ],
   "source": [
    "print(score)"
   ],
   "metadata": {
    "collapsed": false,
    "ExecuteTime": {
     "end_time": "2024-03-10T14:45:24.993263Z",
     "start_time": "2024-03-10T14:45:24.939623900Z"
    }
   },
   "id": "e43a528bd5c9a2de"
  },
  {
   "cell_type": "code",
   "execution_count": 29,
   "outputs": [
    {
     "name": "stdout",
     "output_type": "stream",
     "text": [
      "Selected feature RFE: ['CAI', 'A', 'N', 'D', 'C', 'Q', 'G', 'H', 'L', 'K', 'F', 'P', 'S', 'T', 'W', 'Y', 'V', 'nSE2', 'nSE3', 'nGE2']\n",
      "Selected feature Lasso: ['CAI', 'A', 'N', 'D', 'C', 'G', 'H', 'T', 'V', 'nSE2', 'nGE2']\n"
     ]
    }
   ],
   "source": [
    "train_data, test_data = generate_train_test_dataset(12)\n",
    "Xs_train,y_train = handle_dataset(train_data)\n",
    "X_resampled, y_resampled = rus.fit_resample(Xs_train, y_train)\n",
    "rfe = RFE(model_xgb_fs, n_features_to_select=20)\n",
    "rfe.fit(X_resampled, y_resampled)\n",
    "X_resampled = rfe.transform(X_resampled)\n",
    "lassoCV.fit(X_resampled,y_resampled)\n",
    "selected_feature_indices = rfe.get_support(indices=True)\n",
    "selected_feature_names = [all_feature_names[index] for index in selected_feature_indices]\n",
    "selected_features = [feature for feature, coef in zip(selected_feature_names, lassoCV.coef_) if coef !=0]\n",
    "print(\"Selected feature RFE:\", selected_feature_names)\n",
    "print(\"Selected feature Lasso:\", selected_features)"
   ],
   "metadata": {
    "collapsed": false,
    "ExecuteTime": {
     "end_time": "2024-03-10T14:48:38.858355700Z",
     "start_time": "2024-03-10T14:48:36.452850900Z"
    }
   },
   "id": "9c57feeb8ae31484"
  },
  {
   "cell_type": "code",
   "execution_count": 26,
   "outputs": [
    {
     "data": {
      "text/plain": "['../../model/XGB_model_FSS.joblib']"
     },
     "execution_count": 26,
     "metadata": {},
     "output_type": "execute_result"
    }
   ],
   "source": [
    "from joblib import dump\n",
    "\n",
    "dump(best_model, '../../model/XGB_model_FSS.joblib')"
   ],
   "metadata": {
    "collapsed": false,
    "ExecuteTime": {
     "end_time": "2024-03-10T14:45:51.692077400Z",
     "start_time": "2024-03-10T14:45:51.608233900Z"
    }
   },
   "id": "51884e5d0d475ce0"
  },
  {
   "cell_type": "code",
   "execution_count": 12,
   "outputs": [
    {
     "name": "stdout",
     "output_type": "stream",
     "text": [
      "['GC_Content', 'CAI', 'A', 'N', 'D', 'H', 'M', 'nSE3', 'nGE3']\n"
     ]
    }
   ],
   "source": [
    "train_data, test_data = generate_train_test_dataset(12)\n",
    "Xs_train,y_train = handle_dataset(train_data)\n",
    "Xs_test,y_test = handle_dataset(test_data)\n",
    "rus = RandomUnderSampler(sampling_strategy='auto', random_state=42)\n",
    "X_resampled, y_resampled = rus.fit_resample(Xs_train, y_train)\n",
    "lassoCV.fit(X_resampled,y_resampled)\n",
    "selected_features = [feature for feature, coef in zip(all_feature_names, lassoCV.coef_) if coef !=0]\n",
    "print(selected_features)"
   ],
   "metadata": {
    "collapsed": false,
    "ExecuteTime": {
     "end_time": "2024-03-09T00:50:13.666779600Z",
     "start_time": "2024-03-09T00:50:13.364098900Z"
    }
   },
   "id": "eb6d41c0568087b3"
  },
  {
   "cell_type": "code",
   "execution_count": null,
   "outputs": [],
   "source": [],
   "metadata": {
    "collapsed": false
   },
   "id": "4a82d07e82c412db"
  }
 ],
 "metadata": {
  "kernelspec": {
   "display_name": "Python 3",
   "language": "python",
   "name": "python3"
  },
  "language_info": {
   "codemirror_mode": {
    "name": "ipython",
    "version": 2
   },
   "file_extension": ".py",
   "mimetype": "text/x-python",
   "name": "python",
   "nbconvert_exporter": "python",
   "pygments_lexer": "ipython2",
   "version": "2.7.6"
  }
 },
 "nbformat": 4,
 "nbformat_minor": 5
}
