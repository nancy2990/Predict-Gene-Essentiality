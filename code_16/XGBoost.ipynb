{
 "cells": [
  {
   "cell_type": "code",
   "execution_count": 1,
   "id": "initial_id",
   "metadata": {
    "collapsed": true,
    "ExecuteTime": {
     "end_time": "2024-02-26T23:47:41.116233500Z",
     "start_time": "2024-02-26T23:47:39.128624900Z"
    }
   },
   "outputs": [],
   "source": [
    "import pandas as pd\n",
    "from sklearn.metrics import make_scorer, balanced_accuracy_score\n",
    "from sklearn.model_selection import cross_val_score\n",
    "from sklearn.ensemble import RandomForestClassifier\n",
    "from hyperopt import hp\n",
    "import numpy as np\n",
    "from hyperopt import Trials, tpe, fmin\n",
    "from imblearn.under_sampling import RandomUnderSampler\n",
    "from sklearn.neural_network import MLPClassifier"
   ]
  },
  {
   "cell_type": "code",
   "execution_count": 2,
   "outputs": [],
   "source": [
    "ma = pd.read_csv(\"../16 Mycoplosma/ma.csv\")\n",
    "map = pd.read_csv(\"../16 Mycoplosma/map.csv\")\n",
    "marth = pd.read_csv(\"../16 Mycoplosma/marth.csv\")\n",
    "mcap = pd.read_csv(\"../16 Mycoplosma/mcap.csv\")\n",
    "mcon = pd.read_csv(\"../16 Mycoplosma/mcon.csv\")\n",
    "mcro = pd.read_csv(\"../16 Mycoplosma/mcro.csv\")\n",
    "mgal = pd.read_csv(\"../16 Mycoplosma/mgal.csv\")\n",
    "mhom = pd.read_csv(\"../16 Mycoplosma/mhom.csv\")\n",
    "mhyoJ = pd.read_csv(\"../16 Mycoplosma/mhyoJ.csv\")\n",
    "mhyo232 = pd.read_csv(\"../16 Mycoplosma/mhyo232.csv\")\n",
    "mhyo7448 = pd.read_csv(\"../16 Mycoplosma/mhyo7448.csv\")\n",
    "mm163K = pd.read_csv(\"../16 Mycoplosma/mm163K.csv\")\n",
    "mms = pd.read_csv(\"../16 Mycoplosma/mms.csv\")\n",
    "mpHF = pd.read_csv(\"../16 Mycoplosma/mpHF.csv\")\n",
    "mpM = pd.read_csv(\"../16 Mycoplosma/mpM.csv\")\n",
    "ms53 = pd.read_csv(\"../16 Mycoplosma/ms53.csv\")"
   ],
   "metadata": {
    "collapsed": false,
    "ExecuteTime": {
     "end_time": "2024-02-26T23:48:25.897718100Z",
     "start_time": "2024-02-26T23:48:25.647283Z"
    }
   },
   "id": "fb7b457e32d9d469"
  },
  {
   "cell_type": "code",
   "execution_count": 3,
   "outputs": [],
   "source": [
    "def generate_train_test_dataset(index):\n",
    "    dataset_names = [ma, map, marth, mcap, mcon, mcro, mgal, mhom, mhyoJ, mhyo232, mhyo7448, mm163K, mms, mpHF, mpM, ms53]\n",
    "    merged_train = dataset_names[:index]+dataset_names[index+1:]\n",
    "    train_data = pd.concat(merged_train)\n",
    "    test_data = dataset_names[index]\n",
    "    return train_data,test_data"
   ],
   "metadata": {
    "collapsed": false,
    "ExecuteTime": {
     "end_time": "2024-02-26T23:48:36.233559200Z",
     "start_time": "2024-02-26T23:48:36.207388500Z"
    }
   },
   "id": "4af6836f3f4cd3c9"
  },
  {
   "cell_type": "code",
   "execution_count": 4,
   "outputs": [],
   "source": [
    "train_data , test_data = generate_train_test_dataset(0)"
   ],
   "metadata": {
    "collapsed": false,
    "ExecuteTime": {
     "end_time": "2024-02-26T23:48:40.346412100Z",
     "start_time": "2024-02-26T23:48:40.315633700Z"
    }
   },
   "id": "709bff4b11c3f9a9"
  },
  {
   "cell_type": "code",
   "execution_count": 5,
   "outputs": [],
   "source": [
    "def handle_dataset(dataset):\n",
    "    columns_to_drop = ['identity','name', 'Amino acid', 'protein_sequence', 'essentiality']\n",
    "    Xs = dataset.drop(columns = columns_to_drop)\n",
    "    y = dataset['essentiality']\n",
    "    return Xs,y"
   ],
   "metadata": {
    "collapsed": false,
    "ExecuteTime": {
     "end_time": "2024-02-26T23:48:41.492595800Z",
     "start_time": "2024-02-26T23:48:41.476502600Z"
    }
   },
   "id": "6a1c23ca5328b750"
  },
  {
   "cell_type": "code",
   "execution_count": 6,
   "outputs": [],
   "source": [
    "Xs_train,y_train = handle_dataset(train_data)\n",
    "Xs_test,y_test = handle_dataset(test_data)"
   ],
   "metadata": {
    "collapsed": false,
    "ExecuteTime": {
     "end_time": "2024-02-26T23:48:43.025639400Z",
     "start_time": "2024-02-26T23:48:43.002968900Z"
    }
   },
   "id": "f8a93ff3172c6df8"
  },
  {
   "cell_type": "code",
   "execution_count": 8,
   "outputs": [],
   "source": [
    "from xgboost import XGBClassifier\n",
    "\n",
    "rus = RandomUnderSampler(sampling_strategy='auto', random_state=42)\n",
    "X_resampled, y_resampled = rus.fit_resample(Xs_train, y_train)\n",
    "def xgb_bca_cv(params):\n",
    "    scorer = make_scorer(balanced_accuracy_score)\n",
    "    model = XGBClassifier(\n",
    "        n_estimators=int(params['n_estimators']),\n",
    "        max_depth=int(params['max_depth']),\n",
    "        learning_rate=params['learning_rate'],\n",
    "        subsample=params['subsample'],\n",
    "        colsample_bytree=params['colsample_bytree'],\n",
    "        gamma=params['gamma'],\n",
    "        reg_alpha=params['reg_alpha'],\n",
    "        reg_lambda=params['reg_lambda'],\n",
    "        objective='binary:logistic'  # 二分类问题\n",
    "    )\n",
    "    score = -cross_val_score(model, X_resampled, y_resampled, cv=5,scoring=scorer, ).mean()\n",
    "    return score"
   ],
   "metadata": {
    "collapsed": false,
    "ExecuteTime": {
     "end_time": "2024-02-26T23:53:28.383761600Z",
     "start_time": "2024-02-26T23:53:28.200172100Z"
    }
   },
   "id": "5ffb9faeabdf9977"
  },
  {
   "cell_type": "code",
   "execution_count": 9,
   "outputs": [],
   "source": [
    "space = {\n",
    "    'n_estimators': hp.quniform('n_estimators', 100, 1000, 100),  # 树的数量\n",
    "    'max_depth': hp.quniform('max_depth', 3, 10, 1),  # 每棵树的最大深度\n",
    "    'learning_rate': hp.loguniform('learning_rate', -3, 0),  # 学习率\n",
    "    'subsample': hp.uniform('subsample', 0.5, 1.0),  # 每棵树的样本采样比例\n",
    "    'colsample_bytree': hp.uniform('colsample_bytree', 0.5, 1.0),  # 每棵树的特征采样比例\n",
    "    'gamma': hp.loguniform('gamma', -3, 2),  # 节点分裂时损失函数减小值的最小值要求\n",
    "    'reg_alpha': hp.loguniform('reg_alpha', -3, 2),  # L1 正则化项系数\n",
    "    'reg_lambda': hp.loguniform('reg_lambda', -3, 2),  # L2 正则化项系数\n",
    "}"
   ],
   "metadata": {
    "collapsed": false,
    "ExecuteTime": {
     "end_time": "2024-02-26T23:53:31.107415Z",
     "start_time": "2024-02-26T23:53:31.081380400Z"
    }
   },
   "id": "633df9e2354340e3"
  },
  {
   "cell_type": "code",
   "execution_count": 10,
   "outputs": [
    {
     "name": "stdout",
     "output_type": "stream",
     "text": [
      "100%|██████████| 100/100 [02:53<00:00,  1.73s/trial, best loss: -0.8668887330528283]\n"
     ]
    }
   ],
   "source": [
    "\n",
    "trials = Trials()\n",
    "\n",
    "best=fmin(fn=xgb_bca_cv, # function to optimize\n",
    "          space=space, \n",
    "          algo=tpe.suggest, # optimization algorithm, hyperotp will select its parameters automatically\n",
    "          max_evals=100, # maximum number of iterations\n",
    "          trials=trials, # logging\n",
    "          rstate=np.random.default_rng(42) # fixing random state for the reproducibility\n",
    "         )\n"
   ],
   "metadata": {
    "collapsed": false,
    "ExecuteTime": {
     "end_time": "2024-02-26T23:56:32.639002100Z",
     "start_time": "2024-02-26T23:53:39.310085800Z"
    }
   },
   "id": "ce1c3676c7bd0a3e"
  },
  {
   "cell_type": "code",
   "execution_count": 11,
   "outputs": [
    {
     "name": "stdout",
     "output_type": "stream",
     "text": [
      "0.9090518300171948\n"
     ]
    }
   ],
   "source": [
    "model_resampled = XGBClassifier(\n",
    "    n_estimators=int(best['n_estimators']),\n",
    "    max_depth=int(best['max_depth']),\n",
    "    learning_rate=best['learning_rate'],\n",
    "    subsample=best['subsample'],\n",
    "    colsample_bytree=best['colsample_bytree'],\n",
    "    gamma=best['gamma'],\n",
    "    reg_alpha=best['reg_alpha'],\n",
    "    reg_lambda=best['reg_lambda'],\n",
    "    objective='binary:logistic'  # 二分类问题\n",
    ")\n",
    "model_resampled.fit(X_resampled,y_resampled)\n",
    "test_score = balanced_accuracy_score(y_test,model_resampled.predict(Xs_test))\n",
    "print(test_score)"
   ],
   "metadata": {
    "collapsed": false,
    "ExecuteTime": {
     "end_time": "2024-02-26T23:58:23.615143300Z",
     "start_time": "2024-02-26T23:58:23.382237600Z"
    }
   },
   "id": "a15f7f5d6f3e2015"
  },
  {
   "cell_type": "code",
   "execution_count": 12,
   "outputs": [],
   "source": [
    "from matplotlib import pyplot as plt\n",
    "from sklearn.feature_selection import SelectKBest, mutual_info_classif\n",
    "\n",
    "#feature selection\n",
    "#RFE\n",
    "score = []\n",
    "scorer = make_scorer(balanced_accuracy_score)\n",
    "for i in range(26,5,-1):\n",
    "\tX_mutual = SelectKBest(score_func=mutual_info_classif, k=i).fit_transform(X_resampled, y_resampled)\n",
    "\tonce = cross_val_score(model_resampled, X_mutual, y_resampled, cv=10,scoring=scorer)\n",
    "\tscore.append(once.mean())\n"
   ],
   "metadata": {
    "collapsed": false,
    "ExecuteTime": {
     "end_time": "2024-02-26T23:59:26.989810400Z",
     "start_time": "2024-02-26T23:58:53.088839900Z"
    }
   },
   "id": "ffda5e1a077cc371"
  },
  {
   "cell_type": "code",
   "execution_count": 13,
   "outputs": [
    {
     "data": {
      "text/plain": "<Figure size 432x288 with 1 Axes>",
      "image/png": "[encoded data removed]"
     },
     "metadata": {
      "needs_background": "light"
     },
     "output_type": "display_data"
    }
   ],
   "source": [
    "plt.plot(range(26,5,-1), score)\n",
    "plt.show()    "
   ],
   "metadata": {
    "collapsed": false,
    "ExecuteTime": {
     "end_time": "2024-02-26T23:59:30.761375900Z",
     "start_time": "2024-02-26T23:59:30.562588500Z"
    }
   },
   "id": "96656851bcab3cda"
  },
  {
   "cell_type": "code",
   "execution_count": 14,
   "outputs": [
    {
     "name": "stdout",
     "output_type": "stream",
     "text": [
      "Fitting estimator with 13 features.\n",
      "Fitting estimator with 12 features.\n",
      "Fitting estimator with 11 features.\n",
      "Fitting estimator with 10 features.\n",
      "Fitting estimator with 9 features.\n",
      "Fitting estimator with 8 features.\n",
      "Fitting estimator with 7 features.\n",
      "Fitting estimator with 6 features.\n",
      "Fitting estimator with 13 features.\n",
      "Fitting estimator with 12 features.\n",
      "Fitting estimator with 11 features.\n",
      "Fitting estimator with 10 features.\n",
      "Fitting estimator with 9 features.\n",
      "Fitting estimator with 8 features.\n",
      "Fitting estimator with 7 features.\n",
      "Fitting estimator with 6 features.\n",
      "Fitting estimator with 13 features.\n",
      "Fitting estimator with 12 features.\n",
      "Fitting estimator with 11 features.\n",
      "Fitting estimator with 10 features.\n",
      "Fitting estimator with 9 features.\n",
      "Fitting estimator with 8 features.\n",
      "Fitting estimator with 7 features.\n",
      "Fitting estimator with 6 features.\n",
      "Fitting estimator with 13 features.\n",
      "Fitting estimator with 12 features.\n",
      "Fitting estimator with 11 features.\n",
      "Fitting estimator with 10 features.\n",
      "Fitting estimator with 9 features.\n",
      "Fitting estimator with 8 features.\n",
      "Fitting estimator with 7 features.\n",
      "Fitting estimator with 6 features.\n",
      "Fitting estimator with 13 features.\n",
      "Fitting estimator with 12 features.\n",
      "Fitting estimator with 11 features.\n",
      "Fitting estimator with 10 features.\n",
      "Fitting estimator with 9 features.\n",
      "Fitting estimator with 8 features.\n",
      "Fitting estimator with 7 features.\n",
      "Fitting estimator with 6 features.\n",
      "Fitting estimator with 13 features.\n",
      "Fitting estimator with 12 features.\n",
      "Fitting estimator with 11 features.\n",
      "Fitting estimator with 10 features.\n",
      "Fitting estimator with 9 features.\n",
      "Fitting estimator with 8 features.\n",
      "Fitting estimator with 7 features.\n",
      "RFECVresult——————————————————————————————————————————————————\n",
      "valid : 6\n",
      "ranking : [1, 1, 1, 1, 3, 1, 7, 8, 5, 1, 4, 6, 2]\n"
     ]
    }
   ],
   "source": [
    "from sklearn.feature_selection import RFECV\n",
    "\n",
    "X_mutual = SelectKBest(score_func=mutual_info_classif, k=13).fit_transform(X_resampled, y_resampled)\n",
    "rfecv = RFECV(estimator=model_resampled,  \n",
    "              min_features_to_select=5, \n",
    "              step=1,               \n",
    "              cv=5,\n",
    "              verbose = 1,\n",
    "              n_jobs = 1\n",
    "              ).fit(X_mutual,y_resampled)\n",
    "X_RFECV = rfecv.transform(X_mutual)\n",
    "print(\"RFECVresult——————————————————————————————————————————————————\")\n",
    "print(\"valid : %d\" % rfecv.n_features_)\n",
    "print(\"ranking : %s\" % list(rfecv.ranking_))"
   ],
   "metadata": {
    "collapsed": false,
    "ExecuteTime": {
     "end_time": "2024-02-27T00:00:15.366497500Z",
     "start_time": "2024-02-27T00:00:08.765473200Z"
    }
   },
   "id": "ed0d5fc9ea421690"
  },
  {
   "cell_type": "code",
   "execution_count": 15,
   "outputs": [
    {
     "name": "stdout",
     "output_type": "stream",
     "text": [
      "Selected feature names: ['GC_Content', 'CAI', 'A', 'R', 'D', 'G']\n"
     ]
    }
   ],
   "source": [
    "all_feature_names = [\"GC_Content\",\"CAI\",\"A\",\"R\",\"N\",\"D\",\"C\",\"Q\",\"E\",\"G\",\"H\",\"I\",\"L\",\"K\",\"M\",\"F\",\"P\",\"S\",\"T\",\"W\",\"Y\",\"V\",\"SE2\",\"SE3\",\"GE2\",\"GE3\"]\n",
    "selected_feature_names = [all_feature_names[i] for i, rank in enumerate(rfecv.ranking_) if rank == 1]\n",
    "\n",
    "print(\"Selected feature names:\", selected_feature_names)"
   ],
   "metadata": {
    "collapsed": false,
    "ExecuteTime": {
     "end_time": "2024-02-27T00:00:20.030226900Z",
     "start_time": "2024-02-27T00:00:20.007899Z"
    }
   },
   "id": "d860c614bfc30fa5"
  },
  {
   "cell_type": "code",
   "execution_count": 16,
   "outputs": [
    {
     "name": "stdout",
     "output_type": "stream",
     "text": [
      "0.8635226741467976\n"
     ]
    }
   ],
   "source": [
    "Wrapper_score = cross_val_score(model_resampled,X_RFECV,y_resampled,cv=5,scoring=scorer).mean()\n",
    "print(Wrapper_score)"
   ],
   "metadata": {
    "collapsed": false,
    "ExecuteTime": {
     "end_time": "2024-02-27T00:00:28.601650900Z",
     "start_time": "2024-02-27T00:00:27.402764Z"
    }
   },
   "id": "e9f6cbeebf1daef2"
  },
  {
   "cell_type": "code",
   "execution_count": 19,
   "outputs": [
    {
     "name": "stdout",
     "output_type": "stream",
     "text": [
      "0.9090518300171948\n"
     ]
    }
   ],
   "source": [
    "model_resampled.fit(X_resampled,y_resampled)\n",
    "Xs_test_mutual = SelectKBest(mutual_info_classif, k=13).fit_transform(Xs_test,y_test)\n",
    "Xs_test_rfe = rfecv.transform(Xs_test_mutual)\n",
    "test_score = balanced_accuracy_score(y_test, model_resampled.predict(Xs_test))\n",
    "print(test_score)"
   ],
   "metadata": {
    "collapsed": false,
    "ExecuteTime": {
     "end_time": "2024-02-27T00:01:04.414298300Z",
     "start_time": "2024-02-27T00:01:04.069679Z"
    }
   },
   "id": "63be367fb65338c1"
  },
  {
   "cell_type": "code",
   "execution_count": 20,
   "outputs": [],
   "source": [
    "def feature_selection(Xs,y):\n",
    "    Xs_result = SelectKBest(mutual_info_classif, k=13).fit_transform(Xs,y)\n",
    "    Xs_result = rfecv.transform(Xs_result)\n",
    "    return Xs_result"
   ],
   "metadata": {
    "collapsed": false,
    "ExecuteTime": {
     "end_time": "2024-02-27T00:01:10.822051900Z",
     "start_time": "2024-02-27T00:01:10.770183100Z"
    }
   },
   "id": "466ca38bcba90413"
  },
  {
   "cell_type": "code",
   "execution_count": 21,
   "outputs": [
    {
     "name": "stdout",
     "output_type": "stream",
     "text": [
      "100%|██████████| 50/50 [00:44<00:00,  1.13trial/s, best loss: -0.8679406264609633]\n",
      "0.5\n",
      "100%|██████████| 50/50 [00:52<00:00,  1.06s/trial, best loss: -0.8681318681318683]\n",
      "0.5\n",
      "100%|██████████| 50/50 [00:45<00:00,  1.10trial/s, best loss: -0.8711164493250972]\n",
      "0.5016556291390728\n",
      "100%|██████████| 50/50 [00:47<00:00,  1.05trial/s, best loss: -0.8670441546556852]\n",
      "0.7238127893022458\n",
      "100%|██████████| 50/50 [00:45<00:00,  1.09trial/s, best loss: -0.8661371237458194]\n",
      "0.5\n",
      "100%|██████████| 50/50 [00:42<00:00,  1.18trial/s, best loss: -0.8634992987377279]\n",
      "0.5\n",
      "100%|██████████| 50/50 [00:50<00:00,  1.01s/trial, best loss: -0.8723747426218257]\n",
      "0.5017182130584192\n",
      "100%|██████████| 50/50 [00:45<00:00,  1.09trial/s, best loss: -0.8604781514527566]\n",
      "0.5015151515151515\n",
      "100%|██████████| 50/50 [00:43<00:00,  1.15trial/s, best loss: -0.8558730158730159]\n",
      "0.7122512010981469\n",
      "100%|██████████| 50/50 [00:44<00:00,  1.11trial/s, best loss: -0.8647563486616334]\n",
      "0.8484848484848485\n",
      "100%|██████████| 50/50 [00:40<00:00,  1.22trial/s, best loss: -0.850888265544647] \n",
      "0.501466275659824\n",
      "100%|██████████| 50/50 [00:41<00:00,  1.20trial/s, best loss: -0.8652631578947367]\n",
      "0.5705128205128205\n",
      "100%|██████████| 50/50 [00:34<00:00,  1.45trial/s, best loss: -0.8285714285714286]\n",
      "0.5017301038062284\n"
     ]
    }
   ],
   "source": [
    "models= []\n",
    "score = 0\n",
    "scores = []\n",
    "\n",
    "for i in range(0,15):\n",
    "    if i == 3 :\n",
    "        scores.append(0.5127968346578312)\n",
    "        continue\n",
    "    if i ==12:\n",
    "        scores.append(0.5123582987129056)\n",
    "        continue\n",
    "    train_data, test_data = generate_train_test_dataset(i)\n",
    "    Xs_train,y_train = handle_dataset(train_data)\n",
    "    Xs_test,y_test = handle_dataset(test_data)\n",
    "    rus = RandomUnderSampler(sampling_strategy='auto', random_state=42)\n",
    "    X_resampled, y_resampled = rus.fit_resample(Xs_train, y_train)\n",
    "    X_resampled = feature_selection(X_resampled,y_resampled)\n",
    "    trials = Trials()\n",
    "    best=fmin(fn=xgb_bca_cv, # function to optimize\n",
    "          space=space, \n",
    "          algo=tpe.suggest, # optimization algorithm, hyperotp will select its parameters automatically\n",
    "          max_evals=50, # maximum number of iterations\n",
    "          trials=trials, # logging\n",
    "          rstate=np.random.default_rng(42) # fixing random state for the reproducibility\n",
    "    )\n",
    "    model = XGBClassifier(\n",
    "    n_estimators=int(best['n_estimators']),\n",
    "    max_depth=int(best['max_depth']),\n",
    "    learning_rate=best['learning_rate'],\n",
    "    subsample=best['subsample'],\n",
    "    colsample_bytree=best['colsample_bytree'],\n",
    "    gamma=best['gamma'],\n",
    "    reg_alpha=best['reg_alpha'],\n",
    "    reg_lambda=best['reg_lambda'],\n",
    "    objective='binary:logistic'  # 二分类问题\n",
    ")\n",
    "    models.append(model)\n",
    "    model.fit(X_resampled,y_resampled)\n",
    "    Xs_test_fs = feature_selection(Xs_test,y_test)\n",
    "    tpe_test_score=balanced_accuracy_score(y_test, model.predict(Xs_test_fs))\n",
    "    scores.append(tpe_test_score)\n",
    "    print(tpe_test_score)\n",
    "    if score < tpe_test_score:\n",
    "        score = tpe_test_score\n",
    "        best_model = model"
   ],
   "metadata": {
    "collapsed": false,
    "ExecuteTime": {
     "end_time": "2024-02-27T00:11:37.612299100Z",
     "start_time": "2024-02-27T00:01:50.318628600Z"
    }
   },
   "id": "f99209334cf39f25"
  },
  {
   "cell_type": "code",
   "execution_count": 22,
   "outputs": [
    {
     "name": "stdout",
     "output_type": "stream",
     "text": [
      "[0.5, 0.5, 0.5016556291390728, 0.5127968346578312, 0.7238127893022458, 0.5, 0.5, 0.5017182130584192, 0.5015151515151515, 0.7122512010981469, 0.8484848484848485, 0.501466275659824, 0.5123582987129056, 0.5705128205128205, 0.5017301038062284]\n"
     ]
    }
   ],
   "source": [
    "print(scores)"
   ],
   "metadata": {
    "collapsed": false,
    "ExecuteTime": {
     "end_time": "2024-02-27T00:13:27.647902400Z",
     "start_time": "2024-02-27T00:13:27.622733300Z"
    }
   },
   "id": "2f85ffcbe90faba9"
  },
  {
   "cell_type": "code",
   "execution_count": 23,
   "outputs": [
    {
     "name": "stdout",
     "output_type": "stream",
     "text": [
      "100%|██████████| 50/50 [00:49<00:00,  1.00trial/s, best loss: -0.8670441546556852]\n"
     ]
    }
   ],
   "source": [
    "train_data, test_data = generate_train_test_dataset(4)\n",
    "Xs_train,y_train = handle_dataset(train_data)\n",
    "Xs_test,y_test = handle_dataset(test_data)\n",
    "rus = RandomUnderSampler(sampling_strategy='auto', random_state=42)\n",
    "X_resampled, y_resampled = rus.fit_resample(Xs_train, y_train)\n",
    "X_resampled = feature_selection(X_resampled,y_resampled)\n",
    "trials = Trials()\n",
    "best=fmin(fn=xgb_bca_cv, # function to optimize\n",
    "          space=space, \n",
    "          algo=tpe.suggest, # optimization algorithm, hyperotp will select its parameters automatically\n",
    "          max_evals=50, # maximum number of iterations\n",
    "          trials=trials, # logging\n",
    "          rstate=np.random.default_rng(42) # fixing random state for the reproducibility\n",
    "          )\n",
    "model = XGBClassifier(\n",
    "    n_estimators=int(best['n_estimators']),\n",
    "    max_depth=int(best['max_depth']),\n",
    "    learning_rate=best['learning_rate'],\n",
    "    subsample=best['subsample'],\n",
    "    colsample_bytree=best['colsample_bytree'],\n",
    "    gamma=best['gamma'],\n",
    "    reg_alpha=best['reg_alpha'],\n",
    "    reg_lambda=best['reg_lambda'],\n",
    "    objective='binary:logistic'  # 二分类问题\n",
    ")"
   ],
   "metadata": {
    "collapsed": false,
    "ExecuteTime": {
     "end_time": "2024-02-27T00:15:10.512340300Z",
     "start_time": "2024-02-27T00:14:20.356464Z"
    }
   },
   "id": "7c13b95ce0e842b"
  },
  {
   "cell_type": "code",
   "execution_count": 24,
   "outputs": [
    {
     "data": {
      "text/plain": "XGBClassifier(base_score=None, booster=None, callbacks=None,\n              colsample_bylevel=None, colsample_bynode=None,\n              colsample_bytree=0.6883911538370099, device=None,\n              early_stopping_rounds=None, enable_categorical=False,\n              eval_metric=None, feature_types=None, gamma=0.12162462933487812,\n              grow_policy=None, importance_type=None,\n              interaction_constraints=None, learning_rate=0.19705465828411872,\n              max_bin=None, max_cat_threshold=None, max_cat_to_onehot=None,\n              max_delta_step=None, max_depth=5, max_leaves=None,\n              min_child_weight=None, missing=nan, monotone_constraints=None,\n              multi_strategy=None, n_estimators=700, n_jobs=None,\n              num_parallel_tree=None, random_state=None, ...)",
      "text/html": "<style>#sk-container-id-1 {color: black;}#sk-container-id-1 pre{padding: 0;}#sk-container-id-1 div.sk-toggleable {background-color: white;}#sk-container-id-1 label.sk-toggleable__label {cursor: pointer;display: block;width: 100%;margin-bottom: 0;padding: 0.3em;box-sizing: border-box;text-align: center;}#sk-container-id-1 label.sk-toggleable__label-arrow:before {content: \"▸\";float: left;margin-right: 0.25em;color: #696969;}#sk-container-id-1 label.sk-toggleable__label-arrow:hover:before {color: black;}#sk-container-id-1 div.sk-estimator:hover label.sk-toggleable__label-arrow:before {color: black;}#sk-container-id-1 div.sk-toggleable__content {max-height: 0;max-width: 0;overflow: hidden;text-align: left;background-color: #f0f8ff;}#sk-container-id-1 div.sk-toggleable__content pre {margin: 0.2em;color: black;border-radius: 0.25em;background-color: #f0f8ff;}#sk-container-id-1 input.sk-toggleable__control:checked~div.sk-toggleable__content {max-height: 200px;max-width: 100%;overflow: auto;}#sk-container-id-1 input.sk-toggleable__control:checked~label.sk-toggleable__label-arrow:before {content: \"▾\";}#sk-container-id-1 div.sk-estimator input.sk-toggleable__control:checked~label.sk-toggleable__label {background-color: #d4ebff;}#sk-container-id-1 div.sk-label input.sk-toggleable__control:checked~label.sk-toggleable__label {background-color: #d4ebff;}#sk-container-id-1 input.sk-hidden--visually {border: 0;clip: rect(1px 1px 1px 1px);clip: rect(1px, 1px, 1px, 1px);height: 1px;margin: -1px;overflow: hidden;padding: 0;position: absolute;width: 1px;}#sk-container-id-1 div.sk-estimator {font-family: monospace;background-color: #f0f8ff;border: 1px dotted black;border-radius: 0.25em;box-sizing: border-box;margin-bottom: 0.5em;}#sk-container-id-1 div.sk-estimator:hover {background-color: #d4ebff;}#sk-container-id-1 div.sk-parallel-item::after {content: \"\";width: 100%;border-bottom: 1px solid gray;flex-grow: 1;}#sk-container-id-1 div.sk-label:hover label.sk-toggleable__label {background-color: #d4ebff;}#sk-container-id-1 div.sk-serial::before {content: \"\";position: absolute;border-left: 1px solid gray;box-sizing: border-box;top: 0;bottom: 0;left: 50%;z-index: 0;}#sk-container-id-1 div.sk-serial {display: flex;flex-direction: column;align-items: center;background-color: white;padding-right: 0.2em;padding-left: 0.2em;position: relative;}#sk-container-id-1 div.sk-item {position: relative;z-index: 1;}#sk-container-id-1 div.sk-parallel {display: flex;align-items: stretch;justify-content: center;background-color: white;position: relative;}#sk-container-id-1 div.sk-item::before, #sk-container-id-1 div.sk-parallel-item::before {content: \"\";position: absolute;border-left: 1px solid gray;box-sizing: border-box;top: 0;bottom: 0;left: 50%;z-index: -1;}#sk-container-id-1 div.sk-parallel-item {display: flex;flex-direction: column;z-index: 1;position: relative;background-color: white;}#sk-container-id-1 div.sk-parallel-item:first-child::after {align-self: flex-end;width: 50%;}#sk-container-id-1 div.sk-parallel-item:last-child::after {align-self: flex-start;width: 50%;}#sk-container-id-1 div.sk-parallel-item:only-child::after {width: 0;}#sk-container-id-1 div.sk-dashed-wrapped {border: 1px dashed gray;margin: 0 0.4em 0.5em 0.4em;box-sizing: border-box;padding-bottom: 0.4em;background-color: white;}#sk-container-id-1 div.sk-label label {font-family: monospace;font-weight: bold;display: inline-block;line-height: 1.2em;}#sk-container-id-1 div.sk-label-container {text-align: center;}#sk-container-id-1 div.sk-container {/* jupyter's `normalize.less` sets `[hidden] { display: none; }` but bootstrap.min.css set `[hidden] { display: none !important; }` so we also need the `!important` here to be able to override the default hidden behavior on the sphinx rendered scikit-learn.org. See: https://github.com/scikit-learn/scikit-learn/issues/21755 */display: inline-block !important;position: relative;}#sk-container-id-1 div.sk-text-repr-fallback {display: none;}</style><div id=\"sk-container-id-1\" class=\"sk-top-container\"><div class=\"sk-text-repr-fallback\"><pre>XGBClassifier(base_score=None, booster=None, callbacks=None,\n              colsample_bylevel=None, colsample_bynode=None,\n              colsample_bytree=0.6883911538370099, device=None,\n              early_stopping_rounds=None, enable_categorical=False,\n              eval_metric=None, feature_types=None, gamma=0.12162462933487812,\n              grow_policy=None, importance_type=None,\n              interaction_constraints=None, learning_rate=0.19705465828411872,\n              max_bin=None, max_cat_threshold=None, max_cat_to_onehot=None,\n              max_delta_step=None, max_depth=5, max_leaves=None,\n              min_child_weight=None, missing=nan, monotone_constraints=None,\n              multi_strategy=None, n_estimators=700, n_jobs=None,\n              num_parallel_tree=None, random_state=None, ...)</pre><b>In a Jupyter environment, please rerun this cell to show the HTML representation or trust the notebook. <br />On GitHub, the HTML representation is unable to render, please try loading this page with nbviewer.org.</b></div><div class=\"sk-container\" hidden><div class=\"sk-item\"><div class=\"sk-estimator sk-toggleable\"><input class=\"sk-toggleable__control sk-hidden--visually\" id=\"sk-estimator-id-1\" type=\"checkbox\" checked><label for=\"sk-estimator-id-1\" class=\"sk-toggleable__label sk-toggleable__label-arrow\">XGBClassifier</label><div class=\"sk-toggleable__content\"><pre>XGBClassifier(base_score=None, booster=None, callbacks=None,\n              colsample_bylevel=None, colsample_bynode=None,\n              colsample_bytree=0.6883911538370099, device=None,\n              early_stopping_rounds=None, enable_categorical=False,\n              eval_metric=None, feature_types=None, gamma=0.12162462933487812,\n              grow_policy=None, importance_type=None,\n              interaction_constraints=None, learning_rate=0.19705465828411872,\n              max_bin=None, max_cat_threshold=None, max_cat_to_onehot=None,\n              max_delta_step=None, max_depth=5, max_leaves=None,\n              min_child_weight=None, missing=nan, monotone_constraints=None,\n              multi_strategy=None, n_estimators=700, n_jobs=None,\n              num_parallel_tree=None, random_state=None, ...)</pre></div></div></div></div></div>"
     },
     "execution_count": 24,
     "metadata": {},
     "output_type": "execute_result"
    }
   ],
   "source": [
    "model.fit(X_resampled,y_resampled)"
   ],
   "metadata": {
    "collapsed": false,
    "ExecuteTime": {
     "end_time": "2024-02-27T00:15:31.340367500Z",
     "start_time": "2024-02-27T00:15:31.108366100Z"
    }
   },
   "id": "9c69c4fef8b7c331"
  },
  {
   "cell_type": "code",
   "execution_count": 25,
   "outputs": [
    {
     "data": {
      "text/plain": "['../../model/XGB_FS_model.joblib']"
     },
     "execution_count": 25,
     "metadata": {},
     "output_type": "execute_result"
    }
   ],
   "source": [
    "from joblib import dump\n",
    "\n",
    "dump(model, '../../model/XGB_FS_model.joblib')"
   ],
   "metadata": {
    "collapsed": false,
    "ExecuteTime": {
     "end_time": "2024-02-27T00:16:30.462823300Z",
     "start_time": "2024-02-27T00:16:30.399267200Z"
    }
   },
   "id": "e1662d535c1563a7"
  },
  {
   "cell_type": "code",
   "execution_count": 26,
   "outputs": [
    {
     "name": "stdout",
     "output_type": "stream",
     "text": [
      "100%|██████████| 50/50 [01:25<00:00,  1.71s/trial, best loss: -0.8668887330528283]\n",
      "0.9090518300171948\n",
      "100%|██████████| 50/50 [02:03<00:00,  2.47s/trial, best loss: -0.8780219780219781]\n",
      "0.8448123620309052\n",
      "100%|██████████| 50/50 [02:07<00:00,  2.55s/trial, best loss: -0.8689659116906887]\n",
      "0.6686672185430463\n",
      "100%|██████████| 50/50 [02:18<00:00,  2.77s/trial, best loss: -0.8581400343642611]\n",
      "0.9465020576131687\n",
      "100%|██████████| 50/50 [02:01<00:00,  2.43s/trial, best loss: -0.8648936170212768]\n",
      "0.8195611177781588\n",
      "100%|██████████| 50/50 [02:07<00:00,  2.55s/trial, best loss: -0.8748924988055423]\n",
      "0.8788696060037524\n",
      "100%|██████████| 50/50 [01:33<00:00,  1.87s/trial, best loss: -0.8722417017297802]\n",
      "0.8385730211817168\n",
      "100%|██████████| 50/50 [01:34<00:00,  1.88s/trial, best loss: -0.8745710363761153]\n",
      "0.9181587990595044\n",
      "100%|██████████| 50/50 [01:27<00:00,  1.75s/trial, best loss: -0.883848089681995] \n",
      "0.834469696969697\n",
      "100%|██████████| 50/50 [02:09<00:00,  2.59s/trial, best loss: -0.856947496947497] \n",
      "0.9352387488969507\n",
      "100%|██████████| 50/50 [01:55<00:00,  2.32s/trial, best loss: -0.8690116678105697]\n",
      "0.9142045454545454\n",
      "100%|██████████| 50/50 [02:21<00:00,  2.83s/trial, best loss: -0.8682445067788687]\n",
      "0.8658357771260997\n",
      "100%|██████████| 50/50 [01:39<00:00,  1.98s/trial, best loss: -0.875]             \n",
      "0.8621212121212121\n",
      "100%|██████████| 50/50 [01:52<00:00,  2.24s/trial, best loss: -0.8768421052631579]\n",
      "0.917948717948718\n",
      "100%|██████████| 50/50 [01:33<00:00,  1.86s/trial, best loss: -0.8410714285714285]\n",
      "0.58776268039497\n"
     ]
    }
   ],
   "source": [
    "models_nfs= []\n",
    "score = 0\n",
    "scores_nfs = []\n",
    "for i in range(0,15):\n",
    "    train_data, test_data = generate_train_test_dataset(i)\n",
    "    Xs_train,y_train = handle_dataset(train_data)\n",
    "    Xs_test,y_test = handle_dataset(test_data)\n",
    "    rus = RandomUnderSampler(sampling_strategy='auto', random_state=42)\n",
    "    X_resampled, y_resampled = rus.fit_resample(Xs_train, y_train)\n",
    "    trials = Trials()\n",
    "    best=fmin(fn=xgb_bca_cv, # function to optimize\n",
    "          space=space, \n",
    "          algo=tpe.suggest, # optimization algorithm, hyperotp will select its parameters automatically\n",
    "          max_evals=50, # maximum number of iterations\n",
    "          trials=trials, # logging\n",
    "          rstate=np.random.default_rng(42) # fixing random state for the reproducibility\n",
    "    )\n",
    "    model = XGBClassifier(\n",
    "    n_estimators=int(best['n_estimators']),\n",
    "    max_depth=int(best['max_depth']),\n",
    "    learning_rate=best['learning_rate'],\n",
    "    subsample=best['subsample'],\n",
    "    colsample_bytree=best['colsample_bytree'],\n",
    "    gamma=best['gamma'],\n",
    "    reg_alpha=best['reg_alpha'],\n",
    "    reg_lambda=best['reg_lambda'],\n",
    "    objective='binary:logistic'  # 二分类问题\n",
    ")\n",
    "    models_nfs.append(model)\n",
    "    model.fit(X_resampled,y_resampled)\n",
    "    tpe_test_score=balanced_accuracy_score(y_test, model.predict(Xs_test))\n",
    "    scores_nfs.append(tpe_test_score)\n",
    "    print(tpe_test_score)\n",
    "    if score < tpe_test_score:\n",
    "        score = tpe_test_score\n",
    "        best_model_nfs = model"
   ],
   "metadata": {
    "collapsed": false,
    "ExecuteTime": {
     "end_time": "2024-02-27T00:45:00.819161900Z",
     "start_time": "2024-02-27T00:16:42.675699500Z"
    }
   },
   "id": "6f3aa49b2bdcb63b"
  },
  {
   "cell_type": "code",
   "execution_count": 27,
   "outputs": [
    {
     "name": "stdout",
     "output_type": "stream",
     "text": [
      "[0.9090518300171948, 0.8448123620309052, 0.6686672185430463, 0.9465020576131687, 0.8195611177781588, 0.8788696060037524, 0.8385730211817168, 0.9181587990595044, 0.834469696969697, 0.9352387488969507, 0.9142045454545454, 0.8658357771260997, 0.8621212121212121, 0.917948717948718, 0.58776268039497]\n"
     ]
    }
   ],
   "source": [
    "print(scores_nfs)"
   ],
   "metadata": {
    "collapsed": false,
    "ExecuteTime": {
     "end_time": "2024-02-27T00:45:54.455123400Z",
     "start_time": "2024-02-27T00:45:54.433340700Z"
    }
   },
   "id": "8e57d0a32d4181da"
  },
  {
   "cell_type": "code",
   "execution_count": 28,
   "outputs": [
    {
     "name": "stdout",
     "output_type": "stream",
     "text": [
      " 12%|█▏        | 6/50 [00:11<01:21,  1.86s/trial, best loss: -0.8498389175257733]\n"
     ]
    },
    {
     "ename": "KeyboardInterrupt",
     "evalue": "",
     "output_type": "error",
     "traceback": [
      "\u001B[1;31m---------------------------------------------------------------------------\u001B[0m",
      "\u001B[1;31mKeyboardInterrupt\u001B[0m                         Traceback (most recent call last)",
      "Input \u001B[1;32mIn [28]\u001B[0m, in \u001B[0;36m<cell line: 6>\u001B[1;34m()\u001B[0m\n\u001B[0;32m      4\u001B[0m X_resampled, y_resampled \u001B[38;5;241m=\u001B[39m rus\u001B[38;5;241m.\u001B[39mfit_resample(Xs_train, y_train)\n\u001B[0;32m      5\u001B[0m trials \u001B[38;5;241m=\u001B[39m Trials()\n\u001B[1;32m----> 6\u001B[0m best\u001B[38;5;241m=\u001B[39m\u001B[43mfmin\u001B[49m\u001B[43m(\u001B[49m\u001B[43mfn\u001B[49m\u001B[38;5;241;43m=\u001B[39;49m\u001B[43mxgb_bca_cv\u001B[49m\u001B[43m,\u001B[49m\u001B[43m \u001B[49m\u001B[38;5;66;43;03m# function to optimize\u001B[39;49;00m\n\u001B[0;32m      7\u001B[0m \u001B[43m          \u001B[49m\u001B[43mspace\u001B[49m\u001B[38;5;241;43m=\u001B[39;49m\u001B[43mspace\u001B[49m\u001B[43m,\u001B[49m\u001B[43m \u001B[49m\n\u001B[0;32m      8\u001B[0m \u001B[43m          \u001B[49m\u001B[43malgo\u001B[49m\u001B[38;5;241;43m=\u001B[39;49m\u001B[43mtpe\u001B[49m\u001B[38;5;241;43m.\u001B[39;49m\u001B[43msuggest\u001B[49m\u001B[43m,\u001B[49m\u001B[43m \u001B[49m\u001B[38;5;66;43;03m# optimization algorithm, hyperotp will select its parameters automatically\u001B[39;49;00m\n\u001B[0;32m      9\u001B[0m \u001B[43m          \u001B[49m\u001B[43mmax_evals\u001B[49m\u001B[38;5;241;43m=\u001B[39;49m\u001B[38;5;241;43m50\u001B[39;49m\u001B[43m,\u001B[49m\u001B[43m \u001B[49m\u001B[38;5;66;43;03m# maximum number of iterations\u001B[39;49;00m\n\u001B[0;32m     10\u001B[0m \u001B[43m          \u001B[49m\u001B[43mtrials\u001B[49m\u001B[38;5;241;43m=\u001B[39;49m\u001B[43mtrials\u001B[49m\u001B[43m,\u001B[49m\u001B[43m \u001B[49m\u001B[38;5;66;43;03m# logging\u001B[39;49;00m\n\u001B[0;32m     11\u001B[0m \u001B[43m          \u001B[49m\u001B[43mrstate\u001B[49m\u001B[38;5;241;43m=\u001B[39;49m\u001B[43mnp\u001B[49m\u001B[38;5;241;43m.\u001B[39;49m\u001B[43mrandom\u001B[49m\u001B[38;5;241;43m.\u001B[39;49m\u001B[43mdefault_rng\u001B[49m\u001B[43m(\u001B[49m\u001B[38;5;241;43m42\u001B[39;49m\u001B[43m)\u001B[49m\u001B[43m \u001B[49m\u001B[38;5;66;43;03m# fixing random state for the reproducibility\u001B[39;49;00m\n\u001B[0;32m     12\u001B[0m \u001B[43m    \u001B[49m\u001B[43m)\u001B[49m\n\u001B[0;32m     13\u001B[0m best_model \u001B[38;5;241m=\u001B[39m XGBClassifier(\n\u001B[0;32m     14\u001B[0m     n_estimators\u001B[38;5;241m=\u001B[39m\u001B[38;5;28mint\u001B[39m(best[\u001B[38;5;124m'\u001B[39m\u001B[38;5;124mn_estimators\u001B[39m\u001B[38;5;124m'\u001B[39m]),\n\u001B[0;32m     15\u001B[0m     max_depth\u001B[38;5;241m=\u001B[39m\u001B[38;5;28mint\u001B[39m(best[\u001B[38;5;124m'\u001B[39m\u001B[38;5;124mmax_depth\u001B[39m\u001B[38;5;124m'\u001B[39m]),\n\u001B[1;32m   (...)\u001B[0m\n\u001B[0;32m     22\u001B[0m     objective\u001B[38;5;241m=\u001B[39m\u001B[38;5;124m'\u001B[39m\u001B[38;5;124mbinary:logistic\u001B[39m\u001B[38;5;124m'\u001B[39m  \u001B[38;5;66;03m# 二分类问题\u001B[39;00m\n\u001B[0;32m     23\u001B[0m )\n",
      "File \u001B[1;32m~\\AppData\\Roaming\\Python\\Python39\\site-packages\\hyperopt\\fmin.py:540\u001B[0m, in \u001B[0;36mfmin\u001B[1;34m(fn, space, algo, max_evals, timeout, loss_threshold, trials, rstate, allow_trials_fmin, pass_expr_memo_ctrl, catch_eval_exceptions, verbose, return_argmin, points_to_evaluate, max_queue_len, show_progressbar, early_stop_fn, trials_save_file)\u001B[0m\n\u001B[0;32m    537\u001B[0m     fn \u001B[38;5;241m=\u001B[39m __objective_fmin_wrapper(fn)\n\u001B[0;32m    539\u001B[0m \u001B[38;5;28;01mif\u001B[39;00m allow_trials_fmin \u001B[38;5;129;01mand\u001B[39;00m \u001B[38;5;28mhasattr\u001B[39m(trials, \u001B[38;5;124m\"\u001B[39m\u001B[38;5;124mfmin\u001B[39m\u001B[38;5;124m\"\u001B[39m):\n\u001B[1;32m--> 540\u001B[0m     \u001B[38;5;28;01mreturn\u001B[39;00m \u001B[43mtrials\u001B[49m\u001B[38;5;241;43m.\u001B[39;49m\u001B[43mfmin\u001B[49m\u001B[43m(\u001B[49m\n\u001B[0;32m    541\u001B[0m \u001B[43m        \u001B[49m\u001B[43mfn\u001B[49m\u001B[43m,\u001B[49m\n\u001B[0;32m    542\u001B[0m \u001B[43m        \u001B[49m\u001B[43mspace\u001B[49m\u001B[43m,\u001B[49m\n\u001B[0;32m    543\u001B[0m \u001B[43m        \u001B[49m\u001B[43malgo\u001B[49m\u001B[38;5;241;43m=\u001B[39;49m\u001B[43malgo\u001B[49m\u001B[43m,\u001B[49m\n\u001B[0;32m    544\u001B[0m \u001B[43m        \u001B[49m\u001B[43mmax_evals\u001B[49m\u001B[38;5;241;43m=\u001B[39;49m\u001B[43mmax_evals\u001B[49m\u001B[43m,\u001B[49m\n\u001B[0;32m    545\u001B[0m \u001B[43m        \u001B[49m\u001B[43mtimeout\u001B[49m\u001B[38;5;241;43m=\u001B[39;49m\u001B[43mtimeout\u001B[49m\u001B[43m,\u001B[49m\n\u001B[0;32m    546\u001B[0m \u001B[43m        \u001B[49m\u001B[43mloss_threshold\u001B[49m\u001B[38;5;241;43m=\u001B[39;49m\u001B[43mloss_threshold\u001B[49m\u001B[43m,\u001B[49m\n\u001B[0;32m    547\u001B[0m \u001B[43m        \u001B[49m\u001B[43mmax_queue_len\u001B[49m\u001B[38;5;241;43m=\u001B[39;49m\u001B[43mmax_queue_len\u001B[49m\u001B[43m,\u001B[49m\n\u001B[0;32m    548\u001B[0m \u001B[43m        \u001B[49m\u001B[43mrstate\u001B[49m\u001B[38;5;241;43m=\u001B[39;49m\u001B[43mrstate\u001B[49m\u001B[43m,\u001B[49m\n\u001B[0;32m    549\u001B[0m \u001B[43m        \u001B[49m\u001B[43mpass_expr_memo_ctrl\u001B[49m\u001B[38;5;241;43m=\u001B[39;49m\u001B[43mpass_expr_memo_ctrl\u001B[49m\u001B[43m,\u001B[49m\n\u001B[0;32m    550\u001B[0m \u001B[43m        \u001B[49m\u001B[43mverbose\u001B[49m\u001B[38;5;241;43m=\u001B[39;49m\u001B[43mverbose\u001B[49m\u001B[43m,\u001B[49m\n\u001B[0;32m    551\u001B[0m \u001B[43m        \u001B[49m\u001B[43mcatch_eval_exceptions\u001B[49m\u001B[38;5;241;43m=\u001B[39;49m\u001B[43mcatch_eval_exceptions\u001B[49m\u001B[43m,\u001B[49m\n\u001B[0;32m    552\u001B[0m \u001B[43m        \u001B[49m\u001B[43mreturn_argmin\u001B[49m\u001B[38;5;241;43m=\u001B[39;49m\u001B[43mreturn_argmin\u001B[49m\u001B[43m,\u001B[49m\n\u001B[0;32m    553\u001B[0m \u001B[43m        \u001B[49m\u001B[43mshow_progressbar\u001B[49m\u001B[38;5;241;43m=\u001B[39;49m\u001B[43mshow_progressbar\u001B[49m\u001B[43m,\u001B[49m\n\u001B[0;32m    554\u001B[0m \u001B[43m        \u001B[49m\u001B[43mearly_stop_fn\u001B[49m\u001B[38;5;241;43m=\u001B[39;49m\u001B[43mearly_stop_fn\u001B[49m\u001B[43m,\u001B[49m\n\u001B[0;32m    555\u001B[0m \u001B[43m        \u001B[49m\u001B[43mtrials_save_file\u001B[49m\u001B[38;5;241;43m=\u001B[39;49m\u001B[43mtrials_save_file\u001B[49m\u001B[43m,\u001B[49m\n\u001B[0;32m    556\u001B[0m \u001B[43m    \u001B[49m\u001B[43m)\u001B[49m\n\u001B[0;32m    558\u001B[0m \u001B[38;5;28;01mif\u001B[39;00m trials \u001B[38;5;129;01mis\u001B[39;00m \u001B[38;5;28;01mNone\u001B[39;00m:\n\u001B[0;32m    559\u001B[0m     \u001B[38;5;28;01mif\u001B[39;00m os\u001B[38;5;241m.\u001B[39mpath\u001B[38;5;241m.\u001B[39mexists(trials_save_file):\n",
      "File \u001B[1;32m~\\AppData\\Roaming\\Python\\Python39\\site-packages\\hyperopt\\base.py:671\u001B[0m, in \u001B[0;36mTrials.fmin\u001B[1;34m(self, fn, space, algo, max_evals, timeout, loss_threshold, max_queue_len, rstate, verbose, pass_expr_memo_ctrl, catch_eval_exceptions, return_argmin, show_progressbar, early_stop_fn, trials_save_file)\u001B[0m\n\u001B[0;32m    666\u001B[0m \u001B[38;5;66;03m# -- Stop-gap implementation!\u001B[39;00m\n\u001B[0;32m    667\u001B[0m \u001B[38;5;66;03m#    fmin should have been a Trials method in the first place\u001B[39;00m\n\u001B[0;32m    668\u001B[0m \u001B[38;5;66;03m#    but for now it's still sitting in another file.\u001B[39;00m\n\u001B[0;32m    669\u001B[0m \u001B[38;5;28;01mfrom\u001B[39;00m \u001B[38;5;21;01m.\u001B[39;00m\u001B[38;5;21;01mfmin\u001B[39;00m \u001B[38;5;28;01mimport\u001B[39;00m fmin\n\u001B[1;32m--> 671\u001B[0m \u001B[38;5;28;01mreturn\u001B[39;00m \u001B[43mfmin\u001B[49m\u001B[43m(\u001B[49m\n\u001B[0;32m    672\u001B[0m \u001B[43m    \u001B[49m\u001B[43mfn\u001B[49m\u001B[43m,\u001B[49m\n\u001B[0;32m    673\u001B[0m \u001B[43m    \u001B[49m\u001B[43mspace\u001B[49m\u001B[43m,\u001B[49m\n\u001B[0;32m    674\u001B[0m \u001B[43m    \u001B[49m\u001B[43malgo\u001B[49m\u001B[38;5;241;43m=\u001B[39;49m\u001B[43malgo\u001B[49m\u001B[43m,\u001B[49m\n\u001B[0;32m    675\u001B[0m \u001B[43m    \u001B[49m\u001B[43mmax_evals\u001B[49m\u001B[38;5;241;43m=\u001B[39;49m\u001B[43mmax_evals\u001B[49m\u001B[43m,\u001B[49m\n\u001B[0;32m    676\u001B[0m \u001B[43m    \u001B[49m\u001B[43mtimeout\u001B[49m\u001B[38;5;241;43m=\u001B[39;49m\u001B[43mtimeout\u001B[49m\u001B[43m,\u001B[49m\n\u001B[0;32m    677\u001B[0m \u001B[43m    \u001B[49m\u001B[43mloss_threshold\u001B[49m\u001B[38;5;241;43m=\u001B[39;49m\u001B[43mloss_threshold\u001B[49m\u001B[43m,\u001B[49m\n\u001B[0;32m    678\u001B[0m \u001B[43m    \u001B[49m\u001B[43mtrials\u001B[49m\u001B[38;5;241;43m=\u001B[39;49m\u001B[38;5;28;43mself\u001B[39;49m\u001B[43m,\u001B[49m\n\u001B[0;32m    679\u001B[0m \u001B[43m    \u001B[49m\u001B[43mrstate\u001B[49m\u001B[38;5;241;43m=\u001B[39;49m\u001B[43mrstate\u001B[49m\u001B[43m,\u001B[49m\n\u001B[0;32m    680\u001B[0m \u001B[43m    \u001B[49m\u001B[43mverbose\u001B[49m\u001B[38;5;241;43m=\u001B[39;49m\u001B[43mverbose\u001B[49m\u001B[43m,\u001B[49m\n\u001B[0;32m    681\u001B[0m \u001B[43m    \u001B[49m\u001B[43mmax_queue_len\u001B[49m\u001B[38;5;241;43m=\u001B[39;49m\u001B[43mmax_queue_len\u001B[49m\u001B[43m,\u001B[49m\n\u001B[0;32m    682\u001B[0m \u001B[43m    \u001B[49m\u001B[43mallow_trials_fmin\u001B[49m\u001B[38;5;241;43m=\u001B[39;49m\u001B[38;5;28;43;01mFalse\u001B[39;49;00m\u001B[43m,\u001B[49m\u001B[43m  \u001B[49m\u001B[38;5;66;43;03m# -- prevent recursion\u001B[39;49;00m\n\u001B[0;32m    683\u001B[0m \u001B[43m    \u001B[49m\u001B[43mpass_expr_memo_ctrl\u001B[49m\u001B[38;5;241;43m=\u001B[39;49m\u001B[43mpass_expr_memo_ctrl\u001B[49m\u001B[43m,\u001B[49m\n\u001B[0;32m    684\u001B[0m \u001B[43m    \u001B[49m\u001B[43mcatch_eval_exceptions\u001B[49m\u001B[38;5;241;43m=\u001B[39;49m\u001B[43mcatch_eval_exceptions\u001B[49m\u001B[43m,\u001B[49m\n\u001B[0;32m    685\u001B[0m \u001B[43m    \u001B[49m\u001B[43mreturn_argmin\u001B[49m\u001B[38;5;241;43m=\u001B[39;49m\u001B[43mreturn_argmin\u001B[49m\u001B[43m,\u001B[49m\n\u001B[0;32m    686\u001B[0m \u001B[43m    \u001B[49m\u001B[43mshow_progressbar\u001B[49m\u001B[38;5;241;43m=\u001B[39;49m\u001B[43mshow_progressbar\u001B[49m\u001B[43m,\u001B[49m\n\u001B[0;32m    687\u001B[0m \u001B[43m    \u001B[49m\u001B[43mearly_stop_fn\u001B[49m\u001B[38;5;241;43m=\u001B[39;49m\u001B[43mearly_stop_fn\u001B[49m\u001B[43m,\u001B[49m\n\u001B[0;32m    688\u001B[0m \u001B[43m    \u001B[49m\u001B[43mtrials_save_file\u001B[49m\u001B[38;5;241;43m=\u001B[39;49m\u001B[43mtrials_save_file\u001B[49m\u001B[43m,\u001B[49m\n\u001B[0;32m    689\u001B[0m \u001B[43m\u001B[49m\u001B[43m)\u001B[49m\n",
      "File \u001B[1;32m~\\AppData\\Roaming\\Python\\Python39\\site-packages\\hyperopt\\fmin.py:586\u001B[0m, in \u001B[0;36mfmin\u001B[1;34m(fn, space, algo, max_evals, timeout, loss_threshold, trials, rstate, allow_trials_fmin, pass_expr_memo_ctrl, catch_eval_exceptions, verbose, return_argmin, points_to_evaluate, max_queue_len, show_progressbar, early_stop_fn, trials_save_file)\u001B[0m\n\u001B[0;32m    583\u001B[0m rval\u001B[38;5;241m.\u001B[39mcatch_eval_exceptions \u001B[38;5;241m=\u001B[39m catch_eval_exceptions\n\u001B[0;32m    585\u001B[0m \u001B[38;5;66;03m# next line is where the fmin is actually executed\u001B[39;00m\n\u001B[1;32m--> 586\u001B[0m \u001B[43mrval\u001B[49m\u001B[38;5;241;43m.\u001B[39;49m\u001B[43mexhaust\u001B[49m\u001B[43m(\u001B[49m\u001B[43m)\u001B[49m\n\u001B[0;32m    588\u001B[0m \u001B[38;5;28;01mif\u001B[39;00m return_argmin:\n\u001B[0;32m    589\u001B[0m     \u001B[38;5;28;01mif\u001B[39;00m \u001B[38;5;28mlen\u001B[39m(trials\u001B[38;5;241m.\u001B[39mtrials) \u001B[38;5;241m==\u001B[39m \u001B[38;5;241m0\u001B[39m:\n",
      "File \u001B[1;32m~\\AppData\\Roaming\\Python\\Python39\\site-packages\\hyperopt\\fmin.py:364\u001B[0m, in \u001B[0;36mFMinIter.exhaust\u001B[1;34m(self)\u001B[0m\n\u001B[0;32m    362\u001B[0m \u001B[38;5;28;01mdef\u001B[39;00m \u001B[38;5;21mexhaust\u001B[39m(\u001B[38;5;28mself\u001B[39m):\n\u001B[0;32m    363\u001B[0m     n_done \u001B[38;5;241m=\u001B[39m \u001B[38;5;28mlen\u001B[39m(\u001B[38;5;28mself\u001B[39m\u001B[38;5;241m.\u001B[39mtrials)\n\u001B[1;32m--> 364\u001B[0m     \u001B[38;5;28;43mself\u001B[39;49m\u001B[38;5;241;43m.\u001B[39;49m\u001B[43mrun\u001B[49m\u001B[43m(\u001B[49m\u001B[38;5;28;43mself\u001B[39;49m\u001B[38;5;241;43m.\u001B[39;49m\u001B[43mmax_evals\u001B[49m\u001B[43m \u001B[49m\u001B[38;5;241;43m-\u001B[39;49m\u001B[43m \u001B[49m\u001B[43mn_done\u001B[49m\u001B[43m,\u001B[49m\u001B[43m \u001B[49m\u001B[43mblock_until_done\u001B[49m\u001B[38;5;241;43m=\u001B[39;49m\u001B[38;5;28;43mself\u001B[39;49m\u001B[38;5;241;43m.\u001B[39;49m\u001B[43masynchronous\u001B[49m\u001B[43m)\u001B[49m\n\u001B[0;32m    365\u001B[0m     \u001B[38;5;28mself\u001B[39m\u001B[38;5;241m.\u001B[39mtrials\u001B[38;5;241m.\u001B[39mrefresh()\n\u001B[0;32m    366\u001B[0m     \u001B[38;5;28;01mreturn\u001B[39;00m \u001B[38;5;28mself\u001B[39m\n",
      "File \u001B[1;32m~\\AppData\\Roaming\\Python\\Python39\\site-packages\\hyperopt\\fmin.py:300\u001B[0m, in \u001B[0;36mFMinIter.run\u001B[1;34m(self, N, block_until_done)\u001B[0m\n\u001B[0;32m    297\u001B[0m     time\u001B[38;5;241m.\u001B[39msleep(\u001B[38;5;28mself\u001B[39m\u001B[38;5;241m.\u001B[39mpoll_interval_secs)\n\u001B[0;32m    298\u001B[0m \u001B[38;5;28;01melse\u001B[39;00m:\n\u001B[0;32m    299\u001B[0m     \u001B[38;5;66;03m# -- loop over trials and do the jobs directly\u001B[39;00m\n\u001B[1;32m--> 300\u001B[0m     \u001B[38;5;28;43mself\u001B[39;49m\u001B[38;5;241;43m.\u001B[39;49m\u001B[43mserial_evaluate\u001B[49m\u001B[43m(\u001B[49m\u001B[43m)\u001B[49m\n\u001B[0;32m    302\u001B[0m \u001B[38;5;28mself\u001B[39m\u001B[38;5;241m.\u001B[39mtrials\u001B[38;5;241m.\u001B[39mrefresh()\n\u001B[0;32m    303\u001B[0m \u001B[38;5;28;01mif\u001B[39;00m \u001B[38;5;28mself\u001B[39m\u001B[38;5;241m.\u001B[39mtrials_save_file \u001B[38;5;241m!=\u001B[39m \u001B[38;5;124m\"\u001B[39m\u001B[38;5;124m\"\u001B[39m:\n",
      "File \u001B[1;32m~\\AppData\\Roaming\\Python\\Python39\\site-packages\\hyperopt\\fmin.py:178\u001B[0m, in \u001B[0;36mFMinIter.serial_evaluate\u001B[1;34m(self, N)\u001B[0m\n\u001B[0;32m    176\u001B[0m ctrl \u001B[38;5;241m=\u001B[39m base\u001B[38;5;241m.\u001B[39mCtrl(\u001B[38;5;28mself\u001B[39m\u001B[38;5;241m.\u001B[39mtrials, current_trial\u001B[38;5;241m=\u001B[39mtrial)\n\u001B[0;32m    177\u001B[0m \u001B[38;5;28;01mtry\u001B[39;00m:\n\u001B[1;32m--> 178\u001B[0m     result \u001B[38;5;241m=\u001B[39m \u001B[38;5;28;43mself\u001B[39;49m\u001B[38;5;241;43m.\u001B[39;49m\u001B[43mdomain\u001B[49m\u001B[38;5;241;43m.\u001B[39;49m\u001B[43mevaluate\u001B[49m\u001B[43m(\u001B[49m\u001B[43mspec\u001B[49m\u001B[43m,\u001B[49m\u001B[43m \u001B[49m\u001B[43mctrl\u001B[49m\u001B[43m)\u001B[49m\n\u001B[0;32m    179\u001B[0m \u001B[38;5;28;01mexcept\u001B[39;00m \u001B[38;5;167;01mException\u001B[39;00m \u001B[38;5;28;01mas\u001B[39;00m e:\n\u001B[0;32m    180\u001B[0m     logger\u001B[38;5;241m.\u001B[39merror(\u001B[38;5;124m\"\u001B[39m\u001B[38;5;124mjob exception: \u001B[39m\u001B[38;5;132;01m%s\u001B[39;00m\u001B[38;5;124m\"\u001B[39m \u001B[38;5;241m%\u001B[39m \u001B[38;5;28mstr\u001B[39m(e))\n",
      "File \u001B[1;32m~\\AppData\\Roaming\\Python\\Python39\\site-packages\\hyperopt\\base.py:892\u001B[0m, in \u001B[0;36mDomain.evaluate\u001B[1;34m(self, config, ctrl, attach_attachments)\u001B[0m\n\u001B[0;32m    883\u001B[0m \u001B[38;5;28;01melse\u001B[39;00m:\n\u001B[0;32m    884\u001B[0m     \u001B[38;5;66;03m# -- the \"work\" of evaluating `config` can be written\u001B[39;00m\n\u001B[0;32m    885\u001B[0m     \u001B[38;5;66;03m#    either into the pyll part (self.expr)\u001B[39;00m\n\u001B[0;32m    886\u001B[0m     \u001B[38;5;66;03m#    or the normal Python part (self.fn)\u001B[39;00m\n\u001B[0;32m    887\u001B[0m     pyll_rval \u001B[38;5;241m=\u001B[39m pyll\u001B[38;5;241m.\u001B[39mrec_eval(\n\u001B[0;32m    888\u001B[0m         \u001B[38;5;28mself\u001B[39m\u001B[38;5;241m.\u001B[39mexpr,\n\u001B[0;32m    889\u001B[0m         memo\u001B[38;5;241m=\u001B[39mmemo,\n\u001B[0;32m    890\u001B[0m         print_node_on_error\u001B[38;5;241m=\u001B[39m\u001B[38;5;28mself\u001B[39m\u001B[38;5;241m.\u001B[39mrec_eval_print_node_on_error,\n\u001B[0;32m    891\u001B[0m     )\n\u001B[1;32m--> 892\u001B[0m     rval \u001B[38;5;241m=\u001B[39m \u001B[38;5;28;43mself\u001B[39;49m\u001B[38;5;241;43m.\u001B[39;49m\u001B[43mfn\u001B[49m\u001B[43m(\u001B[49m\u001B[43mpyll_rval\u001B[49m\u001B[43m)\u001B[49m\n\u001B[0;32m    894\u001B[0m \u001B[38;5;28;01mif\u001B[39;00m \u001B[38;5;28misinstance\u001B[39m(rval, (\u001B[38;5;28mfloat\u001B[39m, \u001B[38;5;28mint\u001B[39m, np\u001B[38;5;241m.\u001B[39mnumber)):\n\u001B[0;32m    895\u001B[0m     dict_rval \u001B[38;5;241m=\u001B[39m {\u001B[38;5;124m\"\u001B[39m\u001B[38;5;124mloss\u001B[39m\u001B[38;5;124m\"\u001B[39m: \u001B[38;5;28mfloat\u001B[39m(rval), \u001B[38;5;124m\"\u001B[39m\u001B[38;5;124mstatus\u001B[39m\u001B[38;5;124m\"\u001B[39m: STATUS_OK}\n",
      "Input \u001B[1;32mIn [8]\u001B[0m, in \u001B[0;36mxgb_bca_cv\u001B[1;34m(params)\u001B[0m\n\u001B[0;32m      6\u001B[0m scorer \u001B[38;5;241m=\u001B[39m make_scorer(balanced_accuracy_score)\n\u001B[0;32m      7\u001B[0m model \u001B[38;5;241m=\u001B[39m XGBClassifier(\n\u001B[0;32m      8\u001B[0m     n_estimators\u001B[38;5;241m=\u001B[39m\u001B[38;5;28mint\u001B[39m(params[\u001B[38;5;124m'\u001B[39m\u001B[38;5;124mn_estimators\u001B[39m\u001B[38;5;124m'\u001B[39m]),\n\u001B[0;32m      9\u001B[0m     max_depth\u001B[38;5;241m=\u001B[39m\u001B[38;5;28mint\u001B[39m(params[\u001B[38;5;124m'\u001B[39m\u001B[38;5;124mmax_depth\u001B[39m\u001B[38;5;124m'\u001B[39m]),\n\u001B[1;32m   (...)\u001B[0m\n\u001B[0;32m     16\u001B[0m     objective\u001B[38;5;241m=\u001B[39m\u001B[38;5;124m'\u001B[39m\u001B[38;5;124mbinary:logistic\u001B[39m\u001B[38;5;124m'\u001B[39m  \u001B[38;5;66;03m# 二分类问题\u001B[39;00m\n\u001B[0;32m     17\u001B[0m )\n\u001B[1;32m---> 18\u001B[0m score \u001B[38;5;241m=\u001B[39m \u001B[38;5;241m-\u001B[39m\u001B[43mcross_val_score\u001B[49m\u001B[43m(\u001B[49m\u001B[43mmodel\u001B[49m\u001B[43m,\u001B[49m\u001B[43m \u001B[49m\u001B[43mX_resampled\u001B[49m\u001B[43m,\u001B[49m\u001B[43m \u001B[49m\u001B[43my_resampled\u001B[49m\u001B[43m,\u001B[49m\u001B[43m \u001B[49m\u001B[43mcv\u001B[49m\u001B[38;5;241;43m=\u001B[39;49m\u001B[38;5;241;43m5\u001B[39;49m\u001B[43m,\u001B[49m\u001B[43mscoring\u001B[49m\u001B[38;5;241;43m=\u001B[39;49m\u001B[43mscorer\u001B[49m\u001B[43m,\u001B[49m\u001B[43m \u001B[49m\u001B[43m)\u001B[49m\u001B[38;5;241m.\u001B[39mmean()\n\u001B[0;32m     19\u001B[0m \u001B[38;5;28;01mreturn\u001B[39;00m score\n",
      "File \u001B[1;32mD:\\anaconda3\\lib\\site-packages\\sklearn\\model_selection\\_validation.py:562\u001B[0m, in \u001B[0;36mcross_val_score\u001B[1;34m(estimator, X, y, groups, scoring, cv, n_jobs, verbose, fit_params, pre_dispatch, error_score)\u001B[0m\n\u001B[0;32m    559\u001B[0m \u001B[38;5;66;03m# To ensure multimetric format is not supported\u001B[39;00m\n\u001B[0;32m    560\u001B[0m scorer \u001B[38;5;241m=\u001B[39m check_scoring(estimator, scoring\u001B[38;5;241m=\u001B[39mscoring)\n\u001B[1;32m--> 562\u001B[0m cv_results \u001B[38;5;241m=\u001B[39m \u001B[43mcross_validate\u001B[49m\u001B[43m(\u001B[49m\n\u001B[0;32m    563\u001B[0m \u001B[43m    \u001B[49m\u001B[43mestimator\u001B[49m\u001B[38;5;241;43m=\u001B[39;49m\u001B[43mestimator\u001B[49m\u001B[43m,\u001B[49m\n\u001B[0;32m    564\u001B[0m \u001B[43m    \u001B[49m\u001B[43mX\u001B[49m\u001B[38;5;241;43m=\u001B[39;49m\u001B[43mX\u001B[49m\u001B[43m,\u001B[49m\n\u001B[0;32m    565\u001B[0m \u001B[43m    \u001B[49m\u001B[43my\u001B[49m\u001B[38;5;241;43m=\u001B[39;49m\u001B[43my\u001B[49m\u001B[43m,\u001B[49m\n\u001B[0;32m    566\u001B[0m \u001B[43m    \u001B[49m\u001B[43mgroups\u001B[49m\u001B[38;5;241;43m=\u001B[39;49m\u001B[43mgroups\u001B[49m\u001B[43m,\u001B[49m\n\u001B[0;32m    567\u001B[0m \u001B[43m    \u001B[49m\u001B[43mscoring\u001B[49m\u001B[38;5;241;43m=\u001B[39;49m\u001B[43m{\u001B[49m\u001B[38;5;124;43m\"\u001B[39;49m\u001B[38;5;124;43mscore\u001B[39;49m\u001B[38;5;124;43m\"\u001B[39;49m\u001B[43m:\u001B[49m\u001B[43m \u001B[49m\u001B[43mscorer\u001B[49m\u001B[43m}\u001B[49m\u001B[43m,\u001B[49m\n\u001B[0;32m    568\u001B[0m \u001B[43m    \u001B[49m\u001B[43mcv\u001B[49m\u001B[38;5;241;43m=\u001B[39;49m\u001B[43mcv\u001B[49m\u001B[43m,\u001B[49m\n\u001B[0;32m    569\u001B[0m \u001B[43m    \u001B[49m\u001B[43mn_jobs\u001B[49m\u001B[38;5;241;43m=\u001B[39;49m\u001B[43mn_jobs\u001B[49m\u001B[43m,\u001B[49m\n\u001B[0;32m    570\u001B[0m \u001B[43m    \u001B[49m\u001B[43mverbose\u001B[49m\u001B[38;5;241;43m=\u001B[39;49m\u001B[43mverbose\u001B[49m\u001B[43m,\u001B[49m\n\u001B[0;32m    571\u001B[0m \u001B[43m    \u001B[49m\u001B[43mfit_params\u001B[49m\u001B[38;5;241;43m=\u001B[39;49m\u001B[43mfit_params\u001B[49m\u001B[43m,\u001B[49m\n\u001B[0;32m    572\u001B[0m \u001B[43m    \u001B[49m\u001B[43mpre_dispatch\u001B[49m\u001B[38;5;241;43m=\u001B[39;49m\u001B[43mpre_dispatch\u001B[49m\u001B[43m,\u001B[49m\n\u001B[0;32m    573\u001B[0m \u001B[43m    \u001B[49m\u001B[43merror_score\u001B[49m\u001B[38;5;241;43m=\u001B[39;49m\u001B[43merror_score\u001B[49m\u001B[43m,\u001B[49m\n\u001B[0;32m    574\u001B[0m \u001B[43m\u001B[49m\u001B[43m)\u001B[49m\n\u001B[0;32m    575\u001B[0m \u001B[38;5;28;01mreturn\u001B[39;00m cv_results[\u001B[38;5;124m\"\u001B[39m\u001B[38;5;124mtest_score\u001B[39m\u001B[38;5;124m\"\u001B[39m]\n",
      "File \u001B[1;32mD:\\anaconda3\\lib\\site-packages\\sklearn\\utils\\_param_validation.py:214\u001B[0m, in \u001B[0;36mvalidate_params.<locals>.decorator.<locals>.wrapper\u001B[1;34m(*args, **kwargs)\u001B[0m\n\u001B[0;32m    208\u001B[0m \u001B[38;5;28;01mtry\u001B[39;00m:\n\u001B[0;32m    209\u001B[0m     \u001B[38;5;28;01mwith\u001B[39;00m config_context(\n\u001B[0;32m    210\u001B[0m         skip_parameter_validation\u001B[38;5;241m=\u001B[39m(\n\u001B[0;32m    211\u001B[0m             prefer_skip_nested_validation \u001B[38;5;129;01mor\u001B[39;00m global_skip_validation\n\u001B[0;32m    212\u001B[0m         )\n\u001B[0;32m    213\u001B[0m     ):\n\u001B[1;32m--> 214\u001B[0m         \u001B[38;5;28;01mreturn\u001B[39;00m func(\u001B[38;5;241m*\u001B[39margs, \u001B[38;5;241m*\u001B[39m\u001B[38;5;241m*\u001B[39mkwargs)\n\u001B[0;32m    215\u001B[0m \u001B[38;5;28;01mexcept\u001B[39;00m InvalidParameterError \u001B[38;5;28;01mas\u001B[39;00m e:\n\u001B[0;32m    216\u001B[0m     \u001B[38;5;66;03m# When the function is just a wrapper around an estimator, we allow\u001B[39;00m\n\u001B[0;32m    217\u001B[0m     \u001B[38;5;66;03m# the function to delegate validation to the estimator, but we replace\u001B[39;00m\n\u001B[0;32m    218\u001B[0m     \u001B[38;5;66;03m# the name of the estimator by the name of the function in the error\u001B[39;00m\n\u001B[0;32m    219\u001B[0m     \u001B[38;5;66;03m# message to avoid confusion.\u001B[39;00m\n\u001B[0;32m    220\u001B[0m     msg \u001B[38;5;241m=\u001B[39m re\u001B[38;5;241m.\u001B[39msub(\n\u001B[0;32m    221\u001B[0m         \u001B[38;5;124mr\u001B[39m\u001B[38;5;124m\"\u001B[39m\u001B[38;5;124mparameter of \u001B[39m\u001B[38;5;124m\\\u001B[39m\u001B[38;5;124mw+ must be\u001B[39m\u001B[38;5;124m\"\u001B[39m,\n\u001B[0;32m    222\u001B[0m         \u001B[38;5;124mf\u001B[39m\u001B[38;5;124m\"\u001B[39m\u001B[38;5;124mparameter of \u001B[39m\u001B[38;5;132;01m{\u001B[39;00mfunc\u001B[38;5;241m.\u001B[39m\u001B[38;5;18m__qualname__\u001B[39m\u001B[38;5;132;01m}\u001B[39;00m\u001B[38;5;124m must be\u001B[39m\u001B[38;5;124m\"\u001B[39m,\n\u001B[0;32m    223\u001B[0m         \u001B[38;5;28mstr\u001B[39m(e),\n\u001B[0;32m    224\u001B[0m     )\n",
      "File \u001B[1;32mD:\\anaconda3\\lib\\site-packages\\sklearn\\model_selection\\_validation.py:309\u001B[0m, in \u001B[0;36mcross_validate\u001B[1;34m(estimator, X, y, groups, scoring, cv, n_jobs, verbose, fit_params, pre_dispatch, return_train_score, return_estimator, return_indices, error_score)\u001B[0m\n\u001B[0;32m    306\u001B[0m \u001B[38;5;66;03m# We clone the estimator to make sure that all the folds are\u001B[39;00m\n\u001B[0;32m    307\u001B[0m \u001B[38;5;66;03m# independent, and that it is pickle-able.\u001B[39;00m\n\u001B[0;32m    308\u001B[0m parallel \u001B[38;5;241m=\u001B[39m Parallel(n_jobs\u001B[38;5;241m=\u001B[39mn_jobs, verbose\u001B[38;5;241m=\u001B[39mverbose, pre_dispatch\u001B[38;5;241m=\u001B[39mpre_dispatch)\n\u001B[1;32m--> 309\u001B[0m results \u001B[38;5;241m=\u001B[39m \u001B[43mparallel\u001B[49m\u001B[43m(\u001B[49m\n\u001B[0;32m    310\u001B[0m \u001B[43m    \u001B[49m\u001B[43mdelayed\u001B[49m\u001B[43m(\u001B[49m\u001B[43m_fit_and_score\u001B[49m\u001B[43m)\u001B[49m\u001B[43m(\u001B[49m\n\u001B[0;32m    311\u001B[0m \u001B[43m        \u001B[49m\u001B[43mclone\u001B[49m\u001B[43m(\u001B[49m\u001B[43mestimator\u001B[49m\u001B[43m)\u001B[49m\u001B[43m,\u001B[49m\n\u001B[0;32m    312\u001B[0m \u001B[43m        \u001B[49m\u001B[43mX\u001B[49m\u001B[43m,\u001B[49m\n\u001B[0;32m    313\u001B[0m \u001B[43m        \u001B[49m\u001B[43my\u001B[49m\u001B[43m,\u001B[49m\n\u001B[0;32m    314\u001B[0m \u001B[43m        \u001B[49m\u001B[43mscorers\u001B[49m\u001B[43m,\u001B[49m\n\u001B[0;32m    315\u001B[0m \u001B[43m        \u001B[49m\u001B[43mtrain\u001B[49m\u001B[43m,\u001B[49m\n\u001B[0;32m    316\u001B[0m \u001B[43m        \u001B[49m\u001B[43mtest\u001B[49m\u001B[43m,\u001B[49m\n\u001B[0;32m    317\u001B[0m \u001B[43m        \u001B[49m\u001B[43mverbose\u001B[49m\u001B[43m,\u001B[49m\n\u001B[0;32m    318\u001B[0m \u001B[43m        \u001B[49m\u001B[38;5;28;43;01mNone\u001B[39;49;00m\u001B[43m,\u001B[49m\n\u001B[0;32m    319\u001B[0m \u001B[43m        \u001B[49m\u001B[43mfit_params\u001B[49m\u001B[43m,\u001B[49m\n\u001B[0;32m    320\u001B[0m \u001B[43m        \u001B[49m\u001B[43mreturn_train_score\u001B[49m\u001B[38;5;241;43m=\u001B[39;49m\u001B[43mreturn_train_score\u001B[49m\u001B[43m,\u001B[49m\n\u001B[0;32m    321\u001B[0m \u001B[43m        \u001B[49m\u001B[43mreturn_times\u001B[49m\u001B[38;5;241;43m=\u001B[39;49m\u001B[38;5;28;43;01mTrue\u001B[39;49;00m\u001B[43m,\u001B[49m\n\u001B[0;32m    322\u001B[0m \u001B[43m        \u001B[49m\u001B[43mreturn_estimator\u001B[49m\u001B[38;5;241;43m=\u001B[39;49m\u001B[43mreturn_estimator\u001B[49m\u001B[43m,\u001B[49m\n\u001B[0;32m    323\u001B[0m \u001B[43m        \u001B[49m\u001B[43merror_score\u001B[49m\u001B[38;5;241;43m=\u001B[39;49m\u001B[43merror_score\u001B[49m\u001B[43m,\u001B[49m\n\u001B[0;32m    324\u001B[0m \u001B[43m    \u001B[49m\u001B[43m)\u001B[49m\n\u001B[0;32m    325\u001B[0m \u001B[43m    \u001B[49m\u001B[38;5;28;43;01mfor\u001B[39;49;00m\u001B[43m \u001B[49m\u001B[43mtrain\u001B[49m\u001B[43m,\u001B[49m\u001B[43m \u001B[49m\u001B[43mtest\u001B[49m\u001B[43m \u001B[49m\u001B[38;5;129;43;01min\u001B[39;49;00m\u001B[43m \u001B[49m\u001B[43mindices\u001B[49m\n\u001B[0;32m    326\u001B[0m \u001B[43m\u001B[49m\u001B[43m)\u001B[49m\n\u001B[0;32m    328\u001B[0m _warn_or_raise_about_fit_failures(results, error_score)\n\u001B[0;32m    330\u001B[0m \u001B[38;5;66;03m# For callable scoring, the return type is only know after calling. If the\u001B[39;00m\n\u001B[0;32m    331\u001B[0m \u001B[38;5;66;03m# return type is a dictionary, the error scores can now be inserted with\u001B[39;00m\n\u001B[0;32m    332\u001B[0m \u001B[38;5;66;03m# the correct key.\u001B[39;00m\n",
      "File \u001B[1;32mD:\\anaconda3\\lib\\site-packages\\sklearn\\utils\\parallel.py:65\u001B[0m, in \u001B[0;36mParallel.__call__\u001B[1;34m(self, iterable)\u001B[0m\n\u001B[0;32m     60\u001B[0m config \u001B[38;5;241m=\u001B[39m get_config()\n\u001B[0;32m     61\u001B[0m iterable_with_config \u001B[38;5;241m=\u001B[39m (\n\u001B[0;32m     62\u001B[0m     (_with_config(delayed_func, config), args, kwargs)\n\u001B[0;32m     63\u001B[0m     \u001B[38;5;28;01mfor\u001B[39;00m delayed_func, args, kwargs \u001B[38;5;129;01min\u001B[39;00m iterable\n\u001B[0;32m     64\u001B[0m )\n\u001B[1;32m---> 65\u001B[0m \u001B[38;5;28;01mreturn\u001B[39;00m \u001B[38;5;28;43msuper\u001B[39;49m\u001B[43m(\u001B[49m\u001B[43m)\u001B[49m\u001B[38;5;241;43m.\u001B[39;49m\u001B[38;5;21;43m__call__\u001B[39;49m\u001B[43m(\u001B[49m\u001B[43miterable_with_config\u001B[49m\u001B[43m)\u001B[49m\n",
      "File \u001B[1;32m~\\AppData\\Roaming\\Python\\Python39\\site-packages\\joblib\\parallel.py:1863\u001B[0m, in \u001B[0;36mParallel.__call__\u001B[1;34m(self, iterable)\u001B[0m\n\u001B[0;32m   1861\u001B[0m     output \u001B[38;5;241m=\u001B[39m \u001B[38;5;28mself\u001B[39m\u001B[38;5;241m.\u001B[39m_get_sequential_output(iterable)\n\u001B[0;32m   1862\u001B[0m     \u001B[38;5;28mnext\u001B[39m(output)\n\u001B[1;32m-> 1863\u001B[0m     \u001B[38;5;28;01mreturn\u001B[39;00m output \u001B[38;5;28;01mif\u001B[39;00m \u001B[38;5;28mself\u001B[39m\u001B[38;5;241m.\u001B[39mreturn_generator \u001B[38;5;28;01melse\u001B[39;00m \u001B[38;5;28;43mlist\u001B[39;49m\u001B[43m(\u001B[49m\u001B[43moutput\u001B[49m\u001B[43m)\u001B[49m\n\u001B[0;32m   1865\u001B[0m \u001B[38;5;66;03m# Let's create an ID that uniquely identifies the current call. If the\u001B[39;00m\n\u001B[0;32m   1866\u001B[0m \u001B[38;5;66;03m# call is interrupted early and that the same instance is immediately\u001B[39;00m\n\u001B[0;32m   1867\u001B[0m \u001B[38;5;66;03m# re-used, this id will be used to prevent workers that were\u001B[39;00m\n\u001B[0;32m   1868\u001B[0m \u001B[38;5;66;03m# concurrently finalizing a task from the previous call to run the\u001B[39;00m\n\u001B[0;32m   1869\u001B[0m \u001B[38;5;66;03m# callback.\u001B[39;00m\n\u001B[0;32m   1870\u001B[0m \u001B[38;5;28;01mwith\u001B[39;00m \u001B[38;5;28mself\u001B[39m\u001B[38;5;241m.\u001B[39m_lock:\n",
      "File \u001B[1;32m~\\AppData\\Roaming\\Python\\Python39\\site-packages\\joblib\\parallel.py:1792\u001B[0m, in \u001B[0;36mParallel._get_sequential_output\u001B[1;34m(self, iterable)\u001B[0m\n\u001B[0;32m   1790\u001B[0m \u001B[38;5;28mself\u001B[39m\u001B[38;5;241m.\u001B[39mn_dispatched_batches \u001B[38;5;241m+\u001B[39m\u001B[38;5;241m=\u001B[39m \u001B[38;5;241m1\u001B[39m\n\u001B[0;32m   1791\u001B[0m \u001B[38;5;28mself\u001B[39m\u001B[38;5;241m.\u001B[39mn_dispatched_tasks \u001B[38;5;241m+\u001B[39m\u001B[38;5;241m=\u001B[39m \u001B[38;5;241m1\u001B[39m\n\u001B[1;32m-> 1792\u001B[0m res \u001B[38;5;241m=\u001B[39m func(\u001B[38;5;241m*\u001B[39margs, \u001B[38;5;241m*\u001B[39m\u001B[38;5;241m*\u001B[39mkwargs)\n\u001B[0;32m   1793\u001B[0m \u001B[38;5;28mself\u001B[39m\u001B[38;5;241m.\u001B[39mn_completed_tasks \u001B[38;5;241m+\u001B[39m\u001B[38;5;241m=\u001B[39m \u001B[38;5;241m1\u001B[39m\n\u001B[0;32m   1794\u001B[0m \u001B[38;5;28mself\u001B[39m\u001B[38;5;241m.\u001B[39mprint_progress()\n",
      "File \u001B[1;32mD:\\anaconda3\\lib\\site-packages\\sklearn\\utils\\parallel.py:127\u001B[0m, in \u001B[0;36m_FuncWrapper.__call__\u001B[1;34m(self, *args, **kwargs)\u001B[0m\n\u001B[0;32m    125\u001B[0m     config \u001B[38;5;241m=\u001B[39m {}\n\u001B[0;32m    126\u001B[0m \u001B[38;5;28;01mwith\u001B[39;00m config_context(\u001B[38;5;241m*\u001B[39m\u001B[38;5;241m*\u001B[39mconfig):\n\u001B[1;32m--> 127\u001B[0m     \u001B[38;5;28;01mreturn\u001B[39;00m \u001B[38;5;28mself\u001B[39m\u001B[38;5;241m.\u001B[39mfunction(\u001B[38;5;241m*\u001B[39margs, \u001B[38;5;241m*\u001B[39m\u001B[38;5;241m*\u001B[39mkwargs)\n",
      "File \u001B[1;32mD:\\anaconda3\\lib\\site-packages\\sklearn\\model_selection\\_validation.py:729\u001B[0m, in \u001B[0;36m_fit_and_score\u001B[1;34m(estimator, X, y, scorer, train, test, verbose, parameters, fit_params, return_train_score, return_parameters, return_n_test_samples, return_times, return_estimator, split_progress, candidate_progress, error_score)\u001B[0m\n\u001B[0;32m    727\u001B[0m         estimator\u001B[38;5;241m.\u001B[39mfit(X_train, \u001B[38;5;241m*\u001B[39m\u001B[38;5;241m*\u001B[39mfit_params)\n\u001B[0;32m    728\u001B[0m     \u001B[38;5;28;01melse\u001B[39;00m:\n\u001B[1;32m--> 729\u001B[0m         estimator\u001B[38;5;241m.\u001B[39mfit(X_train, y_train, \u001B[38;5;241m*\u001B[39m\u001B[38;5;241m*\u001B[39mfit_params)\n\u001B[0;32m    731\u001B[0m \u001B[38;5;28;01mexcept\u001B[39;00m \u001B[38;5;167;01mException\u001B[39;00m:\n\u001B[0;32m    732\u001B[0m     \u001B[38;5;66;03m# Note fit time as time until error\u001B[39;00m\n\u001B[0;32m    733\u001B[0m     fit_time \u001B[38;5;241m=\u001B[39m time\u001B[38;5;241m.\u001B[39mtime() \u001B[38;5;241m-\u001B[39m start_time\n",
      "File \u001B[1;32mD:\\anaconda3\\lib\\site-packages\\xgboost\\core.py:729\u001B[0m, in \u001B[0;36mrequire_keyword_args.<locals>.throw_if.<locals>.inner_f\u001B[1;34m(*args, **kwargs)\u001B[0m\n\u001B[0;32m    727\u001B[0m \u001B[38;5;28;01mfor\u001B[39;00m k, arg \u001B[38;5;129;01min\u001B[39;00m \u001B[38;5;28mzip\u001B[39m(sig\u001B[38;5;241m.\u001B[39mparameters, args):\n\u001B[0;32m    728\u001B[0m     kwargs[k] \u001B[38;5;241m=\u001B[39m arg\n\u001B[1;32m--> 729\u001B[0m \u001B[38;5;28;01mreturn\u001B[39;00m func(\u001B[38;5;241m*\u001B[39m\u001B[38;5;241m*\u001B[39mkwargs)\n",
      "File \u001B[1;32mD:\\anaconda3\\lib\\site-packages\\xgboost\\sklearn.py:1515\u001B[0m, in \u001B[0;36mXGBClassifier.fit\u001B[1;34m(self, X, y, sample_weight, base_margin, eval_set, eval_metric, early_stopping_rounds, verbose, xgb_model, sample_weight_eval_set, base_margin_eval_set, feature_weights, callbacks)\u001B[0m\n\u001B[0;32m   1487\u001B[0m (\n\u001B[0;32m   1488\u001B[0m     model,\n\u001B[0;32m   1489\u001B[0m     metric,\n\u001B[1;32m   (...)\u001B[0m\n\u001B[0;32m   1494\u001B[0m     xgb_model, eval_metric, params, early_stopping_rounds, callbacks\n\u001B[0;32m   1495\u001B[0m )\n\u001B[0;32m   1496\u001B[0m train_dmatrix, evals \u001B[38;5;241m=\u001B[39m _wrap_evaluation_matrices(\n\u001B[0;32m   1497\u001B[0m     missing\u001B[38;5;241m=\u001B[39m\u001B[38;5;28mself\u001B[39m\u001B[38;5;241m.\u001B[39mmissing,\n\u001B[0;32m   1498\u001B[0m     X\u001B[38;5;241m=\u001B[39mX,\n\u001B[1;32m   (...)\u001B[0m\n\u001B[0;32m   1512\u001B[0m     feature_types\u001B[38;5;241m=\u001B[39m\u001B[38;5;28mself\u001B[39m\u001B[38;5;241m.\u001B[39mfeature_types,\n\u001B[0;32m   1513\u001B[0m )\n\u001B[1;32m-> 1515\u001B[0m \u001B[38;5;28mself\u001B[39m\u001B[38;5;241m.\u001B[39m_Booster \u001B[38;5;241m=\u001B[39m \u001B[43mtrain\u001B[49m\u001B[43m(\u001B[49m\n\u001B[0;32m   1516\u001B[0m \u001B[43m    \u001B[49m\u001B[43mparams\u001B[49m\u001B[43m,\u001B[49m\n\u001B[0;32m   1517\u001B[0m \u001B[43m    \u001B[49m\u001B[43mtrain_dmatrix\u001B[49m\u001B[43m,\u001B[49m\n\u001B[0;32m   1518\u001B[0m \u001B[43m    \u001B[49m\u001B[38;5;28;43mself\u001B[39;49m\u001B[38;5;241;43m.\u001B[39;49m\u001B[43mget_num_boosting_rounds\u001B[49m\u001B[43m(\u001B[49m\u001B[43m)\u001B[49m\u001B[43m,\u001B[49m\n\u001B[0;32m   1519\u001B[0m \u001B[43m    \u001B[49m\u001B[43mevals\u001B[49m\u001B[38;5;241;43m=\u001B[39;49m\u001B[43mevals\u001B[49m\u001B[43m,\u001B[49m\n\u001B[0;32m   1520\u001B[0m \u001B[43m    \u001B[49m\u001B[43mearly_stopping_rounds\u001B[49m\u001B[38;5;241;43m=\u001B[39;49m\u001B[43mearly_stopping_rounds\u001B[49m\u001B[43m,\u001B[49m\n\u001B[0;32m   1521\u001B[0m \u001B[43m    \u001B[49m\u001B[43mevals_result\u001B[49m\u001B[38;5;241;43m=\u001B[39;49m\u001B[43mevals_result\u001B[49m\u001B[43m,\u001B[49m\n\u001B[0;32m   1522\u001B[0m \u001B[43m    \u001B[49m\u001B[43mobj\u001B[49m\u001B[38;5;241;43m=\u001B[39;49m\u001B[43mobj\u001B[49m\u001B[43m,\u001B[49m\n\u001B[0;32m   1523\u001B[0m \u001B[43m    \u001B[49m\u001B[43mcustom_metric\u001B[49m\u001B[38;5;241;43m=\u001B[39;49m\u001B[43mmetric\u001B[49m\u001B[43m,\u001B[49m\n\u001B[0;32m   1524\u001B[0m \u001B[43m    \u001B[49m\u001B[43mverbose_eval\u001B[49m\u001B[38;5;241;43m=\u001B[39;49m\u001B[43mverbose\u001B[49m\u001B[43m,\u001B[49m\n\u001B[0;32m   1525\u001B[0m \u001B[43m    \u001B[49m\u001B[43mxgb_model\u001B[49m\u001B[38;5;241;43m=\u001B[39;49m\u001B[43mmodel\u001B[49m\u001B[43m,\u001B[49m\n\u001B[0;32m   1526\u001B[0m \u001B[43m    \u001B[49m\u001B[43mcallbacks\u001B[49m\u001B[38;5;241;43m=\u001B[39;49m\u001B[43mcallbacks\u001B[49m\u001B[43m,\u001B[49m\n\u001B[0;32m   1527\u001B[0m \u001B[43m\u001B[49m\u001B[43m)\u001B[49m\n\u001B[0;32m   1529\u001B[0m \u001B[38;5;28;01mif\u001B[39;00m \u001B[38;5;129;01mnot\u001B[39;00m callable(\u001B[38;5;28mself\u001B[39m\u001B[38;5;241m.\u001B[39mobjective):\n\u001B[0;32m   1530\u001B[0m     \u001B[38;5;28mself\u001B[39m\u001B[38;5;241m.\u001B[39mobjective \u001B[38;5;241m=\u001B[39m params[\u001B[38;5;124m\"\u001B[39m\u001B[38;5;124mobjective\u001B[39m\u001B[38;5;124m\"\u001B[39m]\n",
      "File \u001B[1;32mD:\\anaconda3\\lib\\site-packages\\xgboost\\core.py:729\u001B[0m, in \u001B[0;36mrequire_keyword_args.<locals>.throw_if.<locals>.inner_f\u001B[1;34m(*args, **kwargs)\u001B[0m\n\u001B[0;32m    727\u001B[0m \u001B[38;5;28;01mfor\u001B[39;00m k, arg \u001B[38;5;129;01min\u001B[39;00m \u001B[38;5;28mzip\u001B[39m(sig\u001B[38;5;241m.\u001B[39mparameters, args):\n\u001B[0;32m    728\u001B[0m     kwargs[k] \u001B[38;5;241m=\u001B[39m arg\n\u001B[1;32m--> 729\u001B[0m \u001B[38;5;28;01mreturn\u001B[39;00m func(\u001B[38;5;241m*\u001B[39m\u001B[38;5;241m*\u001B[39mkwargs)\n",
      "File \u001B[1;32mD:\\anaconda3\\lib\\site-packages\\xgboost\\training.py:181\u001B[0m, in \u001B[0;36mtrain\u001B[1;34m(params, dtrain, num_boost_round, evals, obj, feval, maximize, early_stopping_rounds, evals_result, verbose_eval, xgb_model, callbacks, custom_metric)\u001B[0m\n\u001B[0;32m    179\u001B[0m \u001B[38;5;28;01mif\u001B[39;00m cb_container\u001B[38;5;241m.\u001B[39mbefore_iteration(bst, i, dtrain, evals):\n\u001B[0;32m    180\u001B[0m     \u001B[38;5;28;01mbreak\u001B[39;00m\n\u001B[1;32m--> 181\u001B[0m \u001B[43mbst\u001B[49m\u001B[38;5;241;43m.\u001B[39;49m\u001B[43mupdate\u001B[49m\u001B[43m(\u001B[49m\u001B[43mdtrain\u001B[49m\u001B[43m,\u001B[49m\u001B[43m \u001B[49m\u001B[43mi\u001B[49m\u001B[43m,\u001B[49m\u001B[43m \u001B[49m\u001B[43mobj\u001B[49m\u001B[43m)\u001B[49m\n\u001B[0;32m    182\u001B[0m \u001B[38;5;28;01mif\u001B[39;00m cb_container\u001B[38;5;241m.\u001B[39mafter_iteration(bst, i, dtrain, evals):\n\u001B[0;32m    183\u001B[0m     \u001B[38;5;28;01mbreak\u001B[39;00m\n",
      "File \u001B[1;32mD:\\anaconda3\\lib\\site-packages\\xgboost\\core.py:2050\u001B[0m, in \u001B[0;36mBooster.update\u001B[1;34m(self, dtrain, iteration, fobj)\u001B[0m\n\u001B[0;32m   2046\u001B[0m \u001B[38;5;28mself\u001B[39m\u001B[38;5;241m.\u001B[39m_assign_dmatrix_features(dtrain)\n\u001B[0;32m   2048\u001B[0m \u001B[38;5;28;01mif\u001B[39;00m fobj \u001B[38;5;129;01mis\u001B[39;00m \u001B[38;5;28;01mNone\u001B[39;00m:\n\u001B[0;32m   2049\u001B[0m     _check_call(\n\u001B[1;32m-> 2050\u001B[0m         \u001B[43m_LIB\u001B[49m\u001B[38;5;241;43m.\u001B[39;49m\u001B[43mXGBoosterUpdateOneIter\u001B[49m\u001B[43m(\u001B[49m\n\u001B[0;32m   2051\u001B[0m \u001B[43m            \u001B[49m\u001B[38;5;28;43mself\u001B[39;49m\u001B[38;5;241;43m.\u001B[39;49m\u001B[43mhandle\u001B[49m\u001B[43m,\u001B[49m\u001B[43m \u001B[49m\u001B[43mctypes\u001B[49m\u001B[38;5;241;43m.\u001B[39;49m\u001B[43mc_int\u001B[49m\u001B[43m(\u001B[49m\u001B[43miteration\u001B[49m\u001B[43m)\u001B[49m\u001B[43m,\u001B[49m\u001B[43m \u001B[49m\u001B[43mdtrain\u001B[49m\u001B[38;5;241;43m.\u001B[39;49m\u001B[43mhandle\u001B[49m\n\u001B[0;32m   2052\u001B[0m \u001B[43m        \u001B[49m\u001B[43m)\u001B[49m\n\u001B[0;32m   2053\u001B[0m     )\n\u001B[0;32m   2054\u001B[0m \u001B[38;5;28;01melse\u001B[39;00m:\n\u001B[0;32m   2055\u001B[0m     pred \u001B[38;5;241m=\u001B[39m \u001B[38;5;28mself\u001B[39m\u001B[38;5;241m.\u001B[39mpredict(dtrain, output_margin\u001B[38;5;241m=\u001B[39m\u001B[38;5;28;01mTrue\u001B[39;00m, training\u001B[38;5;241m=\u001B[39m\u001B[38;5;28;01mTrue\u001B[39;00m)\n",
      "\u001B[1;31mKeyboardInterrupt\u001B[0m: "
     ]
    }
   ],
   "source": [
    "train_data, test_data = generate_train_test_dataset(3)\n",
    "Xs_train,y_train = handle_dataset(train_data)\n",
    "Xs_test,y_test = handle_dataset(test_data)\n",
    "X_resampled, y_resampled = rus.fit_resample(Xs_train, y_train)\n",
    "trials = Trials()\n",
    "best=fmin(fn=xgb_bca_cv, # function to optimize\n",
    "          space=space, \n",
    "          algo=tpe.suggest, # optimization algorithm, hyperotp will select its parameters automatically\n",
    "          max_evals=50, # maximum number of iterations\n",
    "          trials=trials, # logging\n",
    "          rstate=np.random.default_rng(42) # fixing random state for the reproducibility\n",
    "    )\n",
    "best_model = XGBClassifier(\n",
    "    n_estimators=int(best['n_estimators']),\n",
    "    max_depth=int(best['max_depth']),\n",
    "    learning_rate=best['learning_rate'],\n",
    "    subsample=best['subsample'],\n",
    "    colsample_bytree=best['colsample_bytree'],\n",
    "    gamma=best['gamma'],\n",
    "    reg_alpha=best['reg_alpha'],\n",
    "    reg_lambda=best['reg_lambda'],\n",
    "    objective='binary:logistic'  # 二分类问题\n",
    ")"
   ],
   "metadata": {
    "collapsed": false,
    "ExecuteTime": {
     "end_time": "2024-02-27T00:46:23.406080900Z",
     "start_time": "2024-02-27T00:46:10.074684800Z"
    }
   },
   "id": "c9d33a8d18b4cae7"
  },
  {
   "cell_type": "code",
   "execution_count": 29,
   "outputs": [],
   "source": [
    "best_model = models_nfs[3]"
   ],
   "metadata": {
    "collapsed": false,
    "ExecuteTime": {
     "end_time": "2024-02-27T00:47:04.875073400Z",
     "start_time": "2024-02-27T00:47:04.848410200Z"
    }
   },
   "id": "621f62b3ddd52692"
  },
  {
   "cell_type": "code",
   "execution_count": 30,
   "outputs": [
    {
     "data": {
      "text/plain": "['../../model/XGB_model.joblib']"
     },
     "execution_count": 30,
     "metadata": {},
     "output_type": "execute_result"
    }
   ],
   "source": [
    "from joblib import dump\n",
    "best_model.fit(X_resampled,y_resampled)\n",
    "dump(best_model, '../../model/XGB_model.joblib')"
   ],
   "metadata": {
    "collapsed": false,
    "ExecuteTime": {
     "end_time": "2024-02-27T00:47:08.876002500Z",
     "start_time": "2024-02-27T00:47:08.501902500Z"
    }
   },
   "id": "a5a008a6a77b3535"
  },
  {
   "cell_type": "code",
   "execution_count": 102,
   "outputs": [
    {
     "name": "stdout",
     "output_type": "stream",
     "text": [
      "[0.8201301891427167, 0.7593818984547461, 0.6254139072847682, 0.4835390946502058, 0.7308417623864221, 0.7671200750469043, 0.7566332218506131, 0.7545668294447458, 0.7363636363636363, 0.8050299048926366, 0.7946969696969697, 0.6348973607038123, 0.6936868686868687, 0.7435897435897436, 0.6010886994683096]\n"
     ]
    }
   ],
   "source": [
    "print(scores_nfs)\n",
    "#[0.8201301891427167, 0.7593818984547461, 0.6254139072847682, 0.4835390946502058, 0.7308417623864221, 0.7671200750469043, 0.7566332218506131, 0.7545668294447458, 0.7363636363636363, 0.8050299048926366, 0.7946969696969697, 0.6348973607038123, 0.6936868686868687, 0.7435897435897436, 0.6010886994683096]"
   ],
   "metadata": {
    "collapsed": false,
    "ExecuteTime": {
     "end_time": "2024-02-26T18:38:12.044808100Z",
     "start_time": "2024-02-26T18:38:12.019404200Z"
    }
   },
   "id": "83255ee776a7bde0"
  },
  {
   "cell_type": "code",
   "execution_count": 105,
   "outputs": [
    {
     "name": "stdout",
     "output_type": "stream",
     "text": [
      "100%|██████████| 50/50 [02:35<00:00,  3.12s/trial, best loss: -0.8148784478728377]\n"
     ]
    },
    {
     "data": {
      "text/plain": "RandomForestClassifier(max_depth=18, min_samples_leaf=0.10030016223764829,\n                       min_samples_split=0.2591505195174929, n_estimators=690,\n                       random_state=42)",
      "text/html": "<style>#sk-container-id-2 {color: black;}#sk-container-id-2 pre{padding: 0;}#sk-container-id-2 div.sk-toggleable {background-color: white;}#sk-container-id-2 label.sk-toggleable__label {cursor: pointer;display: block;width: 100%;margin-bottom: 0;padding: 0.3em;box-sizing: border-box;text-align: center;}#sk-container-id-2 label.sk-toggleable__label-arrow:before {content: \"▸\";float: left;margin-right: 0.25em;color: #696969;}#sk-container-id-2 label.sk-toggleable__label-arrow:hover:before {color: black;}#sk-container-id-2 div.sk-estimator:hover label.sk-toggleable__label-arrow:before {color: black;}#sk-container-id-2 div.sk-toggleable__content {max-height: 0;max-width: 0;overflow: hidden;text-align: left;background-color: #f0f8ff;}#sk-container-id-2 div.sk-toggleable__content pre {margin: 0.2em;color: black;border-radius: 0.25em;background-color: #f0f8ff;}#sk-container-id-2 input.sk-toggleable__control:checked~div.sk-toggleable__content {max-height: 200px;max-width: 100%;overflow: auto;}#sk-container-id-2 input.sk-toggleable__control:checked~label.sk-toggleable__label-arrow:before {content: \"▾\";}#sk-container-id-2 div.sk-estimator input.sk-toggleable__control:checked~label.sk-toggleable__label {background-color: #d4ebff;}#sk-container-id-2 div.sk-label input.sk-toggleable__control:checked~label.sk-toggleable__label {background-color: #d4ebff;}#sk-container-id-2 input.sk-hidden--visually {border: 0;clip: rect(1px 1px 1px 1px);clip: rect(1px, 1px, 1px, 1px);height: 1px;margin: -1px;overflow: hidden;padding: 0;position: absolute;width: 1px;}#sk-container-id-2 div.sk-estimator {font-family: monospace;background-color: #f0f8ff;border: 1px dotted black;border-radius: 0.25em;box-sizing: border-box;margin-bottom: 0.5em;}#sk-container-id-2 div.sk-estimator:hover {background-color: #d4ebff;}#sk-container-id-2 div.sk-parallel-item::after {content: \"\";width: 100%;border-bottom: 1px solid gray;flex-grow: 1;}#sk-container-id-2 div.sk-label:hover label.sk-toggleable__label {background-color: #d4ebff;}#sk-container-id-2 div.sk-serial::before {content: \"\";position: absolute;border-left: 1px solid gray;box-sizing: border-box;top: 0;bottom: 0;left: 50%;z-index: 0;}#sk-container-id-2 div.sk-serial {display: flex;flex-direction: column;align-items: center;background-color: white;padding-right: 0.2em;padding-left: 0.2em;position: relative;}#sk-container-id-2 div.sk-item {position: relative;z-index: 1;}#sk-container-id-2 div.sk-parallel {display: flex;align-items: stretch;justify-content: center;background-color: white;position: relative;}#sk-container-id-2 div.sk-item::before, #sk-container-id-2 div.sk-parallel-item::before {content: \"\";position: absolute;border-left: 1px solid gray;box-sizing: border-box;top: 0;bottom: 0;left: 50%;z-index: -1;}#sk-container-id-2 div.sk-parallel-item {display: flex;flex-direction: column;z-index: 1;position: relative;background-color: white;}#sk-container-id-2 div.sk-parallel-item:first-child::after {align-self: flex-end;width: 50%;}#sk-container-id-2 div.sk-parallel-item:last-child::after {align-self: flex-start;width: 50%;}#sk-container-id-2 div.sk-parallel-item:only-child::after {width: 0;}#sk-container-id-2 div.sk-dashed-wrapped {border: 1px dashed gray;margin: 0 0.4em 0.5em 0.4em;box-sizing: border-box;padding-bottom: 0.4em;background-color: white;}#sk-container-id-2 div.sk-label label {font-family: monospace;font-weight: bold;display: inline-block;line-height: 1.2em;}#sk-container-id-2 div.sk-label-container {text-align: center;}#sk-container-id-2 div.sk-container {/* jupyter's `normalize.less` sets `[hidden] { display: none; }` but bootstrap.min.css set `[hidden] { display: none !important; }` so we also need the `!important` here to be able to override the default hidden behavior on the sphinx rendered scikit-learn.org. See: https://github.com/scikit-learn/scikit-learn/issues/21755 */display: inline-block !important;position: relative;}#sk-container-id-2 div.sk-text-repr-fallback {display: none;}</style><div id=\"sk-container-id-2\" class=\"sk-top-container\"><div class=\"sk-text-repr-fallback\"><pre>RandomForestClassifier(max_depth=18, min_samples_leaf=0.10030016223764829,\n                       min_samples_split=0.2591505195174929, n_estimators=690,\n                       random_state=42)</pre><b>In a Jupyter environment, please rerun this cell to show the HTML representation or trust the notebook. <br />On GitHub, the HTML representation is unable to render, please try loading this page with nbviewer.org.</b></div><div class=\"sk-container\" hidden><div class=\"sk-item\"><div class=\"sk-estimator sk-toggleable\"><input class=\"sk-toggleable__control sk-hidden--visually\" id=\"sk-estimator-id-2\" type=\"checkbox\" checked><label for=\"sk-estimator-id-2\" class=\"sk-toggleable__label sk-toggleable__label-arrow\">RandomForestClassifier</label><div class=\"sk-toggleable__content\"><pre>RandomForestClassifier(max_depth=18, min_samples_leaf=0.10030016223764829,\n                       min_samples_split=0.2591505195174929, n_estimators=690,\n                       random_state=42)</pre></div></div></div></div></div>"
     },
     "execution_count": 105,
     "metadata": {},
     "output_type": "execute_result"
    }
   ],
   "source": [
    "train_data, test_data = generate_train_test_dataset(0)\n",
    "Xs_train,y_train = handle_dataset(train_data)\n",
    "Xs_test,y_test = handle_dataset(test_data)\n",
    "rus = RandomUnderSampler(sampling_strategy='auto', random_state=42)\n",
    "X_resampled, y_resampled = rus.fit_resample(Xs_train, y_train)\n",
    "trials = Trials()\n",
    "best=fmin(fn=rf_bca_cv, # function to optimize\n",
    "          space=space, \n",
    "          algo=tpe.suggest, # optimization algorithm, hyperotp will select its parameters automatically\n",
    "          max_evals=50, # maximum number of iterations\n",
    "          trials=trials, # logging\n",
    "          rstate=np.random.default_rng(42) # fixing random state for the reproducibility\n",
    "          )\n",
    "best_model = RandomForestClassifier(random_state=42, n_estimators=int(best['n_estimators']),max_depth=int(best['max_depth']),min_samples_split=best['min_samples_split'],min_samples_leaf=best['min_samples_leaf'])\n",
    "best_model.fit(X_resampled,y_resampled)"
   ],
   "metadata": {
    "collapsed": false,
    "ExecuteTime": {
     "end_time": "2024-02-26T18:43:48.537577800Z",
     "start_time": "2024-02-26T18:41:11.100718500Z"
    }
   },
   "id": "89074bc5af6e73fc"
  },
  {
   "cell_type": "code",
   "execution_count": 106,
   "outputs": [
    {
     "data": {
      "text/plain": "['../../model/RF_model.joblib']"
     },
     "execution_count": 106,
     "metadata": {},
     "output_type": "execute_result"
    }
   ],
   "source": [
    "dump(best_model, '../../model/RF_model.joblib')"
   ],
   "metadata": {
    "collapsed": false,
    "ExecuteTime": {
     "end_time": "2024-02-26T18:43:57.411211300Z",
     "start_time": "2024-02-26T18:43:57.103286200Z"
    }
   },
   "id": "5adebf31f343ac5b"
  },
  {
   "cell_type": "code",
   "execution_count": null,
   "outputs": [],
   "source": [],
   "metadata": {
    "collapsed": false
   },
   "id": "a72a93255b206fc1"
  }
 ],
 "metadata": {
  "kernelspec": {
   "display_name": "Python 3",
   "language": "python",
   "name": "python3"
  },
  "language_info": {
   "codemirror_mode": {
    "name": "ipython",
    "version": 2
   },
   "file_extension": ".py",
   "mimetype": "text/x-python",
   "name": "python",
   "nbconvert_exporter": "python",
   "pygments_lexer": "ipython2",
   "version": "2.7.6"
  }
 },
 "nbformat": 4,
 "nbformat_minor": 5
}
